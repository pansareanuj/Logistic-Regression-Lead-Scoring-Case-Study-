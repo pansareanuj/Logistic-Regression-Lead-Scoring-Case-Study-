{
 "cells": [
  {
   "cell_type": "markdown",
   "id": "b948fb1a",
   "metadata": {},
   "source": [
    "## Step 1: Importing and Merging Data"
   ]
  },
  {
   "cell_type": "code",
   "execution_count": 1,
   "id": "4a15aef4",
   "metadata": {},
   "outputs": [],
   "source": [
    "# Suppressing Warnings\n",
    "import warnings\n",
    "warnings.filterwarnings('ignore')\n",
    "\n",
    "# Importing Pandas and NumPy\n",
    "import pandas as pd, numpy as np"
   ]
  },
  {
   "cell_type": "code",
   "execution_count": 2,
   "id": "1462f504",
   "metadata": {},
   "outputs": [
    {
     "data": {
      "text/html": [
       "<div>\n",
       "<style scoped>\n",
       "    .dataframe tbody tr th:only-of-type {\n",
       "        vertical-align: middle;\n",
       "    }\n",
       "\n",
       "    .dataframe tbody tr th {\n",
       "        vertical-align: top;\n",
       "    }\n",
       "\n",
       "    .dataframe thead th {\n",
       "        text-align: right;\n",
       "    }\n",
       "</style>\n",
       "<table border=\"1\" class=\"dataframe\">\n",
       "  <thead>\n",
       "    <tr style=\"text-align: right;\">\n",
       "      <th></th>\n",
       "      <th>Prospect ID</th>\n",
       "      <th>Lead Number</th>\n",
       "      <th>Lead Origin</th>\n",
       "      <th>Lead Source</th>\n",
       "      <th>Do Not Email</th>\n",
       "      <th>Do Not Call</th>\n",
       "      <th>Converted</th>\n",
       "      <th>TotalVisits</th>\n",
       "      <th>Total Time Spent on Website</th>\n",
       "      <th>Page Views Per Visit</th>\n",
       "      <th>...</th>\n",
       "      <th>Get updates on DM Content</th>\n",
       "      <th>Lead Profile</th>\n",
       "      <th>City</th>\n",
       "      <th>Asymmetrique Activity Index</th>\n",
       "      <th>Asymmetrique Profile Index</th>\n",
       "      <th>Asymmetrique Activity Score</th>\n",
       "      <th>Asymmetrique Profile Score</th>\n",
       "      <th>I agree to pay the amount through cheque</th>\n",
       "      <th>A free copy of Mastering The Interview</th>\n",
       "      <th>Last Notable Activity</th>\n",
       "    </tr>\n",
       "  </thead>\n",
       "  <tbody>\n",
       "    <tr>\n",
       "      <th>0</th>\n",
       "      <td>7927b2df-8bba-4d29-b9a2-b6e0beafe620</td>\n",
       "      <td>660737</td>\n",
       "      <td>API</td>\n",
       "      <td>Olark Chat</td>\n",
       "      <td>No</td>\n",
       "      <td>No</td>\n",
       "      <td>0</td>\n",
       "      <td>0.0</td>\n",
       "      <td>0</td>\n",
       "      <td>0.0</td>\n",
       "      <td>...</td>\n",
       "      <td>No</td>\n",
       "      <td>Select</td>\n",
       "      <td>Select</td>\n",
       "      <td>02.Medium</td>\n",
       "      <td>02.Medium</td>\n",
       "      <td>15.0</td>\n",
       "      <td>15.0</td>\n",
       "      <td>No</td>\n",
       "      <td>No</td>\n",
       "      <td>Modified</td>\n",
       "    </tr>\n",
       "    <tr>\n",
       "      <th>1</th>\n",
       "      <td>2a272436-5132-4136-86fa-dcc88c88f482</td>\n",
       "      <td>660728</td>\n",
       "      <td>API</td>\n",
       "      <td>Organic Search</td>\n",
       "      <td>No</td>\n",
       "      <td>No</td>\n",
       "      <td>0</td>\n",
       "      <td>5.0</td>\n",
       "      <td>674</td>\n",
       "      <td>2.5</td>\n",
       "      <td>...</td>\n",
       "      <td>No</td>\n",
       "      <td>Select</td>\n",
       "      <td>Select</td>\n",
       "      <td>02.Medium</td>\n",
       "      <td>02.Medium</td>\n",
       "      <td>15.0</td>\n",
       "      <td>15.0</td>\n",
       "      <td>No</td>\n",
       "      <td>No</td>\n",
       "      <td>Email Opened</td>\n",
       "    </tr>\n",
       "    <tr>\n",
       "      <th>2</th>\n",
       "      <td>8cc8c611-a219-4f35-ad23-fdfd2656bd8a</td>\n",
       "      <td>660727</td>\n",
       "      <td>Landing Page Submission</td>\n",
       "      <td>Direct Traffic</td>\n",
       "      <td>No</td>\n",
       "      <td>No</td>\n",
       "      <td>1</td>\n",
       "      <td>2.0</td>\n",
       "      <td>1532</td>\n",
       "      <td>2.0</td>\n",
       "      <td>...</td>\n",
       "      <td>No</td>\n",
       "      <td>Potential Lead</td>\n",
       "      <td>Mumbai</td>\n",
       "      <td>02.Medium</td>\n",
       "      <td>01.High</td>\n",
       "      <td>14.0</td>\n",
       "      <td>20.0</td>\n",
       "      <td>No</td>\n",
       "      <td>Yes</td>\n",
       "      <td>Email Opened</td>\n",
       "    </tr>\n",
       "    <tr>\n",
       "      <th>3</th>\n",
       "      <td>0cc2df48-7cf4-4e39-9de9-19797f9b38cc</td>\n",
       "      <td>660719</td>\n",
       "      <td>Landing Page Submission</td>\n",
       "      <td>Direct Traffic</td>\n",
       "      <td>No</td>\n",
       "      <td>No</td>\n",
       "      <td>0</td>\n",
       "      <td>1.0</td>\n",
       "      <td>305</td>\n",
       "      <td>1.0</td>\n",
       "      <td>...</td>\n",
       "      <td>No</td>\n",
       "      <td>Select</td>\n",
       "      <td>Mumbai</td>\n",
       "      <td>02.Medium</td>\n",
       "      <td>01.High</td>\n",
       "      <td>13.0</td>\n",
       "      <td>17.0</td>\n",
       "      <td>No</td>\n",
       "      <td>No</td>\n",
       "      <td>Modified</td>\n",
       "    </tr>\n",
       "    <tr>\n",
       "      <th>4</th>\n",
       "      <td>3256f628-e534-4826-9d63-4a8b88782852</td>\n",
       "      <td>660681</td>\n",
       "      <td>Landing Page Submission</td>\n",
       "      <td>Google</td>\n",
       "      <td>No</td>\n",
       "      <td>No</td>\n",
       "      <td>1</td>\n",
       "      <td>2.0</td>\n",
       "      <td>1428</td>\n",
       "      <td>1.0</td>\n",
       "      <td>...</td>\n",
       "      <td>No</td>\n",
       "      <td>Select</td>\n",
       "      <td>Mumbai</td>\n",
       "      <td>02.Medium</td>\n",
       "      <td>01.High</td>\n",
       "      <td>15.0</td>\n",
       "      <td>18.0</td>\n",
       "      <td>No</td>\n",
       "      <td>No</td>\n",
       "      <td>Modified</td>\n",
       "    </tr>\n",
       "  </tbody>\n",
       "</table>\n",
       "<p>5 rows × 37 columns</p>\n",
       "</div>"
      ],
      "text/plain": [
       "                            Prospect ID  Lead Number              Lead Origin  \\\n",
       "0  7927b2df-8bba-4d29-b9a2-b6e0beafe620       660737                      API   \n",
       "1  2a272436-5132-4136-86fa-dcc88c88f482       660728                      API   \n",
       "2  8cc8c611-a219-4f35-ad23-fdfd2656bd8a       660727  Landing Page Submission   \n",
       "3  0cc2df48-7cf4-4e39-9de9-19797f9b38cc       660719  Landing Page Submission   \n",
       "4  3256f628-e534-4826-9d63-4a8b88782852       660681  Landing Page Submission   \n",
       "\n",
       "      Lead Source Do Not Email Do Not Call  Converted  TotalVisits  \\\n",
       "0      Olark Chat           No          No          0          0.0   \n",
       "1  Organic Search           No          No          0          5.0   \n",
       "2  Direct Traffic           No          No          1          2.0   \n",
       "3  Direct Traffic           No          No          0          1.0   \n",
       "4          Google           No          No          1          2.0   \n",
       "\n",
       "   Total Time Spent on Website  Page Views Per Visit  ...  \\\n",
       "0                            0                   0.0  ...   \n",
       "1                          674                   2.5  ...   \n",
       "2                         1532                   2.0  ...   \n",
       "3                          305                   1.0  ...   \n",
       "4                         1428                   1.0  ...   \n",
       "\n",
       "  Get updates on DM Content    Lead Profile    City  \\\n",
       "0                        No          Select  Select   \n",
       "1                        No          Select  Select   \n",
       "2                        No  Potential Lead  Mumbai   \n",
       "3                        No          Select  Mumbai   \n",
       "4                        No          Select  Mumbai   \n",
       "\n",
       "  Asymmetrique Activity Index Asymmetrique Profile Index  \\\n",
       "0                   02.Medium                  02.Medium   \n",
       "1                   02.Medium                  02.Medium   \n",
       "2                   02.Medium                    01.High   \n",
       "3                   02.Medium                    01.High   \n",
       "4                   02.Medium                    01.High   \n",
       "\n",
       "  Asymmetrique Activity Score Asymmetrique Profile Score  \\\n",
       "0                        15.0                       15.0   \n",
       "1                        15.0                       15.0   \n",
       "2                        14.0                       20.0   \n",
       "3                        13.0                       17.0   \n",
       "4                        15.0                       18.0   \n",
       "\n",
       "  I agree to pay the amount through cheque  \\\n",
       "0                                       No   \n",
       "1                                       No   \n",
       "2                                       No   \n",
       "3                                       No   \n",
       "4                                       No   \n",
       "\n",
       "  A free copy of Mastering The Interview Last Notable Activity  \n",
       "0                                     No              Modified  \n",
       "1                                     No          Email Opened  \n",
       "2                                    Yes          Email Opened  \n",
       "3                                     No              Modified  \n",
       "4                                     No              Modified  \n",
       "\n",
       "[5 rows x 37 columns]"
      ]
     },
     "execution_count": 2,
     "metadata": {},
     "output_type": "execute_result"
    }
   ],
   "source": [
    "# Importing all datasets\n",
    "leads_data = pd.read_csv(\"Leads.csv\")\n",
    "leads_data.head()"
   ]
  },
  {
   "cell_type": "markdown",
   "id": "b5a4e9dd",
   "metadata": {},
   "source": [
    "## Step 2: Inspecting the Dataframe"
   ]
  },
  {
   "cell_type": "code",
   "execution_count": 3,
   "id": "e868e5a1",
   "metadata": {},
   "outputs": [
    {
     "data": {
      "text/plain": [
       "(9240, 37)"
      ]
     },
     "execution_count": 3,
     "metadata": {},
     "output_type": "execute_result"
    }
   ],
   "source": [
    "# Let's check the dimensions of the dataframe\n",
    "leads_data.shape"
   ]
  },
  {
   "cell_type": "code",
   "execution_count": 4,
   "id": "b7679b5b",
   "metadata": {},
   "outputs": [
    {
     "name": "stdout",
     "output_type": "stream",
     "text": [
      "<class 'pandas.core.frame.DataFrame'>\n",
      "RangeIndex: 9240 entries, 0 to 9239\n",
      "Data columns (total 37 columns):\n",
      " #   Column                                         Non-Null Count  Dtype  \n",
      "---  ------                                         --------------  -----  \n",
      " 0   Prospect ID                                    9240 non-null   object \n",
      " 1   Lead Number                                    9240 non-null   int64  \n",
      " 2   Lead Origin                                    9240 non-null   object \n",
      " 3   Lead Source                                    9204 non-null   object \n",
      " 4   Do Not Email                                   9240 non-null   object \n",
      " 5   Do Not Call                                    9240 non-null   object \n",
      " 6   Converted                                      9240 non-null   int64  \n",
      " 7   TotalVisits                                    9103 non-null   float64\n",
      " 8   Total Time Spent on Website                    9240 non-null   int64  \n",
      " 9   Page Views Per Visit                           9103 non-null   float64\n",
      " 10  Last Activity                                  9137 non-null   object \n",
      " 11  Country                                        6779 non-null   object \n",
      " 12  Specialization                                 7802 non-null   object \n",
      " 13  How did you hear about X Education             7033 non-null   object \n",
      " 14  What is your current occupation                6550 non-null   object \n",
      " 15  What matters most to you in choosing a course  6531 non-null   object \n",
      " 16  Search                                         9240 non-null   object \n",
      " 17  Magazine                                       9240 non-null   object \n",
      " 18  Newspaper Article                              9240 non-null   object \n",
      " 19  X Education Forums                             9240 non-null   object \n",
      " 20  Newspaper                                      9240 non-null   object \n",
      " 21  Digital Advertisement                          9240 non-null   object \n",
      " 22  Through Recommendations                        9240 non-null   object \n",
      " 23  Receive More Updates About Our Courses         9240 non-null   object \n",
      " 24  Tags                                           5887 non-null   object \n",
      " 25  Lead Quality                                   4473 non-null   object \n",
      " 26  Update me on Supply Chain Content              9240 non-null   object \n",
      " 27  Get updates on DM Content                      9240 non-null   object \n",
      " 28  Lead Profile                                   6531 non-null   object \n",
      " 29  City                                           7820 non-null   object \n",
      " 30  Asymmetrique Activity Index                    5022 non-null   object \n",
      " 31  Asymmetrique Profile Index                     5022 non-null   object \n",
      " 32  Asymmetrique Activity Score                    5022 non-null   float64\n",
      " 33  Asymmetrique Profile Score                     5022 non-null   float64\n",
      " 34  I agree to pay the amount through cheque       9240 non-null   object \n",
      " 35  A free copy of Mastering The Interview         9240 non-null   object \n",
      " 36  Last Notable Activity                          9240 non-null   object \n",
      "dtypes: float64(4), int64(3), object(30)\n",
      "memory usage: 2.6+ MB\n"
     ]
    }
   ],
   "source": [
    "leads_data.info()"
   ]
  },
  {
   "cell_type": "code",
   "execution_count": 5,
   "id": "a2b8a4c7",
   "metadata": {},
   "outputs": [
    {
     "data": {
      "text/html": [
       "<div>\n",
       "<style scoped>\n",
       "    .dataframe tbody tr th:only-of-type {\n",
       "        vertical-align: middle;\n",
       "    }\n",
       "\n",
       "    .dataframe tbody tr th {\n",
       "        vertical-align: top;\n",
       "    }\n",
       "\n",
       "    .dataframe thead th {\n",
       "        text-align: right;\n",
       "    }\n",
       "</style>\n",
       "<table border=\"1\" class=\"dataframe\">\n",
       "  <thead>\n",
       "    <tr style=\"text-align: right;\">\n",
       "      <th></th>\n",
       "      <th>Lead Number</th>\n",
       "      <th>Converted</th>\n",
       "      <th>TotalVisits</th>\n",
       "      <th>Total Time Spent on Website</th>\n",
       "      <th>Page Views Per Visit</th>\n",
       "      <th>Asymmetrique Activity Score</th>\n",
       "      <th>Asymmetrique Profile Score</th>\n",
       "    </tr>\n",
       "  </thead>\n",
       "  <tbody>\n",
       "    <tr>\n",
       "      <th>count</th>\n",
       "      <td>9240.000000</td>\n",
       "      <td>9240.000000</td>\n",
       "      <td>9103.000000</td>\n",
       "      <td>9240.000000</td>\n",
       "      <td>9103.000000</td>\n",
       "      <td>5022.000000</td>\n",
       "      <td>5022.000000</td>\n",
       "    </tr>\n",
       "    <tr>\n",
       "      <th>mean</th>\n",
       "      <td>617188.435606</td>\n",
       "      <td>0.385390</td>\n",
       "      <td>3.445238</td>\n",
       "      <td>487.698268</td>\n",
       "      <td>2.362820</td>\n",
       "      <td>14.306252</td>\n",
       "      <td>16.344883</td>\n",
       "    </tr>\n",
       "    <tr>\n",
       "      <th>std</th>\n",
       "      <td>23405.995698</td>\n",
       "      <td>0.486714</td>\n",
       "      <td>4.854853</td>\n",
       "      <td>548.021466</td>\n",
       "      <td>2.161418</td>\n",
       "      <td>1.386694</td>\n",
       "      <td>1.811395</td>\n",
       "    </tr>\n",
       "    <tr>\n",
       "      <th>min</th>\n",
       "      <td>579533.000000</td>\n",
       "      <td>0.000000</td>\n",
       "      <td>0.000000</td>\n",
       "      <td>0.000000</td>\n",
       "      <td>0.000000</td>\n",
       "      <td>7.000000</td>\n",
       "      <td>11.000000</td>\n",
       "    </tr>\n",
       "    <tr>\n",
       "      <th>25%</th>\n",
       "      <td>596484.500000</td>\n",
       "      <td>0.000000</td>\n",
       "      <td>1.000000</td>\n",
       "      <td>12.000000</td>\n",
       "      <td>1.000000</td>\n",
       "      <td>14.000000</td>\n",
       "      <td>15.000000</td>\n",
       "    </tr>\n",
       "    <tr>\n",
       "      <th>50%</th>\n",
       "      <td>615479.000000</td>\n",
       "      <td>0.000000</td>\n",
       "      <td>3.000000</td>\n",
       "      <td>248.000000</td>\n",
       "      <td>2.000000</td>\n",
       "      <td>14.000000</td>\n",
       "      <td>16.000000</td>\n",
       "    </tr>\n",
       "    <tr>\n",
       "      <th>75%</th>\n",
       "      <td>637387.250000</td>\n",
       "      <td>1.000000</td>\n",
       "      <td>5.000000</td>\n",
       "      <td>936.000000</td>\n",
       "      <td>3.000000</td>\n",
       "      <td>15.000000</td>\n",
       "      <td>18.000000</td>\n",
       "    </tr>\n",
       "    <tr>\n",
       "      <th>max</th>\n",
       "      <td>660737.000000</td>\n",
       "      <td>1.000000</td>\n",
       "      <td>251.000000</td>\n",
       "      <td>2272.000000</td>\n",
       "      <td>55.000000</td>\n",
       "      <td>18.000000</td>\n",
       "      <td>20.000000</td>\n",
       "    </tr>\n",
       "  </tbody>\n",
       "</table>\n",
       "</div>"
      ],
      "text/plain": [
       "         Lead Number    Converted  TotalVisits  Total Time Spent on Website  \\\n",
       "count    9240.000000  9240.000000  9103.000000                  9240.000000   \n",
       "mean   617188.435606     0.385390     3.445238                   487.698268   \n",
       "std     23405.995698     0.486714     4.854853                   548.021466   \n",
       "min    579533.000000     0.000000     0.000000                     0.000000   \n",
       "25%    596484.500000     0.000000     1.000000                    12.000000   \n",
       "50%    615479.000000     0.000000     3.000000                   248.000000   \n",
       "75%    637387.250000     1.000000     5.000000                   936.000000   \n",
       "max    660737.000000     1.000000   251.000000                  2272.000000   \n",
       "\n",
       "       Page Views Per Visit  Asymmetrique Activity Score  \\\n",
       "count           9103.000000                  5022.000000   \n",
       "mean               2.362820                    14.306252   \n",
       "std                2.161418                     1.386694   \n",
       "min                0.000000                     7.000000   \n",
       "25%                1.000000                    14.000000   \n",
       "50%                2.000000                    14.000000   \n",
       "75%                3.000000                    15.000000   \n",
       "max               55.000000                    18.000000   \n",
       "\n",
       "       Asymmetrique Profile Score  \n",
       "count                 5022.000000  \n",
       "mean                    16.344883  \n",
       "std                      1.811395  \n",
       "min                     11.000000  \n",
       "25%                     15.000000  \n",
       "50%                     16.000000  \n",
       "75%                     18.000000  \n",
       "max                     20.000000  "
      ]
     },
     "execution_count": 5,
     "metadata": {},
     "output_type": "execute_result"
    }
   ],
   "source": [
    "# Check the numeric attributes\n",
    "leads_data.describe()"
   ]
  },
  {
   "cell_type": "markdown",
   "id": "a84b5e5b",
   "metadata": {},
   "source": [
    "## Step 3: Data Preparation"
   ]
  },
  {
   "cell_type": "markdown",
   "id": "2f2333e2",
   "metadata": {},
   "source": [
    "#### Convert Yes/ No to 1/0"
   ]
  },
  {
   "cell_type": "code",
   "execution_count": 6,
   "id": "c082c258",
   "metadata": {},
   "outputs": [],
   "source": [
    "# List of variables to map to 0/1 from no/yes\n",
    "\n",
    "varlist =  ['Do Not Email','Do Not Call','Search','Magazine','Newspaper Article','X Education Forums','Newspaper',\n",
    "'Digital Advertisement','Through Recommendations','Receive More Updates About Our Courses',\n",
    "'Update me on Supply Chain Content','Get updates on DM Content','I agree to pay the amount through cheque',\n",
    "'A free copy of Mastering The Interview']\n",
    "\n",
    "# Defining the map function\n",
    "def binary_map(x):\n",
    "    return x.map({'Yes': 1, \"No\": 0})\n",
    "\n",
    "# Applying the function to the housing list\n",
    "leads_data[varlist] = leads_data[varlist].apply(binary_map)"
   ]
  },
  {
   "cell_type": "code",
   "execution_count": 7,
   "id": "de0da1c2",
   "metadata": {},
   "outputs": [
    {
     "data": {
      "text/plain": [
       "Do Not Email                                 734\n",
       "Do Not Call                                    2\n",
       "Search                                        14\n",
       "Magazine                                       0\n",
       "Newspaper Article                              2\n",
       "X Education Forums                             1\n",
       "Newspaper                                      1\n",
       "Digital Advertisement                          4\n",
       "Through Recommendations                        7\n",
       "Receive More Updates About Our Courses         0\n",
       "Update me on Supply Chain Content              0\n",
       "Get updates on DM Content                      0\n",
       "I agree to pay the amount through cheque       0\n",
       "A free copy of Mastering The Interview      2888\n",
       "dtype: int64"
      ]
     },
     "execution_count": 7,
     "metadata": {},
     "output_type": "execute_result"
    }
   ],
   "source": [
    "# Check the spread of 'Yes' / ' No' (1/0) variables\n",
    "leads_data[varlist].sum()"
   ]
  },
  {
   "cell_type": "code",
   "execution_count": 8,
   "id": "a93678a2",
   "metadata": {},
   "outputs": [],
   "source": [
    "## Drop the irrelevant columns as the count of value = 1 is very low.\n",
    "leads_data = leads_data.drop(['Do Not Call','Search','Magazine','Newspaper Article','X Education Forums','Newspaper',\n",
    "'Digital Advertisement','Through Recommendations','Receive More Updates About Our Courses',\n",
    "'Update me on Supply Chain Content','Get updates on DM Content','I agree to pay the amount through cheque'], 1)"
   ]
  },
  {
   "cell_type": "code",
   "execution_count": 9,
   "id": "562eb2d7",
   "metadata": {},
   "outputs": [
    {
     "name": "stdout",
     "output_type": "stream",
     "text": [
      "<class 'pandas.core.frame.DataFrame'>\n",
      "RangeIndex: 9240 entries, 0 to 9239\n",
      "Data columns (total 25 columns):\n",
      " #   Column                                         Non-Null Count  Dtype  \n",
      "---  ------                                         --------------  -----  \n",
      " 0   Prospect ID                                    9240 non-null   object \n",
      " 1   Lead Number                                    9240 non-null   int64  \n",
      " 2   Lead Origin                                    9240 non-null   object \n",
      " 3   Lead Source                                    9204 non-null   object \n",
      " 4   Do Not Email                                   9240 non-null   int64  \n",
      " 5   Converted                                      9240 non-null   int64  \n",
      " 6   TotalVisits                                    9103 non-null   float64\n",
      " 7   Total Time Spent on Website                    9240 non-null   int64  \n",
      " 8   Page Views Per Visit                           9103 non-null   float64\n",
      " 9   Last Activity                                  9137 non-null   object \n",
      " 10  Country                                        6779 non-null   object \n",
      " 11  Specialization                                 7802 non-null   object \n",
      " 12  How did you hear about X Education             7033 non-null   object \n",
      " 13  What is your current occupation                6550 non-null   object \n",
      " 14  What matters most to you in choosing a course  6531 non-null   object \n",
      " 15  Tags                                           5887 non-null   object \n",
      " 16  Lead Quality                                   4473 non-null   object \n",
      " 17  Lead Profile                                   6531 non-null   object \n",
      " 18  City                                           7820 non-null   object \n",
      " 19  Asymmetrique Activity Index                    5022 non-null   object \n",
      " 20  Asymmetrique Profile Index                     5022 non-null   object \n",
      " 21  Asymmetrique Activity Score                    5022 non-null   float64\n",
      " 22  Asymmetrique Profile Score                     5022 non-null   float64\n",
      " 23  A free copy of Mastering The Interview         9240 non-null   int64  \n",
      " 24  Last Notable Activity                          9240 non-null   object \n",
      "dtypes: float64(4), int64(5), object(16)\n",
      "memory usage: 1.8+ MB\n"
     ]
    }
   ],
   "source": [
    "# Check the info of the dataframe again for null / not null values\n",
    "leads_data.info()"
   ]
  },
  {
   "cell_type": "code",
   "execution_count": 10,
   "id": "fa3bbe5b",
   "metadata": {},
   "outputs": [],
   "source": [
    "# Drop Prospect ID as Lead Number is unique \n",
    "leads_data = leads_data.drop(['Prospect ID'], 1)"
   ]
  },
  {
   "cell_type": "code",
   "execution_count": 11,
   "id": "037d8cbb",
   "metadata": {},
   "outputs": [
    {
     "data": {
      "text/plain": [
       "(9240, 24)"
      ]
     },
     "execution_count": 11,
     "metadata": {},
     "output_type": "execute_result"
    }
   ],
   "source": [
    "leads_data.shape"
   ]
  },
  {
   "cell_type": "code",
   "execution_count": 12,
   "id": "c12032ec",
   "metadata": {},
   "outputs": [],
   "source": [
    "# Some columns have \"Select\" values which can be replaced with Nulls. \n",
    "\n",
    "leads_data['Specialization'] = leads_data['Specialization'].replace('Select', np.nan)\n",
    "leads_data['How did you hear about X Education'] = leads_data['How did you hear about X Education'].replace('Select', np.nan)\n",
    "leads_data['Lead Profile'] = leads_data['Lead Profile'].replace('Select', np.nan)\n",
    "leads_data['City'] = leads_data['City'].replace('Select', np.nan)"
   ]
  },
  {
   "cell_type": "code",
   "execution_count": 13,
   "id": "adc9c12b",
   "metadata": {},
   "outputs": [
    {
     "data": {
      "text/plain": [
       "Lead Number                                       0.00\n",
       "Lead Origin                                       0.00\n",
       "Lead Source                                       0.39\n",
       "Do Not Email                                      0.00\n",
       "Converted                                         0.00\n",
       "TotalVisits                                       1.48\n",
       "Total Time Spent on Website                       0.00\n",
       "Page Views Per Visit                              1.48\n",
       "Last Activity                                     1.11\n",
       "Country                                          26.63\n",
       "Specialization                                   36.58\n",
       "How did you hear about X Education               78.46\n",
       "What is your current occupation                  29.11\n",
       "What matters most to you in choosing a course    29.32\n",
       "Tags                                             36.29\n",
       "Lead Quality                                     51.59\n",
       "Lead Profile                                     74.19\n",
       "City                                             39.71\n",
       "Asymmetrique Activity Index                      45.65\n",
       "Asymmetrique Profile Index                       45.65\n",
       "Asymmetrique Activity Score                      45.65\n",
       "Asymmetrique Profile Score                       45.65\n",
       "A free copy of Mastering The Interview            0.00\n",
       "Last Notable Activity                             0.00\n",
       "dtype: float64"
      ]
     },
     "execution_count": 13,
     "metadata": {},
     "output_type": "execute_result"
    }
   ],
   "source": [
    "# Checking the percentage of missing values / null values\n",
    "round(100*(leads_data.isnull().sum()/len(leads_data.index)), 2)"
   ]
  },
  {
   "cell_type": "code",
   "execution_count": 14,
   "id": "7d0d0236",
   "metadata": {},
   "outputs": [],
   "source": [
    "# Lets drop columns with greater than 30% nulls\n",
    "leads_data = leads_data.drop(['Specialization', 'How did you hear about X Education', 'Tags', 'Lead Quality',\n",
    "                          'Lead Profile','City', 'Asymmetrique Activity Index', 'Asymmetrique Profile Index',\n",
    "                          'Asymmetrique Activity Score', 'Asymmetrique Profile Score'], axis=1)"
   ]
  },
  {
   "cell_type": "code",
   "execution_count": 15,
   "id": "52b3c6da",
   "metadata": {},
   "outputs": [
    {
     "data": {
      "text/plain": [
       "Lead Number                                       0.00\n",
       "Lead Origin                                       0.00\n",
       "Lead Source                                       0.39\n",
       "Do Not Email                                      0.00\n",
       "Converted                                         0.00\n",
       "TotalVisits                                       1.48\n",
       "Total Time Spent on Website                       0.00\n",
       "Page Views Per Visit                              1.48\n",
       "Last Activity                                     1.11\n",
       "Country                                          26.63\n",
       "What is your current occupation                  29.11\n",
       "What matters most to you in choosing a course    29.32\n",
       "A free copy of Mastering The Interview            0.00\n",
       "Last Notable Activity                             0.00\n",
       "dtype: float64"
      ]
     },
     "execution_count": 15,
     "metadata": {},
     "output_type": "execute_result"
    }
   ],
   "source": [
    "# Checking the percentage of missing values\n",
    "round(100*(leads_data.isnull().sum()/len(leads_data.index)), 2)"
   ]
  },
  {
   "cell_type": "markdown",
   "id": "be7c084d",
   "metadata": {},
   "source": [
    "#### Check for the columns where null values are high and assess if we should remove them"
   ]
  },
  {
   "cell_type": "code",
   "execution_count": 16,
   "id": "2cf33beb",
   "metadata": {},
   "outputs": [
    {
     "data": {
      "text/plain": [
       "India                   95.766337\n",
       "United States            1.017849\n",
       "United Arab Emirates     0.781826\n",
       "Singapore                0.354035\n",
       "Saudi Arabia             0.309780\n",
       "United Kingdom           0.221272\n",
       "Australia                0.191769\n",
       "Qatar                    0.147514\n",
       "Hong Kong                0.103260\n",
       "Bahrain                  0.103260\n",
       "Oman                     0.088509\n",
       "France                   0.088509\n",
       "unknown                  0.073757\n",
       "South Africa             0.059006\n",
       "Nigeria                  0.059006\n",
       "Germany                  0.059006\n",
       "Kuwait                   0.059006\n",
       "Canada                   0.059006\n",
       "Sweden                   0.044254\n",
       "China                    0.029503\n",
       "Asia/Pacific Region      0.029503\n",
       "Uganda                   0.029503\n",
       "Bangladesh               0.029503\n",
       "Italy                    0.029503\n",
       "Belgium                  0.029503\n",
       "Netherlands              0.029503\n",
       "Ghana                    0.029503\n",
       "Philippines              0.029503\n",
       "Russia                   0.014751\n",
       "Switzerland              0.014751\n",
       "Vietnam                  0.014751\n",
       "Denmark                  0.014751\n",
       "Tanzania                 0.014751\n",
       "Liberia                  0.014751\n",
       "Malaysia                 0.014751\n",
       "Kenya                    0.014751\n",
       "Sri Lanka                0.014751\n",
       "Indonesia                0.014751\n",
       "Name: Country, dtype: float64"
      ]
     },
     "execution_count": 16,
     "metadata": {},
     "output_type": "execute_result"
    }
   ],
   "source": [
    "# Check values for Country.\n",
    "leads_data['Country'].value_counts() / leads_data['Country'].count() * 100"
   ]
  },
  {
   "cell_type": "code",
   "execution_count": 17,
   "id": "6527aa32",
   "metadata": {},
   "outputs": [
    {
     "data": {
      "text/plain": [
       "Better Career Prospects      99.954065\n",
       "Flexibility & Convenience     0.030623\n",
       "Other                         0.015312\n",
       "Name: What matters most to you in choosing a course, dtype: float64"
      ]
     },
     "execution_count": 17,
     "metadata": {},
     "output_type": "execute_result"
    }
   ],
   "source": [
    "leads_data['What matters most to you in choosing a course'].value_counts() / leads_data['What matters most to you in choosing a course'].count() * 100"
   ]
  },
  {
   "cell_type": "code",
   "execution_count": 18,
   "id": "5b9e2caf",
   "metadata": {},
   "outputs": [
    {
     "data": {
      "text/plain": [
       "Unemployed              85.496183\n",
       "Working Professional    10.778626\n",
       "Student                  3.206107\n",
       "Other                    0.244275\n",
       "Housewife                0.152672\n",
       "Businessman              0.122137\n",
       "Name: What is your current occupation, dtype: float64"
      ]
     },
     "execution_count": 18,
     "metadata": {},
     "output_type": "execute_result"
    }
   ],
   "source": [
    "leads_data['What is your current occupation'].value_counts() / leads_data['What is your current occupation'].count() * 100"
   ]
  },
  {
   "cell_type": "code",
   "execution_count": 19,
   "id": "1516751e",
   "metadata": {},
   "outputs": [],
   "source": [
    "# based on the above information, Country and 'What matters most to you in choosing a course' can be dropped as apart from \n",
    "# nulls, almost all values are single eg India and Better Career Prospects respectively\n",
    "leads_data = leads_data.drop(['What matters most to you in choosing a course', 'Country'], axis=1)"
   ]
  },
  {
   "cell_type": "markdown",
   "id": "668ae573",
   "metadata": {},
   "source": [
    "#### Check for the columns where null values are low, but need to be replaced with an alternate value to remove nulls"
   ]
  },
  {
   "cell_type": "code",
   "execution_count": 20,
   "id": "594ba359",
   "metadata": {},
   "outputs": [
    {
     "data": {
      "text/plain": [
       "Google               31.160365\n",
       "Direct Traffic       27.629292\n",
       "Olark Chat           19.067797\n",
       "Organic Search       12.538027\n",
       "Reference             5.801825\n",
       "Welingak Website      1.542807\n",
       "Referral Sites        1.358105\n",
       "Facebook              0.597566\n",
       "bing                  0.065189\n",
       "google                0.054324\n",
       "Click2call            0.043459\n",
       "Press_Release         0.021730\n",
       "Social Media          0.021730\n",
       "Live Chat             0.021730\n",
       "youtubechannel        0.010865\n",
       "testone               0.010865\n",
       "Pay per Click Ads     0.010865\n",
       "welearnblog_Home      0.010865\n",
       "WeLearn               0.010865\n",
       "blog                  0.010865\n",
       "NC_EDM                0.010865\n",
       "Name: Lead Source, dtype: float64"
      ]
     },
     "execution_count": 20,
     "metadata": {},
     "output_type": "execute_result"
    }
   ],
   "source": [
    "leads_data['Lead Source'].value_counts() / leads_data['Lead Source'].count() * 100"
   ]
  },
  {
   "cell_type": "code",
   "execution_count": 21,
   "id": "9dd09bbe",
   "metadata": {},
   "outputs": [
    {
     "data": {
      "text/plain": [
       "Email Opened                    37.616285\n",
       "SMS Sent                        30.042684\n",
       "Olark Chat Conversation         10.649010\n",
       "Page Visited on Website          7.004487\n",
       "Converted to Lead                4.684251\n",
       "Email Bounced                    3.567911\n",
       "Email Link Clicked               2.922185\n",
       "Form Submitted on Website        1.269563\n",
       "Unreachable                      1.017840\n",
       "Unsubscribed                     0.667615\n",
       "Had a Phone Conversation         0.328335\n",
       "Approached upfront               0.098501\n",
       "View in browser link Clicked     0.065667\n",
       "Email Received                   0.021889\n",
       "Email Marked Spam                0.021889\n",
       "Visited Booth in Tradeshow       0.010945\n",
       "Resubscribed to emails           0.010945\n",
       "Name: Last Activity, dtype: float64"
      ]
     },
     "execution_count": 21,
     "metadata": {},
     "output_type": "execute_result"
    }
   ],
   "source": [
    "leads_data['Last Activity'].value_counts() / leads_data['Last Activity'].count() * 100"
   ]
  },
  {
   "cell_type": "code",
   "execution_count": 22,
   "id": "23dc7d2a",
   "metadata": {},
   "outputs": [],
   "source": [
    "# Since The values are not skewed or not specific, we replace the nulls with \"No Information\"\n",
    "\n",
    "leads_data['What is your current occupation'] = leads_data['What is your current occupation'].replace(np.nan, 'No Information')\n",
    "leads_data['Lead Source'] = leads_data['Lead Source'].replace(np.nan, 'No Information')\n",
    "leads_data['Last Activity'] = leads_data['Last Activity'].replace(np.nan, 'No Information')"
   ]
  },
  {
   "cell_type": "code",
   "execution_count": 23,
   "id": "dd4d9160",
   "metadata": {},
   "outputs": [],
   "source": [
    "# google is twice in the data and so replace with Google.\n",
    "leads_data['Lead Source'] = leads_data['Lead Source'].replace('google', 'Google')"
   ]
  },
  {
   "cell_type": "code",
   "execution_count": 24,
   "id": "bae8d65f",
   "metadata": {},
   "outputs": [
    {
     "data": {
      "text/plain": [
       "Lead Number                               0.00\n",
       "Lead Origin                               0.00\n",
       "Lead Source                               0.00\n",
       "Do Not Email                              0.00\n",
       "Converted                                 0.00\n",
       "TotalVisits                               1.48\n",
       "Total Time Spent on Website               0.00\n",
       "Page Views Per Visit                      1.48\n",
       "Last Activity                             0.00\n",
       "What is your current occupation           0.00\n",
       "A free copy of Mastering The Interview    0.00\n",
       "Last Notable Activity                     0.00\n",
       "dtype: float64"
      ]
     },
     "execution_count": 24,
     "metadata": {},
     "output_type": "execute_result"
    }
   ],
   "source": [
    "# Checking the percentage of missing values\n",
    "round(100*(leads_data.isnull().sum()/len(leads_data.index)), 2)"
   ]
  },
  {
   "cell_type": "code",
   "execution_count": 25,
   "id": "e01d32c9",
   "metadata": {},
   "outputs": [
    {
     "data": {
      "text/html": [
       "<div>\n",
       "<style scoped>\n",
       "    .dataframe tbody tr th:only-of-type {\n",
       "        vertical-align: middle;\n",
       "    }\n",
       "\n",
       "    .dataframe tbody tr th {\n",
       "        vertical-align: top;\n",
       "    }\n",
       "\n",
       "    .dataframe thead th {\n",
       "        text-align: right;\n",
       "    }\n",
       "</style>\n",
       "<table border=\"1\" class=\"dataframe\">\n",
       "  <thead>\n",
       "    <tr style=\"text-align: right;\">\n",
       "      <th></th>\n",
       "      <th>Lead Number</th>\n",
       "      <th>Do Not Email</th>\n",
       "      <th>Converted</th>\n",
       "      <th>TotalVisits</th>\n",
       "      <th>Total Time Spent on Website</th>\n",
       "      <th>Page Views Per Visit</th>\n",
       "      <th>A free copy of Mastering The Interview</th>\n",
       "    </tr>\n",
       "  </thead>\n",
       "  <tbody>\n",
       "    <tr>\n",
       "      <th>count</th>\n",
       "      <td>9240.000000</td>\n",
       "      <td>9240.000000</td>\n",
       "      <td>9240.000000</td>\n",
       "      <td>9103.000000</td>\n",
       "      <td>9240.000000</td>\n",
       "      <td>9103.000000</td>\n",
       "      <td>9240.000000</td>\n",
       "    </tr>\n",
       "    <tr>\n",
       "      <th>mean</th>\n",
       "      <td>617188.435606</td>\n",
       "      <td>0.079437</td>\n",
       "      <td>0.385390</td>\n",
       "      <td>3.445238</td>\n",
       "      <td>487.698268</td>\n",
       "      <td>2.362820</td>\n",
       "      <td>0.312554</td>\n",
       "    </tr>\n",
       "    <tr>\n",
       "      <th>std</th>\n",
       "      <td>23405.995698</td>\n",
       "      <td>0.270435</td>\n",
       "      <td>0.486714</td>\n",
       "      <td>4.854853</td>\n",
       "      <td>548.021466</td>\n",
       "      <td>2.161418</td>\n",
       "      <td>0.463559</td>\n",
       "    </tr>\n",
       "    <tr>\n",
       "      <th>min</th>\n",
       "      <td>579533.000000</td>\n",
       "      <td>0.000000</td>\n",
       "      <td>0.000000</td>\n",
       "      <td>0.000000</td>\n",
       "      <td>0.000000</td>\n",
       "      <td>0.000000</td>\n",
       "      <td>0.000000</td>\n",
       "    </tr>\n",
       "    <tr>\n",
       "      <th>25%</th>\n",
       "      <td>596484.500000</td>\n",
       "      <td>0.000000</td>\n",
       "      <td>0.000000</td>\n",
       "      <td>1.000000</td>\n",
       "      <td>12.000000</td>\n",
       "      <td>1.000000</td>\n",
       "      <td>0.000000</td>\n",
       "    </tr>\n",
       "    <tr>\n",
       "      <th>50%</th>\n",
       "      <td>615479.000000</td>\n",
       "      <td>0.000000</td>\n",
       "      <td>0.000000</td>\n",
       "      <td>3.000000</td>\n",
       "      <td>248.000000</td>\n",
       "      <td>2.000000</td>\n",
       "      <td>0.000000</td>\n",
       "    </tr>\n",
       "    <tr>\n",
       "      <th>75%</th>\n",
       "      <td>637387.250000</td>\n",
       "      <td>0.000000</td>\n",
       "      <td>1.000000</td>\n",
       "      <td>5.000000</td>\n",
       "      <td>936.000000</td>\n",
       "      <td>3.000000</td>\n",
       "      <td>1.000000</td>\n",
       "    </tr>\n",
       "    <tr>\n",
       "      <th>max</th>\n",
       "      <td>660737.000000</td>\n",
       "      <td>1.000000</td>\n",
       "      <td>1.000000</td>\n",
       "      <td>251.000000</td>\n",
       "      <td>2272.000000</td>\n",
       "      <td>55.000000</td>\n",
       "      <td>1.000000</td>\n",
       "    </tr>\n",
       "  </tbody>\n",
       "</table>\n",
       "</div>"
      ],
      "text/plain": [
       "         Lead Number  Do Not Email    Converted  TotalVisits  \\\n",
       "count    9240.000000   9240.000000  9240.000000  9103.000000   \n",
       "mean   617188.435606      0.079437     0.385390     3.445238   \n",
       "std     23405.995698      0.270435     0.486714     4.854853   \n",
       "min    579533.000000      0.000000     0.000000     0.000000   \n",
       "25%    596484.500000      0.000000     0.000000     1.000000   \n",
       "50%    615479.000000      0.000000     0.000000     3.000000   \n",
       "75%    637387.250000      0.000000     1.000000     5.000000   \n",
       "max    660737.000000      1.000000     1.000000   251.000000   \n",
       "\n",
       "       Total Time Spent on Website  Page Views Per Visit  \\\n",
       "count                  9240.000000           9103.000000   \n",
       "mean                    487.698268              2.362820   \n",
       "std                     548.021466              2.161418   \n",
       "min                       0.000000              0.000000   \n",
       "25%                      12.000000              1.000000   \n",
       "50%                     248.000000              2.000000   \n",
       "75%                     936.000000              3.000000   \n",
       "max                    2272.000000             55.000000   \n",
       "\n",
       "       A free copy of Mastering The Interview  \n",
       "count                             9240.000000  \n",
       "mean                                 0.312554  \n",
       "std                                  0.463559  \n",
       "min                                  0.000000  \n",
       "25%                                  0.000000  \n",
       "50%                                  0.000000  \n",
       "75%                                  1.000000  \n",
       "max                                  1.000000  "
      ]
     },
     "execution_count": 25,
     "metadata": {},
     "output_type": "execute_result"
    }
   ],
   "source": [
    "leads_data.describe()"
   ]
  },
  {
   "cell_type": "code",
   "execution_count": 26,
   "id": "ffaf8dc6",
   "metadata": {},
   "outputs": [],
   "source": [
    "# For numeric columns, we replace the null with the median.\n",
    "leads_data['TotalVisits'] = leads_data['TotalVisits'].replace(np.nan, leads_data['TotalVisits'].median())\n",
    "leads_data['Page Views Per Visit'] = leads_data['Page Views Per Visit'].replace(np.nan, leads_data['Page Views Per Visit'].median())"
   ]
  },
  {
   "cell_type": "code",
   "execution_count": 27,
   "id": "dc86b9ff",
   "metadata": {},
   "outputs": [
    {
     "data": {
      "text/plain": [
       "Lead Number                               0.0\n",
       "Lead Origin                               0.0\n",
       "Lead Source                               0.0\n",
       "Do Not Email                              0.0\n",
       "Converted                                 0.0\n",
       "TotalVisits                               0.0\n",
       "Total Time Spent on Website               0.0\n",
       "Page Views Per Visit                      0.0\n",
       "Last Activity                             0.0\n",
       "What is your current occupation           0.0\n",
       "A free copy of Mastering The Interview    0.0\n",
       "Last Notable Activity                     0.0\n",
       "dtype: float64"
      ]
     },
     "execution_count": 27,
     "metadata": {},
     "output_type": "execute_result"
    }
   ],
   "source": [
    "# Checking the percentage of missing values\n",
    "round(100*(leads_data.isnull().sum()/len(leads_data.index)), 2)"
   ]
  },
  {
   "cell_type": "markdown",
   "id": "f4d3c224",
   "metadata": {},
   "source": [
    "## Step 4 - Perform Visual analysis"
   ]
  },
  {
   "cell_type": "code",
   "execution_count": 28,
   "id": "e7732cb6",
   "metadata": {},
   "outputs": [],
   "source": [
    "import matplotlib.pyplot as plt\n",
    "import seaborn as sns"
   ]
  },
  {
   "cell_type": "code",
   "execution_count": 29,
   "id": "33931a0c",
   "metadata": {},
   "outputs": [
    {
     "data": {
      "image/png": "[encoded data removed]",
      "text/plain": [
       "<Figure size 144x360 with 1 Axes>"
      ]
     },
     "metadata": {
      "needs_background": "light"
     },
     "output_type": "display_data"
    }
   ],
   "source": [
    "# Conversion Rate \n",
    "\n",
    "plot = sns.catplot(x=\"Converted\", kind=\"count\", data=leads_data, palette=\"Set2\", aspect= 0.4);\n",
    "\n",
    "plt.title('Converted', fontsize = 14)\n",
    "plt.xlabel(\"Converted\", fontsize = 12)\n",
    "plt.ylabel(\"Count\", fontsize = 12)\n",
    "\n",
    "plt.show()"
   ]
  },
  {
   "cell_type": "code",
   "execution_count": 30,
   "id": "574632f6",
   "metadata": {},
   "outputs": [
    {
     "data": {
      "image/png": "[encoded data removed]",
      "text/plain": [
       "<Figure size 1440x720 with 2 Axes>"
      ]
     },
     "metadata": {
      "needs_background": "light"
     },
     "output_type": "display_data"
    }
   ],
   "source": [
    "# Lead Source based analysis of data\n",
    "plt.figure(figsize=(20,10))\n",
    "\n",
    "plt.subplot(1,2,1)    \n",
    "ax = sns.countplot(x = 'Lead Source',data=leads_data[leads_data[\"Converted\"]==1])\n",
    "plt.title('Converted')\n",
    "ax.set(xlabel='Lead Source')\n",
    "temp = ax.set_xticklabels(ax.get_xticklabels(), rotation = 45, horizontalalignment='right')\n",
    "\n",
    "plt.subplot(1,2,2) \n",
    "ax = sns.countplot(x = 'Lead Source',data=leads_data[leads_data[\"Converted\"]==0])\n",
    "plt.title('Non-Converted')\n",
    "ax.set(xlabel='Lead Source')\n",
    "temp = ax.set_xticklabels(ax.get_xticklabels(), rotation = 45, horizontalalignment='right')\n",
    "plt.show()"
   ]
  },
  {
   "cell_type": "code",
   "execution_count": 31,
   "id": "6071c1ed",
   "metadata": {},
   "outputs": [
    {
     "data": {
      "text/plain": [
       "Text(0, 0.5, 'Count')"
      ]
     },
     "execution_count": 31,
     "metadata": {},
     "output_type": "execute_result"
    },
    {
     "data": {
      "image/png": "[encoded data removed]",
      "text/plain": [
       "<Figure size 1224x1080 with 1 Axes>"
      ]
     },
     "metadata": {
      "needs_background": "light"
     },
     "output_type": "display_data"
    }
   ],
   "source": [
    "# Lead Source based analysis of data\n",
    "leads_data.pivot_table(values='Lead Number',index='Lead Source',columns='Converted',aggfunc='count').plot.bar(figsize=(17,15))\n",
    "plt.xlabel('Lead Source')\n",
    "plt.ylabel('Count')"
   ]
  },
  {
   "cell_type": "code",
   "execution_count": 32,
   "id": "57b3ffd3",
   "metadata": {},
   "outputs": [
    {
     "data": {
      "image/png": "[encoded data removed]",
      "text/plain": [
       "<Figure size 1440x720 with 2 Axes>"
      ]
     },
     "metadata": {
      "needs_background": "light"
     },
     "output_type": "display_data"
    }
   ],
   "source": [
    "# Lead Origin based analysis of data\n",
    "plt.figure(figsize=(20,10))\n",
    "\n",
    "plt.subplot(1,2,1)    \n",
    "ax = sns.countplot(x = 'Lead Origin',data=leads_data[leads_data[\"Converted\"]==1])\n",
    "plt.title('Converted')\n",
    "ax.set(xlabel='Lead Origin')\n",
    "temp = ax.set_xticklabels(ax.get_xticklabels(), rotation = 45, horizontalalignment='right')\n",
    "\n",
    "plt.subplot(1,2,2) \n",
    "ax = sns.countplot(x = 'Lead Origin',data=leads_data[leads_data[\"Converted\"]==0])\n",
    "plt.title('Non-Converted')\n",
    "ax.set(xlabel='Lead Origin')\n",
    "temp = ax.set_xticklabels(ax.get_xticklabels(), rotation = 45, horizontalalignment='right')\n",
    "plt.show()"
   ]
  },
  {
   "cell_type": "code",
   "execution_count": 33,
   "id": "2c9a3ede",
   "metadata": {},
   "outputs": [
    {
     "data": {
      "image/png": "[encoded data removed]",
      "text/plain": [
       "<Figure size 1440x720 with 2 Axes>"
      ]
     },
     "metadata": {
      "needs_background": "light"
     },
     "output_type": "display_data"
    }
   ],
   "source": [
    "# Do not email based analysis of data\n",
    "plt.figure(figsize=(20,10))\n",
    "\n",
    "plt.subplot(1,2,1)    \n",
    "ax = sns.countplot(x = 'Do Not Email',data=leads_data[leads_data[\"Converted\"]==1])\n",
    "plt.title('Converted')\n",
    "ax.set(xlabel='Do Not Email')\n",
    "temp = ax.set_xticklabels(ax.get_xticklabels(), rotation = 45, horizontalalignment='right')\n",
    "\n",
    "plt.subplot(1,2,2) \n",
    "ax = sns.countplot(x = 'Do Not Email',data=leads_data[leads_data[\"Converted\"]==0])\n",
    "plt.title('Non-Converted')\n",
    "ax.set(xlabel='Do Not Email')\n",
    "temp = ax.set_xticklabels(ax.get_xticklabels(), rotation = 45, horizontalalignment='right')\n",
    "plt.show()"
   ]
  },
  {
   "cell_type": "code",
   "execution_count": 34,
   "id": "73e8376e",
   "metadata": {},
   "outputs": [
    {
     "data": {
      "image/png": "[encoded data removed]",
      "text/plain": [
       "<Figure size 1440x720 with 2 Axes>"
      ]
     },
     "metadata": {
      "needs_background": "light"
     },
     "output_type": "display_data"
    }
   ],
   "source": [
    "# Last Activity based analysis of data\n",
    "plt.figure(figsize=(20,10))\n",
    "\n",
    "plt.subplot(1,2,1)    \n",
    "ax = sns.countplot(x = 'Last Activity',data=leads_data[leads_data[\"Converted\"]==1])\n",
    "plt.title('Converted')\n",
    "ax.set(xlabel='Last Activity')\n",
    "temp = ax.set_xticklabels(ax.get_xticklabels(), rotation = 45, horizontalalignment='right')\n",
    "\n",
    "plt.subplot(1,2,2) \n",
    "ax = sns.countplot(x = 'Last Activity',data=leads_data[leads_data[\"Converted\"]==0])\n",
    "plt.title('Non-Converted')\n",
    "ax.set(xlabel='Last Activity')\n",
    "temp = ax.set_xticklabels(ax.get_xticklabels(), rotation = 45, horizontalalignment='right')\n",
    "plt.show()"
   ]
  },
  {
   "cell_type": "code",
   "execution_count": 35,
   "id": "3f0339bb",
   "metadata": {},
   "outputs": [
    {
     "data": {
      "image/png": "[encoded data removed]",
      "text/plain": [
       "<Figure size 1440x720 with 2 Axes>"
      ]
     },
     "metadata": {
      "needs_background": "light"
     },
     "output_type": "display_data"
    }
   ],
   "source": [
    "# What is your current occupation based analysis of data\n",
    "plt.figure(figsize=(20,10))\n",
    "\n",
    "plt.subplot(1,2,1)    \n",
    "ax = sns.countplot(x = 'What is your current occupation',data=leads_data[leads_data[\"Converted\"]==1])\n",
    "plt.title('Converted')\n",
    "ax.set(xlabel='What is your current occupation')\n",
    "temp = ax.set_xticklabels(ax.get_xticklabels(), rotation = 45, horizontalalignment='right')\n",
    "\n",
    "plt.subplot(1,2,2) \n",
    "ax = sns.countplot(x = 'What is your current occupation',data=leads_data[leads_data[\"Converted\"]==0])\n",
    "plt.title('Non-Converted')\n",
    "ax.set(xlabel='What is your current occupation')\n",
    "temp = ax.set_xticklabels(ax.get_xticklabels(), rotation = 45, horizontalalignment='right')\n",
    "plt.show()"
   ]
  },
  {
   "cell_type": "code",
   "execution_count": 36,
   "id": "563fa662",
   "metadata": {},
   "outputs": [
    {
     "data": {
      "image/png": "[encoded data removed]",
      "text/plain": [
       "<Figure size 1440x720 with 2 Axes>"
      ]
     },
     "metadata": {
      "needs_background": "light"
     },
     "output_type": "display_data"
    }
   ],
   "source": [
    "#Last Notable Activity  based analysis of data\n",
    "plt.figure(figsize=(20,10))\n",
    "\n",
    "plt.subplot(1,2,1)    \n",
    "ax = sns.countplot(x = 'Last Notable Activity',data=leads_data[leads_data[\"Converted\"]==1])\n",
    "plt.title('Converted')\n",
    "ax.set(xlabel='Last Notable Activity')\n",
    "temp = ax.set_xticklabels(ax.get_xticklabels(), rotation = 45, horizontalalignment='right')\n",
    "\n",
    "plt.subplot(1,2,2) \n",
    "ax = sns.countplot(x = 'Last Notable Activity',data=leads_data[leads_data[\"Converted\"]==0])\n",
    "plt.title('Non-Converted')\n",
    "ax.set(xlabel='Last Notable Activity')\n",
    "temp = ax.set_xticklabels(ax.get_xticklabels(), rotation = 45, horizontalalignment='right')\n",
    "plt.show()"
   ]
  },
  {
   "cell_type": "code",
   "execution_count": 37,
   "id": "44a25482",
   "metadata": {},
   "outputs": [
    {
     "data": {
      "image/png": "[encoded data removed]",
      "text/plain": [
       "<Figure size 1440x720 with 2 Axes>"
      ]
     },
     "metadata": {
      "needs_background": "light"
     },
     "output_type": "display_data"
    }
   ],
   "source": [
    "# A free copy of Mastering The Interview based analysis of data\n",
    "plt.figure(figsize=(20,10))\n",
    "\n",
    "plt.subplot(1,2,1)    \n",
    "ax = sns.countplot(x = 'A free copy of Mastering The Interview',data=leads_data[leads_data[\"Converted\"]==1])\n",
    "plt.title('Converted')\n",
    "ax.set(xlabel='A free copy of Mastering The Interview')\n",
    "temp = ax.set_xticklabels(ax.get_xticklabels(), rotation = 45, horizontalalignment='right')\n",
    "\n",
    "plt.subplot(1,2,2) \n",
    "ax = sns.countplot(x = 'A free copy of Mastering The Interview',data=leads_data[leads_data[\"Converted\"]==0])\n",
    "plt.title('Non-Converted')\n",
    "ax.set(xlabel='A free copy of Mastering The Interview')\n",
    "temp = ax.set_xticklabels(ax.get_xticklabels(), rotation = 45, horizontalalignment='right')\n",
    "plt.show()"
   ]
  },
  {
   "cell_type": "code",
   "execution_count": 38,
   "id": "bc464405",
   "metadata": {},
   "outputs": [
    {
     "data": {
      "image/png": "[encoded data removed]",
      "text/plain": [
       "<Figure size 1440x1800 with 3 Axes>"
      ]
     },
     "metadata": {
      "needs_background": "light"
     },
     "output_type": "display_data"
    }
   ],
   "source": [
    "# Check the outliers in all the numeric columns\n",
    "\n",
    "plt.figure(figsize=(20, 25))\n",
    "plt.subplot(4,3,1)\n",
    "sns.boxplot(y = 'TotalVisits', palette='Set3', data = leads_data)\n",
    "plt.subplot(4,3,2)\n",
    "sns.boxplot(y = 'Total Time Spent on Website', palette='Set3', data = leads_data)\n",
    "plt.subplot(4,3,3)\n",
    "sns.boxplot(y = 'Page Views Per Visit', palette='Set3', data = leads_data)\n",
    "plt.show()"
   ]
  },
  {
   "cell_type": "markdown",
   "id": "a3fb814b",
   "metadata": {},
   "source": [
    "#### Creating Dummy Variables"
   ]
  },
  {
   "cell_type": "code",
   "execution_count": 39,
   "id": "347d2b12",
   "metadata": {},
   "outputs": [
    {
     "data": {
      "text/html": [
       "<div>\n",
       "<style scoped>\n",
       "    .dataframe tbody tr th:only-of-type {\n",
       "        vertical-align: middle;\n",
       "    }\n",
       "\n",
       "    .dataframe tbody tr th {\n",
       "        vertical-align: top;\n",
       "    }\n",
       "\n",
       "    .dataframe thead th {\n",
       "        text-align: right;\n",
       "    }\n",
       "</style>\n",
       "<table border=\"1\" class=\"dataframe\">\n",
       "  <thead>\n",
       "    <tr style=\"text-align: right;\">\n",
       "      <th></th>\n",
       "      <th>Lead Source_Click2call</th>\n",
       "      <th>Lead Source_Direct Traffic</th>\n",
       "      <th>Lead Source_Facebook</th>\n",
       "      <th>Lead Source_Google</th>\n",
       "      <th>Lead Source_Live Chat</th>\n",
       "      <th>Lead Source_NC_EDM</th>\n",
       "      <th>Lead Source_No Information</th>\n",
       "      <th>Lead Source_Olark Chat</th>\n",
       "      <th>Lead Source_Organic Search</th>\n",
       "      <th>Lead Source_Pay per Click Ads</th>\n",
       "      <th>...</th>\n",
       "      <th>Lead Source_Reference</th>\n",
       "      <th>Lead Source_Referral Sites</th>\n",
       "      <th>Lead Source_Social Media</th>\n",
       "      <th>Lead Source_WeLearn</th>\n",
       "      <th>Lead Source_Welingak Website</th>\n",
       "      <th>Lead Source_bing</th>\n",
       "      <th>Lead Source_blog</th>\n",
       "      <th>Lead Source_testone</th>\n",
       "      <th>Lead Source_welearnblog_Home</th>\n",
       "      <th>Lead Source_youtubechannel</th>\n",
       "    </tr>\n",
       "  </thead>\n",
       "  <tbody>\n",
       "    <tr>\n",
       "      <th>0</th>\n",
       "      <td>0</td>\n",
       "      <td>0</td>\n",
       "      <td>0</td>\n",
       "      <td>0</td>\n",
       "      <td>0</td>\n",
       "      <td>0</td>\n",
       "      <td>0</td>\n",
       "      <td>1</td>\n",
       "      <td>0</td>\n",
       "      <td>0</td>\n",
       "      <td>...</td>\n",
       "      <td>0</td>\n",
       "      <td>0</td>\n",
       "      <td>0</td>\n",
       "      <td>0</td>\n",
       "      <td>0</td>\n",
       "      <td>0</td>\n",
       "      <td>0</td>\n",
       "      <td>0</td>\n",
       "      <td>0</td>\n",
       "      <td>0</td>\n",
       "    </tr>\n",
       "    <tr>\n",
       "      <th>1</th>\n",
       "      <td>0</td>\n",
       "      <td>0</td>\n",
       "      <td>0</td>\n",
       "      <td>0</td>\n",
       "      <td>0</td>\n",
       "      <td>0</td>\n",
       "      <td>0</td>\n",
       "      <td>0</td>\n",
       "      <td>1</td>\n",
       "      <td>0</td>\n",
       "      <td>...</td>\n",
       "      <td>0</td>\n",
       "      <td>0</td>\n",
       "      <td>0</td>\n",
       "      <td>0</td>\n",
       "      <td>0</td>\n",
       "      <td>0</td>\n",
       "      <td>0</td>\n",
       "      <td>0</td>\n",
       "      <td>0</td>\n",
       "      <td>0</td>\n",
       "    </tr>\n",
       "    <tr>\n",
       "      <th>2</th>\n",
       "      <td>0</td>\n",
       "      <td>1</td>\n",
       "      <td>0</td>\n",
       "      <td>0</td>\n",
       "      <td>0</td>\n",
       "      <td>0</td>\n",
       "      <td>0</td>\n",
       "      <td>0</td>\n",
       "      <td>0</td>\n",
       "      <td>0</td>\n",
       "      <td>...</td>\n",
       "      <td>0</td>\n",
       "      <td>0</td>\n",
       "      <td>0</td>\n",
       "      <td>0</td>\n",
       "      <td>0</td>\n",
       "      <td>0</td>\n",
       "      <td>0</td>\n",
       "      <td>0</td>\n",
       "      <td>0</td>\n",
       "      <td>0</td>\n",
       "    </tr>\n",
       "    <tr>\n",
       "      <th>3</th>\n",
       "      <td>0</td>\n",
       "      <td>1</td>\n",
       "      <td>0</td>\n",
       "      <td>0</td>\n",
       "      <td>0</td>\n",
       "      <td>0</td>\n",
       "      <td>0</td>\n",
       "      <td>0</td>\n",
       "      <td>0</td>\n",
       "      <td>0</td>\n",
       "      <td>...</td>\n",
       "      <td>0</td>\n",
       "      <td>0</td>\n",
       "      <td>0</td>\n",
       "      <td>0</td>\n",
       "      <td>0</td>\n",
       "      <td>0</td>\n",
       "      <td>0</td>\n",
       "      <td>0</td>\n",
       "      <td>0</td>\n",
       "      <td>0</td>\n",
       "    </tr>\n",
       "    <tr>\n",
       "      <th>4</th>\n",
       "      <td>0</td>\n",
       "      <td>0</td>\n",
       "      <td>0</td>\n",
       "      <td>1</td>\n",
       "      <td>0</td>\n",
       "      <td>0</td>\n",
       "      <td>0</td>\n",
       "      <td>0</td>\n",
       "      <td>0</td>\n",
       "      <td>0</td>\n",
       "      <td>...</td>\n",
       "      <td>0</td>\n",
       "      <td>0</td>\n",
       "      <td>0</td>\n",
       "      <td>0</td>\n",
       "      <td>0</td>\n",
       "      <td>0</td>\n",
       "      <td>0</td>\n",
       "      <td>0</td>\n",
       "      <td>0</td>\n",
       "      <td>0</td>\n",
       "    </tr>\n",
       "  </tbody>\n",
       "</table>\n",
       "<p>5 rows × 21 columns</p>\n",
       "</div>"
      ],
      "text/plain": [
       "   Lead Source_Click2call  Lead Source_Direct Traffic  Lead Source_Facebook  \\\n",
       "0                       0                           0                     0   \n",
       "1                       0                           0                     0   \n",
       "2                       0                           1                     0   \n",
       "3                       0                           1                     0   \n",
       "4                       0                           0                     0   \n",
       "\n",
       "   Lead Source_Google  Lead Source_Live Chat  Lead Source_NC_EDM  \\\n",
       "0                   0                      0                   0   \n",
       "1                   0                      0                   0   \n",
       "2                   0                      0                   0   \n",
       "3                   0                      0                   0   \n",
       "4                   1                      0                   0   \n",
       "\n",
       "   Lead Source_No Information  Lead Source_Olark Chat  \\\n",
       "0                           0                       1   \n",
       "1                           0                       0   \n",
       "2                           0                       0   \n",
       "3                           0                       0   \n",
       "4                           0                       0   \n",
       "\n",
       "   Lead Source_Organic Search  Lead Source_Pay per Click Ads  ...  \\\n",
       "0                           0                              0  ...   \n",
       "1                           1                              0  ...   \n",
       "2                           0                              0  ...   \n",
       "3                           0                              0  ...   \n",
       "4                           0                              0  ...   \n",
       "\n",
       "   Lead Source_Reference  Lead Source_Referral Sites  \\\n",
       "0                      0                           0   \n",
       "1                      0                           0   \n",
       "2                      0                           0   \n",
       "3                      0                           0   \n",
       "4                      0                           0   \n",
       "\n",
       "   Lead Source_Social Media  Lead Source_WeLearn  \\\n",
       "0                         0                    0   \n",
       "1                         0                    0   \n",
       "2                         0                    0   \n",
       "3                         0                    0   \n",
       "4                         0                    0   \n",
       "\n",
       "   Lead Source_Welingak Website  Lead Source_bing  Lead Source_blog  \\\n",
       "0                             0                 0                 0   \n",
       "1                             0                 0                 0   \n",
       "2                             0                 0                 0   \n",
       "3                             0                 0                 0   \n",
       "4                             0                 0                 0   \n",
       "\n",
       "   Lead Source_testone  Lead Source_welearnblog_Home  \\\n",
       "0                    0                             0   \n",
       "1                    0                             0   \n",
       "2                    0                             0   \n",
       "3                    0                             0   \n",
       "4                    0                             0   \n",
       "\n",
       "   Lead Source_youtubechannel  \n",
       "0                           0  \n",
       "1                           0  \n",
       "2                           0  \n",
       "3                           0  \n",
       "4                           0  \n",
       "\n",
       "[5 rows x 21 columns]"
      ]
     },
     "execution_count": 39,
     "metadata": {},
     "output_type": "execute_result"
    }
   ],
   "source": [
    "ml = pd.get_dummies(leads_data['Lead Source'], prefix='Lead Source')\n",
    "ml.head()"
   ]
  },
  {
   "cell_type": "code",
   "execution_count": 40,
   "id": "5bb1730e",
   "metadata": {},
   "outputs": [],
   "source": [
    "# Creating dummy variables for the remaining categorical variables and dropping the level with big names.\n",
    "\n",
    "# Creating dummy variables for the variable 'Lead Origin'\n",
    "ml = pd.get_dummies(leads_data['Lead Origin'], prefix='Lead Origin')\n",
    "# Dropping Lead Origin_Quick Add Form column\n",
    "ml1 = ml.drop(['Lead Origin_Quick Add Form'], 1)\n",
    "#Adding the results to the master dataframe\n",
    "leads_data = pd.concat([leads_data,ml1], axis=1)\n",
    "\n",
    "# Creating dummy variables for the variable 'Lead Source'.\n",
    "os = pd.get_dummies(leads_data['Lead Source'], prefix='Lead Source')\n",
    "os1 = os.drop(['Lead Source_NC_EDM'], 1)\n",
    "# Adding the results to the master dataframe\n",
    "leads_data = pd.concat([leads_data,os1], axis=1)\n",
    "\n",
    "# Creating dummy variables for the variable 'Last Activity'\n",
    "ml = pd.get_dummies(leads_data['Last Activity'], prefix='Last Activity')\n",
    "# Dropping MultipleLines_No phone service column\n",
    "ml1 = ml.drop(['Last Activity_Resubscribed to emails'], 1)\n",
    "#Adding the results to the master dataframe\n",
    "leads_data = pd.concat([leads_data,ml1], axis=1)\n",
    "\n",
    "# Creating dummy variables for the variable 'What is your current occupation'.\n",
    "os = pd.get_dummies(leads_data['What is your current occupation'], prefix='Current Occupation')\n",
    "os1 = os.drop(['Current Occupation_Businessman'], 1)\n",
    "# Adding the results to the master dataframe\n",
    "leads_data = pd.concat([leads_data,os1], axis=1)\n",
    "\n",
    "# Creating dummy variables for the variable 'Last Notable Activity'.\n",
    "os = pd.get_dummies(leads_data['Last Notable Activity'], prefix='Last Notable Activity')\n",
    "os1 = os.drop(['Last Notable Activity_Resubscribed to emails'], 1)\n",
    "# Adding the results to the master dataframe\n",
    "leads_data = pd.concat([leads_data,os1], axis=1)"
   ]
  },
  {
   "cell_type": "code",
   "execution_count": 41,
   "id": "89df4191",
   "metadata": {},
   "outputs": [],
   "source": [
    "# Remove following columns from the leadInfo\n",
    "\n",
    "# a) Lead Numbers\n",
    "# b) Lead Origin\n",
    "# c) Lead Source\n",
    "# d) Last Activity\n",
    "# e) What is your current occupation\n",
    "# f) Last Notable Activity\n",
    "\n",
    "leads_data = leads_data.drop(['Lead Number', 'Lead Origin', 'Lead Source', 'Last Activity',\n",
    "                          'What is your current occupation', 'Last Notable Activity'], axis=1)"
   ]
  },
  {
   "cell_type": "code",
   "execution_count": 42,
   "id": "41df8b01",
   "metadata": {},
   "outputs": [
    {
     "name": "stdout",
     "output_type": "stream",
     "text": [
      "<class 'pandas.core.frame.DataFrame'>\n",
      "RangeIndex: 9240 entries, 0 to 9239\n",
      "Data columns (total 68 columns):\n",
      " #   Column                                              Non-Null Count  Dtype  \n",
      "---  ------                                              --------------  -----  \n",
      " 0   Do Not Email                                        9240 non-null   int64  \n",
      " 1   Converted                                           9240 non-null   int64  \n",
      " 2   TotalVisits                                         9240 non-null   float64\n",
      " 3   Total Time Spent on Website                         9240 non-null   int64  \n",
      " 4   Page Views Per Visit                                9240 non-null   float64\n",
      " 5   A free copy of Mastering The Interview              9240 non-null   int64  \n",
      " 6   Lead Origin_API                                     9240 non-null   uint8  \n",
      " 7   Lead Origin_Landing Page Submission                 9240 non-null   uint8  \n",
      " 8   Lead Origin_Lead Add Form                           9240 non-null   uint8  \n",
      " 9   Lead Origin_Lead Import                             9240 non-null   uint8  \n",
      " 10  Lead Source_Click2call                              9240 non-null   uint8  \n",
      " 11  Lead Source_Direct Traffic                          9240 non-null   uint8  \n",
      " 12  Lead Source_Facebook                                9240 non-null   uint8  \n",
      " 13  Lead Source_Google                                  9240 non-null   uint8  \n",
      " 14  Lead Source_Live Chat                               9240 non-null   uint8  \n",
      " 15  Lead Source_No Information                          9240 non-null   uint8  \n",
      " 16  Lead Source_Olark Chat                              9240 non-null   uint8  \n",
      " 17  Lead Source_Organic Search                          9240 non-null   uint8  \n",
      " 18  Lead Source_Pay per Click Ads                       9240 non-null   uint8  \n",
      " 19  Lead Source_Press_Release                           9240 non-null   uint8  \n",
      " 20  Lead Source_Reference                               9240 non-null   uint8  \n",
      " 21  Lead Source_Referral Sites                          9240 non-null   uint8  \n",
      " 22  Lead Source_Social Media                            9240 non-null   uint8  \n",
      " 23  Lead Source_WeLearn                                 9240 non-null   uint8  \n",
      " 24  Lead Source_Welingak Website                        9240 non-null   uint8  \n",
      " 25  Lead Source_bing                                    9240 non-null   uint8  \n",
      " 26  Lead Source_blog                                    9240 non-null   uint8  \n",
      " 27  Lead Source_testone                                 9240 non-null   uint8  \n",
      " 28  Lead Source_welearnblog_Home                        9240 non-null   uint8  \n",
      " 29  Lead Source_youtubechannel                          9240 non-null   uint8  \n",
      " 30  Last Activity_Approached upfront                    9240 non-null   uint8  \n",
      " 31  Last Activity_Converted to Lead                     9240 non-null   uint8  \n",
      " 32  Last Activity_Email Bounced                         9240 non-null   uint8  \n",
      " 33  Last Activity_Email Link Clicked                    9240 non-null   uint8  \n",
      " 34  Last Activity_Email Marked Spam                     9240 non-null   uint8  \n",
      " 35  Last Activity_Email Opened                          9240 non-null   uint8  \n",
      " 36  Last Activity_Email Received                        9240 non-null   uint8  \n",
      " 37  Last Activity_Form Submitted on Website             9240 non-null   uint8  \n",
      " 38  Last Activity_Had a Phone Conversation              9240 non-null   uint8  \n",
      " 39  Last Activity_No Information                        9240 non-null   uint8  \n",
      " 40  Last Activity_Olark Chat Conversation               9240 non-null   uint8  \n",
      " 41  Last Activity_Page Visited on Website               9240 non-null   uint8  \n",
      " 42  Last Activity_SMS Sent                              9240 non-null   uint8  \n",
      " 43  Last Activity_Unreachable                           9240 non-null   uint8  \n",
      " 44  Last Activity_Unsubscribed                          9240 non-null   uint8  \n",
      " 45  Last Activity_View in browser link Clicked          9240 non-null   uint8  \n",
      " 46  Last Activity_Visited Booth in Tradeshow            9240 non-null   uint8  \n",
      " 47  Current Occupation_Housewife                        9240 non-null   uint8  \n",
      " 48  Current Occupation_No Information                   9240 non-null   uint8  \n",
      " 49  Current Occupation_Other                            9240 non-null   uint8  \n",
      " 50  Current Occupation_Student                          9240 non-null   uint8  \n",
      " 51  Current Occupation_Unemployed                       9240 non-null   uint8  \n",
      " 52  Current Occupation_Working Professional             9240 non-null   uint8  \n",
      " 53  Last Notable Activity_Approached upfront            9240 non-null   uint8  \n",
      " 54  Last Notable Activity_Email Bounced                 9240 non-null   uint8  \n",
      " 55  Last Notable Activity_Email Link Clicked            9240 non-null   uint8  \n",
      " 56  Last Notable Activity_Email Marked Spam             9240 non-null   uint8  \n",
      " 57  Last Notable Activity_Email Opened                  9240 non-null   uint8  \n",
      " 58  Last Notable Activity_Email Received                9240 non-null   uint8  \n",
      " 59  Last Notable Activity_Form Submitted on Website     9240 non-null   uint8  \n",
      " 60  Last Notable Activity_Had a Phone Conversation      9240 non-null   uint8  \n",
      " 61  Last Notable Activity_Modified                      9240 non-null   uint8  \n",
      " 62  Last Notable Activity_Olark Chat Conversation       9240 non-null   uint8  \n",
      " 63  Last Notable Activity_Page Visited on Website       9240 non-null   uint8  \n",
      " 64  Last Notable Activity_SMS Sent                      9240 non-null   uint8  \n",
      " 65  Last Notable Activity_Unreachable                   9240 non-null   uint8  \n",
      " 66  Last Notable Activity_Unsubscribed                  9240 non-null   uint8  \n",
      " 67  Last Notable Activity_View in browser link Clicked  9240 non-null   uint8  \n",
      "dtypes: float64(2), int64(4), uint8(62)\n",
      "memory usage: 992.7 KB\n"
     ]
    }
   ],
   "source": [
    "leads_data.info()"
   ]
  },
  {
   "cell_type": "markdown",
   "id": "af9ecd3d",
   "metadata": {},
   "source": [
    "## Step 5 - Test Train Split"
   ]
  },
  {
   "cell_type": "code",
   "execution_count": 43,
   "id": "7bd578e0",
   "metadata": {},
   "outputs": [],
   "source": [
    "from sklearn.model_selection import train_test_split"
   ]
  },
  {
   "cell_type": "code",
   "execution_count": 44,
   "id": "cf1c5780",
   "metadata": {},
   "outputs": [
    {
     "data": {
      "text/html": [
       "<div>\n",
       "<style scoped>\n",
       "    .dataframe tbody tr th:only-of-type {\n",
       "        vertical-align: middle;\n",
       "    }\n",
       "\n",
       "    .dataframe tbody tr th {\n",
       "        vertical-align: top;\n",
       "    }\n",
       "\n",
       "    .dataframe thead th {\n",
       "        text-align: right;\n",
       "    }\n",
       "</style>\n",
       "<table border=\"1\" class=\"dataframe\">\n",
       "  <thead>\n",
       "    <tr style=\"text-align: right;\">\n",
       "      <th></th>\n",
       "      <th>Do Not Email</th>\n",
       "      <th>TotalVisits</th>\n",
       "      <th>Total Time Spent on Website</th>\n",
       "      <th>Page Views Per Visit</th>\n",
       "      <th>A free copy of Mastering The Interview</th>\n",
       "      <th>Lead Origin_API</th>\n",
       "      <th>Lead Origin_Landing Page Submission</th>\n",
       "      <th>Lead Origin_Lead Add Form</th>\n",
       "      <th>Lead Origin_Lead Import</th>\n",
       "      <th>Lead Source_Click2call</th>\n",
       "      <th>...</th>\n",
       "      <th>Last Notable Activity_Email Received</th>\n",
       "      <th>Last Notable Activity_Form Submitted on Website</th>\n",
       "      <th>Last Notable Activity_Had a Phone Conversation</th>\n",
       "      <th>Last Notable Activity_Modified</th>\n",
       "      <th>Last Notable Activity_Olark Chat Conversation</th>\n",
       "      <th>Last Notable Activity_Page Visited on Website</th>\n",
       "      <th>Last Notable Activity_SMS Sent</th>\n",
       "      <th>Last Notable Activity_Unreachable</th>\n",
       "      <th>Last Notable Activity_Unsubscribed</th>\n",
       "      <th>Last Notable Activity_View in browser link Clicked</th>\n",
       "    </tr>\n",
       "  </thead>\n",
       "  <tbody>\n",
       "    <tr>\n",
       "      <th>0</th>\n",
       "      <td>0</td>\n",
       "      <td>0.0</td>\n",
       "      <td>0</td>\n",
       "      <td>0.0</td>\n",
       "      <td>0</td>\n",
       "      <td>1</td>\n",
       "      <td>0</td>\n",
       "      <td>0</td>\n",
       "      <td>0</td>\n",
       "      <td>0</td>\n",
       "      <td>...</td>\n",
       "      <td>0</td>\n",
       "      <td>0</td>\n",
       "      <td>0</td>\n",
       "      <td>1</td>\n",
       "      <td>0</td>\n",
       "      <td>0</td>\n",
       "      <td>0</td>\n",
       "      <td>0</td>\n",
       "      <td>0</td>\n",
       "      <td>0</td>\n",
       "    </tr>\n",
       "    <tr>\n",
       "      <th>1</th>\n",
       "      <td>0</td>\n",
       "      <td>5.0</td>\n",
       "      <td>674</td>\n",
       "      <td>2.5</td>\n",
       "      <td>0</td>\n",
       "      <td>1</td>\n",
       "      <td>0</td>\n",
       "      <td>0</td>\n",
       "      <td>0</td>\n",
       "      <td>0</td>\n",
       "      <td>...</td>\n",
       "      <td>0</td>\n",
       "      <td>0</td>\n",
       "      <td>0</td>\n",
       "      <td>0</td>\n",
       "      <td>0</td>\n",
       "      <td>0</td>\n",
       "      <td>0</td>\n",
       "      <td>0</td>\n",
       "      <td>0</td>\n",
       "      <td>0</td>\n",
       "    </tr>\n",
       "    <tr>\n",
       "      <th>2</th>\n",
       "      <td>0</td>\n",
       "      <td>2.0</td>\n",
       "      <td>1532</td>\n",
       "      <td>2.0</td>\n",
       "      <td>1</td>\n",
       "      <td>0</td>\n",
       "      <td>1</td>\n",
       "      <td>0</td>\n",
       "      <td>0</td>\n",
       "      <td>0</td>\n",
       "      <td>...</td>\n",
       "      <td>0</td>\n",
       "      <td>0</td>\n",
       "      <td>0</td>\n",
       "      <td>0</td>\n",
       "      <td>0</td>\n",
       "      <td>0</td>\n",
       "      <td>0</td>\n",
       "      <td>0</td>\n",
       "      <td>0</td>\n",
       "      <td>0</td>\n",
       "    </tr>\n",
       "    <tr>\n",
       "      <th>3</th>\n",
       "      <td>0</td>\n",
       "      <td>1.0</td>\n",
       "      <td>305</td>\n",
       "      <td>1.0</td>\n",
       "      <td>0</td>\n",
       "      <td>0</td>\n",
       "      <td>1</td>\n",
       "      <td>0</td>\n",
       "      <td>0</td>\n",
       "      <td>0</td>\n",
       "      <td>...</td>\n",
       "      <td>0</td>\n",
       "      <td>0</td>\n",
       "      <td>0</td>\n",
       "      <td>1</td>\n",
       "      <td>0</td>\n",
       "      <td>0</td>\n",
       "      <td>0</td>\n",
       "      <td>0</td>\n",
       "      <td>0</td>\n",
       "      <td>0</td>\n",
       "    </tr>\n",
       "    <tr>\n",
       "      <th>4</th>\n",
       "      <td>0</td>\n",
       "      <td>2.0</td>\n",
       "      <td>1428</td>\n",
       "      <td>1.0</td>\n",
       "      <td>0</td>\n",
       "      <td>0</td>\n",
       "      <td>1</td>\n",
       "      <td>0</td>\n",
       "      <td>0</td>\n",
       "      <td>0</td>\n",
       "      <td>...</td>\n",
       "      <td>0</td>\n",
       "      <td>0</td>\n",
       "      <td>0</td>\n",
       "      <td>1</td>\n",
       "      <td>0</td>\n",
       "      <td>0</td>\n",
       "      <td>0</td>\n",
       "      <td>0</td>\n",
       "      <td>0</td>\n",
       "      <td>0</td>\n",
       "    </tr>\n",
       "  </tbody>\n",
       "</table>\n",
       "<p>5 rows × 67 columns</p>\n",
       "</div>"
      ],
      "text/plain": [
       "   Do Not Email  TotalVisits  Total Time Spent on Website  \\\n",
       "0             0          0.0                            0   \n",
       "1             0          5.0                          674   \n",
       "2             0          2.0                         1532   \n",
       "3             0          1.0                          305   \n",
       "4             0          2.0                         1428   \n",
       "\n",
       "   Page Views Per Visit  A free copy of Mastering The Interview  \\\n",
       "0                   0.0                                       0   \n",
       "1                   2.5                                       0   \n",
       "2                   2.0                                       1   \n",
       "3                   1.0                                       0   \n",
       "4                   1.0                                       0   \n",
       "\n",
       "   Lead Origin_API  Lead Origin_Landing Page Submission  \\\n",
       "0                1                                    0   \n",
       "1                1                                    0   \n",
       "2                0                                    1   \n",
       "3                0                                    1   \n",
       "4                0                                    1   \n",
       "\n",
       "   Lead Origin_Lead Add Form  Lead Origin_Lead Import  Lead Source_Click2call  \\\n",
       "0                          0                        0                       0   \n",
       "1                          0                        0                       0   \n",
       "2                          0                        0                       0   \n",
       "3                          0                        0                       0   \n",
       "4                          0                        0                       0   \n",
       "\n",
       "   ...  Last Notable Activity_Email Received  \\\n",
       "0  ...                                     0   \n",
       "1  ...                                     0   \n",
       "2  ...                                     0   \n",
       "3  ...                                     0   \n",
       "4  ...                                     0   \n",
       "\n",
       "   Last Notable Activity_Form Submitted on Website  \\\n",
       "0                                                0   \n",
       "1                                                0   \n",
       "2                                                0   \n",
       "3                                                0   \n",
       "4                                                0   \n",
       "\n",
       "   Last Notable Activity_Had a Phone Conversation  \\\n",
       "0                                               0   \n",
       "1                                               0   \n",
       "2                                               0   \n",
       "3                                               0   \n",
       "4                                               0   \n",
       "\n",
       "   Last Notable Activity_Modified  \\\n",
       "0                               1   \n",
       "1                               0   \n",
       "2                               0   \n",
       "3                               1   \n",
       "4                               1   \n",
       "\n",
       "   Last Notable Activity_Olark Chat Conversation  \\\n",
       "0                                              0   \n",
       "1                                              0   \n",
       "2                                              0   \n",
       "3                                              0   \n",
       "4                                              0   \n",
       "\n",
       "   Last Notable Activity_Page Visited on Website  \\\n",
       "0                                              0   \n",
       "1                                              0   \n",
       "2                                              0   \n",
       "3                                              0   \n",
       "4                                              0   \n",
       "\n",
       "   Last Notable Activity_SMS Sent  Last Notable Activity_Unreachable  \\\n",
       "0                               0                                  0   \n",
       "1                               0                                  0   \n",
       "2                               0                                  0   \n",
       "3                               0                                  0   \n",
       "4                               0                                  0   \n",
       "\n",
       "   Last Notable Activity_Unsubscribed  \\\n",
       "0                                   0   \n",
       "1                                   0   \n",
       "2                                   0   \n",
       "3                                   0   \n",
       "4                                   0   \n",
       "\n",
       "   Last Notable Activity_View in browser link Clicked  \n",
       "0                                                  0   \n",
       "1                                                  0   \n",
       "2                                                  0   \n",
       "3                                                  0   \n",
       "4                                                  0   \n",
       "\n",
       "[5 rows x 67 columns]"
      ]
     },
     "execution_count": 44,
     "metadata": {},
     "output_type": "execute_result"
    }
   ],
   "source": [
    "# Putting feature variable to X\n",
    "X = leads_data.drop(['Converted'], axis=1)\n",
    "\n",
    "X.head()"
   ]
  },
  {
   "cell_type": "code",
   "execution_count": 45,
   "id": "952285d0",
   "metadata": {},
   "outputs": [
    {
     "data": {
      "text/plain": [
       "0    0\n",
       "1    0\n",
       "2    1\n",
       "3    0\n",
       "4    1\n",
       "Name: Converted, dtype: int64"
      ]
     },
     "execution_count": 45,
     "metadata": {},
     "output_type": "execute_result"
    }
   ],
   "source": [
    "# Putting response variable to y\n",
    "y = leads_data['Converted']\n",
    "\n",
    "y.head()"
   ]
  },
  {
   "cell_type": "code",
   "execution_count": 46,
   "id": "bc2d24d0",
   "metadata": {},
   "outputs": [],
   "source": [
    "# Splitting the data into train and test\n",
    "X_train, X_test, y_train, y_test = train_test_split(X, y, train_size=0.7, test_size=0.3, random_state=100)"
   ]
  },
  {
   "cell_type": "markdown",
   "id": "2c682106",
   "metadata": {},
   "source": [
    "## Step 6: Feature Scaling"
   ]
  },
  {
   "cell_type": "code",
   "execution_count": 47,
   "id": "478318bb",
   "metadata": {},
   "outputs": [],
   "source": [
    "from sklearn.preprocessing import StandardScaler"
   ]
  },
  {
   "cell_type": "code",
   "execution_count": 48,
   "id": "b18b630b",
   "metadata": {},
   "outputs": [
    {
     "data": {
      "text/html": [
       "<div>\n",
       "<style scoped>\n",
       "    .dataframe tbody tr th:only-of-type {\n",
       "        vertical-align: middle;\n",
       "    }\n",
       "\n",
       "    .dataframe tbody tr th {\n",
       "        vertical-align: top;\n",
       "    }\n",
       "\n",
       "    .dataframe thead th {\n",
       "        text-align: right;\n",
       "    }\n",
       "</style>\n",
       "<table border=\"1\" class=\"dataframe\">\n",
       "  <thead>\n",
       "    <tr style=\"text-align: right;\">\n",
       "      <th></th>\n",
       "      <th>Do Not Email</th>\n",
       "      <th>TotalVisits</th>\n",
       "      <th>Total Time Spent on Website</th>\n",
       "      <th>Page Views Per Visit</th>\n",
       "      <th>A free copy of Mastering The Interview</th>\n",
       "      <th>Lead Origin_API</th>\n",
       "      <th>Lead Origin_Landing Page Submission</th>\n",
       "      <th>Lead Origin_Lead Add Form</th>\n",
       "      <th>Lead Origin_Lead Import</th>\n",
       "      <th>Lead Source_Click2call</th>\n",
       "      <th>...</th>\n",
       "      <th>Last Notable Activity_Email Received</th>\n",
       "      <th>Last Notable Activity_Form Submitted on Website</th>\n",
       "      <th>Last Notable Activity_Had a Phone Conversation</th>\n",
       "      <th>Last Notable Activity_Modified</th>\n",
       "      <th>Last Notable Activity_Olark Chat Conversation</th>\n",
       "      <th>Last Notable Activity_Page Visited on Website</th>\n",
       "      <th>Last Notable Activity_SMS Sent</th>\n",
       "      <th>Last Notable Activity_Unreachable</th>\n",
       "      <th>Last Notable Activity_Unsubscribed</th>\n",
       "      <th>Last Notable Activity_View in browser link Clicked</th>\n",
       "    </tr>\n",
       "  </thead>\n",
       "  <tbody>\n",
       "    <tr>\n",
       "      <th>1871</th>\n",
       "      <td>0</td>\n",
       "      <td>-0.656434</td>\n",
       "      <td>-0.885371</td>\n",
       "      <td>-1.085519</td>\n",
       "      <td>0</td>\n",
       "      <td>1</td>\n",
       "      <td>0</td>\n",
       "      <td>0</td>\n",
       "      <td>0</td>\n",
       "      <td>0</td>\n",
       "      <td>...</td>\n",
       "      <td>0</td>\n",
       "      <td>0</td>\n",
       "      <td>0</td>\n",
       "      <td>0</td>\n",
       "      <td>0</td>\n",
       "      <td>0</td>\n",
       "      <td>0</td>\n",
       "      <td>0</td>\n",
       "      <td>0</td>\n",
       "      <td>0</td>\n",
       "    </tr>\n",
       "    <tr>\n",
       "      <th>6795</th>\n",
       "      <td>0</td>\n",
       "      <td>0.100767</td>\n",
       "      <td>0.005716</td>\n",
       "      <td>-0.470569</td>\n",
       "      <td>1</td>\n",
       "      <td>0</td>\n",
       "      <td>1</td>\n",
       "      <td>0</td>\n",
       "      <td>0</td>\n",
       "      <td>0</td>\n",
       "      <td>...</td>\n",
       "      <td>0</td>\n",
       "      <td>0</td>\n",
       "      <td>0</td>\n",
       "      <td>0</td>\n",
       "      <td>0</td>\n",
       "      <td>0</td>\n",
       "      <td>0</td>\n",
       "      <td>0</td>\n",
       "      <td>0</td>\n",
       "      <td>0</td>\n",
       "    </tr>\n",
       "    <tr>\n",
       "      <th>3516</th>\n",
       "      <td>0</td>\n",
       "      <td>0.290067</td>\n",
       "      <td>-0.691418</td>\n",
       "      <td>0.070401</td>\n",
       "      <td>0</td>\n",
       "      <td>1</td>\n",
       "      <td>0</td>\n",
       "      <td>0</td>\n",
       "      <td>0</td>\n",
       "      <td>0</td>\n",
       "      <td>...</td>\n",
       "      <td>0</td>\n",
       "      <td>0</td>\n",
       "      <td>0</td>\n",
       "      <td>0</td>\n",
       "      <td>0</td>\n",
       "      <td>0</td>\n",
       "      <td>0</td>\n",
       "      <td>0</td>\n",
       "      <td>0</td>\n",
       "      <td>0</td>\n",
       "    </tr>\n",
       "    <tr>\n",
       "      <th>8105</th>\n",
       "      <td>0</td>\n",
       "      <td>0.290067</td>\n",
       "      <td>1.365219</td>\n",
       "      <td>1.226321</td>\n",
       "      <td>0</td>\n",
       "      <td>0</td>\n",
       "      <td>1</td>\n",
       "      <td>0</td>\n",
       "      <td>0</td>\n",
       "      <td>0</td>\n",
       "      <td>...</td>\n",
       "      <td>0</td>\n",
       "      <td>0</td>\n",
       "      <td>0</td>\n",
       "      <td>0</td>\n",
       "      <td>0</td>\n",
       "      <td>0</td>\n",
       "      <td>1</td>\n",
       "      <td>0</td>\n",
       "      <td>0</td>\n",
       "      <td>0</td>\n",
       "    </tr>\n",
       "    <tr>\n",
       "      <th>3934</th>\n",
       "      <td>0</td>\n",
       "      <td>-0.656434</td>\n",
       "      <td>-0.885371</td>\n",
       "      <td>-1.085519</td>\n",
       "      <td>0</td>\n",
       "      <td>1</td>\n",
       "      <td>0</td>\n",
       "      <td>0</td>\n",
       "      <td>0</td>\n",
       "      <td>0</td>\n",
       "      <td>...</td>\n",
       "      <td>0</td>\n",
       "      <td>0</td>\n",
       "      <td>0</td>\n",
       "      <td>1</td>\n",
       "      <td>0</td>\n",
       "      <td>0</td>\n",
       "      <td>0</td>\n",
       "      <td>0</td>\n",
       "      <td>0</td>\n",
       "      <td>0</td>\n",
       "    </tr>\n",
       "  </tbody>\n",
       "</table>\n",
       "<p>5 rows × 67 columns</p>\n",
       "</div>"
      ],
      "text/plain": [
       "      Do Not Email  TotalVisits  Total Time Spent on Website  \\\n",
       "1871             0    -0.656434                    -0.885371   \n",
       "6795             0     0.100767                     0.005716   \n",
       "3516             0     0.290067                    -0.691418   \n",
       "8105             0     0.290067                     1.365219   \n",
       "3934             0    -0.656434                    -0.885371   \n",
       "\n",
       "      Page Views Per Visit  A free copy of Mastering The Interview  \\\n",
       "1871             -1.085519                                       0   \n",
       "6795             -0.470569                                       1   \n",
       "3516              0.070401                                       0   \n",
       "8105              1.226321                                       0   \n",
       "3934             -1.085519                                       0   \n",
       "\n",
       "      Lead Origin_API  Lead Origin_Landing Page Submission  \\\n",
       "1871                1                                    0   \n",
       "6795                0                                    1   \n",
       "3516                1                                    0   \n",
       "8105                0                                    1   \n",
       "3934                1                                    0   \n",
       "\n",
       "      Lead Origin_Lead Add Form  Lead Origin_Lead Import  \\\n",
       "1871                          0                        0   \n",
       "6795                          0                        0   \n",
       "3516                          0                        0   \n",
       "8105                          0                        0   \n",
       "3934                          0                        0   \n",
       "\n",
       "      Lead Source_Click2call  ...  Last Notable Activity_Email Received  \\\n",
       "1871                       0  ...                                     0   \n",
       "6795                       0  ...                                     0   \n",
       "3516                       0  ...                                     0   \n",
       "8105                       0  ...                                     0   \n",
       "3934                       0  ...                                     0   \n",
       "\n",
       "      Last Notable Activity_Form Submitted on Website  \\\n",
       "1871                                                0   \n",
       "6795                                                0   \n",
       "3516                                                0   \n",
       "8105                                                0   \n",
       "3934                                                0   \n",
       "\n",
       "      Last Notable Activity_Had a Phone Conversation  \\\n",
       "1871                                               0   \n",
       "6795                                               0   \n",
       "3516                                               0   \n",
       "8105                                               0   \n",
       "3934                                               0   \n",
       "\n",
       "      Last Notable Activity_Modified  \\\n",
       "1871                               0   \n",
       "6795                               0   \n",
       "3516                               0   \n",
       "8105                               0   \n",
       "3934                               1   \n",
       "\n",
       "      Last Notable Activity_Olark Chat Conversation  \\\n",
       "1871                                              0   \n",
       "6795                                              0   \n",
       "3516                                              0   \n",
       "8105                                              0   \n",
       "3934                                              0   \n",
       "\n",
       "      Last Notable Activity_Page Visited on Website  \\\n",
       "1871                                              0   \n",
       "6795                                              0   \n",
       "3516                                              0   \n",
       "8105                                              0   \n",
       "3934                                              0   \n",
       "\n",
       "      Last Notable Activity_SMS Sent  Last Notable Activity_Unreachable  \\\n",
       "1871                               0                                  0   \n",
       "6795                               0                                  0   \n",
       "3516                               0                                  0   \n",
       "8105                               1                                  0   \n",
       "3934                               0                                  0   \n",
       "\n",
       "      Last Notable Activity_Unsubscribed  \\\n",
       "1871                                   0   \n",
       "6795                                   0   \n",
       "3516                                   0   \n",
       "8105                                   0   \n",
       "3934                                   0   \n",
       "\n",
       "      Last Notable Activity_View in browser link Clicked  \n",
       "1871                                                  0   \n",
       "6795                                                  0   \n",
       "3516                                                  0   \n",
       "8105                                                  0   \n",
       "3934                                                  0   \n",
       "\n",
       "[5 rows x 67 columns]"
      ]
     },
     "execution_count": 48,
     "metadata": {},
     "output_type": "execute_result"
    }
   ],
   "source": [
    "scaler = StandardScaler()\n",
    "\n",
    "X_train[['TotalVisits','Total Time Spent on Website','Page Views Per Visit']] = scaler.fit_transform(\n",
    "                                                                                X_train[['TotalVisits','Total Time Spent on Website','Page Views Per Visit']])\n",
    "\n",
    "X_train.head()"
   ]
  },
  {
   "cell_type": "code",
   "execution_count": 49,
   "id": "e8af3685",
   "metadata": {},
   "outputs": [
    {
     "data": {
      "text/plain": [
       "38.53896103896104"
      ]
     },
     "execution_count": 49,
     "metadata": {},
     "output_type": "execute_result"
    }
   ],
   "source": [
    "### Checking the Converted Rate\n",
    "converted = (sum(leads_data['Converted'])/len(leads_data['Converted'].index))*100\n",
    "converted"
   ]
  },
  {
   "cell_type": "markdown",
   "id": "f481c137",
   "metadata": {},
   "source": [
    "## Step 7: Model Building"
   ]
  },
  {
   "cell_type": "code",
   "execution_count": 50,
   "id": "f61c8c45",
   "metadata": {},
   "outputs": [],
   "source": [
    "import statsmodels.api as sm"
   ]
  },
  {
   "cell_type": "code",
   "execution_count": 51,
   "id": "dbd40553",
   "metadata": {},
   "outputs": [
    {
     "data": {
      "text/html": [
       "<table class=\"simpletable\">\n",
       "<caption>Generalized Linear Model Regression Results</caption>\n",
       "<tr>\n",
       "  <th>Dep. Variable:</th>       <td>Converted</td>    <th>  No. Observations:  </th>  <td>  6468</td> \n",
       "</tr>\n",
       "<tr>\n",
       "  <th>Model:</th>                  <td>GLM</td>       <th>  Df Residuals:      </th>  <td>  6405</td> \n",
       "</tr>\n",
       "<tr>\n",
       "  <th>Model Family:</th>        <td>Binomial</td>     <th>  Df Model:          </th>  <td>    62</td> \n",
       "</tr>\n",
       "<tr>\n",
       "  <th>Link Function:</th>         <td>Logit</td>      <th>  Scale:             </th> <td>  1.0000</td>\n",
       "</tr>\n",
       "<tr>\n",
       "  <th>Method:</th>                <td>IRLS</td>       <th>  Log-Likelihood:    </th> <td> -2554.7</td>\n",
       "</tr>\n",
       "<tr>\n",
       "  <th>Date:</th>            <td>Sun, 16 Jun 2024</td> <th>  Deviance:          </th> <td>  5109.4</td>\n",
       "</tr>\n",
       "<tr>\n",
       "  <th>Time:</th>                <td>15:57:22</td>     <th>  Pearson chi2:      </th> <td>6.85e+03</td>\n",
       "</tr>\n",
       "<tr>\n",
       "  <th>No. Iterations:</th>         <td>22</td>        <th>  Pseudo R-squ. (CS):</th>  <td>0.4169</td> \n",
       "</tr>\n",
       "<tr>\n",
       "  <th>Covariance Type:</th>     <td>nonrobust</td>    <th>                     </th>     <td> </td>   \n",
       "</tr>\n",
       "</table>\n",
       "<table class=\"simpletable\">\n",
       "<tr>\n",
       "                           <td></td>                             <th>coef</th>     <th>std err</th>      <th>z</th>      <th>P>|z|</th>  <th>[0.025</th>    <th>0.975]</th>  \n",
       "</tr>\n",
       "<tr>\n",
       "  <th>const</th>                                              <td>   71.9562</td> <td> 1.38e+05</td> <td>    0.001</td> <td> 1.000</td> <td> -2.7e+05</td> <td>  2.7e+05</td>\n",
       "</tr>\n",
       "<tr>\n",
       "  <th>Do Not Email</th>                                       <td>   -1.1622</td> <td>    0.221</td> <td>   -5.257</td> <td> 0.000</td> <td>   -1.595</td> <td>   -0.729</td>\n",
       "</tr>\n",
       "<tr>\n",
       "  <th>TotalVisits</th>                                        <td>    0.1855</td> <td>    0.049</td> <td>    3.772</td> <td> 0.000</td> <td>    0.089</td> <td>    0.282</td>\n",
       "</tr>\n",
       "<tr>\n",
       "  <th>Total Time Spent on Website</th>                        <td>    1.0925</td> <td>    0.041</td> <td>   26.802</td> <td> 0.000</td> <td>    1.013</td> <td>    1.172</td>\n",
       "</tr>\n",
       "<tr>\n",
       "  <th>Page Views Per Visit</th>                               <td>   -0.1159</td> <td>    0.054</td> <td>   -2.148</td> <td> 0.032</td> <td>   -0.222</td> <td>   -0.010</td>\n",
       "</tr>\n",
       "<tr>\n",
       "  <th>A free copy of Mastering The Interview</th>             <td>   -0.0172</td> <td>    0.107</td> <td>   -0.160</td> <td> 0.873</td> <td>   -0.227</td> <td>    0.193</td>\n",
       "</tr>\n",
       "<tr>\n",
       "  <th>Lead Origin_API</th>                                    <td>  -22.8279</td> <td> 7.95e+04</td> <td>   -0.000</td> <td> 1.000</td> <td>-1.56e+05</td> <td> 1.56e+05</td>\n",
       "</tr>\n",
       "<tr>\n",
       "  <th>Lead Origin_Landing Page Submission</th>                <td>  -23.0411</td> <td> 7.95e+04</td> <td>   -0.000</td> <td> 1.000</td> <td>-1.56e+05</td> <td> 1.56e+05</td>\n",
       "</tr>\n",
       "<tr>\n",
       "  <th>Lead Origin_Lead Add Form</th>                          <td>  -20.6631</td> <td> 7.95e+04</td> <td>   -0.000</td> <td> 1.000</td> <td>-1.56e+05</td> <td> 1.56e+05</td>\n",
       "</tr>\n",
       "<tr>\n",
       "  <th>Lead Origin_Lead Import</th>                            <td>  -22.2766</td> <td> 7.95e+04</td> <td>   -0.000</td> <td> 1.000</td> <td>-1.56e+05</td> <td> 1.56e+05</td>\n",
       "</tr>\n",
       "<tr>\n",
       "  <th>Lead Source_Click2call</th>                             <td>  -24.5952</td> <td> 7.95e+04</td> <td>   -0.000</td> <td> 1.000</td> <td>-1.56e+05</td> <td> 1.56e+05</td>\n",
       "</tr>\n",
       "<tr>\n",
       "  <th>Lead Source_Direct Traffic</th>                         <td>  -24.8187</td> <td> 7.95e+04</td> <td>   -0.000</td> <td> 1.000</td> <td>-1.56e+05</td> <td> 1.56e+05</td>\n",
       "</tr>\n",
       "<tr>\n",
       "  <th>Lead Source_Facebook</th>                               <td>  -25.0457</td> <td> 7.95e+04</td> <td>   -0.000</td> <td> 1.000</td> <td>-1.56e+05</td> <td> 1.56e+05</td>\n",
       "</tr>\n",
       "<tr>\n",
       "  <th>Lead Source_Google</th>                                 <td>  -24.4666</td> <td> 7.95e+04</td> <td>   -0.000</td> <td> 1.000</td> <td>-1.56e+05</td> <td> 1.56e+05</td>\n",
       "</tr>\n",
       "<tr>\n",
       "  <th>Lead Source_Live Chat</th>                              <td>   -2.7080</td> <td> 9.73e+04</td> <td>-2.78e-05</td> <td> 1.000</td> <td>-1.91e+05</td> <td> 1.91e+05</td>\n",
       "</tr>\n",
       "<tr>\n",
       "  <th>Lead Source_No Information</th>                         <td>  -23.7128</td> <td> 7.95e+04</td> <td>   -0.000</td> <td> 1.000</td> <td>-1.56e+05</td> <td> 1.56e+05</td>\n",
       "</tr>\n",
       "<tr>\n",
       "  <th>Lead Source_Olark Chat</th>                             <td>  -23.5352</td> <td> 7.95e+04</td> <td>   -0.000</td> <td> 1.000</td> <td>-1.56e+05</td> <td> 1.56e+05</td>\n",
       "</tr>\n",
       "<tr>\n",
       "  <th>Lead Source_Organic Search</th>                         <td>  -24.6637</td> <td> 7.95e+04</td> <td>   -0.000</td> <td> 1.000</td> <td>-1.56e+05</td> <td> 1.56e+05</td>\n",
       "</tr>\n",
       "<tr>\n",
       "  <th>Lead Source_Pay per Click Ads</th>                      <td>  -46.3896</td> <td> 1.12e+05</td> <td>   -0.000</td> <td> 1.000</td> <td> -2.2e+05</td> <td>  2.2e+05</td>\n",
       "</tr>\n",
       "<tr>\n",
       "  <th>Lead Source_Press_Release</th>                          <td>  -45.0236</td> <td> 9.68e+04</td> <td>   -0.000</td> <td> 1.000</td> <td> -1.9e+05</td> <td>  1.9e+05</td>\n",
       "</tr>\n",
       "<tr>\n",
       "  <th>Lead Source_Reference</th>                              <td>  -23.3371</td> <td> 7.95e+04</td> <td>   -0.000</td> <td> 1.000</td> <td>-1.56e+05</td> <td> 1.56e+05</td>\n",
       "</tr>\n",
       "<tr>\n",
       "  <th>Lead Source_Referral Sites</th>                         <td>  -24.7235</td> <td> 7.95e+04</td> <td>   -0.000</td> <td> 1.000</td> <td>-1.56e+05</td> <td> 1.56e+05</td>\n",
       "</tr>\n",
       "<tr>\n",
       "  <th>Lead Source_Social Media</th>                           <td>  -22.5706</td> <td> 7.95e+04</td> <td>   -0.000</td> <td> 1.000</td> <td>-1.56e+05</td> <td> 1.56e+05</td>\n",
       "</tr>\n",
       "<tr>\n",
       "  <th>Lead Source_WeLearn</th>                                <td>   -1.3930</td> <td> 1.12e+05</td> <td>-1.24e-05</td> <td> 1.000</td> <td> -2.2e+05</td> <td>  2.2e+05</td>\n",
       "</tr>\n",
       "<tr>\n",
       "  <th>Lead Source_Welingak Website</th>                       <td>  -21.4791</td> <td> 7.95e+04</td> <td>   -0.000</td> <td> 1.000</td> <td>-1.56e+05</td> <td> 1.56e+05</td>\n",
       "</tr>\n",
       "<tr>\n",
       "  <th>Lead Source_bing</th>                                   <td>  -23.8363</td> <td> 7.95e+04</td> <td>   -0.000</td> <td> 1.000</td> <td>-1.56e+05</td> <td> 1.56e+05</td>\n",
       "</tr>\n",
       "<tr>\n",
       "  <th>Lead Source_blog</th>                                   <td>  -46.3986</td> <td> 1.12e+05</td> <td>   -0.000</td> <td> 1.000</td> <td> -2.2e+05</td> <td>  2.2e+05</td>\n",
       "</tr>\n",
       "<tr>\n",
       "  <th>Lead Source_testone</th>                                <td>-2.255e-09</td> <td> 9.12e-06</td> <td>   -0.000</td> <td> 1.000</td> <td>-1.79e-05</td> <td> 1.79e-05</td>\n",
       "</tr>\n",
       "<tr>\n",
       "  <th>Lead Source_welearnblog_Home</th>                       <td>  -45.8178</td> <td> 1.12e+05</td> <td>   -0.000</td> <td> 1.000</td> <td> -2.2e+05</td> <td>  2.2e+05</td>\n",
       "</tr>\n",
       "<tr>\n",
       "  <th>Lead Source_youtubechannel</th>                         <td>  -45.6819</td> <td> 1.12e+05</td> <td>   -0.000</td> <td> 1.000</td> <td> -2.2e+05</td> <td>  2.2e+05</td>\n",
       "</tr>\n",
       "<tr>\n",
       "  <th>Last Activity_Approached upfront</th>                   <td>   11.1107</td> <td> 4.34e+04</td> <td>    0.000</td> <td> 1.000</td> <td>-8.51e+04</td> <td> 8.52e+04</td>\n",
       "</tr>\n",
       "<tr>\n",
       "  <th>Last Activity_Converted to Lead</th>                    <td>  -12.8592</td> <td> 3.49e+04</td> <td>   -0.000</td> <td> 1.000</td> <td>-6.84e+04</td> <td> 6.84e+04</td>\n",
       "</tr>\n",
       "<tr>\n",
       "  <th>Last Activity_Email Bounced</th>                        <td>  -13.1603</td> <td> 3.49e+04</td> <td>   -0.000</td> <td> 1.000</td> <td>-6.84e+04</td> <td> 6.84e+04</td>\n",
       "</tr>\n",
       "<tr>\n",
       "  <th>Last Activity_Email Link Clicked</th>                   <td>  -12.3177</td> <td> 3.49e+04</td> <td>   -0.000</td> <td> 1.000</td> <td>-6.84e+04</td> <td> 6.84e+04</td>\n",
       "</tr>\n",
       "<tr>\n",
       "  <th>Last Activity_Email Marked Spam</th>                    <td>   -1.1217</td> <td> 5.62e+04</td> <td>   -2e-05</td> <td> 1.000</td> <td> -1.1e+05</td> <td>  1.1e+05</td>\n",
       "</tr>\n",
       "<tr>\n",
       "  <th>Last Activity_Email Opened</th>                         <td>  -11.7464</td> <td> 3.49e+04</td> <td>   -0.000</td> <td> 1.000</td> <td>-6.84e+04</td> <td> 6.84e+04</td>\n",
       "</tr>\n",
       "<tr>\n",
       "  <th>Last Activity_Email Received</th>                       <td>    8.7712</td> <td> 8.14e+04</td> <td>    0.000</td> <td> 1.000</td> <td> -1.6e+05</td> <td>  1.6e+05</td>\n",
       "</tr>\n",
       "<tr>\n",
       "  <th>Last Activity_Form Submitted on Website</th>            <td>  -12.2652</td> <td> 3.49e+04</td> <td>   -0.000</td> <td> 1.000</td> <td>-6.84e+04</td> <td> 6.84e+04</td>\n",
       "</tr>\n",
       "<tr>\n",
       "  <th>Last Activity_Had a Phone Conversation</th>             <td>  -11.1543</td> <td> 3.49e+04</td> <td>   -0.000</td> <td> 1.000</td> <td>-6.84e+04</td> <td> 6.84e+04</td>\n",
       "</tr>\n",
       "<tr>\n",
       "  <th>Last Activity_No Information</th>                       <td>  -13.3066</td> <td> 3.49e+04</td> <td>   -0.000</td> <td> 1.000</td> <td>-6.84e+04</td> <td> 6.84e+04</td>\n",
       "</tr>\n",
       "<tr>\n",
       "  <th>Last Activity_Olark Chat Conversation</th>              <td>  -13.0229</td> <td> 3.49e+04</td> <td>   -0.000</td> <td> 1.000</td> <td>-6.84e+04</td> <td> 6.84e+04</td>\n",
       "</tr>\n",
       "<tr>\n",
       "  <th>Last Activity_Page Visited on Website</th>              <td>  -12.4109</td> <td> 3.49e+04</td> <td>   -0.000</td> <td> 1.000</td> <td>-6.84e+04</td> <td> 6.84e+04</td>\n",
       "</tr>\n",
       "<tr>\n",
       "  <th>Last Activity_SMS Sent</th>                             <td>  -11.2566</td> <td> 3.49e+04</td> <td>   -0.000</td> <td> 1.000</td> <td>-6.84e+04</td> <td> 6.84e+04</td>\n",
       "</tr>\n",
       "<tr>\n",
       "  <th>Last Activity_Unreachable</th>                          <td>  -13.0259</td> <td> 3.49e+04</td> <td>   -0.000</td> <td> 1.000</td> <td>-6.84e+04</td> <td> 6.84e+04</td>\n",
       "</tr>\n",
       "<tr>\n",
       "  <th>Last Activity_Unsubscribed</th>                         <td>  -11.4009</td> <td> 3.49e+04</td> <td>   -0.000</td> <td> 1.000</td> <td>-6.84e+04</td> <td> 6.84e+04</td>\n",
       "</tr>\n",
       "<tr>\n",
       "  <th>Last Activity_View in browser link Clicked</th>         <td>  -12.7000</td> <td> 3.49e+04</td> <td>   -0.000</td> <td> 1.000</td> <td>-6.84e+04</td> <td> 6.84e+04</td>\n",
       "</tr>\n",
       "<tr>\n",
       "  <th>Last Activity_Visited Booth in Tradeshow</th>           <td>  -33.4296</td> <td> 8.41e+04</td> <td>   -0.000</td> <td> 1.000</td> <td>-1.65e+05</td> <td> 1.65e+05</td>\n",
       "</tr>\n",
       "<tr>\n",
       "  <th>Current Occupation_Housewife</th>                       <td>   23.8512</td> <td> 2.32e+04</td> <td>    0.001</td> <td> 0.999</td> <td>-4.54e+04</td> <td> 4.54e+04</td>\n",
       "</tr>\n",
       "<tr>\n",
       "  <th>Current Occupation_No Information</th>                  <td>   -1.0637</td> <td>    1.173</td> <td>   -0.907</td> <td> 0.364</td> <td>   -3.363</td> <td>    1.235</td>\n",
       "</tr>\n",
       "<tr>\n",
       "  <th>Current Occupation_Other</th>                           <td>    0.0434</td> <td>    1.423</td> <td>    0.031</td> <td> 0.976</td> <td>   -2.745</td> <td>    2.832</td>\n",
       "</tr>\n",
       "<tr>\n",
       "  <th>Current Occupation_Student</th>                         <td>    0.1413</td> <td>    1.193</td> <td>    0.118</td> <td> 0.906</td> <td>   -2.197</td> <td>    2.479</td>\n",
       "</tr>\n",
       "<tr>\n",
       "  <th>Current Occupation_Unemployed</th>                      <td>    0.0123</td> <td>    1.171</td> <td>    0.011</td> <td> 0.992</td> <td>   -2.283</td> <td>    2.308</td>\n",
       "</tr>\n",
       "<tr>\n",
       "  <th>Current Occupation_Working Professional</th>            <td>    2.5932</td> <td>    1.185</td> <td>    2.189</td> <td> 0.029</td> <td>    0.271</td> <td>    4.916</td>\n",
       "</tr>\n",
       "<tr>\n",
       "  <th>Last Notable Activity_Approached upfront</th>           <td> 2.622e-14</td> <td> 6.82e-11</td> <td>    0.000</td> <td> 1.000</td> <td>-1.34e-10</td> <td> 1.34e-10</td>\n",
       "</tr>\n",
       "<tr>\n",
       "  <th>Last Notable Activity_Email Bounced</th>                <td>  -12.1703</td> <td>  4.6e+04</td> <td>   -0.000</td> <td> 1.000</td> <td>-9.02e+04</td> <td> 9.02e+04</td>\n",
       "</tr>\n",
       "<tr>\n",
       "  <th>Last Notable Activity_Email Link Clicked</th>           <td>  -13.5010</td> <td>  4.6e+04</td> <td>   -0.000</td> <td> 1.000</td> <td>-9.02e+04</td> <td> 9.02e+04</td>\n",
       "</tr>\n",
       "<tr>\n",
       "  <th>Last Notable Activity_Email Marked Spam</th>            <td>   -1.1217</td> <td> 5.62e+04</td> <td>   -2e-05</td> <td> 1.000</td> <td> -1.1e+05</td> <td>  1.1e+05</td>\n",
       "</tr>\n",
       "<tr>\n",
       "  <th>Last Notable Activity_Email Opened</th>                 <td>  -13.5887</td> <td>  4.6e+04</td> <td>   -0.000</td> <td> 1.000</td> <td>-9.02e+04</td> <td> 9.02e+04</td>\n",
       "</tr>\n",
       "<tr>\n",
       "  <th>Last Notable Activity_Email Received</th>               <td>  -12.8548</td> <td> 1.16e+05</td> <td>   -0.000</td> <td> 1.000</td> <td>-2.27e+05</td> <td> 2.27e+05</td>\n",
       "</tr>\n",
       "<tr>\n",
       "  <th>Last Notable Activity_Form Submitted on Website</th>    <td>  -33.8899</td> <td> 8.93e+04</td> <td>   -0.000</td> <td> 1.000</td> <td>-1.75e+05</td> <td> 1.75e+05</td>\n",
       "</tr>\n",
       "<tr>\n",
       "  <th>Last Notable Activity_Had a Phone Conversation</th>     <td>  -10.9047</td> <td>  4.6e+04</td> <td>   -0.000</td> <td> 1.000</td> <td>-9.02e+04</td> <td> 9.02e+04</td>\n",
       "</tr>\n",
       "<tr>\n",
       "  <th>Last Notable Activity_Modified</th>                     <td>  -13.8340</td> <td>  4.6e+04</td> <td>   -0.000</td> <td> 1.000</td> <td>-9.02e+04</td> <td> 9.02e+04</td>\n",
       "</tr>\n",
       "<tr>\n",
       "  <th>Last Notable Activity_Olark Chat Conversation</th>      <td>  -13.5152</td> <td>  4.6e+04</td> <td>   -0.000</td> <td> 1.000</td> <td>-9.02e+04</td> <td> 9.02e+04</td>\n",
       "</tr>\n",
       "<tr>\n",
       "  <th>Last Notable Activity_Page Visited on Website</th>      <td>  -13.3650</td> <td>  4.6e+04</td> <td>   -0.000</td> <td> 1.000</td> <td>-9.02e+04</td> <td> 9.02e+04</td>\n",
       "</tr>\n",
       "<tr>\n",
       "  <th>Last Notable Activity_SMS Sent</th>                     <td>  -12.8116</td> <td>  4.6e+04</td> <td>   -0.000</td> <td> 1.000</td> <td>-9.02e+04</td> <td> 9.02e+04</td>\n",
       "</tr>\n",
       "<tr>\n",
       "  <th>Last Notable Activity_Unreachable</th>                  <td>  -10.5232</td> <td>  4.6e+04</td> <td>   -0.000</td> <td> 1.000</td> <td>-9.02e+04</td> <td> 9.02e+04</td>\n",
       "</tr>\n",
       "<tr>\n",
       "  <th>Last Notable Activity_Unsubscribed</th>                 <td>  -13.2161</td> <td>  4.6e+04</td> <td>   -0.000</td> <td> 1.000</td> <td>-9.02e+04</td> <td> 9.02e+04</td>\n",
       "</tr>\n",
       "<tr>\n",
       "  <th>Last Notable Activity_View in browser link Clicked</th> <td>         0</td> <td>        0</td> <td>      nan</td> <td>   nan</td> <td>        0</td> <td>        0</td>\n",
       "</tr>\n",
       "</table>"
      ],
      "text/plain": [
       "<class 'statsmodels.iolib.summary.Summary'>\n",
       "\"\"\"\n",
       "                 Generalized Linear Model Regression Results                  \n",
       "==============================================================================\n",
       "Dep. Variable:              Converted   No. Observations:                 6468\n",
       "Model:                            GLM   Df Residuals:                     6405\n",
       "Model Family:                Binomial   Df Model:                           62\n",
       "Link Function:                  Logit   Scale:                          1.0000\n",
       "Method:                          IRLS   Log-Likelihood:                -2554.7\n",
       "Date:                Sun, 16 Jun 2024   Deviance:                       5109.4\n",
       "Time:                        15:57:22   Pearson chi2:                 6.85e+03\n",
       "No. Iterations:                    22   Pseudo R-squ. (CS):             0.4169\n",
       "Covariance Type:            nonrobust                                         \n",
       "======================================================================================================================\n",
       "                                                         coef    std err          z      P>|z|      [0.025      0.975]\n",
       "----------------------------------------------------------------------------------------------------------------------\n",
       "const                                                 71.9562   1.38e+05      0.001      1.000    -2.7e+05     2.7e+05\n",
       "Do Not Email                                          -1.1622      0.221     -5.257      0.000      -1.595      -0.729\n",
       "TotalVisits                                            0.1855      0.049      3.772      0.000       0.089       0.282\n",
       "Total Time Spent on Website                            1.0925      0.041     26.802      0.000       1.013       1.172\n",
       "Page Views Per Visit                                  -0.1159      0.054     -2.148      0.032      -0.222      -0.010\n",
       "A free copy of Mastering The Interview                -0.0172      0.107     -0.160      0.873      -0.227       0.193\n",
       "Lead Origin_API                                      -22.8279   7.95e+04     -0.000      1.000   -1.56e+05    1.56e+05\n",
       "Lead Origin_Landing Page Submission                  -23.0411   7.95e+04     -0.000      1.000   -1.56e+05    1.56e+05\n",
       "Lead Origin_Lead Add Form                            -20.6631   7.95e+04     -0.000      1.000   -1.56e+05    1.56e+05\n",
       "Lead Origin_Lead Import                              -22.2766   7.95e+04     -0.000      1.000   -1.56e+05    1.56e+05\n",
       "Lead Source_Click2call                               -24.5952   7.95e+04     -0.000      1.000   -1.56e+05    1.56e+05\n",
       "Lead Source_Direct Traffic                           -24.8187   7.95e+04     -0.000      1.000   -1.56e+05    1.56e+05\n",
       "Lead Source_Facebook                                 -25.0457   7.95e+04     -0.000      1.000   -1.56e+05    1.56e+05\n",
       "Lead Source_Google                                   -24.4666   7.95e+04     -0.000      1.000   -1.56e+05    1.56e+05\n",
       "Lead Source_Live Chat                                 -2.7080   9.73e+04  -2.78e-05      1.000   -1.91e+05    1.91e+05\n",
       "Lead Source_No Information                           -23.7128   7.95e+04     -0.000      1.000   -1.56e+05    1.56e+05\n",
       "Lead Source_Olark Chat                               -23.5352   7.95e+04     -0.000      1.000   -1.56e+05    1.56e+05\n",
       "Lead Source_Organic Search                           -24.6637   7.95e+04     -0.000      1.000   -1.56e+05    1.56e+05\n",
       "Lead Source_Pay per Click Ads                        -46.3896   1.12e+05     -0.000      1.000    -2.2e+05     2.2e+05\n",
       "Lead Source_Press_Release                            -45.0236   9.68e+04     -0.000      1.000    -1.9e+05     1.9e+05\n",
       "Lead Source_Reference                                -23.3371   7.95e+04     -0.000      1.000   -1.56e+05    1.56e+05\n",
       "Lead Source_Referral Sites                           -24.7235   7.95e+04     -0.000      1.000   -1.56e+05    1.56e+05\n",
       "Lead Source_Social Media                             -22.5706   7.95e+04     -0.000      1.000   -1.56e+05    1.56e+05\n",
       "Lead Source_WeLearn                                   -1.3930   1.12e+05  -1.24e-05      1.000    -2.2e+05     2.2e+05\n",
       "Lead Source_Welingak Website                         -21.4791   7.95e+04     -0.000      1.000   -1.56e+05    1.56e+05\n",
       "Lead Source_bing                                     -23.8363   7.95e+04     -0.000      1.000   -1.56e+05    1.56e+05\n",
       "Lead Source_blog                                     -46.3986   1.12e+05     -0.000      1.000    -2.2e+05     2.2e+05\n",
       "Lead Source_testone                                -2.255e-09   9.12e-06     -0.000      1.000   -1.79e-05    1.79e-05\n",
       "Lead Source_welearnblog_Home                         -45.8178   1.12e+05     -0.000      1.000    -2.2e+05     2.2e+05\n",
       "Lead Source_youtubechannel                           -45.6819   1.12e+05     -0.000      1.000    -2.2e+05     2.2e+05\n",
       "Last Activity_Approached upfront                      11.1107   4.34e+04      0.000      1.000   -8.51e+04    8.52e+04\n",
       "Last Activity_Converted to Lead                      -12.8592   3.49e+04     -0.000      1.000   -6.84e+04    6.84e+04\n",
       "Last Activity_Email Bounced                          -13.1603   3.49e+04     -0.000      1.000   -6.84e+04    6.84e+04\n",
       "Last Activity_Email Link Clicked                     -12.3177   3.49e+04     -0.000      1.000   -6.84e+04    6.84e+04\n",
       "Last Activity_Email Marked Spam                       -1.1217   5.62e+04     -2e-05      1.000    -1.1e+05     1.1e+05\n",
       "Last Activity_Email Opened                           -11.7464   3.49e+04     -0.000      1.000   -6.84e+04    6.84e+04\n",
       "Last Activity_Email Received                           8.7712   8.14e+04      0.000      1.000    -1.6e+05     1.6e+05\n",
       "Last Activity_Form Submitted on Website              -12.2652   3.49e+04     -0.000      1.000   -6.84e+04    6.84e+04\n",
       "Last Activity_Had a Phone Conversation               -11.1543   3.49e+04     -0.000      1.000   -6.84e+04    6.84e+04\n",
       "Last Activity_No Information                         -13.3066   3.49e+04     -0.000      1.000   -6.84e+04    6.84e+04\n",
       "Last Activity_Olark Chat Conversation                -13.0229   3.49e+04     -0.000      1.000   -6.84e+04    6.84e+04\n",
       "Last Activity_Page Visited on Website                -12.4109   3.49e+04     -0.000      1.000   -6.84e+04    6.84e+04\n",
       "Last Activity_SMS Sent                               -11.2566   3.49e+04     -0.000      1.000   -6.84e+04    6.84e+04\n",
       "Last Activity_Unreachable                            -13.0259   3.49e+04     -0.000      1.000   -6.84e+04    6.84e+04\n",
       "Last Activity_Unsubscribed                           -11.4009   3.49e+04     -0.000      1.000   -6.84e+04    6.84e+04\n",
       "Last Activity_View in browser link Clicked           -12.7000   3.49e+04     -0.000      1.000   -6.84e+04    6.84e+04\n",
       "Last Activity_Visited Booth in Tradeshow             -33.4296   8.41e+04     -0.000      1.000   -1.65e+05    1.65e+05\n",
       "Current Occupation_Housewife                          23.8512   2.32e+04      0.001      0.999   -4.54e+04    4.54e+04\n",
       "Current Occupation_No Information                     -1.0637      1.173     -0.907      0.364      -3.363       1.235\n",
       "Current Occupation_Other                               0.0434      1.423      0.031      0.976      -2.745       2.832\n",
       "Current Occupation_Student                             0.1413      1.193      0.118      0.906      -2.197       2.479\n",
       "Current Occupation_Unemployed                          0.0123      1.171      0.011      0.992      -2.283       2.308\n",
       "Current Occupation_Working Professional                2.5932      1.185      2.189      0.029       0.271       4.916\n",
       "Last Notable Activity_Approached upfront            2.622e-14   6.82e-11      0.000      1.000   -1.34e-10    1.34e-10\n",
       "Last Notable Activity_Email Bounced                  -12.1703    4.6e+04     -0.000      1.000   -9.02e+04    9.02e+04\n",
       "Last Notable Activity_Email Link Clicked             -13.5010    4.6e+04     -0.000      1.000   -9.02e+04    9.02e+04\n",
       "Last Notable Activity_Email Marked Spam               -1.1217   5.62e+04     -2e-05      1.000    -1.1e+05     1.1e+05\n",
       "Last Notable Activity_Email Opened                   -13.5887    4.6e+04     -0.000      1.000   -9.02e+04    9.02e+04\n",
       "Last Notable Activity_Email Received                 -12.8548   1.16e+05     -0.000      1.000   -2.27e+05    2.27e+05\n",
       "Last Notable Activity_Form Submitted on Website      -33.8899   8.93e+04     -0.000      1.000   -1.75e+05    1.75e+05\n",
       "Last Notable Activity_Had a Phone Conversation       -10.9047    4.6e+04     -0.000      1.000   -9.02e+04    9.02e+04\n",
       "Last Notable Activity_Modified                       -13.8340    4.6e+04     -0.000      1.000   -9.02e+04    9.02e+04\n",
       "Last Notable Activity_Olark Chat Conversation        -13.5152    4.6e+04     -0.000      1.000   -9.02e+04    9.02e+04\n",
       "Last Notable Activity_Page Visited on Website        -13.3650    4.6e+04     -0.000      1.000   -9.02e+04    9.02e+04\n",
       "Last Notable Activity_SMS Sent                       -12.8116    4.6e+04     -0.000      1.000   -9.02e+04    9.02e+04\n",
       "Last Notable Activity_Unreachable                    -10.5232    4.6e+04     -0.000      1.000   -9.02e+04    9.02e+04\n",
       "Last Notable Activity_Unsubscribed                   -13.2161    4.6e+04     -0.000      1.000   -9.02e+04    9.02e+04\n",
       "Last Notable Activity_View in browser link Clicked          0          0        nan        nan           0           0\n",
       "======================================================================================================================\n",
       "\"\"\""
      ]
     },
     "execution_count": 51,
     "metadata": {},
     "output_type": "execute_result"
    }
   ],
   "source": [
    "# Logistic regression model\n",
    "logm1 = sm.GLM(y_train,(sm.add_constant(X_train)), family = sm.families.Binomial())\n",
    "logm1.fit().summary()"
   ]
  },
  {
   "cell_type": "markdown",
   "id": "594fe990",
   "metadata": {},
   "source": [
    "## Step 8: Feature Selection Using RFE"
   ]
  },
  {
   "cell_type": "code",
   "execution_count": 52,
   "id": "7d5581a3",
   "metadata": {},
   "outputs": [],
   "source": [
    "from sklearn.linear_model import LogisticRegression\n",
    "logreg = LogisticRegression()"
   ]
  },
  {
   "cell_type": "code",
   "execution_count": 53,
   "id": "bd0e1707",
   "metadata": {},
   "outputs": [],
   "source": [
    "from sklearn.feature_selection import RFE\n"
   ]
  },
  {
   "cell_type": "code",
   "execution_count": 54,
   "id": "298f08ef",
   "metadata": {},
   "outputs": [],
   "source": [
    "rfe = RFE(logreg,n_features_to_select=20)             # running RFE with 20 variables as output\n",
    "rfe = rfe.fit(X_train, y_train)"
   ]
  },
  {
   "cell_type": "code",
   "execution_count": 55,
   "id": "dbf98729",
   "metadata": {},
   "outputs": [
    {
     "data": {
      "text/plain": [
       "array([ True, False,  True, False, False, False, False,  True, False,\n",
       "       False,  True,  True,  True, False, False, False,  True, False,\n",
       "       False, False,  True, False, False,  True, False, False, False,\n",
       "       False, False,  True, False, False, False, False,  True, False,\n",
       "       False,  True, False, False, False,  True, False, False, False,\n",
       "       False,  True,  True, False, False, False,  True, False, False,\n",
       "       False, False, False, False, False,  True,  True,  True, False,\n",
       "       False,  True, False, False])"
      ]
     },
     "execution_count": 55,
     "metadata": {},
     "output_type": "execute_result"
    }
   ],
   "source": [
    "rfe.support_"
   ]
  },
  {
   "cell_type": "code",
   "execution_count": 56,
   "id": "b229aec8",
   "metadata": {},
   "outputs": [
    {
     "data": {
      "text/plain": [
       "[('Do Not Email', True, 1),\n",
       " ('TotalVisits', False, 32),\n",
       " ('Total Time Spent on Website', True, 1),\n",
       " ('Page Views Per Visit', False, 35),\n",
       " ('A free copy of Mastering The Interview', False, 44),\n",
       " ('Lead Origin_API', False, 10),\n",
       " ('Lead Origin_Landing Page Submission', False, 9),\n",
       " ('Lead Origin_Lead Add Form', True, 1),\n",
       " ('Lead Origin_Lead Import', False, 14),\n",
       " ('Lead Source_Click2call', False, 19),\n",
       " ('Lead Source_Direct Traffic', True, 1),\n",
       " ('Lead Source_Facebook', True, 1),\n",
       " ('Lead Source_Google', True, 1),\n",
       " ('Lead Source_Live Chat', False, 31),\n",
       " ('Lead Source_No Information', False, 38),\n",
       " ('Lead Source_Olark Chat', False, 11),\n",
       " ('Lead Source_Organic Search', True, 1),\n",
       " ('Lead Source_Pay per Click Ads', False, 25),\n",
       " ('Lead Source_Press_Release', False, 29),\n",
       " ('Lead Source_Reference', False, 12),\n",
       " ('Lead Source_Referral Sites', True, 1),\n",
       " ('Lead Source_Social Media', False, 13),\n",
       " ('Lead Source_WeLearn', False, 23),\n",
       " ('Lead Source_Welingak Website', True, 1),\n",
       " ('Lead Source_bing', False, 42),\n",
       " ('Lead Source_blog', False, 24),\n",
       " ('Lead Source_testone', False, 47),\n",
       " ('Lead Source_welearnblog_Home', False, 34),\n",
       " ('Lead Source_youtubechannel', False, 36),\n",
       " ('Last Activity_Approached upfront', True, 1),\n",
       " ('Last Activity_Converted to Lead', False, 7),\n",
       " ('Last Activity_Email Bounced', False, 4),\n",
       " ('Last Activity_Email Link Clicked', False, 28),\n",
       " ('Last Activity_Email Marked Spam', False, 20),\n",
       " ('Last Activity_Email Opened', True, 1),\n",
       " ('Last Activity_Email Received', False, 33),\n",
       " ('Last Activity_Form Submitted on Website', False, 37),\n",
       " ('Last Activity_Had a Phone Conversation', True, 1),\n",
       " ('Last Activity_No Information', False, 3),\n",
       " ('Last Activity_Olark Chat Conversation', False, 5),\n",
       " ('Last Activity_Page Visited on Website', False, 27),\n",
       " ('Last Activity_SMS Sent', True, 1),\n",
       " ('Last Activity_Unreachable', False, 26),\n",
       " ('Last Activity_Unsubscribed', False, 17),\n",
       " ('Last Activity_View in browser link Clicked', False, 30),\n",
       " ('Last Activity_Visited Booth in Tradeshow', False, 39),\n",
       " ('Current Occupation_Housewife', True, 1),\n",
       " ('Current Occupation_No Information', True, 1),\n",
       " ('Current Occupation_Other', False, 21),\n",
       " ('Current Occupation_Student', False, 16),\n",
       " ('Current Occupation_Unemployed', False, 15),\n",
       " ('Current Occupation_Working Professional', True, 1),\n",
       " ('Last Notable Activity_Approached upfront', False, 46),\n",
       " ('Last Notable Activity_Email Bounced', False, 18),\n",
       " ('Last Notable Activity_Email Link Clicked', False, 6),\n",
       " ('Last Notable Activity_Email Marked Spam', False, 22),\n",
       " ('Last Notable Activity_Email Opened', False, 2),\n",
       " ('Last Notable Activity_Email Received', False, 41),\n",
       " ('Last Notable Activity_Form Submitted on Website', False, 40),\n",
       " ('Last Notable Activity_Had a Phone Conversation', True, 1),\n",
       " ('Last Notable Activity_Modified', True, 1),\n",
       " ('Last Notable Activity_Olark Chat Conversation', True, 1),\n",
       " ('Last Notable Activity_Page Visited on Website', False, 8),\n",
       " ('Last Notable Activity_SMS Sent', False, 45),\n",
       " ('Last Notable Activity_Unreachable', True, 1),\n",
       " ('Last Notable Activity_Unsubscribed', False, 43),\n",
       " ('Last Notable Activity_View in browser link Clicked', False, 48)]"
      ]
     },
     "execution_count": 56,
     "metadata": {},
     "output_type": "execute_result"
    }
   ],
   "source": [
    "list(zip(X_train.columns, rfe.support_, rfe.ranking_))"
   ]
  },
  {
   "cell_type": "code",
   "execution_count": 57,
   "id": "00c6eb66",
   "metadata": {},
   "outputs": [
    {
     "data": {
      "text/plain": [
       "Index(['Do Not Email', 'Total Time Spent on Website',\n",
       "       'Lead Origin_Lead Add Form', 'Lead Source_Direct Traffic',\n",
       "       'Lead Source_Facebook', 'Lead Source_Google',\n",
       "       'Lead Source_Organic Search', 'Lead Source_Referral Sites',\n",
       "       'Lead Source_Welingak Website', 'Last Activity_Approached upfront',\n",
       "       'Last Activity_Email Opened', 'Last Activity_Had a Phone Conversation',\n",
       "       'Last Activity_SMS Sent', 'Current Occupation_Housewife',\n",
       "       'Current Occupation_No Information',\n",
       "       'Current Occupation_Working Professional',\n",
       "       'Last Notable Activity_Had a Phone Conversation',\n",
       "       'Last Notable Activity_Modified',\n",
       "       'Last Notable Activity_Olark Chat Conversation',\n",
       "       'Last Notable Activity_Unreachable'],\n",
       "      dtype='object')"
      ]
     },
     "execution_count": 57,
     "metadata": {},
     "output_type": "execute_result"
    }
   ],
   "source": [
    "# variables shortlisted by RFE\n",
    "\n",
    "col = X_train.columns[rfe.support_]\n",
    "col"
   ]
  },
  {
   "cell_type": "markdown",
   "id": "439b9e2e",
   "metadata": {},
   "source": [
    "#### Assessing the stats model"
   ]
  },
  {
   "cell_type": "code",
   "execution_count": 58,
   "id": "621e0cbf",
   "metadata": {},
   "outputs": [
    {
     "data": {
      "text/html": [
       "<table class=\"simpletable\">\n",
       "<caption>Generalized Linear Model Regression Results</caption>\n",
       "<tr>\n",
       "  <th>Dep. Variable:</th>       <td>Converted</td>    <th>  No. Observations:  </th>  <td>  6468</td> \n",
       "</tr>\n",
       "<tr>\n",
       "  <th>Model:</th>                  <td>GLM</td>       <th>  Df Residuals:      </th>  <td>  6447</td> \n",
       "</tr>\n",
       "<tr>\n",
       "  <th>Model Family:</th>        <td>Binomial</td>     <th>  Df Model:          </th>  <td>    20</td> \n",
       "</tr>\n",
       "<tr>\n",
       "  <th>Link Function:</th>         <td>Logit</td>      <th>  Scale:             </th> <td>  1.0000</td>\n",
       "</tr>\n",
       "<tr>\n",
       "  <th>Method:</th>                <td>IRLS</td>       <th>  Log-Likelihood:    </th> <td> -2591.3</td>\n",
       "</tr>\n",
       "<tr>\n",
       "  <th>Date:</th>            <td>Sun, 16 Jun 2024</td> <th>  Deviance:          </th> <td>  5182.6</td>\n",
       "</tr>\n",
       "<tr>\n",
       "  <th>Time:</th>                <td>15:57:25</td>     <th>  Pearson chi2:      </th> <td>6.80e+03</td>\n",
       "</tr>\n",
       "<tr>\n",
       "  <th>No. Iterations:</th>         <td>22</td>        <th>  Pseudo R-squ. (CS):</th>  <td>0.4103</td> \n",
       "</tr>\n",
       "<tr>\n",
       "  <th>Covariance Type:</th>     <td>nonrobust</td>    <th>                     </th>     <td> </td>   \n",
       "</tr>\n",
       "</table>\n",
       "<table class=\"simpletable\">\n",
       "<tr>\n",
       "                         <td></td>                           <th>coef</th>     <th>std err</th>      <th>z</th>      <th>P>|z|</th>  <th>[0.025</th>    <th>0.975]</th>  \n",
       "</tr>\n",
       "<tr>\n",
       "  <th>const</th>                                          <td>   -0.1712</td> <td>    0.128</td> <td>   -1.336</td> <td> 0.182</td> <td>   -0.422</td> <td>    0.080</td>\n",
       "</tr>\n",
       "<tr>\n",
       "  <th>Do Not Email</th>                                   <td>   -1.0121</td> <td>    0.174</td> <td>   -5.825</td> <td> 0.000</td> <td>   -1.353</td> <td>   -0.672</td>\n",
       "</tr>\n",
       "<tr>\n",
       "  <th>Total Time Spent on Website</th>                    <td>    1.0954</td> <td>    0.040</td> <td>   27.243</td> <td> 0.000</td> <td>    1.017</td> <td>    1.174</td>\n",
       "</tr>\n",
       "<tr>\n",
       "  <th>Lead Origin_Lead Add Form</th>                      <td>    2.2450</td> <td>    0.198</td> <td>   11.364</td> <td> 0.000</td> <td>    1.858</td> <td>    2.632</td>\n",
       "</tr>\n",
       "<tr>\n",
       "  <th>Lead Source_Direct Traffic</th>                     <td>   -1.4820</td> <td>    0.116</td> <td>  -12.737</td> <td> 0.000</td> <td>   -1.710</td> <td>   -1.254</td>\n",
       "</tr>\n",
       "<tr>\n",
       "  <th>Lead Source_Facebook</th>                           <td>   -1.2078</td> <td>    0.512</td> <td>   -2.359</td> <td> 0.018</td> <td>   -2.211</td> <td>   -0.204</td>\n",
       "</tr>\n",
       "<tr>\n",
       "  <th>Lead Source_Google</th>                             <td>   -1.0493</td> <td>    0.111</td> <td>   -9.462</td> <td> 0.000</td> <td>   -1.267</td> <td>   -0.832</td>\n",
       "</tr>\n",
       "<tr>\n",
       "  <th>Lead Source_Organic Search</th>                     <td>   -1.2610</td> <td>    0.135</td> <td>   -9.328</td> <td> 0.000</td> <td>   -1.526</td> <td>   -0.996</td>\n",
       "</tr>\n",
       "<tr>\n",
       "  <th>Lead Source_Referral Sites</th>                     <td>   -1.1547</td> <td>    0.327</td> <td>   -3.527</td> <td> 0.000</td> <td>   -1.796</td> <td>   -0.513</td>\n",
       "</tr>\n",
       "<tr>\n",
       "  <th>Lead Source_Welingak Website</th>                   <td>    1.9011</td> <td>    0.742</td> <td>    2.561</td> <td> 0.010</td> <td>    0.446</td> <td>    3.356</td>\n",
       "</tr>\n",
       "<tr>\n",
       "  <th>Last Activity_Approached upfront</th>               <td>   23.7684</td> <td> 2.71e+04</td> <td>    0.001</td> <td> 0.999</td> <td>-5.31e+04</td> <td> 5.31e+04</td>\n",
       "</tr>\n",
       "<tr>\n",
       "  <th>Last Activity_Email Opened</th>                     <td>    0.5173</td> <td>    0.109</td> <td>    4.733</td> <td> 0.000</td> <td>    0.303</td> <td>    0.732</td>\n",
       "</tr>\n",
       "<tr>\n",
       "  <th>Last Activity_Had a Phone Conversation</th>         <td>    1.4839</td> <td>    0.967</td> <td>    1.535</td> <td> 0.125</td> <td>   -0.411</td> <td>    3.379</td>\n",
       "</tr>\n",
       "<tr>\n",
       "  <th>Last Activity_SMS Sent</th>                         <td>    1.6187</td> <td>    0.109</td> <td>   14.786</td> <td> 0.000</td> <td>    1.404</td> <td>    1.833</td>\n",
       "</tr>\n",
       "<tr>\n",
       "  <th>Current Occupation_Housewife</th>                   <td>   23.8415</td> <td>  2.3e+04</td> <td>    0.001</td> <td> 0.999</td> <td> -4.5e+04</td> <td>  4.5e+04</td>\n",
       "</tr>\n",
       "<tr>\n",
       "  <th>Current Occupation_No Information</th>              <td>   -1.0999</td> <td>    0.087</td> <td>  -12.578</td> <td> 0.000</td> <td>   -1.271</td> <td>   -0.928</td>\n",
       "</tr>\n",
       "<tr>\n",
       "  <th>Current Occupation_Working Professional</th>        <td>    2.5705</td> <td>    0.189</td> <td>   13.575</td> <td> 0.000</td> <td>    2.199</td> <td>    2.942</td>\n",
       "</tr>\n",
       "<tr>\n",
       "  <th>Last Notable Activity_Had a Phone Conversation</th> <td>    2.2946</td> <td>    1.474</td> <td>    1.557</td> <td> 0.120</td> <td>   -0.595</td> <td>    5.184</td>\n",
       "</tr>\n",
       "<tr>\n",
       "  <th>Last Notable Activity_Modified</th>                 <td>   -0.7414</td> <td>    0.090</td> <td>   -8.216</td> <td> 0.000</td> <td>   -0.918</td> <td>   -0.565</td>\n",
       "</tr>\n",
       "<tr>\n",
       "  <th>Last Notable Activity_Olark Chat Conversation</th>  <td>   -0.6943</td> <td>    0.343</td> <td>   -2.027</td> <td> 0.043</td> <td>   -1.366</td> <td>   -0.023</td>\n",
       "</tr>\n",
       "<tr>\n",
       "  <th>Last Notable Activity_Unreachable</th>              <td>    2.2199</td> <td>    0.549</td> <td>    4.045</td> <td> 0.000</td> <td>    1.144</td> <td>    3.295</td>\n",
       "</tr>\n",
       "</table>"
      ],
      "text/plain": [
       "<class 'statsmodels.iolib.summary.Summary'>\n",
       "\"\"\"\n",
       "                 Generalized Linear Model Regression Results                  \n",
       "==============================================================================\n",
       "Dep. Variable:              Converted   No. Observations:                 6468\n",
       "Model:                            GLM   Df Residuals:                     6447\n",
       "Model Family:                Binomial   Df Model:                           20\n",
       "Link Function:                  Logit   Scale:                          1.0000\n",
       "Method:                          IRLS   Log-Likelihood:                -2591.3\n",
       "Date:                Sun, 16 Jun 2024   Deviance:                       5182.6\n",
       "Time:                        15:57:25   Pearson chi2:                 6.80e+03\n",
       "No. Iterations:                    22   Pseudo R-squ. (CS):             0.4103\n",
       "Covariance Type:            nonrobust                                         \n",
       "==================================================================================================================\n",
       "                                                     coef    std err          z      P>|z|      [0.025      0.975]\n",
       "------------------------------------------------------------------------------------------------------------------\n",
       "const                                             -0.1712      0.128     -1.336      0.182      -0.422       0.080\n",
       "Do Not Email                                      -1.0121      0.174     -5.825      0.000      -1.353      -0.672\n",
       "Total Time Spent on Website                        1.0954      0.040     27.243      0.000       1.017       1.174\n",
       "Lead Origin_Lead Add Form                          2.2450      0.198     11.364      0.000       1.858       2.632\n",
       "Lead Source_Direct Traffic                        -1.4820      0.116    -12.737      0.000      -1.710      -1.254\n",
       "Lead Source_Facebook                              -1.2078      0.512     -2.359      0.018      -2.211      -0.204\n",
       "Lead Source_Google                                -1.0493      0.111     -9.462      0.000      -1.267      -0.832\n",
       "Lead Source_Organic Search                        -1.2610      0.135     -9.328      0.000      -1.526      -0.996\n",
       "Lead Source_Referral Sites                        -1.1547      0.327     -3.527      0.000      -1.796      -0.513\n",
       "Lead Source_Welingak Website                       1.9011      0.742      2.561      0.010       0.446       3.356\n",
       "Last Activity_Approached upfront                  23.7684   2.71e+04      0.001      0.999   -5.31e+04    5.31e+04\n",
       "Last Activity_Email Opened                         0.5173      0.109      4.733      0.000       0.303       0.732\n",
       "Last Activity_Had a Phone Conversation             1.4839      0.967      1.535      0.125      -0.411       3.379\n",
       "Last Activity_SMS Sent                             1.6187      0.109     14.786      0.000       1.404       1.833\n",
       "Current Occupation_Housewife                      23.8415    2.3e+04      0.001      0.999    -4.5e+04     4.5e+04\n",
       "Current Occupation_No Information                 -1.0999      0.087    -12.578      0.000      -1.271      -0.928\n",
       "Current Occupation_Working Professional            2.5705      0.189     13.575      0.000       2.199       2.942\n",
       "Last Notable Activity_Had a Phone Conversation     2.2946      1.474      1.557      0.120      -0.595       5.184\n",
       "Last Notable Activity_Modified                    -0.7414      0.090     -8.216      0.000      -0.918      -0.565\n",
       "Last Notable Activity_Olark Chat Conversation     -0.6943      0.343     -2.027      0.043      -1.366      -0.023\n",
       "Last Notable Activity_Unreachable                  2.2199      0.549      4.045      0.000       1.144       3.295\n",
       "==================================================================================================================\n",
       "\"\"\""
      ]
     },
     "execution_count": 58,
     "metadata": {},
     "output_type": "execute_result"
    }
   ],
   "source": [
    "X_train_sm = sm.add_constant(X_train[col])\n",
    "logm2 = sm.GLM(y_train,X_train_sm, family = sm.families.Binomial())\n",
    "res = logm2.fit()\n",
    "res.summary()"
   ]
  },
  {
   "cell_type": "markdown",
   "id": "3eb6e3d9",
   "metadata": {},
   "source": [
    "#### Dropping CurrentOccupation_Housewife &  Last Activity_Approached upfront due to high p value"
   ]
  },
  {
   "cell_type": "code",
   "execution_count": 59,
   "id": "86db2d69",
   "metadata": {},
   "outputs": [],
   "source": [
    "col = col.drop(['Last Activity_Approached upfront','Current Occupation_Housewife'],1)"
   ]
  },
  {
   "cell_type": "markdown",
   "id": "e9e3ef2b",
   "metadata": {},
   "source": [
    "#### reassess Model - Model 3"
   ]
  },
  {
   "cell_type": "code",
   "execution_count": 60,
   "id": "43fc79bb",
   "metadata": {},
   "outputs": [
    {
     "data": {
      "text/html": [
       "<table class=\"simpletable\">\n",
       "<caption>Generalized Linear Model Regression Results</caption>\n",
       "<tr>\n",
       "  <th>Dep. Variable:</th>       <td>Converted</td>    <th>  No. Observations:  </th>  <td>  6468</td> \n",
       "</tr>\n",
       "<tr>\n",
       "  <th>Model:</th>                  <td>GLM</td>       <th>  Df Residuals:      </th>  <td>  6449</td> \n",
       "</tr>\n",
       "<tr>\n",
       "  <th>Model Family:</th>        <td>Binomial</td>     <th>  Df Model:          </th>  <td>    18</td> \n",
       "</tr>\n",
       "<tr>\n",
       "  <th>Link Function:</th>         <td>Logit</td>      <th>  Scale:             </th> <td>  1.0000</td>\n",
       "</tr>\n",
       "<tr>\n",
       "  <th>Method:</th>                <td>IRLS</td>       <th>  Log-Likelihood:    </th> <td> -2602.7</td>\n",
       "</tr>\n",
       "<tr>\n",
       "  <th>Date:</th>            <td>Sun, 16 Jun 2024</td> <th>  Deviance:          </th> <td>  5205.3</td>\n",
       "</tr>\n",
       "<tr>\n",
       "  <th>Time:</th>                <td>15:57:25</td>     <th>  Pearson chi2:      </th> <td>6.82e+03</td>\n",
       "</tr>\n",
       "<tr>\n",
       "  <th>No. Iterations:</th>          <td>7</td>        <th>  Pseudo R-squ. (CS):</th>  <td>0.4082</td> \n",
       "</tr>\n",
       "<tr>\n",
       "  <th>Covariance Type:</th>     <td>nonrobust</td>    <th>                     </th>     <td> </td>   \n",
       "</tr>\n",
       "</table>\n",
       "<table class=\"simpletable\">\n",
       "<tr>\n",
       "                         <td></td>                           <th>coef</th>     <th>std err</th>      <th>z</th>      <th>P>|z|</th>  <th>[0.025</th>    <th>0.975]</th>  \n",
       "</tr>\n",
       "<tr>\n",
       "  <th>const</th>                                          <td>   -0.1545</td> <td>    0.128</td> <td>   -1.210</td> <td> 0.226</td> <td>   -0.405</td> <td>    0.096</td>\n",
       "</tr>\n",
       "<tr>\n",
       "  <th>Do Not Email</th>                                   <td>   -1.0264</td> <td>    0.174</td> <td>   -5.909</td> <td> 0.000</td> <td>   -1.367</td> <td>   -0.686</td>\n",
       "</tr>\n",
       "<tr>\n",
       "  <th>Total Time Spent on Website</th>                    <td>    1.0963</td> <td>    0.040</td> <td>   27.305</td> <td> 0.000</td> <td>    1.018</td> <td>    1.175</td>\n",
       "</tr>\n",
       "<tr>\n",
       "  <th>Lead Origin_Lead Add Form</th>                      <td>    2.2754</td> <td>    0.197</td> <td>   11.560</td> <td> 0.000</td> <td>    1.890</td> <td>    2.661</td>\n",
       "</tr>\n",
       "<tr>\n",
       "  <th>Lead Source_Direct Traffic</th>                     <td>   -1.4812</td> <td>    0.116</td> <td>  -12.755</td> <td> 0.000</td> <td>   -1.709</td> <td>   -1.254</td>\n",
       "</tr>\n",
       "<tr>\n",
       "  <th>Lead Source_Facebook</th>                           <td>   -1.2176</td> <td>    0.512</td> <td>   -2.379</td> <td> 0.017</td> <td>   -2.221</td> <td>   -0.214</td>\n",
       "</tr>\n",
       "<tr>\n",
       "  <th>Lead Source_Google</th>                             <td>   -1.0491</td> <td>    0.111</td> <td>   -9.479</td> <td> 0.000</td> <td>   -1.266</td> <td>   -0.832</td>\n",
       "</tr>\n",
       "<tr>\n",
       "  <th>Lead Source_Organic Search</th>                     <td>   -1.2512</td> <td>    0.135</td> <td>   -9.286</td> <td> 0.000</td> <td>   -1.515</td> <td>   -0.987</td>\n",
       "</tr>\n",
       "<tr>\n",
       "  <th>Lead Source_Referral Sites</th>                     <td>   -1.1649</td> <td>    0.327</td> <td>   -3.560</td> <td> 0.000</td> <td>   -1.806</td> <td>   -0.524</td>\n",
       "</tr>\n",
       "<tr>\n",
       "  <th>Lead Source_Welingak Website</th>                   <td>    1.8630</td> <td>    0.742</td> <td>    2.510</td> <td> 0.012</td> <td>    0.408</td> <td>    3.318</td>\n",
       "</tr>\n",
       "<tr>\n",
       "  <th>Last Activity_Email Opened</th>                     <td>    0.5067</td> <td>    0.109</td> <td>    4.661</td> <td> 0.000</td> <td>    0.294</td> <td>    0.720</td>\n",
       "</tr>\n",
       "<tr>\n",
       "  <th>Last Activity_Had a Phone Conversation</th>         <td>    1.4538</td> <td>    0.968</td> <td>    1.502</td> <td> 0.133</td> <td>   -0.444</td> <td>    3.351</td>\n",
       "</tr>\n",
       "<tr>\n",
       "  <th>Last Activity_SMS Sent</th>                         <td>    1.6003</td> <td>    0.109</td> <td>   14.681</td> <td> 0.000</td> <td>    1.387</td> <td>    1.814</td>\n",
       "</tr>\n",
       "<tr>\n",
       "  <th>Current Occupation_No Information</th>              <td>   -1.1100</td> <td>    0.087</td> <td>  -12.709</td> <td> 0.000</td> <td>   -1.281</td> <td>   -0.939</td>\n",
       "</tr>\n",
       "<tr>\n",
       "  <th>Current Occupation_Working Professional</th>        <td>    2.5569</td> <td>    0.189</td> <td>   13.515</td> <td> 0.000</td> <td>    2.186</td> <td>    2.928</td>\n",
       "</tr>\n",
       "<tr>\n",
       "  <th>Last Notable Activity_Had a Phone Conversation</th> <td>    2.3093</td> <td>    1.475</td> <td>    1.566</td> <td> 0.117</td> <td>   -0.582</td> <td>    5.200</td>\n",
       "</tr>\n",
       "<tr>\n",
       "  <th>Last Notable Activity_Modified</th>                 <td>   -0.7301</td> <td>    0.090</td> <td>   -8.117</td> <td> 0.000</td> <td>   -0.906</td> <td>   -0.554</td>\n",
       "</tr>\n",
       "<tr>\n",
       "  <th>Last Notable Activity_Olark Chat Conversation</th>  <td>   -0.7073</td> <td>    0.343</td> <td>   -2.065</td> <td> 0.039</td> <td>   -1.379</td> <td>   -0.036</td>\n",
       "</tr>\n",
       "<tr>\n",
       "  <th>Last Notable Activity_Unreachable</th>              <td>    2.2063</td> <td>    0.549</td> <td>    4.018</td> <td> 0.000</td> <td>    1.130</td> <td>    3.282</td>\n",
       "</tr>\n",
       "</table>"
      ],
      "text/plain": [
       "<class 'statsmodels.iolib.summary.Summary'>\n",
       "\"\"\"\n",
       "                 Generalized Linear Model Regression Results                  \n",
       "==============================================================================\n",
       "Dep. Variable:              Converted   No. Observations:                 6468\n",
       "Model:                            GLM   Df Residuals:                     6449\n",
       "Model Family:                Binomial   Df Model:                           18\n",
       "Link Function:                  Logit   Scale:                          1.0000\n",
       "Method:                          IRLS   Log-Likelihood:                -2602.7\n",
       "Date:                Sun, 16 Jun 2024   Deviance:                       5205.3\n",
       "Time:                        15:57:25   Pearson chi2:                 6.82e+03\n",
       "No. Iterations:                     7   Pseudo R-squ. (CS):             0.4082\n",
       "Covariance Type:            nonrobust                                         \n",
       "==================================================================================================================\n",
       "                                                     coef    std err          z      P>|z|      [0.025      0.975]\n",
       "------------------------------------------------------------------------------------------------------------------\n",
       "const                                             -0.1545      0.128     -1.210      0.226      -0.405       0.096\n",
       "Do Not Email                                      -1.0264      0.174     -5.909      0.000      -1.367      -0.686\n",
       "Total Time Spent on Website                        1.0963      0.040     27.305      0.000       1.018       1.175\n",
       "Lead Origin_Lead Add Form                          2.2754      0.197     11.560      0.000       1.890       2.661\n",
       "Lead Source_Direct Traffic                        -1.4812      0.116    -12.755      0.000      -1.709      -1.254\n",
       "Lead Source_Facebook                              -1.2176      0.512     -2.379      0.017      -2.221      -0.214\n",
       "Lead Source_Google                                -1.0491      0.111     -9.479      0.000      -1.266      -0.832\n",
       "Lead Source_Organic Search                        -1.2512      0.135     -9.286      0.000      -1.515      -0.987\n",
       "Lead Source_Referral Sites                        -1.1649      0.327     -3.560      0.000      -1.806      -0.524\n",
       "Lead Source_Welingak Website                       1.8630      0.742      2.510      0.012       0.408       3.318\n",
       "Last Activity_Email Opened                         0.5067      0.109      4.661      0.000       0.294       0.720\n",
       "Last Activity_Had a Phone Conversation             1.4538      0.968      1.502      0.133      -0.444       3.351\n",
       "Last Activity_SMS Sent                             1.6003      0.109     14.681      0.000       1.387       1.814\n",
       "Current Occupation_No Information                 -1.1100      0.087    -12.709      0.000      -1.281      -0.939\n",
       "Current Occupation_Working Professional            2.5569      0.189     13.515      0.000       2.186       2.928\n",
       "Last Notable Activity_Had a Phone Conversation     2.3093      1.475      1.566      0.117      -0.582       5.200\n",
       "Last Notable Activity_Modified                    -0.7301      0.090     -8.117      0.000      -0.906      -0.554\n",
       "Last Notable Activity_Olark Chat Conversation     -0.7073      0.343     -2.065      0.039      -1.379      -0.036\n",
       "Last Notable Activity_Unreachable                  2.2063      0.549      4.018      0.000       1.130       3.282\n",
       "==================================================================================================================\n",
       "\"\"\""
      ]
     },
     "execution_count": 60,
     "metadata": {},
     "output_type": "execute_result"
    }
   ],
   "source": [
    "X_train_sm = sm.add_constant(X_train[col])\n",
    "logm2 = sm.GLM(y_train,X_train_sm, family = sm.families.Binomial())\n",
    "res = logm2.fit()\n",
    "res.summary()"
   ]
  },
  {
   "cell_type": "markdown",
   "id": "77089694",
   "metadata": {},
   "source": [
    "#### Drop Column Last Activity_Had a Phone Conversation due to high p value"
   ]
  },
  {
   "cell_type": "code",
   "execution_count": 61,
   "id": "9e5dd2fa",
   "metadata": {},
   "outputs": [],
   "source": [
    "col = col.drop('Last Activity_Had a Phone Conversation',1)"
   ]
  },
  {
   "cell_type": "markdown",
   "id": "c29a93e2",
   "metadata": {},
   "source": [
    "#### reassess - model 4"
   ]
  },
  {
   "cell_type": "code",
   "execution_count": 62,
   "id": "b1a8fa8c",
   "metadata": {},
   "outputs": [
    {
     "data": {
      "text/html": [
       "<table class=\"simpletable\">\n",
       "<caption>Generalized Linear Model Regression Results</caption>\n",
       "<tr>\n",
       "  <th>Dep. Variable:</th>       <td>Converted</td>    <th>  No. Observations:  </th>  <td>  6468</td> \n",
       "</tr>\n",
       "<tr>\n",
       "  <th>Model:</th>                  <td>GLM</td>       <th>  Df Residuals:      </th>  <td>  6450</td> \n",
       "</tr>\n",
       "<tr>\n",
       "  <th>Model Family:</th>        <td>Binomial</td>     <th>  Df Model:          </th>  <td>    17</td> \n",
       "</tr>\n",
       "<tr>\n",
       "  <th>Link Function:</th>         <td>Logit</td>      <th>  Scale:             </th> <td>  1.0000</td>\n",
       "</tr>\n",
       "<tr>\n",
       "  <th>Method:</th>                <td>IRLS</td>       <th>  Log-Likelihood:    </th> <td> -2603.9</td>\n",
       "</tr>\n",
       "<tr>\n",
       "  <th>Date:</th>            <td>Sun, 16 Jun 2024</td> <th>  Deviance:          </th> <td>  5207.7</td>\n",
       "</tr>\n",
       "<tr>\n",
       "  <th>Time:</th>                <td>15:57:25</td>     <th>  Pearson chi2:      </th> <td>6.57e+03</td>\n",
       "</tr>\n",
       "<tr>\n",
       "  <th>No. Iterations:</th>          <td>7</td>        <th>  Pseudo R-squ. (CS):</th>  <td>0.4080</td> \n",
       "</tr>\n",
       "<tr>\n",
       "  <th>Covariance Type:</th>     <td>nonrobust</td>    <th>                     </th>     <td> </td>   \n",
       "</tr>\n",
       "</table>\n",
       "<table class=\"simpletable\">\n",
       "<tr>\n",
       "                         <td></td>                           <th>coef</th>     <th>std err</th>      <th>z</th>      <th>P>|z|</th>  <th>[0.025</th>    <th>0.975]</th>  \n",
       "</tr>\n",
       "<tr>\n",
       "  <th>const</th>                                          <td>   -0.1488</td> <td>    0.128</td> <td>   -1.167</td> <td> 0.243</td> <td>   -0.399</td> <td>    0.101</td>\n",
       "</tr>\n",
       "<tr>\n",
       "  <th>Do Not Email</th>                                   <td>   -1.0307</td> <td>    0.174</td> <td>   -5.931</td> <td> 0.000</td> <td>   -1.371</td> <td>   -0.690</td>\n",
       "</tr>\n",
       "<tr>\n",
       "  <th>Total Time Spent on Website</th>                    <td>    1.0973</td> <td>    0.040</td> <td>   27.334</td> <td> 0.000</td> <td>    1.019</td> <td>    1.176</td>\n",
       "</tr>\n",
       "<tr>\n",
       "  <th>Lead Origin_Lead Add Form</th>                      <td>    2.2847</td> <td>    0.197</td> <td>   11.608</td> <td> 0.000</td> <td>    1.899</td> <td>    2.670</td>\n",
       "</tr>\n",
       "<tr>\n",
       "  <th>Lead Source_Direct Traffic</th>                     <td>   -1.4797</td> <td>    0.116</td> <td>  -12.746</td> <td> 0.000</td> <td>   -1.707</td> <td>   -1.252</td>\n",
       "</tr>\n",
       "<tr>\n",
       "  <th>Lead Source_Facebook</th>                           <td>   -1.2197</td> <td>    0.512</td> <td>   -2.382</td> <td> 0.017</td> <td>   -2.223</td> <td>   -0.216</td>\n",
       "</tr>\n",
       "<tr>\n",
       "  <th>Lead Source_Google</th>                             <td>   -1.0493</td> <td>    0.111</td> <td>   -9.482</td> <td> 0.000</td> <td>   -1.266</td> <td>   -0.832</td>\n",
       "</tr>\n",
       "<tr>\n",
       "  <th>Lead Source_Organic Search</th>                     <td>   -1.2460</td> <td>    0.135</td> <td>   -9.255</td> <td> 0.000</td> <td>   -1.510</td> <td>   -0.982</td>\n",
       "</tr>\n",
       "<tr>\n",
       "  <th>Lead Source_Referral Sites</th>                     <td>   -1.1389</td> <td>    0.324</td> <td>   -3.515</td> <td> 0.000</td> <td>   -1.774</td> <td>   -0.504</td>\n",
       "</tr>\n",
       "<tr>\n",
       "  <th>Lead Source_Welingak Website</th>                   <td>    1.8537</td> <td>    0.742</td> <td>    2.498</td> <td> 0.013</td> <td>    0.399</td> <td>    3.308</td>\n",
       "</tr>\n",
       "<tr>\n",
       "  <th>Last Activity_Email Opened</th>                     <td>    0.4986</td> <td>    0.109</td> <td>    4.595</td> <td> 0.000</td> <td>    0.286</td> <td>    0.711</td>\n",
       "</tr>\n",
       "<tr>\n",
       "  <th>Last Activity_SMS Sent</th>                         <td>    1.5925</td> <td>    0.109</td> <td>   14.636</td> <td> 0.000</td> <td>    1.379</td> <td>    1.806</td>\n",
       "</tr>\n",
       "<tr>\n",
       "  <th>Current Occupation_No Information</th>              <td>   -1.1105</td> <td>    0.087</td> <td>  -12.717</td> <td> 0.000</td> <td>   -1.282</td> <td>   -0.939</td>\n",
       "</tr>\n",
       "<tr>\n",
       "  <th>Current Occupation_Working Professional</th>        <td>    2.5656</td> <td>    0.189</td> <td>   13.571</td> <td> 0.000</td> <td>    2.195</td> <td>    2.936</td>\n",
       "</tr>\n",
       "<tr>\n",
       "  <th>Last Notable Activity_Had a Phone Conversation</th> <td>    3.7571</td> <td>    1.117</td> <td>    3.365</td> <td> 0.001</td> <td>    1.569</td> <td>    5.945</td>\n",
       "</tr>\n",
       "<tr>\n",
       "  <th>Last Notable Activity_Modified</th>                 <td>   -0.7264</td> <td>    0.090</td> <td>   -8.081</td> <td> 0.000</td> <td>   -0.903</td> <td>   -0.550</td>\n",
       "</tr>\n",
       "<tr>\n",
       "  <th>Last Notable Activity_Olark Chat Conversation</th>  <td>   -0.7133</td> <td>    0.343</td> <td>   -2.082</td> <td> 0.037</td> <td>   -1.385</td> <td>   -0.042</td>\n",
       "</tr>\n",
       "<tr>\n",
       "  <th>Last Notable Activity_Unreachable</th>              <td>    2.1982</td> <td>    0.549</td> <td>    4.003</td> <td> 0.000</td> <td>    1.122</td> <td>    3.274</td>\n",
       "</tr>\n",
       "</table>"
      ],
      "text/plain": [
       "<class 'statsmodels.iolib.summary.Summary'>\n",
       "\"\"\"\n",
       "                 Generalized Linear Model Regression Results                  \n",
       "==============================================================================\n",
       "Dep. Variable:              Converted   No. Observations:                 6468\n",
       "Model:                            GLM   Df Residuals:                     6450\n",
       "Model Family:                Binomial   Df Model:                           17\n",
       "Link Function:                  Logit   Scale:                          1.0000\n",
       "Method:                          IRLS   Log-Likelihood:                -2603.9\n",
       "Date:                Sun, 16 Jun 2024   Deviance:                       5207.7\n",
       "Time:                        15:57:25   Pearson chi2:                 6.57e+03\n",
       "No. Iterations:                     7   Pseudo R-squ. (CS):             0.4080\n",
       "Covariance Type:            nonrobust                                         \n",
       "==================================================================================================================\n",
       "                                                     coef    std err          z      P>|z|      [0.025      0.975]\n",
       "------------------------------------------------------------------------------------------------------------------\n",
       "const                                             -0.1488      0.128     -1.167      0.243      -0.399       0.101\n",
       "Do Not Email                                      -1.0307      0.174     -5.931      0.000      -1.371      -0.690\n",
       "Total Time Spent on Website                        1.0973      0.040     27.334      0.000       1.019       1.176\n",
       "Lead Origin_Lead Add Form                          2.2847      0.197     11.608      0.000       1.899       2.670\n",
       "Lead Source_Direct Traffic                        -1.4797      0.116    -12.746      0.000      -1.707      -1.252\n",
       "Lead Source_Facebook                              -1.2197      0.512     -2.382      0.017      -2.223      -0.216\n",
       "Lead Source_Google                                -1.0493      0.111     -9.482      0.000      -1.266      -0.832\n",
       "Lead Source_Organic Search                        -1.2460      0.135     -9.255      0.000      -1.510      -0.982\n",
       "Lead Source_Referral Sites                        -1.1389      0.324     -3.515      0.000      -1.774      -0.504\n",
       "Lead Source_Welingak Website                       1.8537      0.742      2.498      0.013       0.399       3.308\n",
       "Last Activity_Email Opened                         0.4986      0.109      4.595      0.000       0.286       0.711\n",
       "Last Activity_SMS Sent                             1.5925      0.109     14.636      0.000       1.379       1.806\n",
       "Current Occupation_No Information                 -1.1105      0.087    -12.717      0.000      -1.282      -0.939\n",
       "Current Occupation_Working Professional            2.5656      0.189     13.571      0.000       2.195       2.936\n",
       "Last Notable Activity_Had a Phone Conversation     3.7571      1.117      3.365      0.001       1.569       5.945\n",
       "Last Notable Activity_Modified                    -0.7264      0.090     -8.081      0.000      -0.903      -0.550\n",
       "Last Notable Activity_Olark Chat Conversation     -0.7133      0.343     -2.082      0.037      -1.385      -0.042\n",
       "Last Notable Activity_Unreachable                  2.1982      0.549      4.003      0.000       1.122       3.274\n",
       "==================================================================================================================\n",
       "\"\"\""
      ]
     },
     "execution_count": 62,
     "metadata": {},
     "output_type": "execute_result"
    }
   ],
   "source": [
    "X_train_sm = sm.add_constant(X_train[col])\n",
    "logm2 = sm.GLM(y_train,X_train_sm, family = sm.families.Binomial())\n",
    "res = logm2.fit()\n",
    "res.summary()"
   ]
  },
  {
   "cell_type": "markdown",
   "id": "b682fb96",
   "metadata": {},
   "source": [
    "#### The p values look ok now so proceeding to prediction"
   ]
  },
  {
   "cell_type": "code",
   "execution_count": 63,
   "id": "d8cfafcb",
   "metadata": {},
   "outputs": [
    {
     "data": {
      "text/plain": [
       "1871    0.349370\n",
       "6795    0.245321\n",
       "3516    0.399158\n",
       "8105    0.869036\n",
       "3934    0.206163\n",
       "4844    0.989787\n",
       "3297    0.154834\n",
       "8071    0.975594\n",
       "987     0.078728\n",
       "7423    0.928314\n",
       "dtype: float64"
      ]
     },
     "execution_count": 63,
     "metadata": {},
     "output_type": "execute_result"
    }
   ],
   "source": [
    "# Getting the predicted values on the train set\n",
    "y_train_pred = res.predict(X_train_sm)\n",
    "y_train_pred[:10]"
   ]
  },
  {
   "cell_type": "code",
   "execution_count": 64,
   "id": "e6839688",
   "metadata": {},
   "outputs": [
    {
     "data": {
      "text/plain": [
       "array([0.34937014, 0.24532112, 0.39915785, 0.86903607, 0.2061632 ,\n",
       "       0.98978655, 0.15483385, 0.97559358, 0.07872777, 0.92831447])"
      ]
     },
     "execution_count": 64,
     "metadata": {},
     "output_type": "execute_result"
    }
   ],
   "source": [
    "y_train_pred = y_train_pred.values.reshape(-1)\n",
    "y_train_pred[:10]"
   ]
  },
  {
   "cell_type": "markdown",
   "id": "153a2a2d",
   "metadata": {},
   "source": [
    "#### Creating a dataframe with the actual coverted flag and the predicted probabilities"
   ]
  },
  {
   "cell_type": "code",
   "execution_count": 65,
   "id": "a464442c",
   "metadata": {},
   "outputs": [
    {
     "data": {
      "text/html": [
       "<div>\n",
       "<style scoped>\n",
       "    .dataframe tbody tr th:only-of-type {\n",
       "        vertical-align: middle;\n",
       "    }\n",
       "\n",
       "    .dataframe tbody tr th {\n",
       "        vertical-align: top;\n",
       "    }\n",
       "\n",
       "    .dataframe thead th {\n",
       "        text-align: right;\n",
       "    }\n",
       "</style>\n",
       "<table border=\"1\" class=\"dataframe\">\n",
       "  <thead>\n",
       "    <tr style=\"text-align: right;\">\n",
       "      <th></th>\n",
       "      <th>Converted</th>\n",
       "      <th>Converted_Prob</th>\n",
       "      <th>Index</th>\n",
       "      <th>Pred_Score</th>\n",
       "    </tr>\n",
       "  </thead>\n",
       "  <tbody>\n",
       "    <tr>\n",
       "      <th>0</th>\n",
       "      <td>0</td>\n",
       "      <td>0.349370</td>\n",
       "      <td>1871</td>\n",
       "      <td>34.937014</td>\n",
       "    </tr>\n",
       "    <tr>\n",
       "      <th>1</th>\n",
       "      <td>0</td>\n",
       "      <td>0.245321</td>\n",
       "      <td>6795</td>\n",
       "      <td>24.532112</td>\n",
       "    </tr>\n",
       "    <tr>\n",
       "      <th>2</th>\n",
       "      <td>0</td>\n",
       "      <td>0.399158</td>\n",
       "      <td>3516</td>\n",
       "      <td>39.915785</td>\n",
       "    </tr>\n",
       "    <tr>\n",
       "      <th>3</th>\n",
       "      <td>0</td>\n",
       "      <td>0.869036</td>\n",
       "      <td>8105</td>\n",
       "      <td>86.903607</td>\n",
       "    </tr>\n",
       "    <tr>\n",
       "      <th>4</th>\n",
       "      <td>0</td>\n",
       "      <td>0.206163</td>\n",
       "      <td>3934</td>\n",
       "      <td>20.616320</td>\n",
       "    </tr>\n",
       "  </tbody>\n",
       "</table>\n",
       "</div>"
      ],
      "text/plain": [
       "   Converted  Converted_Prob  Index  Pred_Score\n",
       "0          0        0.349370   1871   34.937014\n",
       "1          0        0.245321   6795   24.532112\n",
       "2          0        0.399158   3516   39.915785\n",
       "3          0        0.869036   8105   86.903607\n",
       "4          0        0.206163   3934   20.616320"
      ]
     },
     "execution_count": 65,
     "metadata": {},
     "output_type": "execute_result"
    }
   ],
   "source": [
    "y_train_pred_final = pd.DataFrame({'Converted':y_train.values, 'Converted_Prob':y_train_pred})\n",
    "y_train_pred_final['Index'] = y_train.index\n",
    "y_train_pred_final['Pred_Score'] = y_train_pred_final['Converted_Prob']* 100\n",
    "y_train_pred_final.head()"
   ]
  },
  {
   "cell_type": "markdown",
   "id": "828d20d0",
   "metadata": {},
   "source": [
    "#### Creating new column 'predicted' with 1 if Converted_Prob > 0.5 else 0"
   ]
  },
  {
   "cell_type": "code",
   "execution_count": 66,
   "id": "5407be9d",
   "metadata": {},
   "outputs": [
    {
     "data": {
      "text/html": [
       "<div>\n",
       "<style scoped>\n",
       "    .dataframe tbody tr th:only-of-type {\n",
       "        vertical-align: middle;\n",
       "    }\n",
       "\n",
       "    .dataframe tbody tr th {\n",
       "        vertical-align: top;\n",
       "    }\n",
       "\n",
       "    .dataframe thead th {\n",
       "        text-align: right;\n",
       "    }\n",
       "</style>\n",
       "<table border=\"1\" class=\"dataframe\">\n",
       "  <thead>\n",
       "    <tr style=\"text-align: right;\">\n",
       "      <th></th>\n",
       "      <th>Converted</th>\n",
       "      <th>Converted_Prob</th>\n",
       "      <th>Index</th>\n",
       "      <th>Pred_Score</th>\n",
       "      <th>predicted</th>\n",
       "    </tr>\n",
       "  </thead>\n",
       "  <tbody>\n",
       "    <tr>\n",
       "      <th>0</th>\n",
       "      <td>0</td>\n",
       "      <td>0.349370</td>\n",
       "      <td>1871</td>\n",
       "      <td>34.937014</td>\n",
       "      <td>0</td>\n",
       "    </tr>\n",
       "    <tr>\n",
       "      <th>1</th>\n",
       "      <td>0</td>\n",
       "      <td>0.245321</td>\n",
       "      <td>6795</td>\n",
       "      <td>24.532112</td>\n",
       "      <td>0</td>\n",
       "    </tr>\n",
       "    <tr>\n",
       "      <th>2</th>\n",
       "      <td>0</td>\n",
       "      <td>0.399158</td>\n",
       "      <td>3516</td>\n",
       "      <td>39.915785</td>\n",
       "      <td>0</td>\n",
       "    </tr>\n",
       "    <tr>\n",
       "      <th>3</th>\n",
       "      <td>0</td>\n",
       "      <td>0.869036</td>\n",
       "      <td>8105</td>\n",
       "      <td>86.903607</td>\n",
       "      <td>1</td>\n",
       "    </tr>\n",
       "    <tr>\n",
       "      <th>4</th>\n",
       "      <td>0</td>\n",
       "      <td>0.206163</td>\n",
       "      <td>3934</td>\n",
       "      <td>20.616320</td>\n",
       "      <td>0</td>\n",
       "    </tr>\n",
       "  </tbody>\n",
       "</table>\n",
       "</div>"
      ],
      "text/plain": [
       "   Converted  Converted_Prob  Index  Pred_Score  predicted\n",
       "0          0        0.349370   1871   34.937014          0\n",
       "1          0        0.245321   6795   24.532112          0\n",
       "2          0        0.399158   3516   39.915785          0\n",
       "3          0        0.869036   8105   86.903607          1\n",
       "4          0        0.206163   3934   20.616320          0"
      ]
     },
     "execution_count": 66,
     "metadata": {},
     "output_type": "execute_result"
    }
   ],
   "source": [
    "y_train_pred_final['predicted'] = y_train_pred_final.Converted_Prob.map(lambda x: 1 if x > 0.5 else 0)\n",
    "\n",
    "# Let's see the head\n",
    "y_train_pred_final.head()"
   ]
  },
  {
   "cell_type": "code",
   "execution_count": 67,
   "id": "d40c5081",
   "metadata": {},
   "outputs": [],
   "source": [
    "from sklearn import metrics"
   ]
  },
  {
   "cell_type": "code",
   "execution_count": 68,
   "id": "77b084e6",
   "metadata": {},
   "outputs": [
    {
     "name": "stdout",
     "output_type": "stream",
     "text": [
      "[[3571  431]\n",
      " [ 749 1717]]\n"
     ]
    }
   ],
   "source": [
    "# Confusion matrix \n",
    "# Predicted /         not_Converted   Converted\n",
    "# Actual\n",
    "# not_Converted        \n",
    "# converted            \n",
    "confusion = metrics.confusion_matrix(y_train_pred_final.Converted, y_train_pred_final.predicted )\n",
    "print(confusion)"
   ]
  },
  {
   "cell_type": "code",
   "execution_count": 69,
   "id": "36042f79",
   "metadata": {},
   "outputs": [
    {
     "name": "stdout",
     "output_type": "stream",
     "text": [
      "0.8175633889919605\n"
     ]
    }
   ],
   "source": [
    "# Let's check the overall accuracy.\n",
    "print(metrics.accuracy_score(y_train_pred_final.Converted, y_train_pred_final.predicted))"
   ]
  },
  {
   "cell_type": "markdown",
   "id": "259b101f",
   "metadata": {},
   "source": [
    "#### Overall accuracy is 81 % , so look fine."
   ]
  },
  {
   "cell_type": "markdown",
   "id": "8883f59d",
   "metadata": {},
   "source": [
    "### Checking VIFs"
   ]
  },
  {
   "cell_type": "code",
   "execution_count": 70,
   "id": "0c45d730",
   "metadata": {},
   "outputs": [],
   "source": [
    "# Check for the VIF values of the feature variables. \n",
    "from statsmodels.stats.outliers_influence import variance_inflation_factor"
   ]
  },
  {
   "cell_type": "code",
   "execution_count": 71,
   "id": "f5e02e1a",
   "metadata": {},
   "outputs": [
    {
     "data": {
      "text/html": [
       "<div>\n",
       "<style scoped>\n",
       "    .dataframe tbody tr th:only-of-type {\n",
       "        vertical-align: middle;\n",
       "    }\n",
       "\n",
       "    .dataframe tbody tr th {\n",
       "        vertical-align: top;\n",
       "    }\n",
       "\n",
       "    .dataframe thead th {\n",
       "        text-align: right;\n",
       "    }\n",
       "</style>\n",
       "<table border=\"1\" class=\"dataframe\">\n",
       "  <thead>\n",
       "    <tr style=\"text-align: right;\">\n",
       "      <th></th>\n",
       "      <th>Features</th>\n",
       "      <th>VIF</th>\n",
       "    </tr>\n",
       "  </thead>\n",
       "  <tbody>\n",
       "    <tr>\n",
       "      <th>5</th>\n",
       "      <td>Lead Source_Google</td>\n",
       "      <td>2.25</td>\n",
       "    </tr>\n",
       "    <tr>\n",
       "      <th>9</th>\n",
       "      <td>Last Activity_Email Opened</td>\n",
       "      <td>2.14</td>\n",
       "    </tr>\n",
       "    <tr>\n",
       "      <th>3</th>\n",
       "      <td>Lead Source_Direct Traffic</td>\n",
       "      <td>2.03</td>\n",
       "    </tr>\n",
       "    <tr>\n",
       "      <th>10</th>\n",
       "      <td>Last Activity_SMS Sent</td>\n",
       "      <td>1.93</td>\n",
       "    </tr>\n",
       "    <tr>\n",
       "      <th>14</th>\n",
       "      <td>Last Notable Activity_Modified</td>\n",
       "      <td>1.73</td>\n",
       "    </tr>\n",
       "    <tr>\n",
       "      <th>2</th>\n",
       "      <td>Lead Origin_Lead Add Form</td>\n",
       "      <td>1.62</td>\n",
       "    </tr>\n",
       "    <tr>\n",
       "      <th>11</th>\n",
       "      <td>Current Occupation_No Information</td>\n",
       "      <td>1.52</td>\n",
       "    </tr>\n",
       "    <tr>\n",
       "      <th>6</th>\n",
       "      <td>Lead Source_Organic Search</td>\n",
       "      <td>1.46</td>\n",
       "    </tr>\n",
       "    <tr>\n",
       "      <th>8</th>\n",
       "      <td>Lead Source_Welingak Website</td>\n",
       "      <td>1.24</td>\n",
       "    </tr>\n",
       "    <tr>\n",
       "      <th>1</th>\n",
       "      <td>Total Time Spent on Website</td>\n",
       "      <td>1.20</td>\n",
       "    </tr>\n",
       "    <tr>\n",
       "      <th>12</th>\n",
       "      <td>Current Occupation_Working Professional</td>\n",
       "      <td>1.19</td>\n",
       "    </tr>\n",
       "    <tr>\n",
       "      <th>0</th>\n",
       "      <td>Do Not Email</td>\n",
       "      <td>1.18</td>\n",
       "    </tr>\n",
       "    <tr>\n",
       "      <th>7</th>\n",
       "      <td>Lead Source_Referral Sites</td>\n",
       "      <td>1.05</td>\n",
       "    </tr>\n",
       "    <tr>\n",
       "      <th>15</th>\n",
       "      <td>Last Notable Activity_Olark Chat Conversation</td>\n",
       "      <td>1.05</td>\n",
       "    </tr>\n",
       "    <tr>\n",
       "      <th>4</th>\n",
       "      <td>Lead Source_Facebook</td>\n",
       "      <td>1.02</td>\n",
       "    </tr>\n",
       "    <tr>\n",
       "      <th>16</th>\n",
       "      <td>Last Notable Activity_Unreachable</td>\n",
       "      <td>1.02</td>\n",
       "    </tr>\n",
       "    <tr>\n",
       "      <th>13</th>\n",
       "      <td>Last Notable Activity_Had a Phone Conversation</td>\n",
       "      <td>1.01</td>\n",
       "    </tr>\n",
       "  </tbody>\n",
       "</table>\n",
       "</div>"
      ],
      "text/plain": [
       "                                          Features   VIF\n",
       "5                               Lead Source_Google  2.25\n",
       "9                       Last Activity_Email Opened  2.14\n",
       "3                       Lead Source_Direct Traffic  2.03\n",
       "10                          Last Activity_SMS Sent  1.93\n",
       "14                  Last Notable Activity_Modified  1.73\n",
       "2                        Lead Origin_Lead Add Form  1.62\n",
       "11               Current Occupation_No Information  1.52\n",
       "6                       Lead Source_Organic Search  1.46\n",
       "8                     Lead Source_Welingak Website  1.24\n",
       "1                      Total Time Spent on Website  1.20\n",
       "12         Current Occupation_Working Professional  1.19\n",
       "0                                     Do Not Email  1.18\n",
       "7                       Lead Source_Referral Sites  1.05\n",
       "15   Last Notable Activity_Olark Chat Conversation  1.05\n",
       "4                             Lead Source_Facebook  1.02\n",
       "16               Last Notable Activity_Unreachable  1.02\n",
       "13  Last Notable Activity_Had a Phone Conversation  1.01"
      ]
     },
     "execution_count": 71,
     "metadata": {},
     "output_type": "execute_result"
    }
   ],
   "source": [
    "# Create a dataframe that will contain the names of all the feature variables and their respective VIFs\n",
    "vif = pd.DataFrame()\n",
    "vif['Features'] = X_train[col].columns\n",
    "vif['VIF'] = [variance_inflation_factor(X_train[col].values, i) for i in range(X_train[col].shape[1])]\n",
    "vif['VIF'] = round(vif['VIF'], 2)\n",
    "vif = vif.sort_values(by = \"VIF\", ascending = False)\n",
    "vif"
   ]
  },
  {
   "cell_type": "markdown",
   "id": "5bc3894d",
   "metadata": {},
   "source": [
    "#### The VIFs are all within the range and so we can proceed with the next steps."
   ]
  },
  {
   "cell_type": "markdown",
   "id": "6070e62b",
   "metadata": {},
   "source": [
    "### Metrics beyond accuracy"
   ]
  },
  {
   "cell_type": "code",
   "execution_count": 72,
   "id": "79cb2853",
   "metadata": {},
   "outputs": [],
   "source": [
    "TP = confusion[1,1] # true positive \n",
    "TN = confusion[0,0] # true negatives\n",
    "FP = confusion[0,1] # false positives\n",
    "FN = confusion[1,0] # false negatives"
   ]
  },
  {
   "cell_type": "code",
   "execution_count": 73,
   "id": "9ec09cbe",
   "metadata": {},
   "outputs": [
    {
     "data": {
      "text/plain": [
       "0.6962692619626926"
      ]
     },
     "execution_count": 73,
     "metadata": {},
     "output_type": "execute_result"
    }
   ],
   "source": [
    "# Sensitivity of our logistic regression model\n",
    "TP / float(TP+FN)"
   ]
  },
  {
   "cell_type": "code",
   "execution_count": 74,
   "id": "4c0eb844",
   "metadata": {},
   "outputs": [
    {
     "data": {
      "text/plain": [
       "0.892303848075962"
      ]
     },
     "execution_count": 74,
     "metadata": {},
     "output_type": "execute_result"
    }
   ],
   "source": [
    "# Specificity of our logistic regression model\n",
    "TN / float(TN+FP)"
   ]
  },
  {
   "cell_type": "code",
   "execution_count": 75,
   "id": "5e748f94",
   "metadata": {},
   "outputs": [
    {
     "name": "stdout",
     "output_type": "stream",
     "text": [
      "0.10769615192403797\n"
     ]
    }
   ],
   "source": [
    "# Calculate false postive rate - predicting converted when lead has not\n",
    "print(FP/ float(TN+FP))"
   ]
  },
  {
   "cell_type": "code",
   "execution_count": 76,
   "id": "b28e9e94",
   "metadata": {},
   "outputs": [
    {
     "name": "stdout",
     "output_type": "stream",
     "text": [
      "0.7993482309124768\n"
     ]
    }
   ],
   "source": [
    "# positive predictive value \n",
    "print (TP / float(TP+FP))"
   ]
  },
  {
   "cell_type": "code",
   "execution_count": 77,
   "id": "1b82ab46",
   "metadata": {},
   "outputs": [
    {
     "name": "stdout",
     "output_type": "stream",
     "text": [
      "0.8266203703703704\n"
     ]
    }
   ],
   "source": [
    "# Negative predictive value\n",
    "print (TN / float(TN+ FN))"
   ]
  },
  {
   "cell_type": "markdown",
   "id": "82cd5c94",
   "metadata": {},
   "source": [
    "## Step 9: Plotting the ROC Curv"
   ]
  },
  {
   "cell_type": "markdown",
   "id": "1fce025b",
   "metadata": {},
   "source": [
    "1) It shows the tradeoff between sensitivity and specificity (any increase in sensitivity will be accompanied by a decrease in specificity).\n",
    "2) The closer the curve follows the left-hand border and then the top border of the ROC space, the more accurate the test.\n",
    "3) The closer the curve comes to the 45-degree diagonal of the ROC space, the less accurate the test."
   ]
  },
  {
   "cell_type": "code",
   "execution_count": 78,
   "id": "c8ae3416",
   "metadata": {},
   "outputs": [],
   "source": [
    "## Define function to draw the ROC curve. \n",
    "def draw_roc( actual, probs ):\n",
    "    fpr, tpr, thresholds = metrics.roc_curve( actual, probs,\n",
    "                                              drop_intermediate = False )\n",
    "    auc_score = metrics.roc_auc_score( actual, probs )\n",
    "    plt.figure(figsize=(5, 5))\n",
    "    plt.plot( fpr, tpr, label='ROC curve (area = %0.2f)' % auc_score )\n",
    "    plt.plot([0, 1], [0, 1], 'k--')\n",
    "    plt.xlim([0.0, 1.0])\n",
    "    plt.ylim([0.0, 1.05])\n",
    "    plt.xlabel('False Positive Rate or [1 - True Negative Rate]')\n",
    "    plt.ylabel('True Positive Rate')\n",
    "    plt.title('Receiver operating characteristic example')\n",
    "    plt.legend(loc=\"lower right\")\n",
    "    plt.show()\n",
    "\n",
    "    return None"
   ]
  },
  {
   "cell_type": "code",
   "execution_count": 79,
   "id": "46a60ab1",
   "metadata": {},
   "outputs": [],
   "source": [
    "fpr, tpr, thresholds = metrics.roc_curve( y_train_pred_final.Converted, y_train_pred_final.Converted_Prob, drop_intermediate = False )"
   ]
  },
  {
   "cell_type": "code",
   "execution_count": 80,
   "id": "273a9767",
   "metadata": {},
   "outputs": [
    {
     "data": {
      "image/png": "[encoded data removed]",
      "text/plain": [
       "<Figure size 360x360 with 1 Axes>"
      ]
     },
     "metadata": {
      "needs_background": "light"
     },
     "output_type": "display_data"
    }
   ],
   "source": [
    "draw_roc(y_train_pred_final.Converted, y_train_pred_final.Converted_Prob)"
   ]
  },
  {
   "cell_type": "markdown",
   "id": "9eb8d467",
   "metadata": {},
   "source": [
    "## Step 10: Finding Optimal Cutoff Point"
   ]
  },
  {
   "cell_type": "code",
   "execution_count": 81,
   "id": "7538a21d",
   "metadata": {},
   "outputs": [
    {
     "data": {
      "text/html": [
       "<div>\n",
       "<style scoped>\n",
       "    .dataframe tbody tr th:only-of-type {\n",
       "        vertical-align: middle;\n",
       "    }\n",
       "\n",
       "    .dataframe tbody tr th {\n",
       "        vertical-align: top;\n",
       "    }\n",
       "\n",
       "    .dataframe thead th {\n",
       "        text-align: right;\n",
       "    }\n",
       "</style>\n",
       "<table border=\"1\" class=\"dataframe\">\n",
       "  <thead>\n",
       "    <tr style=\"text-align: right;\">\n",
       "      <th></th>\n",
       "      <th>Converted</th>\n",
       "      <th>Converted_Prob</th>\n",
       "      <th>Index</th>\n",
       "      <th>Pred_Score</th>\n",
       "      <th>predicted</th>\n",
       "      <th>0.0</th>\n",
       "      <th>0.1</th>\n",
       "      <th>0.2</th>\n",
       "      <th>0.3</th>\n",
       "      <th>0.4</th>\n",
       "      <th>0.5</th>\n",
       "      <th>0.6</th>\n",
       "      <th>0.7</th>\n",
       "      <th>0.8</th>\n",
       "      <th>0.9</th>\n",
       "    </tr>\n",
       "  </thead>\n",
       "  <tbody>\n",
       "    <tr>\n",
       "      <th>0</th>\n",
       "      <td>0</td>\n",
       "      <td>0.349370</td>\n",
       "      <td>1871</td>\n",
       "      <td>34.937014</td>\n",
       "      <td>0</td>\n",
       "      <td>1</td>\n",
       "      <td>1</td>\n",
       "      <td>1</td>\n",
       "      <td>1</td>\n",
       "      <td>0</td>\n",
       "      <td>0</td>\n",
       "      <td>0</td>\n",
       "      <td>0</td>\n",
       "      <td>0</td>\n",
       "      <td>0</td>\n",
       "    </tr>\n",
       "    <tr>\n",
       "      <th>1</th>\n",
       "      <td>0</td>\n",
       "      <td>0.245321</td>\n",
       "      <td>6795</td>\n",
       "      <td>24.532112</td>\n",
       "      <td>0</td>\n",
       "      <td>1</td>\n",
       "      <td>1</td>\n",
       "      <td>1</td>\n",
       "      <td>0</td>\n",
       "      <td>0</td>\n",
       "      <td>0</td>\n",
       "      <td>0</td>\n",
       "      <td>0</td>\n",
       "      <td>0</td>\n",
       "      <td>0</td>\n",
       "    </tr>\n",
       "    <tr>\n",
       "      <th>2</th>\n",
       "      <td>0</td>\n",
       "      <td>0.399158</td>\n",
       "      <td>3516</td>\n",
       "      <td>39.915785</td>\n",
       "      <td>0</td>\n",
       "      <td>1</td>\n",
       "      <td>1</td>\n",
       "      <td>1</td>\n",
       "      <td>1</td>\n",
       "      <td>0</td>\n",
       "      <td>0</td>\n",
       "      <td>0</td>\n",
       "      <td>0</td>\n",
       "      <td>0</td>\n",
       "      <td>0</td>\n",
       "    </tr>\n",
       "    <tr>\n",
       "      <th>3</th>\n",
       "      <td>0</td>\n",
       "      <td>0.869036</td>\n",
       "      <td>8105</td>\n",
       "      <td>86.903607</td>\n",
       "      <td>1</td>\n",
       "      <td>1</td>\n",
       "      <td>1</td>\n",
       "      <td>1</td>\n",
       "      <td>1</td>\n",
       "      <td>1</td>\n",
       "      <td>1</td>\n",
       "      <td>1</td>\n",
       "      <td>1</td>\n",
       "      <td>1</td>\n",
       "      <td>0</td>\n",
       "    </tr>\n",
       "    <tr>\n",
       "      <th>4</th>\n",
       "      <td>0</td>\n",
       "      <td>0.206163</td>\n",
       "      <td>3934</td>\n",
       "      <td>20.616320</td>\n",
       "      <td>0</td>\n",
       "      <td>1</td>\n",
       "      <td>1</td>\n",
       "      <td>1</td>\n",
       "      <td>0</td>\n",
       "      <td>0</td>\n",
       "      <td>0</td>\n",
       "      <td>0</td>\n",
       "      <td>0</td>\n",
       "      <td>0</td>\n",
       "      <td>0</td>\n",
       "    </tr>\n",
       "  </tbody>\n",
       "</table>\n",
       "</div>"
      ],
      "text/plain": [
       "   Converted  Converted_Prob  Index  Pred_Score  predicted  0.0  0.1  0.2  \\\n",
       "0          0        0.349370   1871   34.937014          0    1    1    1   \n",
       "1          0        0.245321   6795   24.532112          0    1    1    1   \n",
       "2          0        0.399158   3516   39.915785          0    1    1    1   \n",
       "3          0        0.869036   8105   86.903607          1    1    1    1   \n",
       "4          0        0.206163   3934   20.616320          0    1    1    1   \n",
       "\n",
       "   0.3  0.4  0.5  0.6  0.7  0.8  0.9  \n",
       "0    1    0    0    0    0    0    0  \n",
       "1    0    0    0    0    0    0    0  \n",
       "2    1    0    0    0    0    0    0  \n",
       "3    1    1    1    1    1    1    0  \n",
       "4    0    0    0    0    0    0    0  "
      ]
     },
     "execution_count": 81,
     "metadata": {},
     "output_type": "execute_result"
    }
   ],
   "source": [
    "# Let's create columns with different probability cutoffs \n",
    "numbers = [float(x)/10 for x in range(10)]\n",
    "for i in numbers:\n",
    "    y_train_pred_final[i]= y_train_pred_final.Converted_Prob.map(lambda x: 1 if x > i else 0)\n",
    "y_train_pred_final.head()"
   ]
  },
  {
   "cell_type": "code",
   "execution_count": 82,
   "id": "9a478636",
   "metadata": {},
   "outputs": [
    {
     "name": "stdout",
     "output_type": "stream",
     "text": [
      "     prob  accuracy     sensi     speci\n",
      "0.0   0.0  0.381262  1.000000  0.000000\n",
      "0.1   0.1  0.633581  0.968370  0.427286\n",
      "0.2   0.2  0.764378  0.920925  0.667916\n",
      "0.3   0.3  0.805040  0.868208  0.766117\n",
      "0.4   0.4  0.815090  0.768045  0.844078\n",
      "0.5   0.5  0.817563  0.696269  0.892304\n",
      "0.6   0.6  0.810761  0.639092  0.916542\n",
      "0.7   0.7  0.788033  0.533252  0.945027\n",
      "0.8   0.8  0.765306  0.436740  0.967766\n",
      "0.9   0.9  0.718924  0.283455  0.987256\n"
     ]
    }
   ],
   "source": [
    "# Now let's calculate accuracy sensitivity and specificity for various probability cutoffs.\n",
    "cutoff_df = pd.DataFrame( columns = ['prob','accuracy','sensi','speci'])\n",
    "from sklearn.metrics import confusion_matrix\n",
    "\n",
    "# TP = confusion[1,1] # true positive \n",
    "# TN = confusion[0,0] # true negatives\n",
    "# FP = confusion[0,1] # false positives\n",
    "# FN = confusion[1,0] # false negatives\n",
    "\n",
    "num = [0.0,0.1,0.2,0.3,0.4,0.5,0.6,0.7,0.8,0.9]\n",
    "for i in num:\n",
    "    cm1 = metrics.confusion_matrix(y_train_pred_final.Converted, y_train_pred_final[i] )\n",
    "    total1=sum(sum(cm1))\n",
    "    accuracy = (cm1[0,0]+cm1[1,1])/total1\n",
    "    \n",
    "    speci = cm1[0,0]/(cm1[0,0]+cm1[0,1])\n",
    "    sensi = cm1[1,1]/(cm1[1,0]+cm1[1,1])\n",
    "    cutoff_df.loc[i] =[ i ,accuracy,sensi,speci]\n",
    "print(cutoff_df)"
   ]
  },
  {
   "cell_type": "code",
   "execution_count": 83,
   "id": "aaefb23e",
   "metadata": {},
   "outputs": [
    {
     "data": {
      "image/png": "[encoded data removed]",
      "text/plain": [
       "<Figure size 432x288 with 1 Axes>"
      ]
     },
     "metadata": {
      "needs_background": "light"
     },
     "output_type": "display_data"
    }
   ],
   "source": [
    "# Let's plot accuracy sensitivity and specificity for various probabilities.\n",
    "cutoff_df.plot.line(x='prob', y=['accuracy','sensi','speci'])\n",
    "plt.show()"
   ]
  },
  {
   "cell_type": "markdown",
   "id": "5ef5d1a7",
   "metadata": {},
   "source": [
    "### From the curve , 0.37 is the optimum point to take it as a cutoff probability"
   ]
  },
  {
   "cell_type": "code",
   "execution_count": 84,
   "id": "b89a91ec",
   "metadata": {},
   "outputs": [
    {
     "data": {
      "text/html": [
       "<div>\n",
       "<style scoped>\n",
       "    .dataframe tbody tr th:only-of-type {\n",
       "        vertical-align: middle;\n",
       "    }\n",
       "\n",
       "    .dataframe tbody tr th {\n",
       "        vertical-align: top;\n",
       "    }\n",
       "\n",
       "    .dataframe thead th {\n",
       "        text-align: right;\n",
       "    }\n",
       "</style>\n",
       "<table border=\"1\" class=\"dataframe\">\n",
       "  <thead>\n",
       "    <tr style=\"text-align: right;\">\n",
       "      <th></th>\n",
       "      <th>Converted</th>\n",
       "      <th>Converted_Prob</th>\n",
       "      <th>Index</th>\n",
       "      <th>Pred_Score</th>\n",
       "      <th>predicted</th>\n",
       "      <th>0.0</th>\n",
       "      <th>0.1</th>\n",
       "      <th>0.2</th>\n",
       "      <th>0.3</th>\n",
       "      <th>0.4</th>\n",
       "      <th>0.5</th>\n",
       "      <th>0.6</th>\n",
       "      <th>0.7</th>\n",
       "      <th>0.8</th>\n",
       "      <th>0.9</th>\n",
       "      <th>final_predicted</th>\n",
       "    </tr>\n",
       "  </thead>\n",
       "  <tbody>\n",
       "    <tr>\n",
       "      <th>0</th>\n",
       "      <td>0</td>\n",
       "      <td>0.349370</td>\n",
       "      <td>1871</td>\n",
       "      <td>34.937014</td>\n",
       "      <td>0</td>\n",
       "      <td>1</td>\n",
       "      <td>1</td>\n",
       "      <td>1</td>\n",
       "      <td>1</td>\n",
       "      <td>0</td>\n",
       "      <td>0</td>\n",
       "      <td>0</td>\n",
       "      <td>0</td>\n",
       "      <td>0</td>\n",
       "      <td>0</td>\n",
       "      <td>1</td>\n",
       "    </tr>\n",
       "    <tr>\n",
       "      <th>1</th>\n",
       "      <td>0</td>\n",
       "      <td>0.245321</td>\n",
       "      <td>6795</td>\n",
       "      <td>24.532112</td>\n",
       "      <td>0</td>\n",
       "      <td>1</td>\n",
       "      <td>1</td>\n",
       "      <td>1</td>\n",
       "      <td>0</td>\n",
       "      <td>0</td>\n",
       "      <td>0</td>\n",
       "      <td>0</td>\n",
       "      <td>0</td>\n",
       "      <td>0</td>\n",
       "      <td>0</td>\n",
       "      <td>0</td>\n",
       "    </tr>\n",
       "    <tr>\n",
       "      <th>2</th>\n",
       "      <td>0</td>\n",
       "      <td>0.399158</td>\n",
       "      <td>3516</td>\n",
       "      <td>39.915785</td>\n",
       "      <td>0</td>\n",
       "      <td>1</td>\n",
       "      <td>1</td>\n",
       "      <td>1</td>\n",
       "      <td>1</td>\n",
       "      <td>0</td>\n",
       "      <td>0</td>\n",
       "      <td>0</td>\n",
       "      <td>0</td>\n",
       "      <td>0</td>\n",
       "      <td>0</td>\n",
       "      <td>1</td>\n",
       "    </tr>\n",
       "    <tr>\n",
       "      <th>3</th>\n",
       "      <td>0</td>\n",
       "      <td>0.869036</td>\n",
       "      <td>8105</td>\n",
       "      <td>86.903607</td>\n",
       "      <td>1</td>\n",
       "      <td>1</td>\n",
       "      <td>1</td>\n",
       "      <td>1</td>\n",
       "      <td>1</td>\n",
       "      <td>1</td>\n",
       "      <td>1</td>\n",
       "      <td>1</td>\n",
       "      <td>1</td>\n",
       "      <td>1</td>\n",
       "      <td>0</td>\n",
       "      <td>1</td>\n",
       "    </tr>\n",
       "    <tr>\n",
       "      <th>4</th>\n",
       "      <td>0</td>\n",
       "      <td>0.206163</td>\n",
       "      <td>3934</td>\n",
       "      <td>20.616320</td>\n",
       "      <td>0</td>\n",
       "      <td>1</td>\n",
       "      <td>1</td>\n",
       "      <td>1</td>\n",
       "      <td>0</td>\n",
       "      <td>0</td>\n",
       "      <td>0</td>\n",
       "      <td>0</td>\n",
       "      <td>0</td>\n",
       "      <td>0</td>\n",
       "      <td>0</td>\n",
       "      <td>0</td>\n",
       "    </tr>\n",
       "  </tbody>\n",
       "</table>\n",
       "</div>"
      ],
      "text/plain": [
       "   Converted  Converted_Prob  Index  Pred_Score  predicted  0.0  0.1  0.2  \\\n",
       "0          0        0.349370   1871   34.937014          0    1    1    1   \n",
       "1          0        0.245321   6795   24.532112          0    1    1    1   \n",
       "2          0        0.399158   3516   39.915785          0    1    1    1   \n",
       "3          0        0.869036   8105   86.903607          1    1    1    1   \n",
       "4          0        0.206163   3934   20.616320          0    1    1    1   \n",
       "\n",
       "   0.3  0.4  0.5  0.6  0.7  0.8  0.9  final_predicted  \n",
       "0    1    0    0    0    0    0    0                1  \n",
       "1    0    0    0    0    0    0    0                0  \n",
       "2    1    0    0    0    0    0    0                1  \n",
       "3    1    1    1    1    1    1    0                1  \n",
       "4    0    0    0    0    0    0    0                0  "
      ]
     },
     "execution_count": 84,
     "metadata": {},
     "output_type": "execute_result"
    }
   ],
   "source": [
    "y_train_pred_final['final_predicted'] = y_train_pred_final.Converted_Prob.map( lambda x: 1 if x > 0.3 else 0)\n",
    "\n",
    "y_train_pred_final.head()"
   ]
  },
  {
   "cell_type": "code",
   "execution_count": 85,
   "id": "7d2abe29",
   "metadata": {},
   "outputs": [
    {
     "data": {
      "text/plain": [
       "0.8050401978973407"
      ]
     },
     "execution_count": 85,
     "metadata": {},
     "output_type": "execute_result"
    }
   ],
   "source": [
    "# Let's check the overall accuracy.\n",
    "metrics.accuracy_score(y_train_pred_final.Converted, y_train_pred_final.final_predicted)"
   ]
  },
  {
   "cell_type": "code",
   "execution_count": 86,
   "id": "f1747542",
   "metadata": {},
   "outputs": [
    {
     "data": {
      "text/plain": [
       "array([[3066,  936],\n",
       "       [ 325, 2141]], dtype=int64)"
      ]
     },
     "execution_count": 86,
     "metadata": {},
     "output_type": "execute_result"
    }
   ],
   "source": [
    "confusion2 = metrics.confusion_matrix(y_train_pred_final.Converted, y_train_pred_final.final_predicted )\n",
    "confusion2"
   ]
  },
  {
   "cell_type": "code",
   "execution_count": 87,
   "id": "84807298",
   "metadata": {},
   "outputs": [],
   "source": [
    "TP = confusion2[1,1] # true positive \n",
    "TN = confusion2[0,0] # true negatives\n",
    "FP = confusion2[0,1] # false positives\n",
    "FN = confusion2[1,0] # false negatives"
   ]
  },
  {
   "cell_type": "code",
   "execution_count": 88,
   "id": "265e537a",
   "metadata": {},
   "outputs": [
    {
     "data": {
      "text/plain": [
       "0.7661169415292354"
      ]
     },
     "execution_count": 88,
     "metadata": {},
     "output_type": "execute_result"
    }
   ],
   "source": [
    "# Let us calculate specificity\n",
    "TN / float(TN+FP)"
   ]
  },
  {
   "cell_type": "code",
   "execution_count": 89,
   "id": "c5eab52f",
   "metadata": {},
   "outputs": [
    {
     "name": "stdout",
     "output_type": "stream",
     "text": [
      "0.23388305847076463\n"
     ]
    }
   ],
   "source": [
    "# Calculate false postive rate \n",
    "print(FP/ float(TN+FP))"
   ]
  },
  {
   "cell_type": "code",
   "execution_count": 90,
   "id": "f51708ec",
   "metadata": {},
   "outputs": [
    {
     "name": "stdout",
     "output_type": "stream",
     "text": [
      "0.6958076048098798\n"
     ]
    }
   ],
   "source": [
    "# Positive predictive value \n",
    "print (TP / float(TP+FP))"
   ]
  },
  {
   "cell_type": "code",
   "execution_count": 91,
   "id": "9063f65c",
   "metadata": {},
   "outputs": [
    {
     "name": "stdout",
     "output_type": "stream",
     "text": [
      "0.9041580654674137\n"
     ]
    }
   ],
   "source": [
    "# Negative predictive value\n",
    "print (TN / float(TN+ FN))"
   ]
  },
  {
   "cell_type": "markdown",
   "id": "cf0c841c",
   "metadata": {},
   "source": [
    "## Precision and Recall"
   ]
  },
  {
   "cell_type": "code",
   "execution_count": 92,
   "id": "ef005b2c",
   "metadata": {},
   "outputs": [],
   "source": [
    "#### Look at the precision and recall for the prediction with threshold .5 (or score 50) and .37 (or score 37)"
   ]
  },
  {
   "cell_type": "code",
   "execution_count": 93,
   "id": "7dfbd097",
   "metadata": {},
   "outputs": [],
   "source": [
    "from sklearn.metrics import precision_score, recall_score"
   ]
  },
  {
   "cell_type": "code",
   "execution_count": 94,
   "id": "674d083f",
   "metadata": {},
   "outputs": [
    {
     "data": {
      "text/plain": [
       "0.7993482309124768"
      ]
     },
     "execution_count": 94,
     "metadata": {},
     "output_type": "execute_result"
    }
   ],
   "source": [
    "# precision\n",
    "\n",
    "precision_score(y_train_pred_final.Converted, y_train_pred_final.predicted)"
   ]
  },
  {
   "cell_type": "code",
   "execution_count": 95,
   "id": "0a61b0fb",
   "metadata": {},
   "outputs": [
    {
     "data": {
      "text/plain": [
       "0.6962692619626926"
      ]
     },
     "execution_count": 95,
     "metadata": {},
     "output_type": "execute_result"
    }
   ],
   "source": [
    "# recall\n",
    "\n",
    "recall_score(y_train_pred_final.Converted, y_train_pred_final.predicted)"
   ]
  },
  {
   "cell_type": "code",
   "execution_count": 96,
   "id": "0e580c2a",
   "metadata": {},
   "outputs": [
    {
     "data": {
      "text/plain": [
       "0.6958076048098798"
      ]
     },
     "execution_count": 96,
     "metadata": {},
     "output_type": "execute_result"
    }
   ],
   "source": [
    "precision_score(y_train_pred_final.Converted, y_train_pred_final.final_predicted)"
   ]
  },
  {
   "cell_type": "code",
   "execution_count": 97,
   "id": "2a1699fb",
   "metadata": {},
   "outputs": [
    {
     "data": {
      "text/plain": [
       "0.8682076236820763"
      ]
     },
     "execution_count": 97,
     "metadata": {},
     "output_type": "execute_result"
    }
   ],
   "source": [
    "recall_score(y_train_pred_final.Converted, y_train_pred_final.final_predicted)"
   ]
  },
  {
   "cell_type": "markdown",
   "id": "cee3272c",
   "metadata": {},
   "source": [
    "## Precision and recall tradeoff"
   ]
  },
  {
   "cell_type": "code",
   "execution_count": 98,
   "id": "2fa2b63d",
   "metadata": {},
   "outputs": [],
   "source": [
    "from sklearn.metrics import precision_recall_curve"
   ]
  },
  {
   "cell_type": "code",
   "execution_count": 99,
   "id": "23a8b12c",
   "metadata": {},
   "outputs": [],
   "source": [
    "p, r, thresholds = precision_recall_curve(y_train_pred_final.Converted, y_train_pred_final.Converted_Prob)"
   ]
  },
  {
   "cell_type": "code",
   "execution_count": 100,
   "id": "e054eef8",
   "metadata": {},
   "outputs": [
    {
     "data": {
      "image/png": "[encoded data removed]",
      "text/plain": [
       "<Figure size 432x288 with 1 Axes>"
      ]
     },
     "metadata": {
      "needs_background": "light"
     },
     "output_type": "display_data"
    }
   ],
   "source": [
    "plt.plot(thresholds, p[:-1], \"g-\")\n",
    "plt.plot(thresholds, r[:-1], \"r-\")\n",
    "plt.show()"
   ]
  },
  {
   "cell_type": "markdown",
   "id": "eaaecb30",
   "metadata": {},
   "source": [
    "## Step 11: Making predictions on the test set"
   ]
  },
  {
   "cell_type": "code",
   "execution_count": 101,
   "id": "2bf51b9e",
   "metadata": {},
   "outputs": [
    {
     "data": {
      "text/html": [
       "<div>\n",
       "<style scoped>\n",
       "    .dataframe tbody tr th:only-of-type {\n",
       "        vertical-align: middle;\n",
       "    }\n",
       "\n",
       "    .dataframe tbody tr th {\n",
       "        vertical-align: top;\n",
       "    }\n",
       "\n",
       "    .dataframe thead th {\n",
       "        text-align: right;\n",
       "    }\n",
       "</style>\n",
       "<table border=\"1\" class=\"dataframe\">\n",
       "  <thead>\n",
       "    <tr style=\"text-align: right;\">\n",
       "      <th></th>\n",
       "      <th>Do Not Email</th>\n",
       "      <th>Total Time Spent on Website</th>\n",
       "      <th>Lead Origin_Lead Add Form</th>\n",
       "      <th>Lead Source_Direct Traffic</th>\n",
       "      <th>Lead Source_Facebook</th>\n",
       "      <th>Lead Source_Google</th>\n",
       "      <th>Lead Source_Organic Search</th>\n",
       "      <th>Lead Source_Referral Sites</th>\n",
       "      <th>Lead Source_Welingak Website</th>\n",
       "      <th>Last Activity_Email Opened</th>\n",
       "      <th>Last Activity_SMS Sent</th>\n",
       "      <th>Current Occupation_No Information</th>\n",
       "      <th>Current Occupation_Working Professional</th>\n",
       "      <th>Last Notable Activity_Had a Phone Conversation</th>\n",
       "      <th>Last Notable Activity_Modified</th>\n",
       "      <th>Last Notable Activity_Olark Chat Conversation</th>\n",
       "      <th>Last Notable Activity_Unreachable</th>\n",
       "    </tr>\n",
       "  </thead>\n",
       "  <tbody>\n",
       "    <tr>\n",
       "      <th>4269</th>\n",
       "      <td>0</td>\n",
       "      <td>0.933036</td>\n",
       "      <td>0</td>\n",
       "      <td>1</td>\n",
       "      <td>0</td>\n",
       "      <td>0</td>\n",
       "      <td>0</td>\n",
       "      <td>0</td>\n",
       "      <td>0</td>\n",
       "      <td>0</td>\n",
       "      <td>1</td>\n",
       "      <td>1</td>\n",
       "      <td>0</td>\n",
       "      <td>0</td>\n",
       "      <td>0</td>\n",
       "      <td>0</td>\n",
       "      <td>0</td>\n",
       "    </tr>\n",
       "    <tr>\n",
       "      <th>2376</th>\n",
       "      <td>0</td>\n",
       "      <td>-0.900812</td>\n",
       "      <td>1</td>\n",
       "      <td>0</td>\n",
       "      <td>0</td>\n",
       "      <td>0</td>\n",
       "      <td>0</td>\n",
       "      <td>0</td>\n",
       "      <td>0</td>\n",
       "      <td>0</td>\n",
       "      <td>1</td>\n",
       "      <td>0</td>\n",
       "      <td>0</td>\n",
       "      <td>0</td>\n",
       "      <td>0</td>\n",
       "      <td>0</td>\n",
       "      <td>0</td>\n",
       "    </tr>\n",
       "    <tr>\n",
       "      <th>7766</th>\n",
       "      <td>0</td>\n",
       "      <td>-0.793792</td>\n",
       "      <td>0</td>\n",
       "      <td>0</td>\n",
       "      <td>0</td>\n",
       "      <td>1</td>\n",
       "      <td>0</td>\n",
       "      <td>0</td>\n",
       "      <td>0</td>\n",
       "      <td>0</td>\n",
       "      <td>0</td>\n",
       "      <td>0</td>\n",
       "      <td>1</td>\n",
       "      <td>0</td>\n",
       "      <td>0</td>\n",
       "      <td>0</td>\n",
       "      <td>1</td>\n",
       "    </tr>\n",
       "    <tr>\n",
       "      <th>9199</th>\n",
       "      <td>0</td>\n",
       "      <td>-0.900812</td>\n",
       "      <td>0</td>\n",
       "      <td>0</td>\n",
       "      <td>0</td>\n",
       "      <td>0</td>\n",
       "      <td>0</td>\n",
       "      <td>0</td>\n",
       "      <td>0</td>\n",
       "      <td>0</td>\n",
       "      <td>0</td>\n",
       "      <td>0</td>\n",
       "      <td>0</td>\n",
       "      <td>0</td>\n",
       "      <td>1</td>\n",
       "      <td>0</td>\n",
       "      <td>0</td>\n",
       "    </tr>\n",
       "    <tr>\n",
       "      <th>4359</th>\n",
       "      <td>0</td>\n",
       "      <td>-0.900812</td>\n",
       "      <td>1</td>\n",
       "      <td>0</td>\n",
       "      <td>0</td>\n",
       "      <td>0</td>\n",
       "      <td>0</td>\n",
       "      <td>0</td>\n",
       "      <td>0</td>\n",
       "      <td>1</td>\n",
       "      <td>0</td>\n",
       "      <td>0</td>\n",
       "      <td>0</td>\n",
       "      <td>0</td>\n",
       "      <td>0</td>\n",
       "      <td>0</td>\n",
       "      <td>0</td>\n",
       "    </tr>\n",
       "  </tbody>\n",
       "</table>\n",
       "</div>"
      ],
      "text/plain": [
       "      Do Not Email  Total Time Spent on Website  Lead Origin_Lead Add Form  \\\n",
       "4269             0                     0.933036                          0   \n",
       "2376             0                    -0.900812                          1   \n",
       "7766             0                    -0.793792                          0   \n",
       "9199             0                    -0.900812                          0   \n",
       "4359             0                    -0.900812                          1   \n",
       "\n",
       "      Lead Source_Direct Traffic  Lead Source_Facebook  Lead Source_Google  \\\n",
       "4269                           1                     0                   0   \n",
       "2376                           0                     0                   0   \n",
       "7766                           0                     0                   1   \n",
       "9199                           0                     0                   0   \n",
       "4359                           0                     0                   0   \n",
       "\n",
       "      Lead Source_Organic Search  Lead Source_Referral Sites  \\\n",
       "4269                           0                           0   \n",
       "2376                           0                           0   \n",
       "7766                           0                           0   \n",
       "9199                           0                           0   \n",
       "4359                           0                           0   \n",
       "\n",
       "      Lead Source_Welingak Website  Last Activity_Email Opened  \\\n",
       "4269                             0                           0   \n",
       "2376                             0                           0   \n",
       "7766                             0                           0   \n",
       "9199                             0                           0   \n",
       "4359                             0                           1   \n",
       "\n",
       "      Last Activity_SMS Sent  Current Occupation_No Information  \\\n",
       "4269                       1                                  1   \n",
       "2376                       1                                  0   \n",
       "7766                       0                                  0   \n",
       "9199                       0                                  0   \n",
       "4359                       0                                  0   \n",
       "\n",
       "      Current Occupation_Working Professional  \\\n",
       "4269                                        0   \n",
       "2376                                        0   \n",
       "7766                                        1   \n",
       "9199                                        0   \n",
       "4359                                        0   \n",
       "\n",
       "      Last Notable Activity_Had a Phone Conversation  \\\n",
       "4269                                               0   \n",
       "2376                                               0   \n",
       "7766                                               0   \n",
       "9199                                               0   \n",
       "4359                                               0   \n",
       "\n",
       "      Last Notable Activity_Modified  \\\n",
       "4269                               0   \n",
       "2376                               0   \n",
       "7766                               0   \n",
       "9199                               1   \n",
       "4359                               0   \n",
       "\n",
       "      Last Notable Activity_Olark Chat Conversation  \\\n",
       "4269                                              0   \n",
       "2376                                              0   \n",
       "7766                                              0   \n",
       "9199                                              0   \n",
       "4359                                              0   \n",
       "\n",
       "      Last Notable Activity_Unreachable  \n",
       "4269                                  0  \n",
       "2376                                  0  \n",
       "7766                                  1  \n",
       "9199                                  0  \n",
       "4359                                  0  "
      ]
     },
     "execution_count": 101,
     "metadata": {},
     "output_type": "execute_result"
    }
   ],
   "source": [
    "X_test[['TotalVisits','Total Time Spent on Website','Page Views Per Visit']] = scaler.fit_transform(\n",
    "                                                                                X_test[['TotalVisits','Total Time Spent on Website','Page Views Per Visit']])\n",
    "\n",
    "X_test = X_test[col]\n",
    "X_test.head()"
   ]
  },
  {
   "cell_type": "code",
   "execution_count": 102,
   "id": "3dd6ab75",
   "metadata": {},
   "outputs": [],
   "source": [
    "X_test_sm = sm.add_constant(X_test)"
   ]
  },
  {
   "cell_type": "markdown",
   "id": "09f08bbe",
   "metadata": {},
   "source": [
    "#### Making prediction on test data"
   ]
  },
  {
   "cell_type": "code",
   "execution_count": 103,
   "id": "a6395df7",
   "metadata": {},
   "outputs": [],
   "source": [
    "y_test_pred = res.predict(X_test_sm)"
   ]
  },
  {
   "cell_type": "code",
   "execution_count": 104,
   "id": "38ae85c0",
   "metadata": {},
   "outputs": [
    {
     "data": {
      "text/plain": [
       "4269    0.469343\n",
       "2376    0.939334\n",
       "7766    0.936709\n",
       "9199    0.134271\n",
       "4359    0.838337\n",
       "9186    0.651130\n",
       "1631    0.581345\n",
       "8963    0.239650\n",
       "8007    0.034263\n",
       "5324    0.431513\n",
       "dtype: float64"
      ]
     },
     "execution_count": 104,
     "metadata": {},
     "output_type": "execute_result"
    }
   ],
   "source": [
    "y_test_pred[:10]"
   ]
  },
  {
   "cell_type": "code",
   "execution_count": 105,
   "id": "39bef6df",
   "metadata": {},
   "outputs": [
    {
     "data": {
      "text/html": [
       "<div>\n",
       "<style scoped>\n",
       "    .dataframe tbody tr th:only-of-type {\n",
       "        vertical-align: middle;\n",
       "    }\n",
       "\n",
       "    .dataframe tbody tr th {\n",
       "        vertical-align: top;\n",
       "    }\n",
       "\n",
       "    .dataframe thead th {\n",
       "        text-align: right;\n",
       "    }\n",
       "</style>\n",
       "<table border=\"1\" class=\"dataframe\">\n",
       "  <thead>\n",
       "    <tr style=\"text-align: right;\">\n",
       "      <th></th>\n",
       "      <th>0</th>\n",
       "    </tr>\n",
       "  </thead>\n",
       "  <tbody>\n",
       "    <tr>\n",
       "      <th>4269</th>\n",
       "      <td>0.469343</td>\n",
       "    </tr>\n",
       "    <tr>\n",
       "      <th>2376</th>\n",
       "      <td>0.939334</td>\n",
       "    </tr>\n",
       "    <tr>\n",
       "      <th>7766</th>\n",
       "      <td>0.936709</td>\n",
       "    </tr>\n",
       "    <tr>\n",
       "      <th>9199</th>\n",
       "      <td>0.134271</td>\n",
       "    </tr>\n",
       "    <tr>\n",
       "      <th>4359</th>\n",
       "      <td>0.838337</td>\n",
       "    </tr>\n",
       "  </tbody>\n",
       "</table>\n",
       "</div>"
      ],
      "text/plain": [
       "             0\n",
       "4269  0.469343\n",
       "2376  0.939334\n",
       "7766  0.936709\n",
       "9199  0.134271\n",
       "4359  0.838337"
      ]
     },
     "execution_count": 105,
     "metadata": {},
     "output_type": "execute_result"
    }
   ],
   "source": [
    "# Converting y_pred to a dataframe which is an array\n",
    "y_pred_1 = pd.DataFrame(y_test_pred)\n",
    "\n",
    "y_pred_1.head()"
   ]
  },
  {
   "cell_type": "code",
   "execution_count": 106,
   "id": "46d07437",
   "metadata": {},
   "outputs": [],
   "source": [
    "# Converting y_test to dataframe\n",
    "\n",
    "y_test_df = pd.DataFrame(y_test)"
   ]
  },
  {
   "cell_type": "code",
   "execution_count": 107,
   "id": "9380b8eb",
   "metadata": {},
   "outputs": [],
   "source": [
    "# Appending y_test_df and y_pred_1\n",
    "\n",
    "y_test_pred_final = pd.concat([y_test_df, y_pred_1],axis=1)"
   ]
  },
  {
   "cell_type": "code",
   "execution_count": 108,
   "id": "b53c13cf",
   "metadata": {},
   "outputs": [],
   "source": [
    "# Renaming the column \n",
    "\n",
    "y_test_pred_final= y_test_pred_final.rename(columns={ 0 : 'Converted_Prob'})"
   ]
  },
  {
   "cell_type": "code",
   "execution_count": 109,
   "id": "bbe89f43",
   "metadata": {},
   "outputs": [],
   "source": [
    "# Based on cut off threshold using accuracy, sensitivity and specificity of 0.37%\n",
    "\n",
    "y_test_pred_final['final_predicted'] = y_test_pred_final.Converted_Prob.map(lambda x: 1 if x > 0.37 else 0)"
   ]
  },
  {
   "cell_type": "code",
   "execution_count": 110,
   "id": "aa14a9c5",
   "metadata": {},
   "outputs": [],
   "source": [
    "y_test_pred_final['Lead_Score'] = round(y_test_pred_final['Converted_Prob']* 100,1)"
   ]
  },
  {
   "cell_type": "code",
   "execution_count": 111,
   "id": "86ca1db1",
   "metadata": {},
   "outputs": [
    {
     "data": {
      "text/html": [
       "<div>\n",
       "<style scoped>\n",
       "    .dataframe tbody tr th:only-of-type {\n",
       "        vertical-align: middle;\n",
       "    }\n",
       "\n",
       "    .dataframe tbody tr th {\n",
       "        vertical-align: top;\n",
       "    }\n",
       "\n",
       "    .dataframe thead th {\n",
       "        text-align: right;\n",
       "    }\n",
       "</style>\n",
       "<table border=\"1\" class=\"dataframe\">\n",
       "  <thead>\n",
       "    <tr style=\"text-align: right;\">\n",
       "      <th></th>\n",
       "      <th>Converted</th>\n",
       "      <th>Converted_Prob</th>\n",
       "      <th>final_predicted</th>\n",
       "      <th>Lead_Score</th>\n",
       "    </tr>\n",
       "  </thead>\n",
       "  <tbody>\n",
       "    <tr>\n",
       "      <th>4269</th>\n",
       "      <td>1</td>\n",
       "      <td>0.469343</td>\n",
       "      <td>1</td>\n",
       "      <td>46.9</td>\n",
       "    </tr>\n",
       "    <tr>\n",
       "      <th>2376</th>\n",
       "      <td>1</td>\n",
       "      <td>0.939334</td>\n",
       "      <td>1</td>\n",
       "      <td>93.9</td>\n",
       "    </tr>\n",
       "    <tr>\n",
       "      <th>7766</th>\n",
       "      <td>1</td>\n",
       "      <td>0.936709</td>\n",
       "      <td>1</td>\n",
       "      <td>93.7</td>\n",
       "    </tr>\n",
       "    <tr>\n",
       "      <th>9199</th>\n",
       "      <td>0</td>\n",
       "      <td>0.134271</td>\n",
       "      <td>0</td>\n",
       "      <td>13.4</td>\n",
       "    </tr>\n",
       "    <tr>\n",
       "      <th>4359</th>\n",
       "      <td>1</td>\n",
       "      <td>0.838337</td>\n",
       "      <td>1</td>\n",
       "      <td>83.8</td>\n",
       "    </tr>\n",
       "  </tbody>\n",
       "</table>\n",
       "</div>"
      ],
      "text/plain": [
       "      Converted  Converted_Prob  final_predicted  Lead_Score\n",
       "4269          1        0.469343                1        46.9\n",
       "2376          1        0.939334                1        93.9\n",
       "7766          1        0.936709                1        93.7\n",
       "9199          0        0.134271                0        13.4\n",
       "4359          1        0.838337                1        83.8"
      ]
     },
     "execution_count": 111,
     "metadata": {},
     "output_type": "execute_result"
    }
   ],
   "source": [
    "\n",
    "y_test_pred_final.head()"
   ]
  },
  {
   "cell_type": "code",
   "execution_count": 112,
   "id": "13b1007f",
   "metadata": {},
   "outputs": [
    {
     "data": {
      "text/plain": [
       "0.8156565656565656"
      ]
     },
     "execution_count": 112,
     "metadata": {},
     "output_type": "execute_result"
    }
   ],
   "source": [
    "# Let's check the overall accuracy.\n",
    "metrics.accuracy_score(y_test_pred_final.Converted, y_test_pred_final.final_predicted)"
   ]
  },
  {
   "cell_type": "code",
   "execution_count": 113,
   "id": "7f64f2c0",
   "metadata": {},
   "outputs": [
    {
     "data": {
      "text/plain": [
       "array([[1408,  269],\n",
       "       [ 242,  853]], dtype=int64)"
      ]
     },
     "execution_count": 113,
     "metadata": {},
     "output_type": "execute_result"
    }
   ],
   "source": [
    "confusion3 = metrics.confusion_matrix(y_test_pred_final.Converted, y_test_pred_final.final_predicted )\n",
    "confusion3"
   ]
  },
  {
   "cell_type": "code",
   "execution_count": 114,
   "id": "d1785ff6",
   "metadata": {},
   "outputs": [],
   "source": [
    "TP = confusion3[1,1] # true positive \n",
    "TN = confusion3[0,0] # true negatives\n",
    "FP = confusion3[0,1] # false positives\n",
    "FN = confusion3[1,0] # false negatives"
   ]
  },
  {
   "cell_type": "code",
   "execution_count": 115,
   "id": "cf17cd07",
   "metadata": {},
   "outputs": [
    {
     "data": {
      "text/plain": [
       "0.7789954337899543"
      ]
     },
     "execution_count": 115,
     "metadata": {},
     "output_type": "execute_result"
    }
   ],
   "source": [
    "# test data sensitivity of our logistic regression model\n",
    "TP / float(TP+FN)"
   ]
  },
  {
   "cell_type": "code",
   "execution_count": 116,
   "id": "180312c7",
   "metadata": {},
   "outputs": [
    {
     "data": {
      "text/plain": [
       "0.8395945140131187"
      ]
     },
     "execution_count": 116,
     "metadata": {},
     "output_type": "execute_result"
    }
   ],
   "source": [
    "# Let us calculate specificity\n",
    "TN / float(TN+FP)"
   ]
  },
  {
   "cell_type": "code",
   "execution_count": 117,
   "id": "a3079471",
   "metadata": {},
   "outputs": [
    {
     "data": {
      "image/png": "[encoded data removed]",
      "text/plain": [
       "<Figure size 432x288 with 1 Axes>"
      ]
     },
     "metadata": {
      "needs_background": "light"
     },
     "output_type": "display_data"
    }
   ],
   "source": [
    "## Precision and Recall metrics for the test set\n",
    "p, r, thresholds = precision_recall_curve(y_test_pred_final.Converted, y_test_pred_final.Converted_Prob)\n",
    "\n",
    "plt.plot(thresholds, p[:-1], \"g-\")\n",
    "plt.plot(thresholds, r[:-1], \"r-\")\n",
    "plt.show()"
   ]
  },
  {
   "cell_type": "markdown",
   "id": "fc34182d",
   "metadata": {},
   "source": [
    "## Summary"
   ]
  },
  {
   "cell_type": "code",
   "execution_count": 118,
   "id": "8ecd4502",
   "metadata": {},
   "outputs": [],
   "source": [
    "# The overall accuracy of the model is 80 % with very similar specificity and sensitivity between Train and Test Dataset\n",
    "# The lead score calculation is provided in the model with a threshold of 37 for prediction.\n",
    "# The model provides for a conversion rate on the test dataset at around 80 %\n",
    "# So the overall model satisfies the user requirements stated in the problem statement."
   ]
  }
 ],
 "metadata": {
  "kernelspec": {
   "display_name": "Python 3 (ipykernel)",
   "language": "python",
   "name": "python3"
  },
  "language_info": {
   "codemirror_mode": {
    "name": "ipython",
    "version": 3
   },
   "file_extension": ".py",
   "mimetype": "text/x-python",
   "name": "python",
   "nbconvert_exporter": "python",
   "pygments_lexer": "ipython3",
   "version": "3.9.12"
  }
 },
 "nbformat": 4,
 "nbformat_minor": 5
}
