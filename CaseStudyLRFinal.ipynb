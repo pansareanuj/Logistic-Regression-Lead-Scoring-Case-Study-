{
 "cells": [
  {
   "cell_type": "markdown",
   "id": "eca9104f",
   "metadata": {},
   "source": [
    "## Step 1: Importing and Merging Data"
   ]
  },
  {
   "cell_type": "code",
   "execution_count": 1,
   "id": "cdbead07",
   "metadata": {},
   "outputs": [],
   "source": [
    "# Suppressing Warnings\n",
    "import warnings\n",
    "warnings.filterwarnings('ignore')\n",
    "\n",
    "# Importing Pandas and NumPy\n",
    "import pandas as pd, numpy as np"
   ]
  },
  {
   "cell_type": "code",
   "execution_count": 2,
   "id": "2e863f07",
   "metadata": {},
   "outputs": [
    {
     "data": {
      "text/html": [
       "<div>\n",
       "<style scoped>\n",
       "    .dataframe tbody tr th:only-of-type {\n",
       "        vertical-align: middle;\n",
       "    }\n",
       "\n",
       "    .dataframe tbody tr th {\n",
       "        vertical-align: top;\n",
       "    }\n",
       "\n",
       "    .dataframe thead th {\n",
       "        text-align: right;\n",
       "    }\n",
       "</style>\n",
       "<table border=\"1\" class=\"dataframe\">\n",
       "  <thead>\n",
       "    <tr style=\"text-align: right;\">\n",
       "      <th></th>\n",
       "      <th>Prospect ID</th>\n",
       "      <th>Lead Number</th>\n",
       "      <th>Lead Origin</th>\n",
       "      <th>Lead Source</th>\n",
       "      <th>Do Not Email</th>\n",
       "      <th>Do Not Call</th>\n",
       "      <th>Converted</th>\n",
       "      <th>TotalVisits</th>\n",
       "      <th>Total Time Spent on Website</th>\n",
       "      <th>Page Views Per Visit</th>\n",
       "      <th>...</th>\n",
       "      <th>Get updates on DM Content</th>\n",
       "      <th>Lead Profile</th>\n",
       "      <th>City</th>\n",
       "      <th>Asymmetrique Activity Index</th>\n",
       "      <th>Asymmetrique Profile Index</th>\n",
       "      <th>Asymmetrique Activity Score</th>\n",
       "      <th>Asymmetrique Profile Score</th>\n",
       "      <th>I agree to pay the amount through cheque</th>\n",
       "      <th>A free copy of Mastering The Interview</th>\n",
       "      <th>Last Notable Activity</th>\n",
       "    </tr>\n",
       "  </thead>\n",
       "  <tbody>\n",
       "    <tr>\n",
       "      <th>0</th>\n",
       "      <td>7927b2df-8bba-4d29-b9a2-b6e0beafe620</td>\n",
       "      <td>660737</td>\n",
       "      <td>API</td>\n",
       "      <td>Olark Chat</td>\n",
       "      <td>No</td>\n",
       "      <td>No</td>\n",
       "      <td>0</td>\n",
       "      <td>0.0</td>\n",
       "      <td>0</td>\n",
       "      <td>0.0</td>\n",
       "      <td>...</td>\n",
       "      <td>No</td>\n",
       "      <td>Select</td>\n",
       "      <td>Select</td>\n",
       "      <td>02.Medium</td>\n",
       "      <td>02.Medium</td>\n",
       "      <td>15.0</td>\n",
       "      <td>15.0</td>\n",
       "      <td>No</td>\n",
       "      <td>No</td>\n",
       "      <td>Modified</td>\n",
       "    </tr>\n",
       "    <tr>\n",
       "      <th>1</th>\n",
       "      <td>2a272436-5132-4136-86fa-dcc88c88f482</td>\n",
       "      <td>660728</td>\n",
       "      <td>API</td>\n",
       "      <td>Organic Search</td>\n",
       "      <td>No</td>\n",
       "      <td>No</td>\n",
       "      <td>0</td>\n",
       "      <td>5.0</td>\n",
       "      <td>674</td>\n",
       "      <td>2.5</td>\n",
       "      <td>...</td>\n",
       "      <td>No</td>\n",
       "      <td>Select</td>\n",
       "      <td>Select</td>\n",
       "      <td>02.Medium</td>\n",
       "      <td>02.Medium</td>\n",
       "      <td>15.0</td>\n",
       "      <td>15.0</td>\n",
       "      <td>No</td>\n",
       "      <td>No</td>\n",
       "      <td>Email Opened</td>\n",
       "    </tr>\n",
       "    <tr>\n",
       "      <th>2</th>\n",
       "      <td>8cc8c611-a219-4f35-ad23-fdfd2656bd8a</td>\n",
       "      <td>660727</td>\n",
       "      <td>Landing Page Submission</td>\n",
       "      <td>Direct Traffic</td>\n",
       "      <td>No</td>\n",
       "      <td>No</td>\n",
       "      <td>1</td>\n",
       "      <td>2.0</td>\n",
       "      <td>1532</td>\n",
       "      <td>2.0</td>\n",
       "      <td>...</td>\n",
       "      <td>No</td>\n",
       "      <td>Potential Lead</td>\n",
       "      <td>Mumbai</td>\n",
       "      <td>02.Medium</td>\n",
       "      <td>01.High</td>\n",
       "      <td>14.0</td>\n",
       "      <td>20.0</td>\n",
       "      <td>No</td>\n",
       "      <td>Yes</td>\n",
       "      <td>Email Opened</td>\n",
       "    </tr>\n",
       "    <tr>\n",
       "      <th>3</th>\n",
       "      <td>0cc2df48-7cf4-4e39-9de9-19797f9b38cc</td>\n",
       "      <td>660719</td>\n",
       "      <td>Landing Page Submission</td>\n",
       "      <td>Direct Traffic</td>\n",
       "      <td>No</td>\n",
       "      <td>No</td>\n",
       "      <td>0</td>\n",
       "      <td>1.0</td>\n",
       "      <td>305</td>\n",
       "      <td>1.0</td>\n",
       "      <td>...</td>\n",
       "      <td>No</td>\n",
       "      <td>Select</td>\n",
       "      <td>Mumbai</td>\n",
       "      <td>02.Medium</td>\n",
       "      <td>01.High</td>\n",
       "      <td>13.0</td>\n",
       "      <td>17.0</td>\n",
       "      <td>No</td>\n",
       "      <td>No</td>\n",
       "      <td>Modified</td>\n",
       "    </tr>\n",
       "    <tr>\n",
       "      <th>4</th>\n",
       "      <td>3256f628-e534-4826-9d63-4a8b88782852</td>\n",
       "      <td>660681</td>\n",
       "      <td>Landing Page Submission</td>\n",
       "      <td>Google</td>\n",
       "      <td>No</td>\n",
       "      <td>No</td>\n",
       "      <td>1</td>\n",
       "      <td>2.0</td>\n",
       "      <td>1428</td>\n",
       "      <td>1.0</td>\n",
       "      <td>...</td>\n",
       "      <td>No</td>\n",
       "      <td>Select</td>\n",
       "      <td>Mumbai</td>\n",
       "      <td>02.Medium</td>\n",
       "      <td>01.High</td>\n",
       "      <td>15.0</td>\n",
       "      <td>18.0</td>\n",
       "      <td>No</td>\n",
       "      <td>No</td>\n",
       "      <td>Modified</td>\n",
       "    </tr>\n",
       "  </tbody>\n",
       "</table>\n",
       "<p>5 rows × 37 columns</p>\n",
       "</div>"
      ],
      "text/plain": [
       "                            Prospect ID  Lead Number              Lead Origin  \\\n",
       "0  7927b2df-8bba-4d29-b9a2-b6e0beafe620       660737                      API   \n",
       "1  2a272436-5132-4136-86fa-dcc88c88f482       660728                      API   \n",
       "2  8cc8c611-a219-4f35-ad23-fdfd2656bd8a       660727  Landing Page Submission   \n",
       "3  0cc2df48-7cf4-4e39-9de9-19797f9b38cc       660719  Landing Page Submission   \n",
       "4  3256f628-e534-4826-9d63-4a8b88782852       660681  Landing Page Submission   \n",
       "\n",
       "      Lead Source Do Not Email Do Not Call  Converted  TotalVisits  \\\n",
       "0      Olark Chat           No          No          0          0.0   \n",
       "1  Organic Search           No          No          0          5.0   \n",
       "2  Direct Traffic           No          No          1          2.0   \n",
       "3  Direct Traffic           No          No          0          1.0   \n",
       "4          Google           No          No          1          2.0   \n",
       "\n",
       "   Total Time Spent on Website  Page Views Per Visit  ...  \\\n",
       "0                            0                   0.0  ...   \n",
       "1                          674                   2.5  ...   \n",
       "2                         1532                   2.0  ...   \n",
       "3                          305                   1.0  ...   \n",
       "4                         1428                   1.0  ...   \n",
       "\n",
       "  Get updates on DM Content    Lead Profile    City  \\\n",
       "0                        No          Select  Select   \n",
       "1                        No          Select  Select   \n",
       "2                        No  Potential Lead  Mumbai   \n",
       "3                        No          Select  Mumbai   \n",
       "4                        No          Select  Mumbai   \n",
       "\n",
       "  Asymmetrique Activity Index Asymmetrique Profile Index  \\\n",
       "0                   02.Medium                  02.Medium   \n",
       "1                   02.Medium                  02.Medium   \n",
       "2                   02.Medium                    01.High   \n",
       "3                   02.Medium                    01.High   \n",
       "4                   02.Medium                    01.High   \n",
       "\n",
       "  Asymmetrique Activity Score Asymmetrique Profile Score  \\\n",
       "0                        15.0                       15.0   \n",
       "1                        15.0                       15.0   \n",
       "2                        14.0                       20.0   \n",
       "3                        13.0                       17.0   \n",
       "4                        15.0                       18.0   \n",
       "\n",
       "  I agree to pay the amount through cheque  \\\n",
       "0                                       No   \n",
       "1                                       No   \n",
       "2                                       No   \n",
       "3                                       No   \n",
       "4                                       No   \n",
       "\n",
       "  A free copy of Mastering The Interview Last Notable Activity  \n",
       "0                                     No              Modified  \n",
       "1                                     No          Email Opened  \n",
       "2                                    Yes          Email Opened  \n",
       "3                                     No              Modified  \n",
       "4                                     No              Modified  \n",
       "\n",
       "[5 rows x 37 columns]"
      ]
     },
     "execution_count": 2,
     "metadata": {},
     "output_type": "execute_result"
    }
   ],
   "source": [
    "# Importing all datasets\n",
    "leads_data = pd.read_csv(\"Leads.csv\")\n",
    "leads_data.head()"
   ]
  },
  {
   "cell_type": "markdown",
   "id": "ab0e3775",
   "metadata": {},
   "source": [
    "## Step 2: Inspecting the Dataframe"
   ]
  },
  {
   "cell_type": "code",
   "execution_count": 3,
   "id": "d28065a1",
   "metadata": {},
   "outputs": [
    {
     "data": {
      "text/plain": [
       "(9240, 37)"
      ]
     },
     "execution_count": 3,
     "metadata": {},
     "output_type": "execute_result"
    }
   ],
   "source": [
    "# Let's check the dimensions of the dataframe\n",
    "leads_data.shape"
   ]
  },
  {
   "cell_type": "code",
   "execution_count": 4,
   "id": "5dfac79a",
   "metadata": {},
   "outputs": [
    {
     "name": "stdout",
     "output_type": "stream",
     "text": [
      "<class 'pandas.core.frame.DataFrame'>\n",
      "RangeIndex: 9240 entries, 0 to 9239\n",
      "Data columns (total 37 columns):\n",
      " #   Column                                         Non-Null Count  Dtype  \n",
      "---  ------                                         --------------  -----  \n",
      " 0   Prospect ID                                    9240 non-null   object \n",
      " 1   Lead Number                                    9240 non-null   int64  \n",
      " 2   Lead Origin                                    9240 non-null   object \n",
      " 3   Lead Source                                    9204 non-null   object \n",
      " 4   Do Not Email                                   9240 non-null   object \n",
      " 5   Do Not Call                                    9240 non-null   object \n",
      " 6   Converted                                      9240 non-null   int64  \n",
      " 7   TotalVisits                                    9103 non-null   float64\n",
      " 8   Total Time Spent on Website                    9240 non-null   int64  \n",
      " 9   Page Views Per Visit                           9103 non-null   float64\n",
      " 10  Last Activity                                  9137 non-null   object \n",
      " 11  Country                                        6779 non-null   object \n",
      " 12  Specialization                                 7802 non-null   object \n",
      " 13  How did you hear about X Education             7033 non-null   object \n",
      " 14  What is your current occupation                6550 non-null   object \n",
      " 15  What matters most to you in choosing a course  6531 non-null   object \n",
      " 16  Search                                         9240 non-null   object \n",
      " 17  Magazine                                       9240 non-null   object \n",
      " 18  Newspaper Article                              9240 non-null   object \n",
      " 19  X Education Forums                             9240 non-null   object \n",
      " 20  Newspaper                                      9240 non-null   object \n",
      " 21  Digital Advertisement                          9240 non-null   object \n",
      " 22  Through Recommendations                        9240 non-null   object \n",
      " 23  Receive More Updates About Our Courses         9240 non-null   object \n",
      " 24  Tags                                           5887 non-null   object \n",
      " 25  Lead Quality                                   4473 non-null   object \n",
      " 26  Update me on Supply Chain Content              9240 non-null   object \n",
      " 27  Get updates on DM Content                      9240 non-null   object \n",
      " 28  Lead Profile                                   6531 non-null   object \n",
      " 29  City                                           7820 non-null   object \n",
      " 30  Asymmetrique Activity Index                    5022 non-null   object \n",
      " 31  Asymmetrique Profile Index                     5022 non-null   object \n",
      " 32  Asymmetrique Activity Score                    5022 non-null   float64\n",
      " 33  Asymmetrique Profile Score                     5022 non-null   float64\n",
      " 34  I agree to pay the amount through cheque       9240 non-null   object \n",
      " 35  A free copy of Mastering The Interview         9240 non-null   object \n",
      " 36  Last Notable Activity                          9240 non-null   object \n",
      "dtypes: float64(4), int64(3), object(30)\n",
      "memory usage: 2.6+ MB\n"
     ]
    }
   ],
   "source": [
    "leads_data.info()"
   ]
  },
  {
   "cell_type": "code",
   "execution_count": 5,
   "id": "faa51f38",
   "metadata": {},
   "outputs": [
    {
     "data": {
      "text/html": [
       "<div>\n",
       "<style scoped>\n",
       "    .dataframe tbody tr th:only-of-type {\n",
       "        vertical-align: middle;\n",
       "    }\n",
       "\n",
       "    .dataframe tbody tr th {\n",
       "        vertical-align: top;\n",
       "    }\n",
       "\n",
       "    .dataframe thead th {\n",
       "        text-align: right;\n",
       "    }\n",
       "</style>\n",
       "<table border=\"1\" class=\"dataframe\">\n",
       "  <thead>\n",
       "    <tr style=\"text-align: right;\">\n",
       "      <th></th>\n",
       "      <th>Lead Number</th>\n",
       "      <th>Converted</th>\n",
       "      <th>TotalVisits</th>\n",
       "      <th>Total Time Spent on Website</th>\n",
       "      <th>Page Views Per Visit</th>\n",
       "      <th>Asymmetrique Activity Score</th>\n",
       "      <th>Asymmetrique Profile Score</th>\n",
       "    </tr>\n",
       "  </thead>\n",
       "  <tbody>\n",
       "    <tr>\n",
       "      <th>count</th>\n",
       "      <td>9240.000000</td>\n",
       "      <td>9240.000000</td>\n",
       "      <td>9103.000000</td>\n",
       "      <td>9240.000000</td>\n",
       "      <td>9103.000000</td>\n",
       "      <td>5022.000000</td>\n",
       "      <td>5022.000000</td>\n",
       "    </tr>\n",
       "    <tr>\n",
       "      <th>mean</th>\n",
       "      <td>617188.435606</td>\n",
       "      <td>0.385390</td>\n",
       "      <td>3.445238</td>\n",
       "      <td>487.698268</td>\n",
       "      <td>2.362820</td>\n",
       "      <td>14.306252</td>\n",
       "      <td>16.344883</td>\n",
       "    </tr>\n",
       "    <tr>\n",
       "      <th>std</th>\n",
       "      <td>23405.995698</td>\n",
       "      <td>0.486714</td>\n",
       "      <td>4.854853</td>\n",
       "      <td>548.021466</td>\n",
       "      <td>2.161418</td>\n",
       "      <td>1.386694</td>\n",
       "      <td>1.811395</td>\n",
       "    </tr>\n",
       "    <tr>\n",
       "      <th>min</th>\n",
       "      <td>579533.000000</td>\n",
       "      <td>0.000000</td>\n",
       "      <td>0.000000</td>\n",
       "      <td>0.000000</td>\n",
       "      <td>0.000000</td>\n",
       "      <td>7.000000</td>\n",
       "      <td>11.000000</td>\n",
       "    </tr>\n",
       "    <tr>\n",
       "      <th>25%</th>\n",
       "      <td>596484.500000</td>\n",
       "      <td>0.000000</td>\n",
       "      <td>1.000000</td>\n",
       "      <td>12.000000</td>\n",
       "      <td>1.000000</td>\n",
       "      <td>14.000000</td>\n",
       "      <td>15.000000</td>\n",
       "    </tr>\n",
       "    <tr>\n",
       "      <th>50%</th>\n",
       "      <td>615479.000000</td>\n",
       "      <td>0.000000</td>\n",
       "      <td>3.000000</td>\n",
       "      <td>248.000000</td>\n",
       "      <td>2.000000</td>\n",
       "      <td>14.000000</td>\n",
       "      <td>16.000000</td>\n",
       "    </tr>\n",
       "    <tr>\n",
       "      <th>75%</th>\n",
       "      <td>637387.250000</td>\n",
       "      <td>1.000000</td>\n",
       "      <td>5.000000</td>\n",
       "      <td>936.000000</td>\n",
       "      <td>3.000000</td>\n",
       "      <td>15.000000</td>\n",
       "      <td>18.000000</td>\n",
       "    </tr>\n",
       "    <tr>\n",
       "      <th>max</th>\n",
       "      <td>660737.000000</td>\n",
       "      <td>1.000000</td>\n",
       "      <td>251.000000</td>\n",
       "      <td>2272.000000</td>\n",
       "      <td>55.000000</td>\n",
       "      <td>18.000000</td>\n",
       "      <td>20.000000</td>\n",
       "    </tr>\n",
       "  </tbody>\n",
       "</table>\n",
       "</div>"
      ],
      "text/plain": [
       "         Lead Number    Converted  TotalVisits  Total Time Spent on Website  \\\n",
       "count    9240.000000  9240.000000  9103.000000                  9240.000000   \n",
       "mean   617188.435606     0.385390     3.445238                   487.698268   \n",
       "std     23405.995698     0.486714     4.854853                   548.021466   \n",
       "min    579533.000000     0.000000     0.000000                     0.000000   \n",
       "25%    596484.500000     0.000000     1.000000                    12.000000   \n",
       "50%    615479.000000     0.000000     3.000000                   248.000000   \n",
       "75%    637387.250000     1.000000     5.000000                   936.000000   \n",
       "max    660737.000000     1.000000   251.000000                  2272.000000   \n",
       "\n",
       "       Page Views Per Visit  Asymmetrique Activity Score  \\\n",
       "count           9103.000000                  5022.000000   \n",
       "mean               2.362820                    14.306252   \n",
       "std                2.161418                     1.386694   \n",
       "min                0.000000                     7.000000   \n",
       "25%                1.000000                    14.000000   \n",
       "50%                2.000000                    14.000000   \n",
       "75%                3.000000                    15.000000   \n",
       "max               55.000000                    18.000000   \n",
       "\n",
       "       Asymmetrique Profile Score  \n",
       "count                 5022.000000  \n",
       "mean                    16.344883  \n",
       "std                      1.811395  \n",
       "min                     11.000000  \n",
       "25%                     15.000000  \n",
       "50%                     16.000000  \n",
       "75%                     18.000000  \n",
       "max                     20.000000  "
      ]
     },
     "execution_count": 5,
     "metadata": {},
     "output_type": "execute_result"
    }
   ],
   "source": [
    "# Check the numeric attributes\n",
    "leads_data.describe()"
   ]
  },
  {
   "cell_type": "markdown",
   "id": "270f7b73",
   "metadata": {},
   "source": [
    "## Step 3: Data Preparation"
   ]
  },
  {
   "cell_type": "markdown",
   "id": "f17fef81",
   "metadata": {},
   "source": [
    "#### Convert Yes/ No to 1/0"
   ]
  },
  {
   "cell_type": "code",
   "execution_count": 6,
   "id": "feafffff",
   "metadata": {},
   "outputs": [],
   "source": [
    "# List of variables to map to 0/1 from no/yes\n",
    "\n",
    "varlist =  ['Do Not Email','Do Not Call','Search','Magazine','Newspaper Article','X Education Forums','Newspaper',\n",
    "'Digital Advertisement','Through Recommendations','Receive More Updates About Our Courses',\n",
    "'Update me on Supply Chain Content','Get updates on DM Content','I agree to pay the amount through cheque',\n",
    "'A free copy of Mastering The Interview']\n",
    "\n",
    "# Defining the map function\n",
    "def binary_map(x):\n",
    "    return x.map({'Yes': 1, \"No\": 0})\n",
    "\n",
    "# Applying the function to the housing list\n",
    "leads_data[varlist] = leads_data[varlist].apply(binary_map)"
   ]
  },
  {
   "cell_type": "code",
   "execution_count": 7,
   "id": "855d42b9",
   "metadata": {},
   "outputs": [
    {
     "data": {
      "text/plain": [
       "Do Not Email                                 734\n",
       "Do Not Call                                    2\n",
       "Search                                        14\n",
       "Magazine                                       0\n",
       "Newspaper Article                              2\n",
       "X Education Forums                             1\n",
       "Newspaper                                      1\n",
       "Digital Advertisement                          4\n",
       "Through Recommendations                        7\n",
       "Receive More Updates About Our Courses         0\n",
       "Update me on Supply Chain Content              0\n",
       "Get updates on DM Content                      0\n",
       "I agree to pay the amount through cheque       0\n",
       "A free copy of Mastering The Interview      2888\n",
       "dtype: int64"
      ]
     },
     "execution_count": 7,
     "metadata": {},
     "output_type": "execute_result"
    }
   ],
   "source": [
    "# Check the spread of 'Yes' / ' No' (1/0) variables\n",
    "leads_data[varlist].sum()"
   ]
  },
  {
   "cell_type": "code",
   "execution_count": 8,
   "id": "5e1862ce",
   "metadata": {},
   "outputs": [],
   "source": [
    "## Drop the irrelevant columns as the count of value = 1 is very low.\n",
    "leads_data = leads_data.drop(['Do Not Call','Search','Magazine','Newspaper Article','X Education Forums','Newspaper',\n",
    "'Digital Advertisement','Through Recommendations','Receive More Updates About Our Courses',\n",
    "'Update me on Supply Chain Content','Get updates on DM Content','I agree to pay the amount through cheque'], 1)"
   ]
  },
  {
   "cell_type": "code",
   "execution_count": 9,
   "id": "b2db94d1",
   "metadata": {},
   "outputs": [
    {
     "name": "stdout",
     "output_type": "stream",
     "text": [
      "<class 'pandas.core.frame.DataFrame'>\n",
      "RangeIndex: 9240 entries, 0 to 9239\n",
      "Data columns (total 25 columns):\n",
      " #   Column                                         Non-Null Count  Dtype  \n",
      "---  ------                                         --------------  -----  \n",
      " 0   Prospect ID                                    9240 non-null   object \n",
      " 1   Lead Number                                    9240 non-null   int64  \n",
      " 2   Lead Origin                                    9240 non-null   object \n",
      " 3   Lead Source                                    9204 non-null   object \n",
      " 4   Do Not Email                                   9240 non-null   int64  \n",
      " 5   Converted                                      9240 non-null   int64  \n",
      " 6   TotalVisits                                    9103 non-null   float64\n",
      " 7   Total Time Spent on Website                    9240 non-null   int64  \n",
      " 8   Page Views Per Visit                           9103 non-null   float64\n",
      " 9   Last Activity                                  9137 non-null   object \n",
      " 10  Country                                        6779 non-null   object \n",
      " 11  Specialization                                 7802 non-null   object \n",
      " 12  How did you hear about X Education             7033 non-null   object \n",
      " 13  What is your current occupation                6550 non-null   object \n",
      " 14  What matters most to you in choosing a course  6531 non-null   object \n",
      " 15  Tags                                           5887 non-null   object \n",
      " 16  Lead Quality                                   4473 non-null   object \n",
      " 17  Lead Profile                                   6531 non-null   object \n",
      " 18  City                                           7820 non-null   object \n",
      " 19  Asymmetrique Activity Index                    5022 non-null   object \n",
      " 20  Asymmetrique Profile Index                     5022 non-null   object \n",
      " 21  Asymmetrique Activity Score                    5022 non-null   float64\n",
      " 22  Asymmetrique Profile Score                     5022 non-null   float64\n",
      " 23  A free copy of Mastering The Interview         9240 non-null   int64  \n",
      " 24  Last Notable Activity                          9240 non-null   object \n",
      "dtypes: float64(4), int64(5), object(16)\n",
      "memory usage: 1.8+ MB\n"
     ]
    }
   ],
   "source": [
    "# Check the info of the dataframe again for null / not null values\n",
    "leads_data.info()"
   ]
  },
  {
   "cell_type": "code",
   "execution_count": 10,
   "id": "966fbe28",
   "metadata": {},
   "outputs": [],
   "source": [
    "# Drop Prospect ID as Lead Number is unique \n",
    "leads_data = leads_data.drop(['Prospect ID'], 1)"
   ]
  },
  {
   "cell_type": "code",
   "execution_count": 11,
   "id": "e46b9441",
   "metadata": {},
   "outputs": [
    {
     "data": {
      "text/plain": [
       "(9240, 24)"
      ]
     },
     "execution_count": 11,
     "metadata": {},
     "output_type": "execute_result"
    }
   ],
   "source": [
    "leads_data.shape"
   ]
  },
  {
   "cell_type": "code",
   "execution_count": 12,
   "id": "daf30342",
   "metadata": {},
   "outputs": [],
   "source": [
    "# Some columns have \"Select\" values which can be replaced with Nulls. \n",
    "\n",
    "leads_data['Specialization'] = leads_data['Specialization'].replace('Select', np.nan)\n",
    "leads_data['How did you hear about X Education'] = leads_data['How did you hear about X Education'].replace('Select', np.nan)\n",
    "leads_data['Lead Profile'] = leads_data['Lead Profile'].replace('Select', np.nan)\n",
    "leads_data['City'] = leads_data['City'].replace('Select', np.nan)"
   ]
  },
  {
   "cell_type": "code",
   "execution_count": 13,
   "id": "7990cf0b",
   "metadata": {},
   "outputs": [
    {
     "data": {
      "text/plain": [
       "Lead Number                                       0.00\n",
       "Lead Origin                                       0.00\n",
       "Lead Source                                       0.39\n",
       "Do Not Email                                      0.00\n",
       "Converted                                         0.00\n",
       "TotalVisits                                       1.48\n",
       "Total Time Spent on Website                       0.00\n",
       "Page Views Per Visit                              1.48\n",
       "Last Activity                                     1.11\n",
       "Country                                          26.63\n",
       "Specialization                                   36.58\n",
       "How did you hear about X Education               78.46\n",
       "What is your current occupation                  29.11\n",
       "What matters most to you in choosing a course    29.32\n",
       "Tags                                             36.29\n",
       "Lead Quality                                     51.59\n",
       "Lead Profile                                     74.19\n",
       "City                                             39.71\n",
       "Asymmetrique Activity Index                      45.65\n",
       "Asymmetrique Profile Index                       45.65\n",
       "Asymmetrique Activity Score                      45.65\n",
       "Asymmetrique Profile Score                       45.65\n",
       "A free copy of Mastering The Interview            0.00\n",
       "Last Notable Activity                             0.00\n",
       "dtype: float64"
      ]
     },
     "execution_count": 13,
     "metadata": {},
     "output_type": "execute_result"
    }
   ],
   "source": [
    "# Checking the percentage of missing values / null values\n",
    "round(100*(leads_data.isnull().sum()/len(leads_data.index)), 2)"
   ]
  },
  {
   "cell_type": "code",
   "execution_count": 14,
   "id": "22f727ec",
   "metadata": {},
   "outputs": [],
   "source": [
    "# Lets drop columns with greater than 30% nulls\n",
    "leads_data = leads_data.drop(['Specialization', 'How did you hear about X Education', 'Tags', 'Lead Quality',\n",
    "                          'Lead Profile','City', 'Asymmetrique Activity Index', 'Asymmetrique Profile Index',\n",
    "                          'Asymmetrique Activity Score', 'Asymmetrique Profile Score'], axis=1)"
   ]
  },
  {
   "cell_type": "code",
   "execution_count": 15,
   "id": "246f7f13",
   "metadata": {},
   "outputs": [
    {
     "data": {
      "text/plain": [
       "Lead Number                                       0.00\n",
       "Lead Origin                                       0.00\n",
       "Lead Source                                       0.39\n",
       "Do Not Email                                      0.00\n",
       "Converted                                         0.00\n",
       "TotalVisits                                       1.48\n",
       "Total Time Spent on Website                       0.00\n",
       "Page Views Per Visit                              1.48\n",
       "Last Activity                                     1.11\n",
       "Country                                          26.63\n",
       "What is your current occupation                  29.11\n",
       "What matters most to you in choosing a course    29.32\n",
       "A free copy of Mastering The Interview            0.00\n",
       "Last Notable Activity                             0.00\n",
       "dtype: float64"
      ]
     },
     "execution_count": 15,
     "metadata": {},
     "output_type": "execute_result"
    }
   ],
   "source": [
    "# Checking the percentage of missing values\n",
    "round(100*(leads_data.isnull().sum()/len(leads_data.index)), 2)"
   ]
  },
  {
   "cell_type": "markdown",
   "id": "f101622c",
   "metadata": {},
   "source": [
    "#### Check for the columns where null values are high and assess if we should remove them"
   ]
  },
  {
   "cell_type": "code",
   "execution_count": 16,
   "id": "2ef35542",
   "metadata": {},
   "outputs": [
    {
     "data": {
      "text/plain": [
       "India                   95.766337\n",
       "United States            1.017849\n",
       "United Arab Emirates     0.781826\n",
       "Singapore                0.354035\n",
       "Saudi Arabia             0.309780\n",
       "United Kingdom           0.221272\n",
       "Australia                0.191769\n",
       "Qatar                    0.147514\n",
       "Hong Kong                0.103260\n",
       "Bahrain                  0.103260\n",
       "Oman                     0.088509\n",
       "France                   0.088509\n",
       "unknown                  0.073757\n",
       "South Africa             0.059006\n",
       "Nigeria                  0.059006\n",
       "Germany                  0.059006\n",
       "Kuwait                   0.059006\n",
       "Canada                   0.059006\n",
       "Sweden                   0.044254\n",
       "China                    0.029503\n",
       "Asia/Pacific Region      0.029503\n",
       "Uganda                   0.029503\n",
       "Bangladesh               0.029503\n",
       "Italy                    0.029503\n",
       "Belgium                  0.029503\n",
       "Netherlands              0.029503\n",
       "Ghana                    0.029503\n",
       "Philippines              0.029503\n",
       "Russia                   0.014751\n",
       "Switzerland              0.014751\n",
       "Vietnam                  0.014751\n",
       "Denmark                  0.014751\n",
       "Tanzania                 0.014751\n",
       "Liberia                  0.014751\n",
       "Malaysia                 0.014751\n",
       "Kenya                    0.014751\n",
       "Sri Lanka                0.014751\n",
       "Indonesia                0.014751\n",
       "Name: Country, dtype: float64"
      ]
     },
     "execution_count": 16,
     "metadata": {},
     "output_type": "execute_result"
    }
   ],
   "source": [
    "# Check values for Country.\n",
    "leads_data['Country'].value_counts() / leads_data['Country'].count() * 100"
   ]
  },
  {
   "cell_type": "code",
   "execution_count": 17,
   "id": "46d9f08b",
   "metadata": {},
   "outputs": [
    {
     "data": {
      "text/plain": [
       "Better Career Prospects      99.954065\n",
       "Flexibility & Convenience     0.030623\n",
       "Other                         0.015312\n",
       "Name: What matters most to you in choosing a course, dtype: float64"
      ]
     },
     "execution_count": 17,
     "metadata": {},
     "output_type": "execute_result"
    }
   ],
   "source": [
    "leads_data['What matters most to you in choosing a course'].value_counts() / leads_data['What matters most to you in choosing a course'].count() * 100"
   ]
  },
  {
   "cell_type": "code",
   "execution_count": 18,
   "id": "ef6a4a5e",
   "metadata": {},
   "outputs": [
    {
     "data": {
      "text/plain": [
       "Unemployed              85.496183\n",
       "Working Professional    10.778626\n",
       "Student                  3.206107\n",
       "Other                    0.244275\n",
       "Housewife                0.152672\n",
       "Businessman              0.122137\n",
       "Name: What is your current occupation, dtype: float64"
      ]
     },
     "execution_count": 18,
     "metadata": {},
     "output_type": "execute_result"
    }
   ],
   "source": [
    "leads_data['What is your current occupation'].value_counts() / leads_data['What is your current occupation'].count() * 100"
   ]
  },
  {
   "cell_type": "code",
   "execution_count": 19,
   "id": "15a4c278",
   "metadata": {},
   "outputs": [],
   "source": [
    "# based on the above information, Country and 'What matters most to you in choosing a course' can be dropped as apart from \n",
    "# nulls, almost all values are single eg India and Better Career Prospects respectively\n",
    "leads_data = leads_data.drop(['What matters most to you in choosing a course', 'Country'], axis=1)"
   ]
  },
  {
   "cell_type": "markdown",
   "id": "ab4a0df2",
   "metadata": {},
   "source": [
    "#### Check for the columns where null values are low, but need to be replaced with an alternate value to remove nulls"
   ]
  },
  {
   "cell_type": "code",
   "execution_count": 20,
   "id": "e6235c9a",
   "metadata": {},
   "outputs": [
    {
     "data": {
      "text/plain": [
       "Google               31.160365\n",
       "Direct Traffic       27.629292\n",
       "Olark Chat           19.067797\n",
       "Organic Search       12.538027\n",
       "Reference             5.801825\n",
       "Welingak Website      1.542807\n",
       "Referral Sites        1.358105\n",
       "Facebook              0.597566\n",
       "bing                  0.065189\n",
       "google                0.054324\n",
       "Click2call            0.043459\n",
       "Press_Release         0.021730\n",
       "Social Media          0.021730\n",
       "Live Chat             0.021730\n",
       "youtubechannel        0.010865\n",
       "testone               0.010865\n",
       "Pay per Click Ads     0.010865\n",
       "welearnblog_Home      0.010865\n",
       "WeLearn               0.010865\n",
       "blog                  0.010865\n",
       "NC_EDM                0.010865\n",
       "Name: Lead Source, dtype: float64"
      ]
     },
     "execution_count": 20,
     "metadata": {},
     "output_type": "execute_result"
    }
   ],
   "source": [
    "leads_data['Lead Source'].value_counts() / leads_data['Lead Source'].count() * 100"
   ]
  },
  {
   "cell_type": "code",
   "execution_count": 21,
   "id": "74883dd0",
   "metadata": {},
   "outputs": [
    {
     "data": {
      "text/plain": [
       "Email Opened                    37.616285\n",
       "SMS Sent                        30.042684\n",
       "Olark Chat Conversation         10.649010\n",
       "Page Visited on Website          7.004487\n",
       "Converted to Lead                4.684251\n",
       "Email Bounced                    3.567911\n",
       "Email Link Clicked               2.922185\n",
       "Form Submitted on Website        1.269563\n",
       "Unreachable                      1.017840\n",
       "Unsubscribed                     0.667615\n",
       "Had a Phone Conversation         0.328335\n",
       "Approached upfront               0.098501\n",
       "View in browser link Clicked     0.065667\n",
       "Email Received                   0.021889\n",
       "Email Marked Spam                0.021889\n",
       "Visited Booth in Tradeshow       0.010945\n",
       "Resubscribed to emails           0.010945\n",
       "Name: Last Activity, dtype: float64"
      ]
     },
     "execution_count": 21,
     "metadata": {},
     "output_type": "execute_result"
    }
   ],
   "source": [
    "leads_data['Last Activity'].value_counts() / leads_data['Last Activity'].count() * 100"
   ]
  },
  {
   "cell_type": "code",
   "execution_count": 22,
   "id": "8dd63731",
   "metadata": {},
   "outputs": [],
   "source": [
    "# Since The values are not skewed or not specific, we replace the nulls with \"No Information\"\n",
    "\n",
    "leads_data['What is your current occupation'] = leads_data['What is your current occupation'].replace(np.nan, 'No Information')\n",
    "leads_data['Lead Source'] = leads_data['Lead Source'].replace(np.nan, 'No Information')\n",
    "leads_data['Last Activity'] = leads_data['Last Activity'].replace(np.nan, 'No Information')"
   ]
  },
  {
   "cell_type": "code",
   "execution_count": 23,
   "id": "2fac70d0",
   "metadata": {},
   "outputs": [],
   "source": [
    "# google is twice in the data and so replace with Google.\n",
    "leads_data['Lead Source'] = leads_data['Lead Source'].replace('google', 'Google')"
   ]
  },
  {
   "cell_type": "code",
   "execution_count": 24,
   "id": "aae3d9c5",
   "metadata": {},
   "outputs": [
    {
     "data": {
      "text/plain": [
       "Lead Number                               0.00\n",
       "Lead Origin                               0.00\n",
       "Lead Source                               0.00\n",
       "Do Not Email                              0.00\n",
       "Converted                                 0.00\n",
       "TotalVisits                               1.48\n",
       "Total Time Spent on Website               0.00\n",
       "Page Views Per Visit                      1.48\n",
       "Last Activity                             0.00\n",
       "What is your current occupation           0.00\n",
       "A free copy of Mastering The Interview    0.00\n",
       "Last Notable Activity                     0.00\n",
       "dtype: float64"
      ]
     },
     "execution_count": 24,
     "metadata": {},
     "output_type": "execute_result"
    }
   ],
   "source": [
    "# Checking the percentage of missing values\n",
    "round(100*(leads_data.isnull().sum()/len(leads_data.index)), 2)"
   ]
  },
  {
   "cell_type": "code",
   "execution_count": 25,
   "id": "b5f051f5",
   "metadata": {},
   "outputs": [
    {
     "data": {
      "text/html": [
       "<div>\n",
       "<style scoped>\n",
       "    .dataframe tbody tr th:only-of-type {\n",
       "        vertical-align: middle;\n",
       "    }\n",
       "\n",
       "    .dataframe tbody tr th {\n",
       "        vertical-align: top;\n",
       "    }\n",
       "\n",
       "    .dataframe thead th {\n",
       "        text-align: right;\n",
       "    }\n",
       "</style>\n",
       "<table border=\"1\" class=\"dataframe\">\n",
       "  <thead>\n",
       "    <tr style=\"text-align: right;\">\n",
       "      <th></th>\n",
       "      <th>Lead Number</th>\n",
       "      <th>Do Not Email</th>\n",
       "      <th>Converted</th>\n",
       "      <th>TotalVisits</th>\n",
       "      <th>Total Time Spent on Website</th>\n",
       "      <th>Page Views Per Visit</th>\n",
       "      <th>A free copy of Mastering The Interview</th>\n",
       "    </tr>\n",
       "  </thead>\n",
       "  <tbody>\n",
       "    <tr>\n",
       "      <th>count</th>\n",
       "      <td>9240.000000</td>\n",
       "      <td>9240.000000</td>\n",
       "      <td>9240.000000</td>\n",
       "      <td>9103.000000</td>\n",
       "      <td>9240.000000</td>\n",
       "      <td>9103.000000</td>\n",
       "      <td>9240.000000</td>\n",
       "    </tr>\n",
       "    <tr>\n",
       "      <th>mean</th>\n",
       "      <td>617188.435606</td>\n",
       "      <td>0.079437</td>\n",
       "      <td>0.385390</td>\n",
       "      <td>3.445238</td>\n",
       "      <td>487.698268</td>\n",
       "      <td>2.362820</td>\n",
       "      <td>0.312554</td>\n",
       "    </tr>\n",
       "    <tr>\n",
       "      <th>std</th>\n",
       "      <td>23405.995698</td>\n",
       "      <td>0.270435</td>\n",
       "      <td>0.486714</td>\n",
       "      <td>4.854853</td>\n",
       "      <td>548.021466</td>\n",
       "      <td>2.161418</td>\n",
       "      <td>0.463559</td>\n",
       "    </tr>\n",
       "    <tr>\n",
       "      <th>min</th>\n",
       "      <td>579533.000000</td>\n",
       "      <td>0.000000</td>\n",
       "      <td>0.000000</td>\n",
       "      <td>0.000000</td>\n",
       "      <td>0.000000</td>\n",
       "      <td>0.000000</td>\n",
       "      <td>0.000000</td>\n",
       "    </tr>\n",
       "    <tr>\n",
       "      <th>25%</th>\n",
       "      <td>596484.500000</td>\n",
       "      <td>0.000000</td>\n",
       "      <td>0.000000</td>\n",
       "      <td>1.000000</td>\n",
       "      <td>12.000000</td>\n",
       "      <td>1.000000</td>\n",
       "      <td>0.000000</td>\n",
       "    </tr>\n",
       "    <tr>\n",
       "      <th>50%</th>\n",
       "      <td>615479.000000</td>\n",
       "      <td>0.000000</td>\n",
       "      <td>0.000000</td>\n",
       "      <td>3.000000</td>\n",
       "      <td>248.000000</td>\n",
       "      <td>2.000000</td>\n",
       "      <td>0.000000</td>\n",
       "    </tr>\n",
       "    <tr>\n",
       "      <th>75%</th>\n",
       "      <td>637387.250000</td>\n",
       "      <td>0.000000</td>\n",
       "      <td>1.000000</td>\n",
       "      <td>5.000000</td>\n",
       "      <td>936.000000</td>\n",
       "      <td>3.000000</td>\n",
       "      <td>1.000000</td>\n",
       "    </tr>\n",
       "    <tr>\n",
       "      <th>max</th>\n",
       "      <td>660737.000000</td>\n",
       "      <td>1.000000</td>\n",
       "      <td>1.000000</td>\n",
       "      <td>251.000000</td>\n",
       "      <td>2272.000000</td>\n",
       "      <td>55.000000</td>\n",
       "      <td>1.000000</td>\n",
       "    </tr>\n",
       "  </tbody>\n",
       "</table>\n",
       "</div>"
      ],
      "text/plain": [
       "         Lead Number  Do Not Email    Converted  TotalVisits  \\\n",
       "count    9240.000000   9240.000000  9240.000000  9103.000000   \n",
       "mean   617188.435606      0.079437     0.385390     3.445238   \n",
       "std     23405.995698      0.270435     0.486714     4.854853   \n",
       "min    579533.000000      0.000000     0.000000     0.000000   \n",
       "25%    596484.500000      0.000000     0.000000     1.000000   \n",
       "50%    615479.000000      0.000000     0.000000     3.000000   \n",
       "75%    637387.250000      0.000000     1.000000     5.000000   \n",
       "max    660737.000000      1.000000     1.000000   251.000000   \n",
       "\n",
       "       Total Time Spent on Website  Page Views Per Visit  \\\n",
       "count                  9240.000000           9103.000000   \n",
       "mean                    487.698268              2.362820   \n",
       "std                     548.021466              2.161418   \n",
       "min                       0.000000              0.000000   \n",
       "25%                      12.000000              1.000000   \n",
       "50%                     248.000000              2.000000   \n",
       "75%                     936.000000              3.000000   \n",
       "max                    2272.000000             55.000000   \n",
       "\n",
       "       A free copy of Mastering The Interview  \n",
       "count                             9240.000000  \n",
       "mean                                 0.312554  \n",
       "std                                  0.463559  \n",
       "min                                  0.000000  \n",
       "25%                                  0.000000  \n",
       "50%                                  0.000000  \n",
       "75%                                  1.000000  \n",
       "max                                  1.000000  "
      ]
     },
     "execution_count": 25,
     "metadata": {},
     "output_type": "execute_result"
    }
   ],
   "source": [
    "leads_data.describe()"
   ]
  },
  {
   "cell_type": "code",
   "execution_count": 26,
   "id": "914831a7",
   "metadata": {},
   "outputs": [],
   "source": [
    "# For numeric columns, we replace the null with the median.\n",
    "leads_data['TotalVisits'] = leads_data['TotalVisits'].replace(np.nan, leads_data['TotalVisits'].median())\n",
    "leads_data['Page Views Per Visit'] = leads_data['Page Views Per Visit'].replace(np.nan, leads_data['Page Views Per Visit'].median())"
   ]
  },
  {
   "cell_type": "code",
   "execution_count": 27,
   "id": "29c42fda",
   "metadata": {},
   "outputs": [
    {
     "data": {
      "text/plain": [
       "Lead Number                               0.0\n",
       "Lead Origin                               0.0\n",
       "Lead Source                               0.0\n",
       "Do Not Email                              0.0\n",
       "Converted                                 0.0\n",
       "TotalVisits                               0.0\n",
       "Total Time Spent on Website               0.0\n",
       "Page Views Per Visit                      0.0\n",
       "Last Activity                             0.0\n",
       "What is your current occupation           0.0\n",
       "A free copy of Mastering The Interview    0.0\n",
       "Last Notable Activity                     0.0\n",
       "dtype: float64"
      ]
     },
     "execution_count": 27,
     "metadata": {},
     "output_type": "execute_result"
    }
   ],
   "source": [
    "# Checking the percentage of missing values\n",
    "round(100*(leads_data.isnull().sum()/len(leads_data.index)), 2)"
   ]
  },
  {
   "cell_type": "markdown",
   "id": "f9b9bd64",
   "metadata": {},
   "source": [
    "## Step 4 - Perform Visual analysis"
   ]
  },
  {
   "cell_type": "code",
   "execution_count": 28,
   "id": "aedfe5e3",
   "metadata": {},
   "outputs": [],
   "source": [
    "import matplotlib.pyplot as plt\n",
    "import seaborn as sns"
   ]
  },
  {
   "cell_type": "code",
   "execution_count": 29,
   "id": "674c250b",
   "metadata": {},
   "outputs": [
    {
     "data": {
      "image/png": "[encoded data removed]",
      "text/plain": [
       "<Figure size 144x360 with 1 Axes>"
      ]
     },
     "metadata": {
      "needs_background": "light"
     },
     "output_type": "display_data"
    }
   ],
   "source": [
    "# Conversion Rate \n",
    "\n",
    "plot = sns.catplot(x=\"Converted\", kind=\"count\", data=leads_data, palette=\"Set2\", aspect= 0.4);\n",
    "\n",
    "plt.title('Converted', fontsize = 14)\n",
    "plt.xlabel(\"Converted\", fontsize = 12)\n",
    "plt.ylabel(\"Count\", fontsize = 12)\n",
    "\n",
    "plt.show()"
   ]
  },
  {
   "cell_type": "code",
   "execution_count": 30,
   "id": "72511293",
   "metadata": {},
   "outputs": [
    {
     "data": {
      "image/png": "[encoded data removed]",
      "text/plain": [
       "<Figure size 1440x720 with 2 Axes>"
      ]
     },
     "metadata": {
      "needs_background": "light"
     },
     "output_type": "display_data"
    }
   ],
   "source": [
    "# Lead Source based analysis of data\n",
    "plt.figure(figsize=(20,10))\n",
    "\n",
    "plt.subplot(1,2,1)    \n",
    "ax = sns.countplot(x = 'Lead Source',data=leads_data[leads_data[\"Converted\"]==1])\n",
    "plt.title('Converted')\n",
    "ax.set(xlabel='Lead Source')\n",
    "temp = ax.set_xticklabels(ax.get_xticklabels(), rotation = 45, horizontalalignment='right')\n",
    "\n",
    "plt.subplot(1,2,2) \n",
    "ax = sns.countplot(x = 'Lead Source',data=leads_data[leads_data[\"Converted\"]==0])\n",
    "plt.title('Non-Converted')\n",
    "ax.set(xlabel='Lead Source')\n",
    "temp = ax.set_xticklabels(ax.get_xticklabels(), rotation = 45, horizontalalignment='right')\n",
    "plt.show()"
   ]
  },
  {
   "cell_type": "code",
   "execution_count": 31,
   "id": "cf2a163a",
   "metadata": {},
   "outputs": [
    {
     "data": {
      "text/plain": [
       "Text(0, 0.5, 'Count')"
      ]
     },
     "execution_count": 31,
     "metadata": {},
     "output_type": "execute_result"
    },
    {
     "data": {
      "image/png": "[encoded data removed]",
      "text/plain": [
       "<Figure size 1224x1080 with 1 Axes>"
      ]
     },
     "metadata": {
      "needs_background": "light"
     },
     "output_type": "display_data"
    }
   ],
   "source": [
    "# Lead Source based analysis of data\n",
    "leads_data.pivot_table(values='Lead Number',index='Lead Source',columns='Converted',aggfunc='count').plot.bar(figsize=(17,15))\n",
    "plt.xlabel('Lead Source')\n",
    "plt.ylabel('Count')"
   ]
  },
  {
   "cell_type": "code",
   "execution_count": 32,
   "id": "78bf3e84",
   "metadata": {},
   "outputs": [
    {
     "data": {
      "image/png": "[encoded data removed]",
      "text/plain": [
       "<Figure size 1440x720 with 2 Axes>"
      ]
     },
     "metadata": {
      "needs_background": "light"
     },
     "output_type": "display_data"
    }
   ],
   "source": [
    "# Lead Origin based analysis of data\n",
    "plt.figure(figsize=(20,10))\n",
    "\n",
    "plt.subplot(1,2,1)    \n",
    "ax = sns.countplot(x = 'Lead Origin',data=leads_data[leads_data[\"Converted\"]==1])\n",
    "plt.title('Converted')\n",
    "ax.set(xlabel='Lead Origin')\n",
    "temp = ax.set_xticklabels(ax.get_xticklabels(), rotation = 45, horizontalalignment='right')\n",
    "\n",
    "plt.subplot(1,2,2) \n",
    "ax = sns.countplot(x = 'Lead Origin',data=leads_data[leads_data[\"Converted\"]==0])\n",
    "plt.title('Non-Converted')\n",
    "ax.set(xlabel='Lead Origin')\n",
    "temp = ax.set_xticklabels(ax.get_xticklabels(), rotation = 45, horizontalalignment='right')\n",
    "plt.show()"
   ]
  },
  {
   "cell_type": "code",
   "execution_count": 33,
   "id": "43e8ac5f",
   "metadata": {},
   "outputs": [
    {
     "data": {
      "image/png": "[encoded data removed]",
      "text/plain": [
       "<Figure size 1440x720 with 2 Axes>"
      ]
     },
     "metadata": {
      "needs_background": "light"
     },
     "output_type": "display_data"
    }
   ],
   "source": [
    "# Do not email based analysis of data\n",
    "plt.figure(figsize=(20,10))\n",
    "\n",
    "plt.subplot(1,2,1)    \n",
    "ax = sns.countplot(x = 'Do Not Email',data=leads_data[leads_data[\"Converted\"]==1])\n",
    "plt.title('Converted')\n",
    "ax.set(xlabel='Do Not Email')\n",
    "temp = ax.set_xticklabels(ax.get_xticklabels(), rotation = 45, horizontalalignment='right')\n",
    "\n",
    "plt.subplot(1,2,2) \n",
    "ax = sns.countplot(x = 'Do Not Email',data=leads_data[leads_data[\"Converted\"]==0])\n",
    "plt.title('Non-Converted')\n",
    "ax.set(xlabel='Do Not Email')\n",
    "temp = ax.set_xticklabels(ax.get_xticklabels(), rotation = 45, horizontalalignment='right')\n",
    "plt.show()"
   ]
  },
  {
   "cell_type": "code",
   "execution_count": 34,
   "id": "6eeb8958",
   "metadata": {},
   "outputs": [
    {
     "data": {
      "image/png": "[encoded data removed]",
      "text/plain": [
       "<Figure size 1440x720 with 2 Axes>"
      ]
     },
     "metadata": {
      "needs_background": "light"
     },
     "output_type": "display_data"
    }
   ],
   "source": [
    "# Last Activity based analysis of data\n",
    "plt.figure(figsize=(20,10))\n",
    "\n",
    "plt.subplot(1,2,1)    \n",
    "ax = sns.countplot(x = 'Last Activity',data=leads_data[leads_data[\"Converted\"]==1])\n",
    "plt.title('Converted')\n",
    "ax.set(xlabel='Last Activity')\n",
    "temp = ax.set_xticklabels(ax.get_xticklabels(), rotation = 45, horizontalalignment='right')\n",
    "\n",
    "plt.subplot(1,2,2) \n",
    "ax = sns.countplot(x = 'Last Activity',data=leads_data[leads_data[\"Converted\"]==0])\n",
    "plt.title('Non-Converted')\n",
    "ax.set(xlabel='Last Activity')\n",
    "temp = ax.set_xticklabels(ax.get_xticklabels(), rotation = 45, horizontalalignment='right')\n",
    "plt.show()"
   ]
  },
  {
   "cell_type": "code",
   "execution_count": 35,
   "id": "aa2814c2",
   "metadata": {},
   "outputs": [
    {
     "data": {
      "image/png": "[encoded data removed]",
      "text/plain": [
       "<Figure size 1440x720 with 2 Axes>"
      ]
     },
     "metadata": {
      "needs_background": "light"
     },
     "output_type": "display_data"
    }
   ],
   "source": [
    "# What is your current occupation based analysis of data\n",
    "plt.figure(figsize=(20,10))\n",
    "\n",
    "plt.subplot(1,2,1)    \n",
    "ax = sns.countplot(x = 'What is your current occupation',data=leads_data[leads_data[\"Converted\"]==1])\n",
    "plt.title('Converted')\n",
    "ax.set(xlabel='What is your current occupation')\n",
    "temp = ax.set_xticklabels(ax.get_xticklabels(), rotation = 45, horizontalalignment='right')\n",
    "\n",
    "plt.subplot(1,2,2) \n",
    "ax = sns.countplot(x = 'What is your current occupation',data=leads_data[leads_data[\"Converted\"]==0])\n",
    "plt.title('Non-Converted')\n",
    "ax.set(xlabel='What is your current occupation')\n",
    "temp = ax.set_xticklabels(ax.get_xticklabels(), rotation = 45, horizontalalignment='right')\n",
    "plt.show()"
   ]
  },
  {
   "cell_type": "code",
   "execution_count": 36,
   "id": "a189f9a2",
   "metadata": {},
   "outputs": [
    {
     "data": {
      "image/png": "[encoded data removed]",
      "text/plain": [
       "<Figure size 1440x720 with 2 Axes>"
      ]
     },
     "metadata": {
      "needs_background": "light"
     },
     "output_type": "display_data"
    }
   ],
   "source": [
    "#Last Notable Activity  based analysis of data\n",
    "plt.figure(figsize=(20,10))\n",
    "\n",
    "plt.subplot(1,2,1)    \n",
    "ax = sns.countplot(x = 'Last Notable Activity',data=leads_data[leads_data[\"Converted\"]==1])\n",
    "plt.title('Converted')\n",
    "ax.set(xlabel='Last Notable Activity')\n",
    "temp = ax.set_xticklabels(ax.get_xticklabels(), rotation = 45, horizontalalignment='right')\n",
    "\n",
    "plt.subplot(1,2,2) \n",
    "ax = sns.countplot(x = 'Last Notable Activity',data=leads_data[leads_data[\"Converted\"]==0])\n",
    "plt.title('Non-Converted')\n",
    "ax.set(xlabel='Last Notable Activity')\n",
    "temp = ax.set_xticklabels(ax.get_xticklabels(), rotation = 45, horizontalalignment='right')\n",
    "plt.show()"
   ]
  },
  {
   "cell_type": "code",
   "execution_count": 37,
   "id": "8e3a7105",
   "metadata": {},
   "outputs": [
    {
     "data": {
      "image/png": "[encoded data removed]",
      "text/plain": [
       "<Figure size 1440x720 with 2 Axes>"
      ]
     },
     "metadata": {
      "needs_background": "light"
     },
     "output_type": "display_data"
    }
   ],
   "source": [
    "# A free copy of Mastering The Interview based analysis of data\n",
    "plt.figure(figsize=(20,10))\n",
    "\n",
    "plt.subplot(1,2,1)    \n",
    "ax = sns.countplot(x = 'A free copy of Mastering The Interview',data=leads_data[leads_data[\"Converted\"]==1])\n",
    "plt.title('Converted')\n",
    "ax.set(xlabel='A free copy of Mastering The Interview')\n",
    "temp = ax.set_xticklabels(ax.get_xticklabels(), rotation = 45, horizontalalignment='right')\n",
    "\n",
    "plt.subplot(1,2,2) \n",
    "ax = sns.countplot(x = 'A free copy of Mastering The Interview',data=leads_data[leads_data[\"Converted\"]==0])\n",
    "plt.title('Non-Converted')\n",
    "ax.set(xlabel='A free copy of Mastering The Interview')\n",
    "temp = ax.set_xticklabels(ax.get_xticklabels(), rotation = 45, horizontalalignment='right')\n",
    "plt.show()"
   ]
  },
  {
   "cell_type": "code",
   "execution_count": 38,
   "id": "cbc25e9c",
   "metadata": {},
   "outputs": [
    {
     "data": {
      "image/png": "[encoded data removed]",
      "text/plain": [
       "<Figure size 1440x1800 with 3 Axes>"
      ]
     },
     "metadata": {
      "needs_background": "light"
     },
     "output_type": "display_data"
    }
   ],
   "source": [
    "# Check the outliers in all the numeric columns\n",
    "\n",
    "plt.figure(figsize=(20, 25))\n",
    "plt.subplot(4,3,1)\n",
    "sns.boxplot(y = 'TotalVisits', palette='Set3', data = leads_data)\n",
    "plt.subplot(4,3,2)\n",
    "sns.boxplot(y = 'Total Time Spent on Website', palette='Set3', data = leads_data)\n",
    "plt.subplot(4,3,3)\n",
    "sns.boxplot(y = 'Page Views Per Visit', palette='Set3', data = leads_data)\n",
    "plt.show()"
   ]
  },
  {
   "cell_type": "markdown",
   "id": "b86c48b8",
   "metadata": {},
   "source": [
    "#### Creating Dummy Variables"
   ]
  },
  {
   "cell_type": "code",
   "execution_count": 39,
   "id": "7b856c0d",
   "metadata": {},
   "outputs": [
    {
     "data": {
      "text/html": [
       "<div>\n",
       "<style scoped>\n",
       "    .dataframe tbody tr th:only-of-type {\n",
       "        vertical-align: middle;\n",
       "    }\n",
       "\n",
       "    .dataframe tbody tr th {\n",
       "        vertical-align: top;\n",
       "    }\n",
       "\n",
       "    .dataframe thead th {\n",
       "        text-align: right;\n",
       "    }\n",
       "</style>\n",
       "<table border=\"1\" class=\"dataframe\">\n",
       "  <thead>\n",
       "    <tr style=\"text-align: right;\">\n",
       "      <th></th>\n",
       "      <th>Lead Source_Click2call</th>\n",
       "      <th>Lead Source_Direct Traffic</th>\n",
       "      <th>Lead Source_Facebook</th>\n",
       "      <th>Lead Source_Google</th>\n",
       "      <th>Lead Source_Live Chat</th>\n",
       "      <th>Lead Source_NC_EDM</th>\n",
       "      <th>Lead Source_No Information</th>\n",
       "      <th>Lead Source_Olark Chat</th>\n",
       "      <th>Lead Source_Organic Search</th>\n",
       "      <th>Lead Source_Pay per Click Ads</th>\n",
       "      <th>...</th>\n",
       "      <th>Lead Source_Reference</th>\n",
       "      <th>Lead Source_Referral Sites</th>\n",
       "      <th>Lead Source_Social Media</th>\n",
       "      <th>Lead Source_WeLearn</th>\n",
       "      <th>Lead Source_Welingak Website</th>\n",
       "      <th>Lead Source_bing</th>\n",
       "      <th>Lead Source_blog</th>\n",
       "      <th>Lead Source_testone</th>\n",
       "      <th>Lead Source_welearnblog_Home</th>\n",
       "      <th>Lead Source_youtubechannel</th>\n",
       "    </tr>\n",
       "  </thead>\n",
       "  <tbody>\n",
       "    <tr>\n",
       "      <th>0</th>\n",
       "      <td>0</td>\n",
       "      <td>0</td>\n",
       "      <td>0</td>\n",
       "      <td>0</td>\n",
       "      <td>0</td>\n",
       "      <td>0</td>\n",
       "      <td>0</td>\n",
       "      <td>1</td>\n",
       "      <td>0</td>\n",
       "      <td>0</td>\n",
       "      <td>...</td>\n",
       "      <td>0</td>\n",
       "      <td>0</td>\n",
       "      <td>0</td>\n",
       "      <td>0</td>\n",
       "      <td>0</td>\n",
       "      <td>0</td>\n",
       "      <td>0</td>\n",
       "      <td>0</td>\n",
       "      <td>0</td>\n",
       "      <td>0</td>\n",
       "    </tr>\n",
       "    <tr>\n",
       "      <th>1</th>\n",
       "      <td>0</td>\n",
       "      <td>0</td>\n",
       "      <td>0</td>\n",
       "      <td>0</td>\n",
       "      <td>0</td>\n",
       "      <td>0</td>\n",
       "      <td>0</td>\n",
       "      <td>0</td>\n",
       "      <td>1</td>\n",
       "      <td>0</td>\n",
       "      <td>...</td>\n",
       "      <td>0</td>\n",
       "      <td>0</td>\n",
       "      <td>0</td>\n",
       "      <td>0</td>\n",
       "      <td>0</td>\n",
       "      <td>0</td>\n",
       "      <td>0</td>\n",
       "      <td>0</td>\n",
       "      <td>0</td>\n",
       "      <td>0</td>\n",
       "    </tr>\n",
       "    <tr>\n",
       "      <th>2</th>\n",
       "      <td>0</td>\n",
       "      <td>1</td>\n",
       "      <td>0</td>\n",
       "      <td>0</td>\n",
       "      <td>0</td>\n",
       "      <td>0</td>\n",
       "      <td>0</td>\n",
       "      <td>0</td>\n",
       "      <td>0</td>\n",
       "      <td>0</td>\n",
       "      <td>...</td>\n",
       "      <td>0</td>\n",
       "      <td>0</td>\n",
       "      <td>0</td>\n",
       "      <td>0</td>\n",
       "      <td>0</td>\n",
       "      <td>0</td>\n",
       "      <td>0</td>\n",
       "      <td>0</td>\n",
       "      <td>0</td>\n",
       "      <td>0</td>\n",
       "    </tr>\n",
       "    <tr>\n",
       "      <th>3</th>\n",
       "      <td>0</td>\n",
       "      <td>1</td>\n",
       "      <td>0</td>\n",
       "      <td>0</td>\n",
       "      <td>0</td>\n",
       "      <td>0</td>\n",
       "      <td>0</td>\n",
       "      <td>0</td>\n",
       "      <td>0</td>\n",
       "      <td>0</td>\n",
       "      <td>...</td>\n",
       "      <td>0</td>\n",
       "      <td>0</td>\n",
       "      <td>0</td>\n",
       "      <td>0</td>\n",
       "      <td>0</td>\n",
       "      <td>0</td>\n",
       "      <td>0</td>\n",
       "      <td>0</td>\n",
       "      <td>0</td>\n",
       "      <td>0</td>\n",
       "    </tr>\n",
       "    <tr>\n",
       "      <th>4</th>\n",
       "      <td>0</td>\n",
       "      <td>0</td>\n",
       "      <td>0</td>\n",
       "      <td>1</td>\n",
       "      <td>0</td>\n",
       "      <td>0</td>\n",
       "      <td>0</td>\n",
       "      <td>0</td>\n",
       "      <td>0</td>\n",
       "      <td>0</td>\n",
       "      <td>...</td>\n",
       "      <td>0</td>\n",
       "      <td>0</td>\n",
       "      <td>0</td>\n",
       "      <td>0</td>\n",
       "      <td>0</td>\n",
       "      <td>0</td>\n",
       "      <td>0</td>\n",
       "      <td>0</td>\n",
       "      <td>0</td>\n",
       "      <td>0</td>\n",
       "    </tr>\n",
       "  </tbody>\n",
       "</table>\n",
       "<p>5 rows × 21 columns</p>\n",
       "</div>"
      ],
      "text/plain": [
       "   Lead Source_Click2call  Lead Source_Direct Traffic  Lead Source_Facebook  \\\n",
       "0                       0                           0                     0   \n",
       "1                       0                           0                     0   \n",
       "2                       0                           1                     0   \n",
       "3                       0                           1                     0   \n",
       "4                       0                           0                     0   \n",
       "\n",
       "   Lead Source_Google  Lead Source_Live Chat  Lead Source_NC_EDM  \\\n",
       "0                   0                      0                   0   \n",
       "1                   0                      0                   0   \n",
       "2                   0                      0                   0   \n",
       "3                   0                      0                   0   \n",
       "4                   1                      0                   0   \n",
       "\n",
       "   Lead Source_No Information  Lead Source_Olark Chat  \\\n",
       "0                           0                       1   \n",
       "1                           0                       0   \n",
       "2                           0                       0   \n",
       "3                           0                       0   \n",
       "4                           0                       0   \n",
       "\n",
       "   Lead Source_Organic Search  Lead Source_Pay per Click Ads  ...  \\\n",
       "0                           0                              0  ...   \n",
       "1                           1                              0  ...   \n",
       "2                           0                              0  ...   \n",
       "3                           0                              0  ...   \n",
       "4                           0                              0  ...   \n",
       "\n",
       "   Lead Source_Reference  Lead Source_Referral Sites  \\\n",
       "0                      0                           0   \n",
       "1                      0                           0   \n",
       "2                      0                           0   \n",
       "3                      0                           0   \n",
       "4                      0                           0   \n",
       "\n",
       "   Lead Source_Social Media  Lead Source_WeLearn  \\\n",
       "0                         0                    0   \n",
       "1                         0                    0   \n",
       "2                         0                    0   \n",
       "3                         0                    0   \n",
       "4                         0                    0   \n",
       "\n",
       "   Lead Source_Welingak Website  Lead Source_bing  Lead Source_blog  \\\n",
       "0                             0                 0                 0   \n",
       "1                             0                 0                 0   \n",
       "2                             0                 0                 0   \n",
       "3                             0                 0                 0   \n",
       "4                             0                 0                 0   \n",
       "\n",
       "   Lead Source_testone  Lead Source_welearnblog_Home  \\\n",
       "0                    0                             0   \n",
       "1                    0                             0   \n",
       "2                    0                             0   \n",
       "3                    0                             0   \n",
       "4                    0                             0   \n",
       "\n",
       "   Lead Source_youtubechannel  \n",
       "0                           0  \n",
       "1                           0  \n",
       "2                           0  \n",
       "3                           0  \n",
       "4                           0  \n",
       "\n",
       "[5 rows x 21 columns]"
      ]
     },
     "execution_count": 39,
     "metadata": {},
     "output_type": "execute_result"
    }
   ],
   "source": [
    "ml = pd.get_dummies(leads_data['Lead Source'], prefix='Lead Source')\n",
    "ml.head()"
   ]
  },
  {
   "cell_type": "code",
   "execution_count": 40,
   "id": "71e792ce",
   "metadata": {},
   "outputs": [],
   "source": [
    "# Creating dummy variables for the remaining categorical variables and dropping the level with big names.\n",
    "\n",
    "# Creating dummy variables for the variable 'Lead Origin'\n",
    "ml = pd.get_dummies(leads_data['Lead Origin'], prefix='Lead Origin')\n",
    "# Dropping Lead Origin_Quick Add Form column\n",
    "ml1 = ml.drop(['Lead Origin_Quick Add Form'], 1)\n",
    "#Adding the results to the master dataframe\n",
    "leads_data = pd.concat([leads_data,ml1], axis=1)\n",
    "\n",
    "# Creating dummy variables for the variable 'Lead Source'.\n",
    "os = pd.get_dummies(leads_data['Lead Source'], prefix='Lead Source')\n",
    "os1 = os.drop(['Lead Source_NC_EDM'], 1)\n",
    "# Adding the results to the master dataframe\n",
    "leads_data = pd.concat([leads_data,os1], axis=1)\n",
    "\n",
    "# Creating dummy variables for the variable 'Last Activity'\n",
    "ml = pd.get_dummies(leads_data['Last Activity'], prefix='Last Activity')\n",
    "# Dropping MultipleLines_No phone service column\n",
    "ml1 = ml.drop(['Last Activity_Resubscribed to emails'], 1)\n",
    "#Adding the results to the master dataframe\n",
    "leads_data = pd.concat([leads_data,ml1], axis=1)\n",
    "\n",
    "# Creating dummy variables for the variable 'What is your current occupation'.\n",
    "os = pd.get_dummies(leads_data['What is your current occupation'], prefix='Current Occupation')\n",
    "os1 = os.drop(['Current Occupation_Businessman'], 1)\n",
    "# Adding the results to the master dataframe\n",
    "leads_data = pd.concat([leads_data,os1], axis=1)\n",
    "\n",
    "# Creating dummy variables for the variable 'Last Notable Activity'.\n",
    "os = pd.get_dummies(leads_data['Last Notable Activity'], prefix='Last Notable Activity')\n",
    "os1 = os.drop(['Last Notable Activity_Resubscribed to emails'], 1)\n",
    "# Adding the results to the master dataframe\n",
    "leads_data = pd.concat([leads_data,os1], axis=1)"
   ]
  },
  {
   "cell_type": "code",
   "execution_count": 41,
   "id": "9a482e64",
   "metadata": {},
   "outputs": [],
   "source": [
    "# Remove following columns from the leadInfo\n",
    "\n",
    "# a) Lead Numbers\n",
    "# b) Lead Origin\n",
    "# c) Lead Source\n",
    "# d) Last Activity\n",
    "# e) What is your current occupation\n",
    "# f) Last Notable Activity\n",
    "\n",
    "leads_data = leads_data.drop(['Lead Number', 'Lead Origin', 'Lead Source', 'Last Activity',\n",
    "                          'What is your current occupation', 'Last Notable Activity'], axis=1)"
   ]
  },
  {
   "cell_type": "code",
   "execution_count": 42,
   "id": "f0475465",
   "metadata": {},
   "outputs": [
    {
     "name": "stdout",
     "output_type": "stream",
     "text": [
      "<class 'pandas.core.frame.DataFrame'>\n",
      "RangeIndex: 9240 entries, 0 to 9239\n",
      "Data columns (total 68 columns):\n",
      " #   Column                                              Non-Null Count  Dtype  \n",
      "---  ------                                              --------------  -----  \n",
      " 0   Do Not Email                                        9240 non-null   int64  \n",
      " 1   Converted                                           9240 non-null   int64  \n",
      " 2   TotalVisits                                         9240 non-null   float64\n",
      " 3   Total Time Spent on Website                         9240 non-null   int64  \n",
      " 4   Page Views Per Visit                                9240 non-null   float64\n",
      " 5   A free copy of Mastering The Interview              9240 non-null   int64  \n",
      " 6   Lead Origin_API                                     9240 non-null   uint8  \n",
      " 7   Lead Origin_Landing Page Submission                 9240 non-null   uint8  \n",
      " 8   Lead Origin_Lead Add Form                           9240 non-null   uint8  \n",
      " 9   Lead Origin_Lead Import                             9240 non-null   uint8  \n",
      " 10  Lead Source_Click2call                              9240 non-null   uint8  \n",
      " 11  Lead Source_Direct Traffic                          9240 non-null   uint8  \n",
      " 12  Lead Source_Facebook                                9240 non-null   uint8  \n",
      " 13  Lead Source_Google                                  9240 non-null   uint8  \n",
      " 14  Lead Source_Live Chat                               9240 non-null   uint8  \n",
      " 15  Lead Source_No Information                          9240 non-null   uint8  \n",
      " 16  Lead Source_Olark Chat                              9240 non-null   uint8  \n",
      " 17  Lead Source_Organic Search                          9240 non-null   uint8  \n",
      " 18  Lead Source_Pay per Click Ads                       9240 non-null   uint8  \n",
      " 19  Lead Source_Press_Release                           9240 non-null   uint8  \n",
      " 20  Lead Source_Reference                               9240 non-null   uint8  \n",
      " 21  Lead Source_Referral Sites                          9240 non-null   uint8  \n",
      " 22  Lead Source_Social Media                            9240 non-null   uint8  \n",
      " 23  Lead Source_WeLearn                                 9240 non-null   uint8  \n",
      " 24  Lead Source_Welingak Website                        9240 non-null   uint8  \n",
      " 25  Lead Source_bing                                    9240 non-null   uint8  \n",
      " 26  Lead Source_blog                                    9240 non-null   uint8  \n",
      " 27  Lead Source_testone                                 9240 non-null   uint8  \n",
      " 28  Lead Source_welearnblog_Home                        9240 non-null   uint8  \n",
      " 29  Lead Source_youtubechannel                          9240 non-null   uint8  \n",
      " 30  Last Activity_Approached upfront                    9240 non-null   uint8  \n",
      " 31  Last Activity_Converted to Lead                     9240 non-null   uint8  \n",
      " 32  Last Activity_Email Bounced                         9240 non-null   uint8  \n",
      " 33  Last Activity_Email Link Clicked                    9240 non-null   uint8  \n",
      " 34  Last Activity_Email Marked Spam                     9240 non-null   uint8  \n",
      " 35  Last Activity_Email Opened                          9240 non-null   uint8  \n",
      " 36  Last Activity_Email Received                        9240 non-null   uint8  \n",
      " 37  Last Activity_Form Submitted on Website             9240 non-null   uint8  \n",
      " 38  Last Activity_Had a Phone Conversation              9240 non-null   uint8  \n",
      " 39  Last Activity_No Information                        9240 non-null   uint8  \n",
      " 40  Last Activity_Olark Chat Conversation               9240 non-null   uint8  \n",
      " 41  Last Activity_Page Visited on Website               9240 non-null   uint8  \n",
      " 42  Last Activity_SMS Sent                              9240 non-null   uint8  \n",
      " 43  Last Activity_Unreachable                           9240 non-null   uint8  \n",
      " 44  Last Activity_Unsubscribed                          9240 non-null   uint8  \n",
      " 45  Last Activity_View in browser link Clicked          9240 non-null   uint8  \n",
      " 46  Last Activity_Visited Booth in Tradeshow            9240 non-null   uint8  \n",
      " 47  Current Occupation_Housewife                        9240 non-null   uint8  \n",
      " 48  Current Occupation_No Information                   9240 non-null   uint8  \n",
      " 49  Current Occupation_Other                            9240 non-null   uint8  \n",
      " 50  Current Occupation_Student                          9240 non-null   uint8  \n",
      " 51  Current Occupation_Unemployed                       9240 non-null   uint8  \n",
      " 52  Current Occupation_Working Professional             9240 non-null   uint8  \n",
      " 53  Last Notable Activity_Approached upfront            9240 non-null   uint8  \n",
      " 54  Last Notable Activity_Email Bounced                 9240 non-null   uint8  \n",
      " 55  Last Notable Activity_Email Link Clicked            9240 non-null   uint8  \n",
      " 56  Last Notable Activity_Email Marked Spam             9240 non-null   uint8  \n",
      " 57  Last Notable Activity_Email Opened                  9240 non-null   uint8  \n",
      " 58  Last Notable Activity_Email Received                9240 non-null   uint8  \n",
      " 59  Last Notable Activity_Form Submitted on Website     9240 non-null   uint8  \n",
      " 60  Last Notable Activity_Had a Phone Conversation      9240 non-null   uint8  \n",
      " 61  Last Notable Activity_Modified                      9240 non-null   uint8  \n",
      " 62  Last Notable Activity_Olark Chat Conversation       9240 non-null   uint8  \n",
      " 63  Last Notable Activity_Page Visited on Website       9240 non-null   uint8  \n",
      " 64  Last Notable Activity_SMS Sent                      9240 non-null   uint8  \n",
      " 65  Last Notable Activity_Unreachable                   9240 non-null   uint8  \n",
      " 66  Last Notable Activity_Unsubscribed                  9240 non-null   uint8  \n",
      " 67  Last Notable Activity_View in browser link Clicked  9240 non-null   uint8  \n",
      "dtypes: float64(2), int64(4), uint8(62)\n",
      "memory usage: 992.7 KB\n"
     ]
    }
   ],
   "source": [
    "leads_data.info()"
   ]
  },
  {
   "cell_type": "markdown",
   "id": "eec15048",
   "metadata": {},
   "source": [
    "## Step 5 - Test Train Split"
   ]
  },
  {
   "cell_type": "code",
   "execution_count": 43,
   "id": "8e08623c",
   "metadata": {},
   "outputs": [],
   "source": [
    "from sklearn.model_selection import train_test_split"
   ]
  },
  {
   "cell_type": "code",
   "execution_count": 44,
   "id": "ed183d94",
   "metadata": {},
   "outputs": [
    {
     "data": {
      "text/html": [
       "<div>\n",
       "<style scoped>\n",
       "    .dataframe tbody tr th:only-of-type {\n",
       "        vertical-align: middle;\n",
       "    }\n",
       "\n",
       "    .dataframe tbody tr th {\n",
       "        vertical-align: top;\n",
       "    }\n",
       "\n",
       "    .dataframe thead th {\n",
       "        text-align: right;\n",
       "    }\n",
       "</style>\n",
       "<table border=\"1\" class=\"dataframe\">\n",
       "  <thead>\n",
       "    <tr style=\"text-align: right;\">\n",
       "      <th></th>\n",
       "      <th>Do Not Email</th>\n",
       "      <th>TotalVisits</th>\n",
       "      <th>Total Time Spent on Website</th>\n",
       "      <th>Page Views Per Visit</th>\n",
       "      <th>A free copy of Mastering The Interview</th>\n",
       "      <th>Lead Origin_API</th>\n",
       "      <th>Lead Origin_Landing Page Submission</th>\n",
       "      <th>Lead Origin_Lead Add Form</th>\n",
       "      <th>Lead Origin_Lead Import</th>\n",
       "      <th>Lead Source_Click2call</th>\n",
       "      <th>...</th>\n",
       "      <th>Last Notable Activity_Email Received</th>\n",
       "      <th>Last Notable Activity_Form Submitted on Website</th>\n",
       "      <th>Last Notable Activity_Had a Phone Conversation</th>\n",
       "      <th>Last Notable Activity_Modified</th>\n",
       "      <th>Last Notable Activity_Olark Chat Conversation</th>\n",
       "      <th>Last Notable Activity_Page Visited on Website</th>\n",
       "      <th>Last Notable Activity_SMS Sent</th>\n",
       "      <th>Last Notable Activity_Unreachable</th>\n",
       "      <th>Last Notable Activity_Unsubscribed</th>\n",
       "      <th>Last Notable Activity_View in browser link Clicked</th>\n",
       "    </tr>\n",
       "  </thead>\n",
       "  <tbody>\n",
       "    <tr>\n",
       "      <th>0</th>\n",
       "      <td>0</td>\n",
       "      <td>0.0</td>\n",
       "      <td>0</td>\n",
       "      <td>0.0</td>\n",
       "      <td>0</td>\n",
       "      <td>1</td>\n",
       "      <td>0</td>\n",
       "      <td>0</td>\n",
       "      <td>0</td>\n",
       "      <td>0</td>\n",
       "      <td>...</td>\n",
       "      <td>0</td>\n",
       "      <td>0</td>\n",
       "      <td>0</td>\n",
       "      <td>1</td>\n",
       "      <td>0</td>\n",
       "      <td>0</td>\n",
       "      <td>0</td>\n",
       "      <td>0</td>\n",
       "      <td>0</td>\n",
       "      <td>0</td>\n",
       "    </tr>\n",
       "    <tr>\n",
       "      <th>1</th>\n",
       "      <td>0</td>\n",
       "      <td>5.0</td>\n",
       "      <td>674</td>\n",
       "      <td>2.5</td>\n",
       "      <td>0</td>\n",
       "      <td>1</td>\n",
       "      <td>0</td>\n",
       "      <td>0</td>\n",
       "      <td>0</td>\n",
       "      <td>0</td>\n",
       "      <td>...</td>\n",
       "      <td>0</td>\n",
       "      <td>0</td>\n",
       "      <td>0</td>\n",
       "      <td>0</td>\n",
       "      <td>0</td>\n",
       "      <td>0</td>\n",
       "      <td>0</td>\n",
       "      <td>0</td>\n",
       "      <td>0</td>\n",
       "      <td>0</td>\n",
       "    </tr>\n",
       "    <tr>\n",
       "      <th>2</th>\n",
       "      <td>0</td>\n",
       "      <td>2.0</td>\n",
       "      <td>1532</td>\n",
       "      <td>2.0</td>\n",
       "      <td>1</td>\n",
       "      <td>0</td>\n",
       "      <td>1</td>\n",
       "      <td>0</td>\n",
       "      <td>0</td>\n",
       "      <td>0</td>\n",
       "      <td>...</td>\n",
       "      <td>0</td>\n",
       "      <td>0</td>\n",
       "      <td>0</td>\n",
       "      <td>0</td>\n",
       "      <td>0</td>\n",
       "      <td>0</td>\n",
       "      <td>0</td>\n",
       "      <td>0</td>\n",
       "      <td>0</td>\n",
       "      <td>0</td>\n",
       "    </tr>\n",
       "    <tr>\n",
       "      <th>3</th>\n",
       "      <td>0</td>\n",
       "      <td>1.0</td>\n",
       "      <td>305</td>\n",
       "      <td>1.0</td>\n",
       "      <td>0</td>\n",
       "      <td>0</td>\n",
       "      <td>1</td>\n",
       "      <td>0</td>\n",
       "      <td>0</td>\n",
       "      <td>0</td>\n",
       "      <td>...</td>\n",
       "      <td>0</td>\n",
       "      <td>0</td>\n",
       "      <td>0</td>\n",
       "      <td>1</td>\n",
       "      <td>0</td>\n",
       "      <td>0</td>\n",
       "      <td>0</td>\n",
       "      <td>0</td>\n",
       "      <td>0</td>\n",
       "      <td>0</td>\n",
       "    </tr>\n",
       "    <tr>\n",
       "      <th>4</th>\n",
       "      <td>0</td>\n",
       "      <td>2.0</td>\n",
       "      <td>1428</td>\n",
       "      <td>1.0</td>\n",
       "      <td>0</td>\n",
       "      <td>0</td>\n",
       "      <td>1</td>\n",
       "      <td>0</td>\n",
       "      <td>0</td>\n",
       "      <td>0</td>\n",
       "      <td>...</td>\n",
       "      <td>0</td>\n",
       "      <td>0</td>\n",
       "      <td>0</td>\n",
       "      <td>1</td>\n",
       "      <td>0</td>\n",
       "      <td>0</td>\n",
       "      <td>0</td>\n",
       "      <td>0</td>\n",
       "      <td>0</td>\n",
       "      <td>0</td>\n",
       "    </tr>\n",
       "  </tbody>\n",
       "</table>\n",
       "<p>5 rows × 67 columns</p>\n",
       "</div>"
      ],
      "text/plain": [
       "   Do Not Email  TotalVisits  Total Time Spent on Website  \\\n",
       "0             0          0.0                            0   \n",
       "1             0          5.0                          674   \n",
       "2             0          2.0                         1532   \n",
       "3             0          1.0                          305   \n",
       "4             0          2.0                         1428   \n",
       "\n",
       "   Page Views Per Visit  A free copy of Mastering The Interview  \\\n",
       "0                   0.0                                       0   \n",
       "1                   2.5                                       0   \n",
       "2                   2.0                                       1   \n",
       "3                   1.0                                       0   \n",
       "4                   1.0                                       0   \n",
       "\n",
       "   Lead Origin_API  Lead Origin_Landing Page Submission  \\\n",
       "0                1                                    0   \n",
       "1                1                                    0   \n",
       "2                0                                    1   \n",
       "3                0                                    1   \n",
       "4                0                                    1   \n",
       "\n",
       "   Lead Origin_Lead Add Form  Lead Origin_Lead Import  Lead Source_Click2call  \\\n",
       "0                          0                        0                       0   \n",
       "1                          0                        0                       0   \n",
       "2                          0                        0                       0   \n",
       "3                          0                        0                       0   \n",
       "4                          0                        0                       0   \n",
       "\n",
       "   ...  Last Notable Activity_Email Received  \\\n",
       "0  ...                                     0   \n",
       "1  ...                                     0   \n",
       "2  ...                                     0   \n",
       "3  ...                                     0   \n",
       "4  ...                                     0   \n",
       "\n",
       "   Last Notable Activity_Form Submitted on Website  \\\n",
       "0                                                0   \n",
       "1                                                0   \n",
       "2                                                0   \n",
       "3                                                0   \n",
       "4                                                0   \n",
       "\n",
       "   Last Notable Activity_Had a Phone Conversation  \\\n",
       "0                                               0   \n",
       "1                                               0   \n",
       "2                                               0   \n",
       "3                                               0   \n",
       "4                                               0   \n",
       "\n",
       "   Last Notable Activity_Modified  \\\n",
       "0                               1   \n",
       "1                               0   \n",
       "2                               0   \n",
       "3                               1   \n",
       "4                               1   \n",
       "\n",
       "   Last Notable Activity_Olark Chat Conversation  \\\n",
       "0                                              0   \n",
       "1                                              0   \n",
       "2                                              0   \n",
       "3                                              0   \n",
       "4                                              0   \n",
       "\n",
       "   Last Notable Activity_Page Visited on Website  \\\n",
       "0                                              0   \n",
       "1                                              0   \n",
       "2                                              0   \n",
       "3                                              0   \n",
       "4                                              0   \n",
       "\n",
       "   Last Notable Activity_SMS Sent  Last Notable Activity_Unreachable  \\\n",
       "0                               0                                  0   \n",
       "1                               0                                  0   \n",
       "2                               0                                  0   \n",
       "3                               0                                  0   \n",
       "4                               0                                  0   \n",
       "\n",
       "   Last Notable Activity_Unsubscribed  \\\n",
       "0                                   0   \n",
       "1                                   0   \n",
       "2                                   0   \n",
       "3                                   0   \n",
       "4                                   0   \n",
       "\n",
       "   Last Notable Activity_View in browser link Clicked  \n",
       "0                                                  0   \n",
       "1                                                  0   \n",
       "2                                                  0   \n",
       "3                                                  0   \n",
       "4                                                  0   \n",
       "\n",
       "[5 rows x 67 columns]"
      ]
     },
     "execution_count": 44,
     "metadata": {},
     "output_type": "execute_result"
    }
   ],
   "source": [
    "# Putting feature variable to X\n",
    "X = leads_data.drop(['Converted'], axis=1)\n",
    "\n",
    "X.head()"
   ]
  },
  {
   "cell_type": "code",
   "execution_count": 45,
   "id": "afc2a392",
   "metadata": {},
   "outputs": [
    {
     "data": {
      "text/plain": [
       "0    0\n",
       "1    0\n",
       "2    1\n",
       "3    0\n",
       "4    1\n",
       "Name: Converted, dtype: int64"
      ]
     },
     "execution_count": 45,
     "metadata": {},
     "output_type": "execute_result"
    }
   ],
   "source": [
    "# Putting response variable to y\n",
    "y = leads_data['Converted']\n",
    "\n",
    "y.head()"
   ]
  },
  {
   "cell_type": "code",
   "execution_count": 46,
   "id": "47a83374",
   "metadata": {},
   "outputs": [],
   "source": [
    "# Splitting the data into train and test\n",
    "X_train, X_test, y_train, y_test = train_test_split(X, y, train_size=0.7, test_size=0.3, random_state=100)"
   ]
  },
  {
   "cell_type": "markdown",
   "id": "2b140ee9",
   "metadata": {},
   "source": [
    "## Step 6: Feature Scaling"
   ]
  },
  {
   "cell_type": "code",
   "execution_count": 47,
   "id": "d8de504c",
   "metadata": {},
   "outputs": [],
   "source": [
    "from sklearn.preprocessing import MinMaxScaler"
   ]
  },
  {
   "cell_type": "code",
   "execution_count": 48,
   "id": "b9f2cc61",
   "metadata": {},
   "outputs": [
    {
     "data": {
      "text/html": [
       "<div>\n",
       "<style scoped>\n",
       "    .dataframe tbody tr th:only-of-type {\n",
       "        vertical-align: middle;\n",
       "    }\n",
       "\n",
       "    .dataframe tbody tr th {\n",
       "        vertical-align: top;\n",
       "    }\n",
       "\n",
       "    .dataframe thead th {\n",
       "        text-align: right;\n",
       "    }\n",
       "</style>\n",
       "<table border=\"1\" class=\"dataframe\">\n",
       "  <thead>\n",
       "    <tr style=\"text-align: right;\">\n",
       "      <th></th>\n",
       "      <th>Do Not Email</th>\n",
       "      <th>TotalVisits</th>\n",
       "      <th>Total Time Spent on Website</th>\n",
       "      <th>Page Views Per Visit</th>\n",
       "      <th>A free copy of Mastering The Interview</th>\n",
       "      <th>Lead Origin_API</th>\n",
       "      <th>Lead Origin_Landing Page Submission</th>\n",
       "      <th>Lead Origin_Lead Add Form</th>\n",
       "      <th>Lead Origin_Lead Import</th>\n",
       "      <th>Lead Source_Click2call</th>\n",
       "      <th>...</th>\n",
       "      <th>Last Notable Activity_Email Received</th>\n",
       "      <th>Last Notable Activity_Form Submitted on Website</th>\n",
       "      <th>Last Notable Activity_Had a Phone Conversation</th>\n",
       "      <th>Last Notable Activity_Modified</th>\n",
       "      <th>Last Notable Activity_Olark Chat Conversation</th>\n",
       "      <th>Last Notable Activity_Page Visited on Website</th>\n",
       "      <th>Last Notable Activity_SMS Sent</th>\n",
       "      <th>Last Notable Activity_Unreachable</th>\n",
       "      <th>Last Notable Activity_Unsubscribed</th>\n",
       "      <th>Last Notable Activity_View in browser link Clicked</th>\n",
       "    </tr>\n",
       "  </thead>\n",
       "  <tbody>\n",
       "    <tr>\n",
       "      <th>1871</th>\n",
       "      <td>0</td>\n",
       "      <td>0.000000</td>\n",
       "      <td>0.000000</td>\n",
       "      <td>0.000000</td>\n",
       "      <td>0</td>\n",
       "      <td>1</td>\n",
       "      <td>0</td>\n",
       "      <td>0</td>\n",
       "      <td>0</td>\n",
       "      <td>0</td>\n",
       "      <td>...</td>\n",
       "      <td>0</td>\n",
       "      <td>0</td>\n",
       "      <td>0</td>\n",
       "      <td>0</td>\n",
       "      <td>0</td>\n",
       "      <td>0</td>\n",
       "      <td>0</td>\n",
       "      <td>0</td>\n",
       "      <td>0</td>\n",
       "      <td>0</td>\n",
       "    </tr>\n",
       "    <tr>\n",
       "      <th>6795</th>\n",
       "      <td>0</td>\n",
       "      <td>0.015936</td>\n",
       "      <td>0.214349</td>\n",
       "      <td>0.024182</td>\n",
       "      <td>1</td>\n",
       "      <td>0</td>\n",
       "      <td>1</td>\n",
       "      <td>0</td>\n",
       "      <td>0</td>\n",
       "      <td>0</td>\n",
       "      <td>...</td>\n",
       "      <td>0</td>\n",
       "      <td>0</td>\n",
       "      <td>0</td>\n",
       "      <td>0</td>\n",
       "      <td>0</td>\n",
       "      <td>0</td>\n",
       "      <td>0</td>\n",
       "      <td>0</td>\n",
       "      <td>0</td>\n",
       "      <td>0</td>\n",
       "    </tr>\n",
       "    <tr>\n",
       "      <th>3516</th>\n",
       "      <td>0</td>\n",
       "      <td>0.019920</td>\n",
       "      <td>0.046655</td>\n",
       "      <td>0.045455</td>\n",
       "      <td>0</td>\n",
       "      <td>1</td>\n",
       "      <td>0</td>\n",
       "      <td>0</td>\n",
       "      <td>0</td>\n",
       "      <td>0</td>\n",
       "      <td>...</td>\n",
       "      <td>0</td>\n",
       "      <td>0</td>\n",
       "      <td>0</td>\n",
       "      <td>0</td>\n",
       "      <td>0</td>\n",
       "      <td>0</td>\n",
       "      <td>0</td>\n",
       "      <td>0</td>\n",
       "      <td>0</td>\n",
       "      <td>0</td>\n",
       "    </tr>\n",
       "    <tr>\n",
       "      <th>8105</th>\n",
       "      <td>0</td>\n",
       "      <td>0.019920</td>\n",
       "      <td>0.541373</td>\n",
       "      <td>0.090909</td>\n",
       "      <td>0</td>\n",
       "      <td>0</td>\n",
       "      <td>1</td>\n",
       "      <td>0</td>\n",
       "      <td>0</td>\n",
       "      <td>0</td>\n",
       "      <td>...</td>\n",
       "      <td>0</td>\n",
       "      <td>0</td>\n",
       "      <td>0</td>\n",
       "      <td>0</td>\n",
       "      <td>0</td>\n",
       "      <td>0</td>\n",
       "      <td>1</td>\n",
       "      <td>0</td>\n",
       "      <td>0</td>\n",
       "      <td>0</td>\n",
       "    </tr>\n",
       "    <tr>\n",
       "      <th>3934</th>\n",
       "      <td>0</td>\n",
       "      <td>0.000000</td>\n",
       "      <td>0.000000</td>\n",
       "      <td>0.000000</td>\n",
       "      <td>0</td>\n",
       "      <td>1</td>\n",
       "      <td>0</td>\n",
       "      <td>0</td>\n",
       "      <td>0</td>\n",
       "      <td>0</td>\n",
       "      <td>...</td>\n",
       "      <td>0</td>\n",
       "      <td>0</td>\n",
       "      <td>0</td>\n",
       "      <td>1</td>\n",
       "      <td>0</td>\n",
       "      <td>0</td>\n",
       "      <td>0</td>\n",
       "      <td>0</td>\n",
       "      <td>0</td>\n",
       "      <td>0</td>\n",
       "    </tr>\n",
       "  </tbody>\n",
       "</table>\n",
       "<p>5 rows × 67 columns</p>\n",
       "</div>"
      ],
      "text/plain": [
       "      Do Not Email  TotalVisits  Total Time Spent on Website  \\\n",
       "1871             0     0.000000                     0.000000   \n",
       "6795             0     0.015936                     0.214349   \n",
       "3516             0     0.019920                     0.046655   \n",
       "8105             0     0.019920                     0.541373   \n",
       "3934             0     0.000000                     0.000000   \n",
       "\n",
       "      Page Views Per Visit  A free copy of Mastering The Interview  \\\n",
       "1871              0.000000                                       0   \n",
       "6795              0.024182                                       1   \n",
       "3516              0.045455                                       0   \n",
       "8105              0.090909                                       0   \n",
       "3934              0.000000                                       0   \n",
       "\n",
       "      Lead Origin_API  Lead Origin_Landing Page Submission  \\\n",
       "1871                1                                    0   \n",
       "6795                0                                    1   \n",
       "3516                1                                    0   \n",
       "8105                0                                    1   \n",
       "3934                1                                    0   \n",
       "\n",
       "      Lead Origin_Lead Add Form  Lead Origin_Lead Import  \\\n",
       "1871                          0                        0   \n",
       "6795                          0                        0   \n",
       "3516                          0                        0   \n",
       "8105                          0                        0   \n",
       "3934                          0                        0   \n",
       "\n",
       "      Lead Source_Click2call  ...  Last Notable Activity_Email Received  \\\n",
       "1871                       0  ...                                     0   \n",
       "6795                       0  ...                                     0   \n",
       "3516                       0  ...                                     0   \n",
       "8105                       0  ...                                     0   \n",
       "3934                       0  ...                                     0   \n",
       "\n",
       "      Last Notable Activity_Form Submitted on Website  \\\n",
       "1871                                                0   \n",
       "6795                                                0   \n",
       "3516                                                0   \n",
       "8105                                                0   \n",
       "3934                                                0   \n",
       "\n",
       "      Last Notable Activity_Had a Phone Conversation  \\\n",
       "1871                                               0   \n",
       "6795                                               0   \n",
       "3516                                               0   \n",
       "8105                                               0   \n",
       "3934                                               0   \n",
       "\n",
       "      Last Notable Activity_Modified  \\\n",
       "1871                               0   \n",
       "6795                               0   \n",
       "3516                               0   \n",
       "8105                               0   \n",
       "3934                               1   \n",
       "\n",
       "      Last Notable Activity_Olark Chat Conversation  \\\n",
       "1871                                              0   \n",
       "6795                                              0   \n",
       "3516                                              0   \n",
       "8105                                              0   \n",
       "3934                                              0   \n",
       "\n",
       "      Last Notable Activity_Page Visited on Website  \\\n",
       "1871                                              0   \n",
       "6795                                              0   \n",
       "3516                                              0   \n",
       "8105                                              0   \n",
       "3934                                              0   \n",
       "\n",
       "      Last Notable Activity_SMS Sent  Last Notable Activity_Unreachable  \\\n",
       "1871                               0                                  0   \n",
       "6795                               0                                  0   \n",
       "3516                               0                                  0   \n",
       "8105                               1                                  0   \n",
       "3934                               0                                  0   \n",
       "\n",
       "      Last Notable Activity_Unsubscribed  \\\n",
       "1871                                   0   \n",
       "6795                                   0   \n",
       "3516                                   0   \n",
       "8105                                   0   \n",
       "3934                                   0   \n",
       "\n",
       "      Last Notable Activity_View in browser link Clicked  \n",
       "1871                                                  0   \n",
       "6795                                                  0   \n",
       "3516                                                  0   \n",
       "8105                                                  0   \n",
       "3934                                                  0   \n",
       "\n",
       "[5 rows x 67 columns]"
      ]
     },
     "execution_count": 48,
     "metadata": {},
     "output_type": "execute_result"
    }
   ],
   "source": [
    "scaler = MinMaxScaler()\n",
    "\n",
    "X_train[['TotalVisits','Total Time Spent on Website','Page Views Per Visit']] = scaler.fit_transform(\n",
    "                                                                                X_train[['TotalVisits','Total Time Spent on Website','Page Views Per Visit']])\n",
    "\n",
    "X_train.head()"
   ]
  },
  {
   "cell_type": "code",
   "execution_count": 49,
   "id": "7b6f27e7",
   "metadata": {},
   "outputs": [
    {
     "data": {
      "text/plain": [
       "38.53896103896104"
      ]
     },
     "execution_count": 49,
     "metadata": {},
     "output_type": "execute_result"
    }
   ],
   "source": [
    "### Checking the Converted Rate\n",
    "converted = (sum(leads_data['Converted'])/len(leads_data['Converted'].index))*100\n",
    "converted"
   ]
  },
  {
   "cell_type": "markdown",
   "id": "f0d86781",
   "metadata": {},
   "source": [
    "## Step 7: Model Building"
   ]
  },
  {
   "cell_type": "code",
   "execution_count": 50,
   "id": "b5a02b28",
   "metadata": {},
   "outputs": [],
   "source": [
    "import statsmodels.api as sm"
   ]
  },
  {
   "cell_type": "code",
   "execution_count": 51,
   "id": "b7286879",
   "metadata": {},
   "outputs": [
    {
     "data": {
      "text/html": [
       "<table class=\"simpletable\">\n",
       "<caption>Generalized Linear Model Regression Results</caption>\n",
       "<tr>\n",
       "  <th>Dep. Variable:</th>       <td>Converted</td>    <th>  No. Observations:  </th>  <td>  6468</td> \n",
       "</tr>\n",
       "<tr>\n",
       "  <th>Model:</th>                  <td>GLM</td>       <th>  Df Residuals:      </th>  <td>  6405</td> \n",
       "</tr>\n",
       "<tr>\n",
       "  <th>Model Family:</th>        <td>Binomial</td>     <th>  Df Model:          </th>  <td>    62</td> \n",
       "</tr>\n",
       "<tr>\n",
       "  <th>Link Function:</th>         <td>Logit</td>      <th>  Scale:             </th> <td>  1.0000</td>\n",
       "</tr>\n",
       "<tr>\n",
       "  <th>Method:</th>                <td>IRLS</td>       <th>  Log-Likelihood:    </th> <td> -2554.7</td>\n",
       "</tr>\n",
       "<tr>\n",
       "  <th>Date:</th>            <td>Mon, 17 Jun 2024</td> <th>  Deviance:          </th> <td>  5109.4</td>\n",
       "</tr>\n",
       "<tr>\n",
       "  <th>Time:</th>                <td>19:38:47</td>     <th>  Pearson chi2:      </th> <td>6.85e+03</td>\n",
       "</tr>\n",
       "<tr>\n",
       "  <th>No. Iterations:</th>         <td>22</td>        <th>  Pseudo R-squ. (CS):</th>  <td>0.4169</td> \n",
       "</tr>\n",
       "<tr>\n",
       "  <th>Covariance Type:</th>     <td>nonrobust</td>    <th>                     </th>     <td> </td>   \n",
       "</tr>\n",
       "</table>\n",
       "<table class=\"simpletable\">\n",
       "<tr>\n",
       "                           <td></td>                             <th>coef</th>     <th>std err</th>      <th>z</th>      <th>P>|z|</th>  <th>[0.025</th>    <th>0.975]</th>  \n",
       "</tr>\n",
       "<tr>\n",
       "  <th>const</th>                                              <td>   70.9929</td> <td> 1.38e+05</td> <td>    0.001</td> <td> 1.000</td> <td> -2.7e+05</td> <td>  2.7e+05</td>\n",
       "</tr>\n",
       "<tr>\n",
       "  <th>Do Not Email</th>                                       <td>   -1.1622</td> <td>    0.221</td> <td>   -5.257</td> <td> 0.000</td> <td>   -1.595</td> <td>   -0.729</td>\n",
       "</tr>\n",
       "<tr>\n",
       "  <th>TotalVisits</th>                                        <td>    8.8116</td> <td>    2.336</td> <td>    3.772</td> <td> 0.000</td> <td>    4.233</td> <td>   13.391</td>\n",
       "</tr>\n",
       "<tr>\n",
       "  <th>Total Time Spent on Website</th>                        <td>    4.5418</td> <td>    0.169</td> <td>   26.802</td> <td> 0.000</td> <td>    4.210</td> <td>    4.874</td>\n",
       "</tr>\n",
       "<tr>\n",
       "  <th>Page Views Per Visit</th>                               <td>   -2.9476</td> <td>    1.372</td> <td>   -2.148</td> <td> 0.032</td> <td>   -5.637</td> <td>   -0.259</td>\n",
       "</tr>\n",
       "<tr>\n",
       "  <th>A free copy of Mastering The Interview</th>             <td>   -0.0172</td> <td>    0.107</td> <td>   -0.160</td> <td> 0.873</td> <td>   -0.227</td> <td>    0.193</td>\n",
       "</tr>\n",
       "<tr>\n",
       "  <th>Lead Origin_API</th>                                    <td>  -22.8278</td> <td> 7.95e+04</td> <td>   -0.000</td> <td> 1.000</td> <td>-1.56e+05</td> <td> 1.56e+05</td>\n",
       "</tr>\n",
       "<tr>\n",
       "  <th>Lead Origin_Landing Page Submission</th>                <td>  -23.0410</td> <td> 7.95e+04</td> <td>   -0.000</td> <td> 1.000</td> <td>-1.56e+05</td> <td> 1.56e+05</td>\n",
       "</tr>\n",
       "<tr>\n",
       "  <th>Lead Origin_Lead Add Form</th>                          <td>  -20.6630</td> <td> 7.95e+04</td> <td>   -0.000</td> <td> 1.000</td> <td>-1.56e+05</td> <td> 1.56e+05</td>\n",
       "</tr>\n",
       "<tr>\n",
       "  <th>Lead Origin_Lead Import</th>                            <td>  -22.2765</td> <td> 7.95e+04</td> <td>   -0.000</td> <td> 1.000</td> <td>-1.56e+05</td> <td> 1.56e+05</td>\n",
       "</tr>\n",
       "<tr>\n",
       "  <th>Lead Source_Click2call</th>                             <td>  -24.5952</td> <td> 7.95e+04</td> <td>   -0.000</td> <td> 1.000</td> <td>-1.56e+05</td> <td> 1.56e+05</td>\n",
       "</tr>\n",
       "<tr>\n",
       "  <th>Lead Source_Direct Traffic</th>                         <td>  -24.8187</td> <td> 7.95e+04</td> <td>   -0.000</td> <td> 1.000</td> <td>-1.56e+05</td> <td> 1.56e+05</td>\n",
       "</tr>\n",
       "<tr>\n",
       "  <th>Lead Source_Facebook</th>                               <td>  -25.0457</td> <td> 7.95e+04</td> <td>   -0.000</td> <td> 1.000</td> <td>-1.56e+05</td> <td> 1.56e+05</td>\n",
       "</tr>\n",
       "<tr>\n",
       "  <th>Lead Source_Google</th>                                 <td>  -24.4666</td> <td> 7.95e+04</td> <td>   -0.000</td> <td> 1.000</td> <td>-1.56e+05</td> <td> 1.56e+05</td>\n",
       "</tr>\n",
       "<tr>\n",
       "  <th>Lead Source_Live Chat</th>                              <td>   -2.7080</td> <td> 9.73e+04</td> <td>-2.78e-05</td> <td> 1.000</td> <td>-1.91e+05</td> <td> 1.91e+05</td>\n",
       "</tr>\n",
       "<tr>\n",
       "  <th>Lead Source_No Information</th>                         <td>  -23.7127</td> <td> 7.95e+04</td> <td>   -0.000</td> <td> 1.000</td> <td>-1.56e+05</td> <td> 1.56e+05</td>\n",
       "</tr>\n",
       "<tr>\n",
       "  <th>Lead Source_Olark Chat</th>                             <td>  -23.5352</td> <td> 7.95e+04</td> <td>   -0.000</td> <td> 1.000</td> <td>-1.56e+05</td> <td> 1.56e+05</td>\n",
       "</tr>\n",
       "<tr>\n",
       "  <th>Lead Source_Organic Search</th>                         <td>  -24.6637</td> <td> 7.95e+04</td> <td>   -0.000</td> <td> 1.000</td> <td>-1.56e+05</td> <td> 1.56e+05</td>\n",
       "</tr>\n",
       "<tr>\n",
       "  <th>Lead Source_Pay per Click Ads</th>                      <td>  -46.3896</td> <td> 1.12e+05</td> <td>   -0.000</td> <td> 1.000</td> <td> -2.2e+05</td> <td>  2.2e+05</td>\n",
       "</tr>\n",
       "<tr>\n",
       "  <th>Lead Source_Press_Release</th>                          <td>  -45.0236</td> <td> 9.68e+04</td> <td>   -0.000</td> <td> 1.000</td> <td> -1.9e+05</td> <td>  1.9e+05</td>\n",
       "</tr>\n",
       "<tr>\n",
       "  <th>Lead Source_Reference</th>                              <td>  -23.3371</td> <td> 7.95e+04</td> <td>   -0.000</td> <td> 1.000</td> <td>-1.56e+05</td> <td> 1.56e+05</td>\n",
       "</tr>\n",
       "<tr>\n",
       "  <th>Lead Source_Referral Sites</th>                         <td>  -24.7235</td> <td> 7.95e+04</td> <td>   -0.000</td> <td> 1.000</td> <td>-1.56e+05</td> <td> 1.56e+05</td>\n",
       "</tr>\n",
       "<tr>\n",
       "  <th>Lead Source_Social Media</th>                           <td>  -22.5705</td> <td> 7.95e+04</td> <td>   -0.000</td> <td> 1.000</td> <td>-1.56e+05</td> <td> 1.56e+05</td>\n",
       "</tr>\n",
       "<tr>\n",
       "  <th>Lead Source_WeLearn</th>                                <td>   -1.3930</td> <td> 1.12e+05</td> <td>-1.24e-05</td> <td> 1.000</td> <td> -2.2e+05</td> <td>  2.2e+05</td>\n",
       "</tr>\n",
       "<tr>\n",
       "  <th>Lead Source_Welingak Website</th>                       <td>  -21.4791</td> <td> 7.95e+04</td> <td>   -0.000</td> <td> 1.000</td> <td>-1.56e+05</td> <td> 1.56e+05</td>\n",
       "</tr>\n",
       "<tr>\n",
       "  <th>Lead Source_bing</th>                                   <td>  -23.8363</td> <td> 7.95e+04</td> <td>   -0.000</td> <td> 1.000</td> <td>-1.56e+05</td> <td> 1.56e+05</td>\n",
       "</tr>\n",
       "<tr>\n",
       "  <th>Lead Source_blog</th>                                   <td>  -46.3986</td> <td> 1.12e+05</td> <td>   -0.000</td> <td> 1.000</td> <td> -2.2e+05</td> <td>  2.2e+05</td>\n",
       "</tr>\n",
       "<tr>\n",
       "  <th>Lead Source_testone</th>                                <td> 5.124e-09</td> <td> 1.69e-05</td> <td>    0.000</td> <td> 1.000</td> <td>-3.32e-05</td> <td> 3.32e-05</td>\n",
       "</tr>\n",
       "<tr>\n",
       "  <th>Lead Source_welearnblog_Home</th>                       <td>  -45.8178</td> <td> 1.12e+05</td> <td>   -0.000</td> <td> 1.000</td> <td> -2.2e+05</td> <td>  2.2e+05</td>\n",
       "</tr>\n",
       "<tr>\n",
       "  <th>Lead Source_youtubechannel</th>                         <td>  -45.6819</td> <td> 1.12e+05</td> <td>   -0.000</td> <td> 1.000</td> <td> -2.2e+05</td> <td>  2.2e+05</td>\n",
       "</tr>\n",
       "<tr>\n",
       "  <th>Last Activity_Approached upfront</th>                   <td>   11.1107</td> <td> 4.34e+04</td> <td>    0.000</td> <td> 1.000</td> <td>-8.51e+04</td> <td> 8.52e+04</td>\n",
       "</tr>\n",
       "<tr>\n",
       "  <th>Last Activity_Converted to Lead</th>                    <td>  -12.8592</td> <td> 3.49e+04</td> <td>   -0.000</td> <td> 1.000</td> <td>-6.84e+04</td> <td> 6.84e+04</td>\n",
       "</tr>\n",
       "<tr>\n",
       "  <th>Last Activity_Email Bounced</th>                        <td>  -13.1603</td> <td> 3.49e+04</td> <td>   -0.000</td> <td> 1.000</td> <td>-6.84e+04</td> <td> 6.84e+04</td>\n",
       "</tr>\n",
       "<tr>\n",
       "  <th>Last Activity_Email Link Clicked</th>                   <td>  -12.3177</td> <td> 3.49e+04</td> <td>   -0.000</td> <td> 1.000</td> <td>-6.84e+04</td> <td> 6.84e+04</td>\n",
       "</tr>\n",
       "<tr>\n",
       "  <th>Last Activity_Email Marked Spam</th>                    <td>   -1.1216</td> <td> 5.62e+04</td> <td>   -2e-05</td> <td> 1.000</td> <td> -1.1e+05</td> <td>  1.1e+05</td>\n",
       "</tr>\n",
       "<tr>\n",
       "  <th>Last Activity_Email Opened</th>                         <td>  -11.7463</td> <td> 3.49e+04</td> <td>   -0.000</td> <td> 1.000</td> <td>-6.84e+04</td> <td> 6.84e+04</td>\n",
       "</tr>\n",
       "<tr>\n",
       "  <th>Last Activity_Email Received</th>                       <td>    8.7712</td> <td> 8.14e+04</td> <td>    0.000</td> <td> 1.000</td> <td> -1.6e+05</td> <td>  1.6e+05</td>\n",
       "</tr>\n",
       "<tr>\n",
       "  <th>Last Activity_Form Submitted on Website</th>            <td>  -12.2652</td> <td> 3.49e+04</td> <td>   -0.000</td> <td> 1.000</td> <td>-6.84e+04</td> <td> 6.84e+04</td>\n",
       "</tr>\n",
       "<tr>\n",
       "  <th>Last Activity_Had a Phone Conversation</th>             <td>  -11.1543</td> <td> 3.49e+04</td> <td>   -0.000</td> <td> 1.000</td> <td>-6.84e+04</td> <td> 6.84e+04</td>\n",
       "</tr>\n",
       "<tr>\n",
       "  <th>Last Activity_No Information</th>                       <td>  -13.3066</td> <td> 3.49e+04</td> <td>   -0.000</td> <td> 1.000</td> <td>-6.84e+04</td> <td> 6.84e+04</td>\n",
       "</tr>\n",
       "<tr>\n",
       "  <th>Last Activity_Olark Chat Conversation</th>              <td>  -13.0229</td> <td> 3.49e+04</td> <td>   -0.000</td> <td> 1.000</td> <td>-6.84e+04</td> <td> 6.84e+04</td>\n",
       "</tr>\n",
       "<tr>\n",
       "  <th>Last Activity_Page Visited on Website</th>              <td>  -12.4108</td> <td> 3.49e+04</td> <td>   -0.000</td> <td> 1.000</td> <td>-6.84e+04</td> <td> 6.84e+04</td>\n",
       "</tr>\n",
       "<tr>\n",
       "  <th>Last Activity_SMS Sent</th>                             <td>  -11.2566</td> <td> 3.49e+04</td> <td>   -0.000</td> <td> 1.000</td> <td>-6.84e+04</td> <td> 6.84e+04</td>\n",
       "</tr>\n",
       "<tr>\n",
       "  <th>Last Activity_Unreachable</th>                          <td>  -13.0259</td> <td> 3.49e+04</td> <td>   -0.000</td> <td> 1.000</td> <td>-6.84e+04</td> <td> 6.84e+04</td>\n",
       "</tr>\n",
       "<tr>\n",
       "  <th>Last Activity_Unsubscribed</th>                         <td>  -11.4009</td> <td> 3.49e+04</td> <td>   -0.000</td> <td> 1.000</td> <td>-6.84e+04</td> <td> 6.84e+04</td>\n",
       "</tr>\n",
       "<tr>\n",
       "  <th>Last Activity_View in browser link Clicked</th>         <td>  -12.7000</td> <td> 3.49e+04</td> <td>   -0.000</td> <td> 1.000</td> <td>-6.84e+04</td> <td> 6.84e+04</td>\n",
       "</tr>\n",
       "<tr>\n",
       "  <th>Last Activity_Visited Booth in Tradeshow</th>           <td>  -33.4296</td> <td> 8.41e+04</td> <td>   -0.000</td> <td> 1.000</td> <td>-1.65e+05</td> <td> 1.65e+05</td>\n",
       "</tr>\n",
       "<tr>\n",
       "  <th>Current Occupation_Housewife</th>                       <td>   23.8512</td> <td> 2.32e+04</td> <td>    0.001</td> <td> 0.999</td> <td>-4.54e+04</td> <td> 4.54e+04</td>\n",
       "</tr>\n",
       "<tr>\n",
       "  <th>Current Occupation_No Information</th>                  <td>   -1.0637</td> <td>    1.173</td> <td>   -0.907</td> <td> 0.364</td> <td>   -3.363</td> <td>    1.235</td>\n",
       "</tr>\n",
       "<tr>\n",
       "  <th>Current Occupation_Other</th>                           <td>    0.0434</td> <td>    1.423</td> <td>    0.031</td> <td> 0.976</td> <td>   -2.745</td> <td>    2.832</td>\n",
       "</tr>\n",
       "<tr>\n",
       "  <th>Current Occupation_Student</th>                         <td>    0.1413</td> <td>    1.193</td> <td>    0.118</td> <td> 0.906</td> <td>   -2.197</td> <td>    2.479</td>\n",
       "</tr>\n",
       "<tr>\n",
       "  <th>Current Occupation_Unemployed</th>                      <td>    0.0123</td> <td>    1.171</td> <td>    0.011</td> <td> 0.992</td> <td>   -2.283</td> <td>    2.308</td>\n",
       "</tr>\n",
       "<tr>\n",
       "  <th>Current Occupation_Working Professional</th>            <td>    2.5932</td> <td>    1.185</td> <td>    2.189</td> <td> 0.029</td> <td>    0.271</td> <td>    4.916</td>\n",
       "</tr>\n",
       "<tr>\n",
       "  <th>Last Notable Activity_Approached upfront</th>           <td>-1.945e-14</td> <td> 9.02e-11</td> <td>   -0.000</td> <td> 1.000</td> <td>-1.77e-10</td> <td> 1.77e-10</td>\n",
       "</tr>\n",
       "<tr>\n",
       "  <th>Last Notable Activity_Email Bounced</th>                <td>  -12.1703</td> <td>  4.6e+04</td> <td>   -0.000</td> <td> 1.000</td> <td>-9.02e+04</td> <td> 9.02e+04</td>\n",
       "</tr>\n",
       "<tr>\n",
       "  <th>Last Notable Activity_Email Link Clicked</th>           <td>  -13.5009</td> <td>  4.6e+04</td> <td>   -0.000</td> <td> 1.000</td> <td>-9.02e+04</td> <td> 9.02e+04</td>\n",
       "</tr>\n",
       "<tr>\n",
       "  <th>Last Notable Activity_Email Marked Spam</th>            <td>   -1.1216</td> <td> 5.62e+04</td> <td>   -2e-05</td> <td> 1.000</td> <td> -1.1e+05</td> <td>  1.1e+05</td>\n",
       "</tr>\n",
       "<tr>\n",
       "  <th>Last Notable Activity_Email Opened</th>                 <td>  -13.5887</td> <td>  4.6e+04</td> <td>   -0.000</td> <td> 1.000</td> <td>-9.02e+04</td> <td> 9.02e+04</td>\n",
       "</tr>\n",
       "<tr>\n",
       "  <th>Last Notable Activity_Email Received</th>               <td>  -12.8548</td> <td> 1.16e+05</td> <td>   -0.000</td> <td> 1.000</td> <td>-2.27e+05</td> <td> 2.27e+05</td>\n",
       "</tr>\n",
       "<tr>\n",
       "  <th>Last Notable Activity_Form Submitted on Website</th>    <td>  -33.8899</td> <td> 8.93e+04</td> <td>   -0.000</td> <td> 1.000</td> <td>-1.75e+05</td> <td> 1.75e+05</td>\n",
       "</tr>\n",
       "<tr>\n",
       "  <th>Last Notable Activity_Had a Phone Conversation</th>     <td>  -10.9047</td> <td>  4.6e+04</td> <td>   -0.000</td> <td> 1.000</td> <td>-9.02e+04</td> <td> 9.02e+04</td>\n",
       "</tr>\n",
       "<tr>\n",
       "  <th>Last Notable Activity_Modified</th>                     <td>  -13.8340</td> <td>  4.6e+04</td> <td>   -0.000</td> <td> 1.000</td> <td>-9.02e+04</td> <td> 9.02e+04</td>\n",
       "</tr>\n",
       "<tr>\n",
       "  <th>Last Notable Activity_Olark Chat Conversation</th>      <td>  -13.5151</td> <td>  4.6e+04</td> <td>   -0.000</td> <td> 1.000</td> <td>-9.02e+04</td> <td> 9.02e+04</td>\n",
       "</tr>\n",
       "<tr>\n",
       "  <th>Last Notable Activity_Page Visited on Website</th>      <td>  -13.3650</td> <td>  4.6e+04</td> <td>   -0.000</td> <td> 1.000</td> <td>-9.02e+04</td> <td> 9.02e+04</td>\n",
       "</tr>\n",
       "<tr>\n",
       "  <th>Last Notable Activity_SMS Sent</th>                     <td>  -12.8116</td> <td>  4.6e+04</td> <td>   -0.000</td> <td> 1.000</td> <td>-9.02e+04</td> <td> 9.02e+04</td>\n",
       "</tr>\n",
       "<tr>\n",
       "  <th>Last Notable Activity_Unreachable</th>                  <td>  -10.5232</td> <td>  4.6e+04</td> <td>   -0.000</td> <td> 1.000</td> <td>-9.02e+04</td> <td> 9.02e+04</td>\n",
       "</tr>\n",
       "<tr>\n",
       "  <th>Last Notable Activity_Unsubscribed</th>                 <td>  -13.2161</td> <td>  4.6e+04</td> <td>   -0.000</td> <td> 1.000</td> <td>-9.02e+04</td> <td> 9.02e+04</td>\n",
       "</tr>\n",
       "<tr>\n",
       "  <th>Last Notable Activity_View in browser link Clicked</th> <td>         0</td> <td>        0</td> <td>      nan</td> <td>   nan</td> <td>        0</td> <td>        0</td>\n",
       "</tr>\n",
       "</table>"
      ],
      "text/plain": [
       "<class 'statsmodels.iolib.summary.Summary'>\n",
       "\"\"\"\n",
       "                 Generalized Linear Model Regression Results                  \n",
       "==============================================================================\n",
       "Dep. Variable:              Converted   No. Observations:                 6468\n",
       "Model:                            GLM   Df Residuals:                     6405\n",
       "Model Family:                Binomial   Df Model:                           62\n",
       "Link Function:                  Logit   Scale:                          1.0000\n",
       "Method:                          IRLS   Log-Likelihood:                -2554.7\n",
       "Date:                Mon, 17 Jun 2024   Deviance:                       5109.4\n",
       "Time:                        19:38:47   Pearson chi2:                 6.85e+03\n",
       "No. Iterations:                    22   Pseudo R-squ. (CS):             0.4169\n",
       "Covariance Type:            nonrobust                                         \n",
       "======================================================================================================================\n",
       "                                                         coef    std err          z      P>|z|      [0.025      0.975]\n",
       "----------------------------------------------------------------------------------------------------------------------\n",
       "const                                                 70.9929   1.38e+05      0.001      1.000    -2.7e+05     2.7e+05\n",
       "Do Not Email                                          -1.1622      0.221     -5.257      0.000      -1.595      -0.729\n",
       "TotalVisits                                            8.8116      2.336      3.772      0.000       4.233      13.391\n",
       "Total Time Spent on Website                            4.5418      0.169     26.802      0.000       4.210       4.874\n",
       "Page Views Per Visit                                  -2.9476      1.372     -2.148      0.032      -5.637      -0.259\n",
       "A free copy of Mastering The Interview                -0.0172      0.107     -0.160      0.873      -0.227       0.193\n",
       "Lead Origin_API                                      -22.8278   7.95e+04     -0.000      1.000   -1.56e+05    1.56e+05\n",
       "Lead Origin_Landing Page Submission                  -23.0410   7.95e+04     -0.000      1.000   -1.56e+05    1.56e+05\n",
       "Lead Origin_Lead Add Form                            -20.6630   7.95e+04     -0.000      1.000   -1.56e+05    1.56e+05\n",
       "Lead Origin_Lead Import                              -22.2765   7.95e+04     -0.000      1.000   -1.56e+05    1.56e+05\n",
       "Lead Source_Click2call                               -24.5952   7.95e+04     -0.000      1.000   -1.56e+05    1.56e+05\n",
       "Lead Source_Direct Traffic                           -24.8187   7.95e+04     -0.000      1.000   -1.56e+05    1.56e+05\n",
       "Lead Source_Facebook                                 -25.0457   7.95e+04     -0.000      1.000   -1.56e+05    1.56e+05\n",
       "Lead Source_Google                                   -24.4666   7.95e+04     -0.000      1.000   -1.56e+05    1.56e+05\n",
       "Lead Source_Live Chat                                 -2.7080   9.73e+04  -2.78e-05      1.000   -1.91e+05    1.91e+05\n",
       "Lead Source_No Information                           -23.7127   7.95e+04     -0.000      1.000   -1.56e+05    1.56e+05\n",
       "Lead Source_Olark Chat                               -23.5352   7.95e+04     -0.000      1.000   -1.56e+05    1.56e+05\n",
       "Lead Source_Organic Search                           -24.6637   7.95e+04     -0.000      1.000   -1.56e+05    1.56e+05\n",
       "Lead Source_Pay per Click Ads                        -46.3896   1.12e+05     -0.000      1.000    -2.2e+05     2.2e+05\n",
       "Lead Source_Press_Release                            -45.0236   9.68e+04     -0.000      1.000    -1.9e+05     1.9e+05\n",
       "Lead Source_Reference                                -23.3371   7.95e+04     -0.000      1.000   -1.56e+05    1.56e+05\n",
       "Lead Source_Referral Sites                           -24.7235   7.95e+04     -0.000      1.000   -1.56e+05    1.56e+05\n",
       "Lead Source_Social Media                             -22.5705   7.95e+04     -0.000      1.000   -1.56e+05    1.56e+05\n",
       "Lead Source_WeLearn                                   -1.3930   1.12e+05  -1.24e-05      1.000    -2.2e+05     2.2e+05\n",
       "Lead Source_Welingak Website                         -21.4791   7.95e+04     -0.000      1.000   -1.56e+05    1.56e+05\n",
       "Lead Source_bing                                     -23.8363   7.95e+04     -0.000      1.000   -1.56e+05    1.56e+05\n",
       "Lead Source_blog                                     -46.3986   1.12e+05     -0.000      1.000    -2.2e+05     2.2e+05\n",
       "Lead Source_testone                                 5.124e-09   1.69e-05      0.000      1.000   -3.32e-05    3.32e-05\n",
       "Lead Source_welearnblog_Home                         -45.8178   1.12e+05     -0.000      1.000    -2.2e+05     2.2e+05\n",
       "Lead Source_youtubechannel                           -45.6819   1.12e+05     -0.000      1.000    -2.2e+05     2.2e+05\n",
       "Last Activity_Approached upfront                      11.1107   4.34e+04      0.000      1.000   -8.51e+04    8.52e+04\n",
       "Last Activity_Converted to Lead                      -12.8592   3.49e+04     -0.000      1.000   -6.84e+04    6.84e+04\n",
       "Last Activity_Email Bounced                          -13.1603   3.49e+04     -0.000      1.000   -6.84e+04    6.84e+04\n",
       "Last Activity_Email Link Clicked                     -12.3177   3.49e+04     -0.000      1.000   -6.84e+04    6.84e+04\n",
       "Last Activity_Email Marked Spam                       -1.1216   5.62e+04     -2e-05      1.000    -1.1e+05     1.1e+05\n",
       "Last Activity_Email Opened                           -11.7463   3.49e+04     -0.000      1.000   -6.84e+04    6.84e+04\n",
       "Last Activity_Email Received                           8.7712   8.14e+04      0.000      1.000    -1.6e+05     1.6e+05\n",
       "Last Activity_Form Submitted on Website              -12.2652   3.49e+04     -0.000      1.000   -6.84e+04    6.84e+04\n",
       "Last Activity_Had a Phone Conversation               -11.1543   3.49e+04     -0.000      1.000   -6.84e+04    6.84e+04\n",
       "Last Activity_No Information                         -13.3066   3.49e+04     -0.000      1.000   -6.84e+04    6.84e+04\n",
       "Last Activity_Olark Chat Conversation                -13.0229   3.49e+04     -0.000      1.000   -6.84e+04    6.84e+04\n",
       "Last Activity_Page Visited on Website                -12.4108   3.49e+04     -0.000      1.000   -6.84e+04    6.84e+04\n",
       "Last Activity_SMS Sent                               -11.2566   3.49e+04     -0.000      1.000   -6.84e+04    6.84e+04\n",
       "Last Activity_Unreachable                            -13.0259   3.49e+04     -0.000      1.000   -6.84e+04    6.84e+04\n",
       "Last Activity_Unsubscribed                           -11.4009   3.49e+04     -0.000      1.000   -6.84e+04    6.84e+04\n",
       "Last Activity_View in browser link Clicked           -12.7000   3.49e+04     -0.000      1.000   -6.84e+04    6.84e+04\n",
       "Last Activity_Visited Booth in Tradeshow             -33.4296   8.41e+04     -0.000      1.000   -1.65e+05    1.65e+05\n",
       "Current Occupation_Housewife                          23.8512   2.32e+04      0.001      0.999   -4.54e+04    4.54e+04\n",
       "Current Occupation_No Information                     -1.0637      1.173     -0.907      0.364      -3.363       1.235\n",
       "Current Occupation_Other                               0.0434      1.423      0.031      0.976      -2.745       2.832\n",
       "Current Occupation_Student                             0.1413      1.193      0.118      0.906      -2.197       2.479\n",
       "Current Occupation_Unemployed                          0.0123      1.171      0.011      0.992      -2.283       2.308\n",
       "Current Occupation_Working Professional                2.5932      1.185      2.189      0.029       0.271       4.916\n",
       "Last Notable Activity_Approached upfront           -1.945e-14   9.02e-11     -0.000      1.000   -1.77e-10    1.77e-10\n",
       "Last Notable Activity_Email Bounced                  -12.1703    4.6e+04     -0.000      1.000   -9.02e+04    9.02e+04\n",
       "Last Notable Activity_Email Link Clicked             -13.5009    4.6e+04     -0.000      1.000   -9.02e+04    9.02e+04\n",
       "Last Notable Activity_Email Marked Spam               -1.1216   5.62e+04     -2e-05      1.000    -1.1e+05     1.1e+05\n",
       "Last Notable Activity_Email Opened                   -13.5887    4.6e+04     -0.000      1.000   -9.02e+04    9.02e+04\n",
       "Last Notable Activity_Email Received                 -12.8548   1.16e+05     -0.000      1.000   -2.27e+05    2.27e+05\n",
       "Last Notable Activity_Form Submitted on Website      -33.8899   8.93e+04     -0.000      1.000   -1.75e+05    1.75e+05\n",
       "Last Notable Activity_Had a Phone Conversation       -10.9047    4.6e+04     -0.000      1.000   -9.02e+04    9.02e+04\n",
       "Last Notable Activity_Modified                       -13.8340    4.6e+04     -0.000      1.000   -9.02e+04    9.02e+04\n",
       "Last Notable Activity_Olark Chat Conversation        -13.5151    4.6e+04     -0.000      1.000   -9.02e+04    9.02e+04\n",
       "Last Notable Activity_Page Visited on Website        -13.3650    4.6e+04     -0.000      1.000   -9.02e+04    9.02e+04\n",
       "Last Notable Activity_SMS Sent                       -12.8116    4.6e+04     -0.000      1.000   -9.02e+04    9.02e+04\n",
       "Last Notable Activity_Unreachable                    -10.5232    4.6e+04     -0.000      1.000   -9.02e+04    9.02e+04\n",
       "Last Notable Activity_Unsubscribed                   -13.2161    4.6e+04     -0.000      1.000   -9.02e+04    9.02e+04\n",
       "Last Notable Activity_View in browser link Clicked          0          0        nan        nan           0           0\n",
       "======================================================================================================================\n",
       "\"\"\""
      ]
     },
     "execution_count": 51,
     "metadata": {},
     "output_type": "execute_result"
    }
   ],
   "source": [
    "# Logistic regression model\n",
    "logm1 = sm.GLM(y_train,(sm.add_constant(X_train)), family = sm.families.Binomial())\n",
    "logm1.fit().summary()"
   ]
  },
  {
   "cell_type": "markdown",
   "id": "6c7cc6ea",
   "metadata": {},
   "source": [
    "## Step 8: Feature Selection Using RFE"
   ]
  },
  {
   "cell_type": "code",
   "execution_count": 52,
   "id": "72f9bd91",
   "metadata": {},
   "outputs": [],
   "source": [
    "from sklearn.linear_model import LogisticRegression\n",
    "logreg = LogisticRegression()"
   ]
  },
  {
   "cell_type": "code",
   "execution_count": 53,
   "id": "a7a2edca",
   "metadata": {},
   "outputs": [],
   "source": [
    "from sklearn.feature_selection import RFE\n"
   ]
  },
  {
   "cell_type": "code",
   "execution_count": 54,
   "id": "a8dbd9ed",
   "metadata": {},
   "outputs": [],
   "source": [
    "rfe = RFE(logreg,n_features_to_select=20)             # running RFE with 20 variables as output\n",
    "rfe = rfe.fit(X_train, y_train)"
   ]
  },
  {
   "cell_type": "code",
   "execution_count": 55,
   "id": "9618f568",
   "metadata": {},
   "outputs": [
    {
     "data": {
      "text/plain": [
       "array([ True,  True,  True, False, False,  True,  True,  True, False,\n",
       "       False, False,  True, False, False, False,  True, False, False,\n",
       "       False, False, False, False, False,  True, False, False, False,\n",
       "       False, False,  True, False, False, False, False, False, False,\n",
       "       False,  True,  True,  True, False,  True, False, False, False,\n",
       "       False,  True,  True, False, False, False,  True, False, False,\n",
       "       False, False, False, False, False,  True,  True, False, False,\n",
       "       False,  True, False, False])"
      ]
     },
     "execution_count": 55,
     "metadata": {},
     "output_type": "execute_result"
    }
   ],
   "source": [
    "rfe.support_"
   ]
  },
  {
   "cell_type": "code",
   "execution_count": 56,
   "id": "714aa6f4",
   "metadata": {},
   "outputs": [
    {
     "data": {
      "text/plain": [
       "[('Do Not Email', True, 1),\n",
       " ('TotalVisits', True, 1),\n",
       " ('Total Time Spent on Website', True, 1),\n",
       " ('Page Views Per Visit', False, 3),\n",
       " ('A free copy of Mastering The Interview', False, 45),\n",
       " ('Lead Origin_API', True, 1),\n",
       " ('Lead Origin_Landing Page Submission', True, 1),\n",
       " ('Lead Origin_Lead Add Form', True, 1),\n",
       " ('Lead Origin_Lead Import', False, 16),\n",
       " ('Lead Source_Click2call', False, 21),\n",
       " ('Lead Source_Direct Traffic', False, 12),\n",
       " ('Lead Source_Facebook', True, 1),\n",
       " ('Lead Source_Google', False, 15),\n",
       " ('Lead Source_Live Chat', False, 33),\n",
       " ('Lead Source_No Information', False, 37),\n",
       " ('Lead Source_Olark Chat', True, 1),\n",
       " ('Lead Source_Organic Search', False, 14),\n",
       " ('Lead Source_Pay per Click Ads', False, 26),\n",
       " ('Lead Source_Press_Release', False, 32),\n",
       " ('Lead Source_Reference', False, 11),\n",
       " ('Lead Source_Referral Sites', False, 13),\n",
       " ('Lead Source_Social Media', False, 5),\n",
       " ('Lead Source_WeLearn', False, 25),\n",
       " ('Lead Source_Welingak Website', True, 1),\n",
       " ('Lead Source_bing', False, 43),\n",
       " ('Lead Source_blog', False, 27),\n",
       " ('Lead Source_testone', False, 47),\n",
       " ('Lead Source_welearnblog_Home', False, 34),\n",
       " ('Lead Source_youtubechannel', False, 36),\n",
       " ('Last Activity_Approached upfront', True, 1),\n",
       " ('Last Activity_Converted to Lead', False, 2),\n",
       " ('Last Activity_Email Bounced', False, 4),\n",
       " ('Last Activity_Email Link Clicked', False, 30),\n",
       " ('Last Activity_Email Marked Spam', False, 24),\n",
       " ('Last Activity_Email Opened', False, 10),\n",
       " ('Last Activity_Email Received', False, 35),\n",
       " ('Last Activity_Form Submitted on Website', False, 38),\n",
       " ('Last Activity_Had a Phone Conversation', True, 1),\n",
       " ('Last Activity_No Information', True, 1),\n",
       " ('Last Activity_Olark Chat Conversation', True, 1),\n",
       " ('Last Activity_Page Visited on Website', False, 29),\n",
       " ('Last Activity_SMS Sent', True, 1),\n",
       " ('Last Activity_Unreachable', False, 28),\n",
       " ('Last Activity_Unsubscribed', False, 19),\n",
       " ('Last Activity_View in browser link Clicked', False, 31),\n",
       " ('Last Activity_Visited Booth in Tradeshow', False, 39),\n",
       " ('Current Occupation_Housewife', True, 1),\n",
       " ('Current Occupation_No Information', True, 1),\n",
       " ('Current Occupation_Other', False, 23),\n",
       " ('Current Occupation_Student', False, 18),\n",
       " ('Current Occupation_Unemployed', False, 17),\n",
       " ('Current Occupation_Working Professional', True, 1),\n",
       " ('Last Notable Activity_Approached upfront', False, 46),\n",
       " ('Last Notable Activity_Email Bounced', False, 20),\n",
       " ('Last Notable Activity_Email Link Clicked', False, 6),\n",
       " ('Last Notable Activity_Email Marked Spam', False, 22),\n",
       " ('Last Notable Activity_Email Opened', False, 9),\n",
       " ('Last Notable Activity_Email Received', False, 42),\n",
       " ('Last Notable Activity_Form Submitted on Website', False, 40),\n",
       " ('Last Notable Activity_Had a Phone Conversation', True, 1),\n",
       " ('Last Notable Activity_Modified', True, 1),\n",
       " ('Last Notable Activity_Olark Chat Conversation', False, 7),\n",
       " ('Last Notable Activity_Page Visited on Website', False, 8),\n",
       " ('Last Notable Activity_SMS Sent', False, 44),\n",
       " ('Last Notable Activity_Unreachable', True, 1),\n",
       " ('Last Notable Activity_Unsubscribed', False, 41),\n",
       " ('Last Notable Activity_View in browser link Clicked', False, 48)]"
      ]
     },
     "execution_count": 56,
     "metadata": {},
     "output_type": "execute_result"
    }
   ],
   "source": [
    "list(zip(X_train.columns, rfe.support_, rfe.ranking_))"
   ]
  },
  {
   "cell_type": "code",
   "execution_count": 57,
   "id": "b6abb044",
   "metadata": {},
   "outputs": [
    {
     "data": {
      "text/plain": [
       "Index(['Do Not Email', 'TotalVisits', 'Total Time Spent on Website',\n",
       "       'Lead Origin_API', 'Lead Origin_Landing Page Submission',\n",
       "       'Lead Origin_Lead Add Form', 'Lead Source_Facebook',\n",
       "       'Lead Source_Olark Chat', 'Lead Source_Welingak Website',\n",
       "       'Last Activity_Approached upfront',\n",
       "       'Last Activity_Had a Phone Conversation',\n",
       "       'Last Activity_No Information', 'Last Activity_Olark Chat Conversation',\n",
       "       'Last Activity_SMS Sent', 'Current Occupation_Housewife',\n",
       "       'Current Occupation_No Information',\n",
       "       'Current Occupation_Working Professional',\n",
       "       'Last Notable Activity_Had a Phone Conversation',\n",
       "       'Last Notable Activity_Modified', 'Last Notable Activity_Unreachable'],\n",
       "      dtype='object')"
      ]
     },
     "execution_count": 57,
     "metadata": {},
     "output_type": "execute_result"
    }
   ],
   "source": [
    "# variables shortlisted by RFE\n",
    "\n",
    "col = X_train.columns[rfe.support_]\n",
    "col"
   ]
  },
  {
   "cell_type": "markdown",
   "id": "73c277c3",
   "metadata": {},
   "source": [
    "#### Assessing the stats model"
   ]
  },
  {
   "cell_type": "code",
   "execution_count": 58,
   "id": "c563ee06",
   "metadata": {},
   "outputs": [
    {
     "data": {
      "text/html": [
       "<table class=\"simpletable\">\n",
       "<caption>Generalized Linear Model Regression Results</caption>\n",
       "<tr>\n",
       "  <th>Dep. Variable:</th>       <td>Converted</td>    <th>  No. Observations:  </th>  <td>  6468</td> \n",
       "</tr>\n",
       "<tr>\n",
       "  <th>Model:</th>                  <td>GLM</td>       <th>  Df Residuals:      </th>  <td>  6447</td> \n",
       "</tr>\n",
       "<tr>\n",
       "  <th>Model Family:</th>        <td>Binomial</td>     <th>  Df Model:          </th>  <td>    20</td> \n",
       "</tr>\n",
       "<tr>\n",
       "  <th>Link Function:</th>         <td>Logit</td>      <th>  Scale:             </th> <td>  1.0000</td>\n",
       "</tr>\n",
       "<tr>\n",
       "  <th>Method:</th>                <td>IRLS</td>       <th>  Log-Likelihood:    </th> <td> -2594.3</td>\n",
       "</tr>\n",
       "<tr>\n",
       "  <th>Date:</th>            <td>Mon, 17 Jun 2024</td> <th>  Deviance:          </th> <td>  5188.6</td>\n",
       "</tr>\n",
       "<tr>\n",
       "  <th>Time:</th>                <td>19:38:49</td>     <th>  Pearson chi2:      </th> <td>6.78e+03</td>\n",
       "</tr>\n",
       "<tr>\n",
       "  <th>No. Iterations:</th>         <td>22</td>        <th>  Pseudo R-squ. (CS):</th>  <td>0.4097</td> \n",
       "</tr>\n",
       "<tr>\n",
       "  <th>Covariance Type:</th>     <td>nonrobust</td>    <th>                     </th>     <td> </td>   \n",
       "</tr>\n",
       "</table>\n",
       "<table class=\"simpletable\">\n",
       "<tr>\n",
       "                         <td></td>                           <th>coef</th>     <th>std err</th>      <th>z</th>      <th>P>|z|</th>  <th>[0.025</th>    <th>0.975]</th>  \n",
       "</tr>\n",
       "<tr>\n",
       "  <th>const</th>                                          <td>   -0.5597</td> <td>    1.395</td> <td>   -0.401</td> <td> 0.688</td> <td>   -3.294</td> <td>    2.175</td>\n",
       "</tr>\n",
       "<tr>\n",
       "  <th>Do Not Email</th>                                   <td>   -1.2827</td> <td>    0.171</td> <td>   -7.515</td> <td> 0.000</td> <td>   -1.617</td> <td>   -0.948</td>\n",
       "</tr>\n",
       "<tr>\n",
       "  <th>TotalVisits</th>                                    <td>    6.1073</td> <td>    1.889</td> <td>    3.233</td> <td> 0.001</td> <td>    2.405</td> <td>    9.810</td>\n",
       "</tr>\n",
       "<tr>\n",
       "  <th>Total Time Spent on Website</th>                    <td>    4.5510</td> <td>    0.167</td> <td>   27.225</td> <td> 0.000</td> <td>    4.223</td> <td>    4.879</td>\n",
       "</tr>\n",
       "<tr>\n",
       "  <th>Lead Origin_API</th>                                <td>   -1.2585</td> <td>    1.397</td> <td>   -0.901</td> <td> 0.368</td> <td>   -3.996</td> <td>    1.479</td>\n",
       "</tr>\n",
       "<tr>\n",
       "  <th>Lead Origin_Landing Page Submission</th>            <td>   -1.6375</td> <td>    1.395</td> <td>   -1.174</td> <td> 0.241</td> <td>   -4.372</td> <td>    1.097</td>\n",
       "</tr>\n",
       "<tr>\n",
       "  <th>Lead Origin_Lead Add Form</th>                      <td>    2.1630</td> <td>    1.406</td> <td>    1.538</td> <td> 0.124</td> <td>   -0.593</td> <td>    4.919</td>\n",
       "</tr>\n",
       "<tr>\n",
       "  <th>Lead Source_Facebook</th>                           <td>   -1.0980</td> <td>    1.425</td> <td>   -0.771</td> <td> 0.441</td> <td>   -3.890</td> <td>    1.694</td>\n",
       "</tr>\n",
       "<tr>\n",
       "  <th>Lead Source_Olark Chat</th>                         <td>    1.1415</td> <td>    0.125</td> <td>    9.103</td> <td> 0.000</td> <td>    0.896</td> <td>    1.387</td>\n",
       "</tr>\n",
       "<tr>\n",
       "  <th>Lead Source_Welingak Website</th>                   <td>    1.9128</td> <td>    0.743</td> <td>    2.575</td> <td> 0.010</td> <td>    0.457</td> <td>    3.369</td>\n",
       "</tr>\n",
       "<tr>\n",
       "  <th>Last Activity_Approached upfront</th>               <td>   23.3298</td> <td> 2.69e+04</td> <td>    0.001</td> <td> 0.999</td> <td>-5.26e+04</td> <td> 5.27e+04</td>\n",
       "</tr>\n",
       "<tr>\n",
       "  <th>Last Activity_Had a Phone Conversation</th>         <td>    1.0450</td> <td>    0.969</td> <td>    1.078</td> <td> 0.281</td> <td>   -0.854</td> <td>    2.944</td>\n",
       "</tr>\n",
       "<tr>\n",
       "  <th>Last Activity_No Information</th>                   <td>   -1.0850</td> <td>    0.451</td> <td>   -2.406</td> <td> 0.016</td> <td>   -1.969</td> <td>   -0.201</td>\n",
       "</tr>\n",
       "<tr>\n",
       "  <th>Last Activity_Olark Chat Conversation</th>          <td>   -0.8447</td> <td>    0.173</td> <td>   -4.872</td> <td> 0.000</td> <td>   -1.185</td> <td>   -0.505</td>\n",
       "</tr>\n",
       "<tr>\n",
       "  <th>Last Activity_SMS Sent</th>                         <td>    1.2367</td> <td>    0.075</td> <td>   16.392</td> <td> 0.000</td> <td>    1.089</td> <td>    1.385</td>\n",
       "</tr>\n",
       "<tr>\n",
       "  <th>Current Occupation_Housewife</th>                   <td>   24.0225</td> <td> 2.28e+04</td> <td>    0.001</td> <td> 0.999</td> <td>-4.47e+04</td> <td> 4.48e+04</td>\n",
       "</tr>\n",
       "<tr>\n",
       "  <th>Current Occupation_No Information</th>              <td>   -1.1007</td> <td>    0.088</td> <td>  -12.550</td> <td> 0.000</td> <td>   -1.273</td> <td>   -0.929</td>\n",
       "</tr>\n",
       "<tr>\n",
       "  <th>Current Occupation_Working Professional</th>        <td>    2.5628</td> <td>    0.188</td> <td>   13.614</td> <td> 0.000</td> <td>    2.194</td> <td>    2.932</td>\n",
       "</tr>\n",
       "<tr>\n",
       "  <th>Last Notable Activity_Had a Phone Conversation</th> <td>    2.3773</td> <td>    1.484</td> <td>    1.602</td> <td> 0.109</td> <td>   -0.531</td> <td>    5.285</td>\n",
       "</tr>\n",
       "<tr>\n",
       "  <th>Last Notable Activity_Modified</th>                 <td>   -0.7640</td> <td>    0.083</td> <td>   -9.206</td> <td> 0.000</td> <td>   -0.927</td> <td>   -0.601</td>\n",
       "</tr>\n",
       "<tr>\n",
       "  <th>Last Notable Activity_Unreachable</th>              <td>    1.8091</td> <td>    0.538</td> <td>    3.361</td> <td> 0.001</td> <td>    0.754</td> <td>    2.864</td>\n",
       "</tr>\n",
       "</table>"
      ],
      "text/plain": [
       "<class 'statsmodels.iolib.summary.Summary'>\n",
       "\"\"\"\n",
       "                 Generalized Linear Model Regression Results                  \n",
       "==============================================================================\n",
       "Dep. Variable:              Converted   No. Observations:                 6468\n",
       "Model:                            GLM   Df Residuals:                     6447\n",
       "Model Family:                Binomial   Df Model:                           20\n",
       "Link Function:                  Logit   Scale:                          1.0000\n",
       "Method:                          IRLS   Log-Likelihood:                -2594.3\n",
       "Date:                Mon, 17 Jun 2024   Deviance:                       5188.6\n",
       "Time:                        19:38:49   Pearson chi2:                 6.78e+03\n",
       "No. Iterations:                    22   Pseudo R-squ. (CS):             0.4097\n",
       "Covariance Type:            nonrobust                                         \n",
       "==================================================================================================================\n",
       "                                                     coef    std err          z      P>|z|      [0.025      0.975]\n",
       "------------------------------------------------------------------------------------------------------------------\n",
       "const                                             -0.5597      1.395     -0.401      0.688      -3.294       2.175\n",
       "Do Not Email                                      -1.2827      0.171     -7.515      0.000      -1.617      -0.948\n",
       "TotalVisits                                        6.1073      1.889      3.233      0.001       2.405       9.810\n",
       "Total Time Spent on Website                        4.5510      0.167     27.225      0.000       4.223       4.879\n",
       "Lead Origin_API                                   -1.2585      1.397     -0.901      0.368      -3.996       1.479\n",
       "Lead Origin_Landing Page Submission               -1.6375      1.395     -1.174      0.241      -4.372       1.097\n",
       "Lead Origin_Lead Add Form                          2.1630      1.406      1.538      0.124      -0.593       4.919\n",
       "Lead Source_Facebook                              -1.0980      1.425     -0.771      0.441      -3.890       1.694\n",
       "Lead Source_Olark Chat                             1.1415      0.125      9.103      0.000       0.896       1.387\n",
       "Lead Source_Welingak Website                       1.9128      0.743      2.575      0.010       0.457       3.369\n",
       "Last Activity_Approached upfront                  23.3298   2.69e+04      0.001      0.999   -5.26e+04    5.27e+04\n",
       "Last Activity_Had a Phone Conversation             1.0450      0.969      1.078      0.281      -0.854       2.944\n",
       "Last Activity_No Information                      -1.0850      0.451     -2.406      0.016      -1.969      -0.201\n",
       "Last Activity_Olark Chat Conversation             -0.8447      0.173     -4.872      0.000      -1.185      -0.505\n",
       "Last Activity_SMS Sent                             1.2367      0.075     16.392      0.000       1.089       1.385\n",
       "Current Occupation_Housewife                      24.0225   2.28e+04      0.001      0.999   -4.47e+04    4.48e+04\n",
       "Current Occupation_No Information                 -1.1007      0.088    -12.550      0.000      -1.273      -0.929\n",
       "Current Occupation_Working Professional            2.5628      0.188     13.614      0.000       2.194       2.932\n",
       "Last Notable Activity_Had a Phone Conversation     2.3773      1.484      1.602      0.109      -0.531       5.285\n",
       "Last Notable Activity_Modified                    -0.7640      0.083     -9.206      0.000      -0.927      -0.601\n",
       "Last Notable Activity_Unreachable                  1.8091      0.538      3.361      0.001       0.754       2.864\n",
       "==================================================================================================================\n",
       "\"\"\""
      ]
     },
     "execution_count": 58,
     "metadata": {},
     "output_type": "execute_result"
    }
   ],
   "source": [
    "X_train_sm = sm.add_constant(X_train[col])\n",
    "logm2 = sm.GLM(y_train,X_train_sm, family = sm.families.Binomial())\n",
    "res = logm2.fit()\n",
    "res.summary()"
   ]
  },
  {
   "cell_type": "markdown",
   "id": "eb38ba3b",
   "metadata": {},
   "source": [
    "#### Dropping CurrentOccupation_Housewife &  Last Activity_Approached upfront due to high p value"
   ]
  },
  {
   "cell_type": "code",
   "execution_count": 59,
   "id": "5608d23d",
   "metadata": {},
   "outputs": [],
   "source": [
    "col = col.drop(['Last Activity_Approached upfront','Current Occupation_Housewife'],1)"
   ]
  },
  {
   "cell_type": "markdown",
   "id": "93031383",
   "metadata": {},
   "source": [
    "#### reassess Model - Model 3"
   ]
  },
  {
   "cell_type": "code",
   "execution_count": 60,
   "id": "2e1eb295",
   "metadata": {},
   "outputs": [
    {
     "data": {
      "text/html": [
       "<table class=\"simpletable\">\n",
       "<caption>Generalized Linear Model Regression Results</caption>\n",
       "<tr>\n",
       "  <th>Dep. Variable:</th>       <td>Converted</td>    <th>  No. Observations:  </th>  <td>  6468</td> \n",
       "</tr>\n",
       "<tr>\n",
       "  <th>Model:</th>                  <td>GLM</td>       <th>  Df Residuals:      </th>  <td>  6449</td> \n",
       "</tr>\n",
       "<tr>\n",
       "  <th>Model Family:</th>        <td>Binomial</td>     <th>  Df Model:          </th>  <td>    18</td> \n",
       "</tr>\n",
       "<tr>\n",
       "  <th>Link Function:</th>         <td>Logit</td>      <th>  Scale:             </th> <td>  1.0000</td>\n",
       "</tr>\n",
       "<tr>\n",
       "  <th>Method:</th>                <td>IRLS</td>       <th>  Log-Likelihood:    </th> <td> -2605.3</td>\n",
       "</tr>\n",
       "<tr>\n",
       "  <th>Date:</th>            <td>Mon, 17 Jun 2024</td> <th>  Deviance:          </th> <td>  5210.6</td>\n",
       "</tr>\n",
       "<tr>\n",
       "  <th>Time:</th>                <td>19:38:49</td>     <th>  Pearson chi2:      </th> <td>6.80e+03</td>\n",
       "</tr>\n",
       "<tr>\n",
       "  <th>No. Iterations:</th>          <td>7</td>        <th>  Pseudo R-squ. (CS):</th>  <td>0.4077</td> \n",
       "</tr>\n",
       "<tr>\n",
       "  <th>Covariance Type:</th>     <td>nonrobust</td>    <th>                     </th>     <td> </td>   \n",
       "</tr>\n",
       "</table>\n",
       "<table class=\"simpletable\">\n",
       "<tr>\n",
       "                         <td></td>                           <th>coef</th>     <th>std err</th>      <th>z</th>      <th>P>|z|</th>  <th>[0.025</th>    <th>0.975]</th>  \n",
       "</tr>\n",
       "<tr>\n",
       "  <th>const</th>                                          <td>   -0.5613</td> <td>    1.396</td> <td>   -0.402</td> <td> 0.688</td> <td>   -3.297</td> <td>    2.175</td>\n",
       "</tr>\n",
       "<tr>\n",
       "  <th>Do Not Email</th>                                   <td>   -1.2936</td> <td>    0.171</td> <td>   -7.581</td> <td> 0.000</td> <td>   -1.628</td> <td>   -0.959</td>\n",
       "</tr>\n",
       "<tr>\n",
       "  <th>TotalVisits</th>                                    <td>    6.0176</td> <td>    1.882</td> <td>    3.197</td> <td> 0.001</td> <td>    2.329</td> <td>    9.707</td>\n",
       "</tr>\n",
       "<tr>\n",
       "  <th>Total Time Spent on Website</th>                    <td>    4.5536</td> <td>    0.167</td> <td>   27.286</td> <td> 0.000</td> <td>    4.226</td> <td>    4.881</td>\n",
       "</tr>\n",
       "<tr>\n",
       "  <th>Lead Origin_API</th>                                <td>   -1.2535</td> <td>    1.397</td> <td>   -0.897</td> <td> 0.370</td> <td>   -3.992</td> <td>    1.485</td>\n",
       "</tr>\n",
       "<tr>\n",
       "  <th>Lead Origin_Landing Page Submission</th>            <td>   -1.6217</td> <td>    1.396</td> <td>   -1.162</td> <td> 0.245</td> <td>   -4.357</td> <td>    1.114</td>\n",
       "</tr>\n",
       "<tr>\n",
       "  <th>Lead Origin_Lead Add Form</th>                      <td>    2.1977</td> <td>    1.406</td> <td>    1.563</td> <td> 0.118</td> <td>   -0.559</td> <td>    4.954</td>\n",
       "</tr>\n",
       "<tr>\n",
       "  <th>Lead Source_Facebook</th>                           <td>   -1.0983</td> <td>    1.425</td> <td>   -0.771</td> <td> 0.441</td> <td>   -3.891</td> <td>    1.695</td>\n",
       "</tr>\n",
       "<tr>\n",
       "  <th>Lead Source_Olark Chat</th>                         <td>    1.1488</td> <td>    0.125</td> <td>    9.174</td> <td> 0.000</td> <td>    0.903</td> <td>    1.394</td>\n",
       "</tr>\n",
       "<tr>\n",
       "  <th>Lead Source_Welingak Website</th>                   <td>    1.8790</td> <td>    0.743</td> <td>    2.530</td> <td> 0.011</td> <td>    0.424</td> <td>    3.334</td>\n",
       "</tr>\n",
       "<tr>\n",
       "  <th>Last Activity_Had a Phone Conversation</th>         <td>    1.0208</td> <td>    0.970</td> <td>    1.052</td> <td> 0.293</td> <td>   -0.880</td> <td>    2.922</td>\n",
       "</tr>\n",
       "<tr>\n",
       "  <th>Last Activity_No Information</th>                   <td>   -1.0859</td> <td>    0.448</td> <td>   -2.424</td> <td> 0.015</td> <td>   -1.964</td> <td>   -0.208</td>\n",
       "</tr>\n",
       "<tr>\n",
       "  <th>Last Activity_Olark Chat Conversation</th>          <td>   -0.8616</td> <td>    0.173</td> <td>   -4.974</td> <td> 0.000</td> <td>   -1.201</td> <td>   -0.522</td>\n",
       "</tr>\n",
       "<tr>\n",
       "  <th>Last Activity_SMS Sent</th>                         <td>    1.2250</td> <td>    0.075</td> <td>   16.258</td> <td> 0.000</td> <td>    1.077</td> <td>    1.373</td>\n",
       "</tr>\n",
       "<tr>\n",
       "  <th>Current Occupation_No Information</th>              <td>   -1.1100</td> <td>    0.088</td> <td>  -12.670</td> <td> 0.000</td> <td>   -1.282</td> <td>   -0.938</td>\n",
       "</tr>\n",
       "<tr>\n",
       "  <th>Current Occupation_Working Professional</th>        <td>    2.5491</td> <td>    0.188</td> <td>   13.552</td> <td> 0.000</td> <td>    2.180</td> <td>    2.918</td>\n",
       "</tr>\n",
       "<tr>\n",
       "  <th>Last Notable Activity_Had a Phone Conversation</th> <td>    2.3940</td> <td>    1.484</td> <td>    1.613</td> <td> 0.107</td> <td>   -0.515</td> <td>    5.303</td>\n",
       "</tr>\n",
       "<tr>\n",
       "  <th>Last Notable Activity_Modified</th>                 <td>   -0.7479</td> <td>    0.083</td> <td>   -9.056</td> <td> 0.000</td> <td>   -0.910</td> <td>   -0.586</td>\n",
       "</tr>\n",
       "<tr>\n",
       "  <th>Last Notable Activity_Unreachable</th>              <td>    1.8035</td> <td>    0.538</td> <td>    3.349</td> <td> 0.001</td> <td>    0.748</td> <td>    2.859</td>\n",
       "</tr>\n",
       "</table>"
      ],
      "text/plain": [
       "<class 'statsmodels.iolib.summary.Summary'>\n",
       "\"\"\"\n",
       "                 Generalized Linear Model Regression Results                  \n",
       "==============================================================================\n",
       "Dep. Variable:              Converted   No. Observations:                 6468\n",
       "Model:                            GLM   Df Residuals:                     6449\n",
       "Model Family:                Binomial   Df Model:                           18\n",
       "Link Function:                  Logit   Scale:                          1.0000\n",
       "Method:                          IRLS   Log-Likelihood:                -2605.3\n",
       "Date:                Mon, 17 Jun 2024   Deviance:                       5210.6\n",
       "Time:                        19:38:49   Pearson chi2:                 6.80e+03\n",
       "No. Iterations:                     7   Pseudo R-squ. (CS):             0.4077\n",
       "Covariance Type:            nonrobust                                         \n",
       "==================================================================================================================\n",
       "                                                     coef    std err          z      P>|z|      [0.025      0.975]\n",
       "------------------------------------------------------------------------------------------------------------------\n",
       "const                                             -0.5613      1.396     -0.402      0.688      -3.297       2.175\n",
       "Do Not Email                                      -1.2936      0.171     -7.581      0.000      -1.628      -0.959\n",
       "TotalVisits                                        6.0176      1.882      3.197      0.001       2.329       9.707\n",
       "Total Time Spent on Website                        4.5536      0.167     27.286      0.000       4.226       4.881\n",
       "Lead Origin_API                                   -1.2535      1.397     -0.897      0.370      -3.992       1.485\n",
       "Lead Origin_Landing Page Submission               -1.6217      1.396     -1.162      0.245      -4.357       1.114\n",
       "Lead Origin_Lead Add Form                          2.1977      1.406      1.563      0.118      -0.559       4.954\n",
       "Lead Source_Facebook                              -1.0983      1.425     -0.771      0.441      -3.891       1.695\n",
       "Lead Source_Olark Chat                             1.1488      0.125      9.174      0.000       0.903       1.394\n",
       "Lead Source_Welingak Website                       1.8790      0.743      2.530      0.011       0.424       3.334\n",
       "Last Activity_Had a Phone Conversation             1.0208      0.970      1.052      0.293      -0.880       2.922\n",
       "Last Activity_No Information                      -1.0859      0.448     -2.424      0.015      -1.964      -0.208\n",
       "Last Activity_Olark Chat Conversation             -0.8616      0.173     -4.974      0.000      -1.201      -0.522\n",
       "Last Activity_SMS Sent                             1.2250      0.075     16.258      0.000       1.077       1.373\n",
       "Current Occupation_No Information                 -1.1100      0.088    -12.670      0.000      -1.282      -0.938\n",
       "Current Occupation_Working Professional            2.5491      0.188     13.552      0.000       2.180       2.918\n",
       "Last Notable Activity_Had a Phone Conversation     2.3940      1.484      1.613      0.107      -0.515       5.303\n",
       "Last Notable Activity_Modified                    -0.7479      0.083     -9.056      0.000      -0.910      -0.586\n",
       "Last Notable Activity_Unreachable                  1.8035      0.538      3.349      0.001       0.748       2.859\n",
       "==================================================================================================================\n",
       "\"\"\""
      ]
     },
     "execution_count": 60,
     "metadata": {},
     "output_type": "execute_result"
    }
   ],
   "source": [
    "X_train_sm = sm.add_constant(X_train[col])\n",
    "logm3 = sm.GLM(y_train,X_train_sm, family = sm.families.Binomial())\n",
    "res = logm3.fit()\n",
    "res.summary()"
   ]
  },
  {
   "cell_type": "markdown",
   "id": "42d06f58",
   "metadata": {},
   "source": [
    "#### Drop Column Last Activity_Had a Phone Conversation due to high p value"
   ]
  },
  {
   "cell_type": "code",
   "execution_count": 61,
   "id": "5e2e900f",
   "metadata": {},
   "outputs": [],
   "source": [
    "col = col.drop('Last Activity_Had a Phone Conversation',1)"
   ]
  },
  {
   "cell_type": "markdown",
   "id": "387a725e",
   "metadata": {},
   "source": [
    "#### reassess - model 4"
   ]
  },
  {
   "cell_type": "code",
   "execution_count": 62,
   "id": "ded9acf6",
   "metadata": {},
   "outputs": [
    {
     "data": {
      "text/html": [
       "<table class=\"simpletable\">\n",
       "<caption>Generalized Linear Model Regression Results</caption>\n",
       "<tr>\n",
       "  <th>Dep. Variable:</th>       <td>Converted</td>    <th>  No. Observations:  </th>  <td>  6468</td> \n",
       "</tr>\n",
       "<tr>\n",
       "  <th>Model:</th>                  <td>GLM</td>       <th>  Df Residuals:      </th>  <td>  6450</td> \n",
       "</tr>\n",
       "<tr>\n",
       "  <th>Model Family:</th>        <td>Binomial</td>     <th>  Df Model:          </th>  <td>    17</td> \n",
       "</tr>\n",
       "<tr>\n",
       "  <th>Link Function:</th>         <td>Logit</td>      <th>  Scale:             </th> <td>  1.0000</td>\n",
       "</tr>\n",
       "<tr>\n",
       "  <th>Method:</th>                <td>IRLS</td>       <th>  Log-Likelihood:    </th> <td> -2605.9</td>\n",
       "</tr>\n",
       "<tr>\n",
       "  <th>Date:</th>            <td>Mon, 17 Jun 2024</td> <th>  Deviance:          </th> <td>  5211.8</td>\n",
       "</tr>\n",
       "<tr>\n",
       "  <th>Time:</th>                <td>19:38:49</td>     <th>  Pearson chi2:      </th> <td>6.56e+03</td>\n",
       "</tr>\n",
       "<tr>\n",
       "  <th>No. Iterations:</th>          <td>7</td>        <th>  Pseudo R-squ. (CS):</th>  <td>0.4076</td> \n",
       "</tr>\n",
       "<tr>\n",
       "  <th>Covariance Type:</th>     <td>nonrobust</td>    <th>                     </th>     <td> </td>   \n",
       "</tr>\n",
       "</table>\n",
       "<table class=\"simpletable\">\n",
       "<tr>\n",
       "                         <td></td>                           <th>coef</th>     <th>std err</th>      <th>z</th>      <th>P>|z|</th>  <th>[0.025</th>    <th>0.975]</th>  \n",
       "</tr>\n",
       "<tr>\n",
       "  <th>const</th>                                          <td>   -0.5635</td> <td>    1.397</td> <td>   -0.403</td> <td> 0.687</td> <td>   -3.301</td> <td>    2.174</td>\n",
       "</tr>\n",
       "<tr>\n",
       "  <th>Do Not Email</th>                                   <td>   -1.2953</td> <td>    0.171</td> <td>   -7.589</td> <td> 0.000</td> <td>   -1.630</td> <td>   -0.961</td>\n",
       "</tr>\n",
       "<tr>\n",
       "  <th>TotalVisits</th>                                    <td>    6.0122</td> <td>    1.882</td> <td>    3.195</td> <td> 0.001</td> <td>    2.324</td> <td>    9.700</td>\n",
       "</tr>\n",
       "<tr>\n",
       "  <th>Total Time Spent on Website</th>                    <td>    4.5571</td> <td>    0.167</td> <td>   27.311</td> <td> 0.000</td> <td>    4.230</td> <td>    4.884</td>\n",
       "</tr>\n",
       "<tr>\n",
       "  <th>Lead Origin_API</th>                                <td>   -1.2509</td> <td>    1.398</td> <td>   -0.895</td> <td> 0.371</td> <td>   -3.991</td> <td>    1.489</td>\n",
       "</tr>\n",
       "<tr>\n",
       "  <th>Lead Origin_Landing Page Submission</th>            <td>   -1.6199</td> <td>    1.396</td> <td>   -1.160</td> <td> 0.246</td> <td>   -4.357</td> <td>    1.117</td>\n",
       "</tr>\n",
       "<tr>\n",
       "  <th>Lead Origin_Lead Add Form</th>                      <td>    2.2053</td> <td>    1.407</td> <td>    1.567</td> <td> 0.117</td> <td>   -0.553</td> <td>    4.963</td>\n",
       "</tr>\n",
       "<tr>\n",
       "  <th>Lead Source_Facebook</th>                           <td>   -1.0965</td> <td>    1.426</td> <td>   -0.769</td> <td> 0.442</td> <td>   -3.891</td> <td>    1.698</td>\n",
       "</tr>\n",
       "<tr>\n",
       "  <th>Lead Source_Olark Chat</th>                         <td>    1.1481</td> <td>    0.125</td> <td>    9.170</td> <td> 0.000</td> <td>    0.903</td> <td>    1.393</td>\n",
       "</tr>\n",
       "<tr>\n",
       "  <th>Lead Source_Welingak Website</th>                   <td>    1.8740</td> <td>    0.743</td> <td>    2.524</td> <td> 0.012</td> <td>    0.419</td> <td>    3.329</td>\n",
       "</tr>\n",
       "<tr>\n",
       "  <th>Last Activity_No Information</th>                   <td>   -1.0969</td> <td>    0.448</td> <td>   -2.448</td> <td> 0.014</td> <td>   -1.975</td> <td>   -0.219</td>\n",
       "</tr>\n",
       "<tr>\n",
       "  <th>Last Activity_Olark Chat Conversation</th>          <td>   -0.8660</td> <td>    0.173</td> <td>   -5.000</td> <td> 0.000</td> <td>   -1.206</td> <td>   -0.527</td>\n",
       "</tr>\n",
       "<tr>\n",
       "  <th>Last Activity_SMS Sent</th>                         <td>    1.2233</td> <td>    0.075</td> <td>   16.238</td> <td> 0.000</td> <td>    1.076</td> <td>    1.371</td>\n",
       "</tr>\n",
       "<tr>\n",
       "  <th>Current Occupation_No Information</th>              <td>   -1.1102</td> <td>    0.088</td> <td>  -12.674</td> <td> 0.000</td> <td>   -1.282</td> <td>   -0.938</td>\n",
       "</tr>\n",
       "<tr>\n",
       "  <th>Current Occupation_Working Professional</th>        <td>    2.5547</td> <td>    0.188</td> <td>   13.591</td> <td> 0.000</td> <td>    2.186</td> <td>    2.923</td>\n",
       "</tr>\n",
       "<tr>\n",
       "  <th>Last Notable Activity_Had a Phone Conversation</th> <td>    3.4149</td> <td>    1.124</td> <td>    3.039</td> <td> 0.002</td> <td>    1.212</td> <td>    5.618</td>\n",
       "</tr>\n",
       "<tr>\n",
       "  <th>Last Notable Activity_Modified</th>                 <td>   -0.7425</td> <td>    0.082</td> <td>   -9.011</td> <td> 0.000</td> <td>   -0.904</td> <td>   -0.581</td>\n",
       "</tr>\n",
       "<tr>\n",
       "  <th>Last Notable Activity_Unreachable</th>              <td>    1.8033</td> <td>    0.539</td> <td>    3.348</td> <td> 0.001</td> <td>    0.748</td> <td>    2.859</td>\n",
       "</tr>\n",
       "</table>"
      ],
      "text/plain": [
       "<class 'statsmodels.iolib.summary.Summary'>\n",
       "\"\"\"\n",
       "                 Generalized Linear Model Regression Results                  \n",
       "==============================================================================\n",
       "Dep. Variable:              Converted   No. Observations:                 6468\n",
       "Model:                            GLM   Df Residuals:                     6450\n",
       "Model Family:                Binomial   Df Model:                           17\n",
       "Link Function:                  Logit   Scale:                          1.0000\n",
       "Method:                          IRLS   Log-Likelihood:                -2605.9\n",
       "Date:                Mon, 17 Jun 2024   Deviance:                       5211.8\n",
       "Time:                        19:38:49   Pearson chi2:                 6.56e+03\n",
       "No. Iterations:                     7   Pseudo R-squ. (CS):             0.4076\n",
       "Covariance Type:            nonrobust                                         \n",
       "==================================================================================================================\n",
       "                                                     coef    std err          z      P>|z|      [0.025      0.975]\n",
       "------------------------------------------------------------------------------------------------------------------\n",
       "const                                             -0.5635      1.397     -0.403      0.687      -3.301       2.174\n",
       "Do Not Email                                      -1.2953      0.171     -7.589      0.000      -1.630      -0.961\n",
       "TotalVisits                                        6.0122      1.882      3.195      0.001       2.324       9.700\n",
       "Total Time Spent on Website                        4.5571      0.167     27.311      0.000       4.230       4.884\n",
       "Lead Origin_API                                   -1.2509      1.398     -0.895      0.371      -3.991       1.489\n",
       "Lead Origin_Landing Page Submission               -1.6199      1.396     -1.160      0.246      -4.357       1.117\n",
       "Lead Origin_Lead Add Form                          2.2053      1.407      1.567      0.117      -0.553       4.963\n",
       "Lead Source_Facebook                              -1.0965      1.426     -0.769      0.442      -3.891       1.698\n",
       "Lead Source_Olark Chat                             1.1481      0.125      9.170      0.000       0.903       1.393\n",
       "Lead Source_Welingak Website                       1.8740      0.743      2.524      0.012       0.419       3.329\n",
       "Last Activity_No Information                      -1.0969      0.448     -2.448      0.014      -1.975      -0.219\n",
       "Last Activity_Olark Chat Conversation             -0.8660      0.173     -5.000      0.000      -1.206      -0.527\n",
       "Last Activity_SMS Sent                             1.2233      0.075     16.238      0.000       1.076       1.371\n",
       "Current Occupation_No Information                 -1.1102      0.088    -12.674      0.000      -1.282      -0.938\n",
       "Current Occupation_Working Professional            2.5547      0.188     13.591      0.000       2.186       2.923\n",
       "Last Notable Activity_Had a Phone Conversation     3.4149      1.124      3.039      0.002       1.212       5.618\n",
       "Last Notable Activity_Modified                    -0.7425      0.082     -9.011      0.000      -0.904      -0.581\n",
       "Last Notable Activity_Unreachable                  1.8033      0.539      3.348      0.001       0.748       2.859\n",
       "==================================================================================================================\n",
       "\"\"\""
      ]
     },
     "execution_count": 62,
     "metadata": {},
     "output_type": "execute_result"
    }
   ],
   "source": [
    "X_train_sm = sm.add_constant(X_train[col])\n",
    "logm4 = sm.GLM(y_train,X_train_sm, family = sm.families.Binomial())\n",
    "res = logm4.fit()\n",
    "res.summary()"
   ]
  },
  {
   "cell_type": "markdown",
   "id": "337d61c5",
   "metadata": {},
   "source": [
    "#### Drop ColumnLead Source_Facebook Conversation due to high p value"
   ]
  },
  {
   "cell_type": "code",
   "execution_count": 63,
   "id": "68ddf367",
   "metadata": {},
   "outputs": [],
   "source": [
    "col = col.drop('Lead Source_Facebook',1)"
   ]
  },
  {
   "cell_type": "markdown",
   "id": "22042933",
   "metadata": {},
   "source": [
    "#### reassess - model 5"
   ]
  },
  {
   "cell_type": "code",
   "execution_count": 64,
   "id": "fc3b8209",
   "metadata": {},
   "outputs": [
    {
     "data": {
      "text/html": [
       "<table class=\"simpletable\">\n",
       "<caption>Generalized Linear Model Regression Results</caption>\n",
       "<tr>\n",
       "  <th>Dep. Variable:</th>       <td>Converted</td>    <th>  No. Observations:  </th>  <td>  6468</td> \n",
       "</tr>\n",
       "<tr>\n",
       "  <th>Model:</th>                  <td>GLM</td>       <th>  Df Residuals:      </th>  <td>  6451</td> \n",
       "</tr>\n",
       "<tr>\n",
       "  <th>Model Family:</th>        <td>Binomial</td>     <th>  Df Model:          </th>  <td>    16</td> \n",
       "</tr>\n",
       "<tr>\n",
       "  <th>Link Function:</th>         <td>Logit</td>      <th>  Scale:             </th> <td>  1.0000</td>\n",
       "</tr>\n",
       "<tr>\n",
       "  <th>Method:</th>                <td>IRLS</td>       <th>  Log-Likelihood:    </th> <td> -2606.2</td>\n",
       "</tr>\n",
       "<tr>\n",
       "  <th>Date:</th>            <td>Mon, 17 Jun 2024</td> <th>  Deviance:          </th> <td>  5212.4</td>\n",
       "</tr>\n",
       "<tr>\n",
       "  <th>Time:</th>                <td>19:38:49</td>     <th>  Pearson chi2:      </th> <td>6.56e+03</td>\n",
       "</tr>\n",
       "<tr>\n",
       "  <th>No. Iterations:</th>          <td>7</td>        <th>  Pseudo R-squ. (CS):</th>  <td>0.4075</td> \n",
       "</tr>\n",
       "<tr>\n",
       "  <th>Covariance Type:</th>     <td>nonrobust</td>    <th>                     </th>     <td> </td>   \n",
       "</tr>\n",
       "</table>\n",
       "<table class=\"simpletable\">\n",
       "<tr>\n",
       "                         <td></td>                           <th>coef</th>     <th>std err</th>      <th>z</th>      <th>P>|z|</th>  <th>[0.025</th>    <th>0.975]</th>  \n",
       "</tr>\n",
       "<tr>\n",
       "  <th>const</th>                                          <td>   -1.5667</td> <td>    0.494</td> <td>   -3.171</td> <td> 0.002</td> <td>   -2.535</td> <td>   -0.598</td>\n",
       "</tr>\n",
       "<tr>\n",
       "  <th>Do Not Email</th>                                   <td>   -1.2908</td> <td>    0.170</td> <td>   -7.578</td> <td> 0.000</td> <td>   -1.625</td> <td>   -0.957</td>\n",
       "</tr>\n",
       "<tr>\n",
       "  <th>TotalVisits</th>                                    <td>    6.0122</td> <td>    1.882</td> <td>    3.195</td> <td> 0.001</td> <td>    2.324</td> <td>    9.700</td>\n",
       "</tr>\n",
       "<tr>\n",
       "  <th>Total Time Spent on Website</th>                    <td>    4.5610</td> <td>    0.167</td> <td>   27.358</td> <td> 0.000</td> <td>    4.234</td> <td>    4.888</td>\n",
       "</tr>\n",
       "<tr>\n",
       "  <th>Lead Origin_API</th>                                <td>   -0.2485</td> <td>    0.499</td> <td>   -0.498</td> <td> 0.619</td> <td>   -1.227</td> <td>    0.730</td>\n",
       "</tr>\n",
       "<tr>\n",
       "  <th>Lead Origin_Landing Page Submission</th>            <td>   -0.6181</td> <td>    0.496</td> <td>   -1.247</td> <td> 0.213</td> <td>   -1.590</td> <td>    0.354</td>\n",
       "</tr>\n",
       "<tr>\n",
       "  <th>Lead Origin_Lead Add Form</th>                      <td>    3.2110</td> <td>    0.514</td> <td>    6.242</td> <td> 0.000</td> <td>    2.203</td> <td>    4.219</td>\n",
       "</tr>\n",
       "<tr>\n",
       "  <th>Lead Source_Olark Chat</th>                         <td>    1.1492</td> <td>    0.125</td> <td>    9.180</td> <td> 0.000</td> <td>    0.904</td> <td>    1.395</td>\n",
       "</tr>\n",
       "<tr>\n",
       "  <th>Lead Source_Welingak Website</th>                   <td>    1.8745</td> <td>    0.743</td> <td>    2.524</td> <td> 0.012</td> <td>    0.419</td> <td>    3.330</td>\n",
       "</tr>\n",
       "<tr>\n",
       "  <th>Last Activity_No Information</th>                   <td>   -1.1151</td> <td>    0.445</td> <td>   -2.505</td> <td> 0.012</td> <td>   -1.988</td> <td>   -0.243</td>\n",
       "</tr>\n",
       "<tr>\n",
       "  <th>Last Activity_Olark Chat Conversation</th>          <td>   -0.8666</td> <td>    0.173</td> <td>   -5.003</td> <td> 0.000</td> <td>   -1.206</td> <td>   -0.527</td>\n",
       "</tr>\n",
       "<tr>\n",
       "  <th>Last Activity_SMS Sent</th>                         <td>    1.2218</td> <td>    0.075</td> <td>   16.224</td> <td> 0.000</td> <td>    1.074</td> <td>    1.369</td>\n",
       "</tr>\n",
       "<tr>\n",
       "  <th>Current Occupation_No Information</th>              <td>   -1.1105</td> <td>    0.088</td> <td>  -12.679</td> <td> 0.000</td> <td>   -1.282</td> <td>   -0.939</td>\n",
       "</tr>\n",
       "<tr>\n",
       "  <th>Current Occupation_Working Professional</th>        <td>    2.5543</td> <td>    0.188</td> <td>   13.590</td> <td> 0.000</td> <td>    2.186</td> <td>    2.923</td>\n",
       "</tr>\n",
       "<tr>\n",
       "  <th>Last Notable Activity_Had a Phone Conversation</th> <td>    3.4158</td> <td>    1.124</td> <td>    3.039</td> <td> 0.002</td> <td>    1.213</td> <td>    5.619</td>\n",
       "</tr>\n",
       "<tr>\n",
       "  <th>Last Notable Activity_Modified</th>                 <td>   -0.7423</td> <td>    0.082</td> <td>   -9.008</td> <td> 0.000</td> <td>   -0.904</td> <td>   -0.581</td>\n",
       "</tr>\n",
       "<tr>\n",
       "  <th>Last Notable Activity_Unreachable</th>              <td>    1.8039</td> <td>    0.539</td> <td>    3.349</td> <td> 0.001</td> <td>    0.748</td> <td>    2.860</td>\n",
       "</tr>\n",
       "</table>"
      ],
      "text/plain": [
       "<class 'statsmodels.iolib.summary.Summary'>\n",
       "\"\"\"\n",
       "                 Generalized Linear Model Regression Results                  \n",
       "==============================================================================\n",
       "Dep. Variable:              Converted   No. Observations:                 6468\n",
       "Model:                            GLM   Df Residuals:                     6451\n",
       "Model Family:                Binomial   Df Model:                           16\n",
       "Link Function:                  Logit   Scale:                          1.0000\n",
       "Method:                          IRLS   Log-Likelihood:                -2606.2\n",
       "Date:                Mon, 17 Jun 2024   Deviance:                       5212.4\n",
       "Time:                        19:38:49   Pearson chi2:                 6.56e+03\n",
       "No. Iterations:                     7   Pseudo R-squ. (CS):             0.4075\n",
       "Covariance Type:            nonrobust                                         \n",
       "==================================================================================================================\n",
       "                                                     coef    std err          z      P>|z|      [0.025      0.975]\n",
       "------------------------------------------------------------------------------------------------------------------\n",
       "const                                             -1.5667      0.494     -3.171      0.002      -2.535      -0.598\n",
       "Do Not Email                                      -1.2908      0.170     -7.578      0.000      -1.625      -0.957\n",
       "TotalVisits                                        6.0122      1.882      3.195      0.001       2.324       9.700\n",
       "Total Time Spent on Website                        4.5610      0.167     27.358      0.000       4.234       4.888\n",
       "Lead Origin_API                                   -0.2485      0.499     -0.498      0.619      -1.227       0.730\n",
       "Lead Origin_Landing Page Submission               -0.6181      0.496     -1.247      0.213      -1.590       0.354\n",
       "Lead Origin_Lead Add Form                          3.2110      0.514      6.242      0.000       2.203       4.219\n",
       "Lead Source_Olark Chat                             1.1492      0.125      9.180      0.000       0.904       1.395\n",
       "Lead Source_Welingak Website                       1.8745      0.743      2.524      0.012       0.419       3.330\n",
       "Last Activity_No Information                      -1.1151      0.445     -2.505      0.012      -1.988      -0.243\n",
       "Last Activity_Olark Chat Conversation             -0.8666      0.173     -5.003      0.000      -1.206      -0.527\n",
       "Last Activity_SMS Sent                             1.2218      0.075     16.224      0.000       1.074       1.369\n",
       "Current Occupation_No Information                 -1.1105      0.088    -12.679      0.000      -1.282      -0.939\n",
       "Current Occupation_Working Professional            2.5543      0.188     13.590      0.000       2.186       2.923\n",
       "Last Notable Activity_Had a Phone Conversation     3.4158      1.124      3.039      0.002       1.213       5.619\n",
       "Last Notable Activity_Modified                    -0.7423      0.082     -9.008      0.000      -0.904      -0.581\n",
       "Last Notable Activity_Unreachable                  1.8039      0.539      3.349      0.001       0.748       2.860\n",
       "==================================================================================================================\n",
       "\"\"\""
      ]
     },
     "execution_count": 64,
     "metadata": {},
     "output_type": "execute_result"
    }
   ],
   "source": [
    "X_train_sm = sm.add_constant(X_train[col])\n",
    "logm5 = sm.GLM(y_train,X_train_sm, family = sm.families.Binomial())\n",
    "res = logm5.fit()\n",
    "res.summary()"
   ]
  },
  {
   "cell_type": "markdown",
   "id": "7318a827",
   "metadata": {},
   "source": [
    "#### Drop Column Lead Origin_API due to high p value"
   ]
  },
  {
   "cell_type": "code",
   "execution_count": 65,
   "id": "5eeec70e",
   "metadata": {},
   "outputs": [],
   "source": [
    "col = col.drop('Lead Origin_API',1)"
   ]
  },
  {
   "cell_type": "markdown",
   "id": "1479ac6c",
   "metadata": {},
   "source": [
    "#### reassess - model 6"
   ]
  },
  {
   "cell_type": "code",
   "execution_count": 66,
   "id": "b1a26111",
   "metadata": {},
   "outputs": [
    {
     "data": {
      "text/html": [
       "<table class=\"simpletable\">\n",
       "<caption>Generalized Linear Model Regression Results</caption>\n",
       "<tr>\n",
       "  <th>Dep. Variable:</th>       <td>Converted</td>    <th>  No. Observations:  </th>  <td>  6468</td> \n",
       "</tr>\n",
       "<tr>\n",
       "  <th>Model:</th>                  <td>GLM</td>       <th>  Df Residuals:      </th>  <td>  6452</td> \n",
       "</tr>\n",
       "<tr>\n",
       "  <th>Model Family:</th>        <td>Binomial</td>     <th>  Df Model:          </th>  <td>    15</td> \n",
       "</tr>\n",
       "<tr>\n",
       "  <th>Link Function:</th>         <td>Logit</td>      <th>  Scale:             </th> <td>  1.0000</td>\n",
       "</tr>\n",
       "<tr>\n",
       "  <th>Method:</th>                <td>IRLS</td>       <th>  Log-Likelihood:    </th> <td> -2606.3</td>\n",
       "</tr>\n",
       "<tr>\n",
       "  <th>Date:</th>            <td>Mon, 17 Jun 2024</td> <th>  Deviance:          </th> <td>  5212.7</td>\n",
       "</tr>\n",
       "<tr>\n",
       "  <th>Time:</th>                <td>19:38:49</td>     <th>  Pearson chi2:      </th> <td>6.56e+03</td>\n",
       "</tr>\n",
       "<tr>\n",
       "  <th>No. Iterations:</th>          <td>7</td>        <th>  Pseudo R-squ. (CS):</th>  <td>0.4075</td> \n",
       "</tr>\n",
       "<tr>\n",
       "  <th>Covariance Type:</th>     <td>nonrobust</td>    <th>                     </th>     <td> </td>   \n",
       "</tr>\n",
       "</table>\n",
       "<table class=\"simpletable\">\n",
       "<tr>\n",
       "                         <td></td>                           <th>coef</th>     <th>std err</th>      <th>z</th>      <th>P>|z|</th>  <th>[0.025</th>    <th>0.975]</th>  \n",
       "</tr>\n",
       "<tr>\n",
       "  <th>const</th>                                          <td>   -1.8076</td> <td>    0.105</td> <td>  -17.197</td> <td> 0.000</td> <td>   -2.014</td> <td>   -1.602</td>\n",
       "</tr>\n",
       "<tr>\n",
       "  <th>Do Not Email</th>                                   <td>   -1.2891</td> <td>    0.170</td> <td>   -7.578</td> <td> 0.000</td> <td>   -1.623</td> <td>   -0.956</td>\n",
       "</tr>\n",
       "<tr>\n",
       "  <th>TotalVisits</th>                                    <td>    5.9668</td> <td>    1.876</td> <td>    3.180</td> <td> 0.001</td> <td>    2.289</td> <td>    9.645</td>\n",
       "</tr>\n",
       "<tr>\n",
       "  <th>Total Time Spent on Website</th>                    <td>    4.5565</td> <td>    0.166</td> <td>   27.376</td> <td> 0.000</td> <td>    4.230</td> <td>    4.883</td>\n",
       "</tr>\n",
       "<tr>\n",
       "  <th>Lead Origin_Landing Page Submission</th>            <td>   -0.3751</td> <td>    0.090</td> <td>   -4.166</td> <td> 0.000</td> <td>   -0.552</td> <td>   -0.199</td>\n",
       "</tr>\n",
       "<tr>\n",
       "  <th>Lead Origin_Lead Add Form</th>                      <td>    3.4449</td> <td>    0.212</td> <td>   16.220</td> <td> 0.000</td> <td>    3.029</td> <td>    3.861</td>\n",
       "</tr>\n",
       "<tr>\n",
       "  <th>Lead Source_Olark Chat</th>                         <td>    1.1419</td> <td>    0.124</td> <td>    9.190</td> <td> 0.000</td> <td>    0.898</td> <td>    1.385</td>\n",
       "</tr>\n",
       "<tr>\n",
       "  <th>Lead Source_Welingak Website</th>                   <td>    1.8731</td> <td>    0.742</td> <td>    2.523</td> <td> 0.012</td> <td>    0.418</td> <td>    3.328</td>\n",
       "</tr>\n",
       "<tr>\n",
       "  <th>Last Activity_No Information</th>                   <td>   -1.0704</td> <td>    0.442</td> <td>   -2.424</td> <td> 0.015</td> <td>   -1.936</td> <td>   -0.205</td>\n",
       "</tr>\n",
       "<tr>\n",
       "  <th>Last Activity_Olark Chat Conversation</th>          <td>   -0.8684</td> <td>    0.173</td> <td>   -5.015</td> <td> 0.000</td> <td>   -1.208</td> <td>   -0.529</td>\n",
       "</tr>\n",
       "<tr>\n",
       "  <th>Last Activity_SMS Sent</th>                         <td>    1.2217</td> <td>    0.075</td> <td>   16.223</td> <td> 0.000</td> <td>    1.074</td> <td>    1.369</td>\n",
       "</tr>\n",
       "<tr>\n",
       "  <th>Current Occupation_No Information</th>              <td>   -1.1107</td> <td>    0.088</td> <td>  -12.682</td> <td> 0.000</td> <td>   -1.282</td> <td>   -0.939</td>\n",
       "</tr>\n",
       "<tr>\n",
       "  <th>Current Occupation_Working Professional</th>        <td>    2.5547</td> <td>    0.188</td> <td>   13.592</td> <td> 0.000</td> <td>    2.186</td> <td>    2.923</td>\n",
       "</tr>\n",
       "<tr>\n",
       "  <th>Last Notable Activity_Had a Phone Conversation</th> <td>    3.4144</td> <td>    1.124</td> <td>    3.038</td> <td> 0.002</td> <td>    1.212</td> <td>    5.617</td>\n",
       "</tr>\n",
       "<tr>\n",
       "  <th>Last Notable Activity_Modified</th>                 <td>   -0.7417</td> <td>    0.082</td> <td>   -9.004</td> <td> 0.000</td> <td>   -0.903</td> <td>   -0.580</td>\n",
       "</tr>\n",
       "<tr>\n",
       "  <th>Last Notable Activity_Unreachable</th>              <td>    1.8020</td> <td>    0.539</td> <td>    3.346</td> <td> 0.001</td> <td>    0.746</td> <td>    2.858</td>\n",
       "</tr>\n",
       "</table>"
      ],
      "text/plain": [
       "<class 'statsmodels.iolib.summary.Summary'>\n",
       "\"\"\"\n",
       "                 Generalized Linear Model Regression Results                  \n",
       "==============================================================================\n",
       "Dep. Variable:              Converted   No. Observations:                 6468\n",
       "Model:                            GLM   Df Residuals:                     6452\n",
       "Model Family:                Binomial   Df Model:                           15\n",
       "Link Function:                  Logit   Scale:                          1.0000\n",
       "Method:                          IRLS   Log-Likelihood:                -2606.3\n",
       "Date:                Mon, 17 Jun 2024   Deviance:                       5212.7\n",
       "Time:                        19:38:49   Pearson chi2:                 6.56e+03\n",
       "No. Iterations:                     7   Pseudo R-squ. (CS):             0.4075\n",
       "Covariance Type:            nonrobust                                         \n",
       "==================================================================================================================\n",
       "                                                     coef    std err          z      P>|z|      [0.025      0.975]\n",
       "------------------------------------------------------------------------------------------------------------------\n",
       "const                                             -1.8076      0.105    -17.197      0.000      -2.014      -1.602\n",
       "Do Not Email                                      -1.2891      0.170     -7.578      0.000      -1.623      -0.956\n",
       "TotalVisits                                        5.9668      1.876      3.180      0.001       2.289       9.645\n",
       "Total Time Spent on Website                        4.5565      0.166     27.376      0.000       4.230       4.883\n",
       "Lead Origin_Landing Page Submission               -0.3751      0.090     -4.166      0.000      -0.552      -0.199\n",
       "Lead Origin_Lead Add Form                          3.4449      0.212     16.220      0.000       3.029       3.861\n",
       "Lead Source_Olark Chat                             1.1419      0.124      9.190      0.000       0.898       1.385\n",
       "Lead Source_Welingak Website                       1.8731      0.742      2.523      0.012       0.418       3.328\n",
       "Last Activity_No Information                      -1.0704      0.442     -2.424      0.015      -1.936      -0.205\n",
       "Last Activity_Olark Chat Conversation             -0.8684      0.173     -5.015      0.000      -1.208      -0.529\n",
       "Last Activity_SMS Sent                             1.2217      0.075     16.223      0.000       1.074       1.369\n",
       "Current Occupation_No Information                 -1.1107      0.088    -12.682      0.000      -1.282      -0.939\n",
       "Current Occupation_Working Professional            2.5547      0.188     13.592      0.000       2.186       2.923\n",
       "Last Notable Activity_Had a Phone Conversation     3.4144      1.124      3.038      0.002       1.212       5.617\n",
       "Last Notable Activity_Modified                    -0.7417      0.082     -9.004      0.000      -0.903      -0.580\n",
       "Last Notable Activity_Unreachable                  1.8020      0.539      3.346      0.001       0.746       2.858\n",
       "==================================================================================================================\n",
       "\"\"\""
      ]
     },
     "execution_count": 66,
     "metadata": {},
     "output_type": "execute_result"
    }
   ],
   "source": [
    "X_train_sm = sm.add_constant(X_train[col])\n",
    "logm6 = sm.GLM(y_train,X_train_sm, family = sm.families.Binomial())\n",
    "res = logm6.fit()\n",
    "res.summary()"
   ]
  },
  {
   "cell_type": "markdown",
   "id": "a4ddc596",
   "metadata": {},
   "source": [
    "#### The p values look ok now so proceeding to prediction"
   ]
  },
  {
   "cell_type": "code",
   "execution_count": 67,
   "id": "b23e2e49",
   "metadata": {},
   "outputs": [
    {
     "data": {
      "text/plain": [
       "1871    0.339475\n",
       "6795    0.247710\n",
       "3516    0.417221\n",
       "8105    0.835444\n",
       "3934    0.196662\n",
       "4844    0.990997\n",
       "3297    0.136371\n",
       "8071    0.985308\n",
       "987     0.119027\n",
       "7423    0.932141\n",
       "dtype: float64"
      ]
     },
     "execution_count": 67,
     "metadata": {},
     "output_type": "execute_result"
    }
   ],
   "source": [
    "# Getting the predicted values on the train set\n",
    "y_train_pred = res.predict(X_train_sm)\n",
    "y_train_pred[:10]"
   ]
  },
  {
   "cell_type": "code",
   "execution_count": 68,
   "id": "fddf2619",
   "metadata": {},
   "outputs": [
    {
     "data": {
      "text/plain": [
       "array([0.33947468, 0.24770959, 0.41722093, 0.83544358, 0.19666173,\n",
       "       0.99099704, 0.13637122, 0.98530778, 0.11902729, 0.93214135])"
      ]
     },
     "execution_count": 68,
     "metadata": {},
     "output_type": "execute_result"
    }
   ],
   "source": [
    "y_train_pred = y_train_pred.values.reshape(-1)\n",
    "y_train_pred[:10]"
   ]
  },
  {
   "cell_type": "markdown",
   "id": "c7517c84",
   "metadata": {},
   "source": [
    "#### Creating a dataframe with the actual coverted flag and the predicted probabilities"
   ]
  },
  {
   "cell_type": "code",
   "execution_count": 69,
   "id": "0158dc9d",
   "metadata": {},
   "outputs": [
    {
     "data": {
      "text/html": [
       "<div>\n",
       "<style scoped>\n",
       "    .dataframe tbody tr th:only-of-type {\n",
       "        vertical-align: middle;\n",
       "    }\n",
       "\n",
       "    .dataframe tbody tr th {\n",
       "        vertical-align: top;\n",
       "    }\n",
       "\n",
       "    .dataframe thead th {\n",
       "        text-align: right;\n",
       "    }\n",
       "</style>\n",
       "<table border=\"1\" class=\"dataframe\">\n",
       "  <thead>\n",
       "    <tr style=\"text-align: right;\">\n",
       "      <th></th>\n",
       "      <th>Converted</th>\n",
       "      <th>Converted_Prob</th>\n",
       "      <th>Index</th>\n",
       "      <th>Pred_Score</th>\n",
       "    </tr>\n",
       "  </thead>\n",
       "  <tbody>\n",
       "    <tr>\n",
       "      <th>0</th>\n",
       "      <td>0</td>\n",
       "      <td>0.339475</td>\n",
       "      <td>1871</td>\n",
       "      <td>33.947468</td>\n",
       "    </tr>\n",
       "    <tr>\n",
       "      <th>1</th>\n",
       "      <td>0</td>\n",
       "      <td>0.247710</td>\n",
       "      <td>6795</td>\n",
       "      <td>24.770959</td>\n",
       "    </tr>\n",
       "    <tr>\n",
       "      <th>2</th>\n",
       "      <td>0</td>\n",
       "      <td>0.417221</td>\n",
       "      <td>3516</td>\n",
       "      <td>41.722093</td>\n",
       "    </tr>\n",
       "    <tr>\n",
       "      <th>3</th>\n",
       "      <td>0</td>\n",
       "      <td>0.835444</td>\n",
       "      <td>8105</td>\n",
       "      <td>83.544358</td>\n",
       "    </tr>\n",
       "    <tr>\n",
       "      <th>4</th>\n",
       "      <td>0</td>\n",
       "      <td>0.196662</td>\n",
       "      <td>3934</td>\n",
       "      <td>19.666173</td>\n",
       "    </tr>\n",
       "  </tbody>\n",
       "</table>\n",
       "</div>"
      ],
      "text/plain": [
       "   Converted  Converted_Prob  Index  Pred_Score\n",
       "0          0        0.339475   1871   33.947468\n",
       "1          0        0.247710   6795   24.770959\n",
       "2          0        0.417221   3516   41.722093\n",
       "3          0        0.835444   8105   83.544358\n",
       "4          0        0.196662   3934   19.666173"
      ]
     },
     "execution_count": 69,
     "metadata": {},
     "output_type": "execute_result"
    }
   ],
   "source": [
    "y_train_pred_final = pd.DataFrame({'Converted':y_train.values, 'Converted_Prob':y_train_pred})\n",
    "y_train_pred_final['Index'] = y_train.index\n",
    "y_train_pred_final['Pred_Score'] = y_train_pred_final['Converted_Prob']* 100\n",
    "y_train_pred_final.head()"
   ]
  },
  {
   "cell_type": "markdown",
   "id": "9f4c0b12",
   "metadata": {},
   "source": [
    "#### Creating new column 'predicted' with 1 if Converted_Prob > 0.5 else 0"
   ]
  },
  {
   "cell_type": "code",
   "execution_count": 70,
   "id": "af9807ca",
   "metadata": {},
   "outputs": [
    {
     "data": {
      "text/html": [
       "<div>\n",
       "<style scoped>\n",
       "    .dataframe tbody tr th:only-of-type {\n",
       "        vertical-align: middle;\n",
       "    }\n",
       "\n",
       "    .dataframe tbody tr th {\n",
       "        vertical-align: top;\n",
       "    }\n",
       "\n",
       "    .dataframe thead th {\n",
       "        text-align: right;\n",
       "    }\n",
       "</style>\n",
       "<table border=\"1\" class=\"dataframe\">\n",
       "  <thead>\n",
       "    <tr style=\"text-align: right;\">\n",
       "      <th></th>\n",
       "      <th>Converted</th>\n",
       "      <th>Converted_Prob</th>\n",
       "      <th>Index</th>\n",
       "      <th>Pred_Score</th>\n",
       "      <th>predicted</th>\n",
       "    </tr>\n",
       "  </thead>\n",
       "  <tbody>\n",
       "    <tr>\n",
       "      <th>0</th>\n",
       "      <td>0</td>\n",
       "      <td>0.339475</td>\n",
       "      <td>1871</td>\n",
       "      <td>33.947468</td>\n",
       "      <td>0</td>\n",
       "    </tr>\n",
       "    <tr>\n",
       "      <th>1</th>\n",
       "      <td>0</td>\n",
       "      <td>0.247710</td>\n",
       "      <td>6795</td>\n",
       "      <td>24.770959</td>\n",
       "      <td>0</td>\n",
       "    </tr>\n",
       "    <tr>\n",
       "      <th>2</th>\n",
       "      <td>0</td>\n",
       "      <td>0.417221</td>\n",
       "      <td>3516</td>\n",
       "      <td>41.722093</td>\n",
       "      <td>0</td>\n",
       "    </tr>\n",
       "    <tr>\n",
       "      <th>3</th>\n",
       "      <td>0</td>\n",
       "      <td>0.835444</td>\n",
       "      <td>8105</td>\n",
       "      <td>83.544358</td>\n",
       "      <td>1</td>\n",
       "    </tr>\n",
       "    <tr>\n",
       "      <th>4</th>\n",
       "      <td>0</td>\n",
       "      <td>0.196662</td>\n",
       "      <td>3934</td>\n",
       "      <td>19.666173</td>\n",
       "      <td>0</td>\n",
       "    </tr>\n",
       "  </tbody>\n",
       "</table>\n",
       "</div>"
      ],
      "text/plain": [
       "   Converted  Converted_Prob  Index  Pred_Score  predicted\n",
       "0          0        0.339475   1871   33.947468          0\n",
       "1          0        0.247710   6795   24.770959          0\n",
       "2          0        0.417221   3516   41.722093          0\n",
       "3          0        0.835444   8105   83.544358          1\n",
       "4          0        0.196662   3934   19.666173          0"
      ]
     },
     "execution_count": 70,
     "metadata": {},
     "output_type": "execute_result"
    }
   ],
   "source": [
    "y_train_pred_final['predicted'] = y_train_pred_final.Converted_Prob.map(lambda x: 1 if x > 0.5 else 0)\n",
    "\n",
    "# Let's see the head\n",
    "y_train_pred_final.head()"
   ]
  },
  {
   "cell_type": "code",
   "execution_count": 71,
   "id": "f378ee0b",
   "metadata": {},
   "outputs": [],
   "source": [
    "from sklearn import metrics"
   ]
  },
  {
   "cell_type": "code",
   "execution_count": 72,
   "id": "509403af",
   "metadata": {},
   "outputs": [
    {
     "name": "stdout",
     "output_type": "stream",
     "text": [
      "[[3561  441]\n",
      " [ 750 1716]]\n"
     ]
    }
   ],
   "source": [
    "# Confusion matrix \n",
    "# Predicted /         not_Converted   Converted\n",
    "# Actual\n",
    "# not_Converted        \n",
    "# converted            \n",
    "confusion = metrics.confusion_matrix(y_train_pred_final.Converted, y_train_pred_final.predicted )\n",
    "print(confusion)"
   ]
  },
  {
   "cell_type": "code",
   "execution_count": 73,
   "id": "49536ca1",
   "metadata": {},
   "outputs": [
    {
     "name": "stdout",
     "output_type": "stream",
     "text": [
      "0.8158627087198516\n"
     ]
    }
   ],
   "source": [
    "# Let's check the overall accuracy.\n",
    "print(metrics.accuracy_score(y_train_pred_final.Converted, y_train_pred_final.predicted))"
   ]
  },
  {
   "cell_type": "markdown",
   "id": "6844cd1e",
   "metadata": {},
   "source": [
    "#### Overall accuracy is 81 % , so look fine."
   ]
  },
  {
   "cell_type": "markdown",
   "id": "408e35dd",
   "metadata": {},
   "source": [
    "### Checking VIFs"
   ]
  },
  {
   "cell_type": "code",
   "execution_count": 74,
   "id": "d50d0ba4",
   "metadata": {},
   "outputs": [],
   "source": [
    "# Check for the VIF values of the feature variables. \n",
    "from statsmodels.stats.outliers_influence import variance_inflation_factor"
   ]
  },
  {
   "cell_type": "code",
   "execution_count": 75,
   "id": "bb7efa4c",
   "metadata": {},
   "outputs": [
    {
     "data": {
      "text/html": [
       "<div>\n",
       "<style scoped>\n",
       "    .dataframe tbody tr th:only-of-type {\n",
       "        vertical-align: middle;\n",
       "    }\n",
       "\n",
       "    .dataframe tbody tr th {\n",
       "        vertical-align: top;\n",
       "    }\n",
       "\n",
       "    .dataframe thead th {\n",
       "        text-align: right;\n",
       "    }\n",
       "</style>\n",
       "<table border=\"1\" class=\"dataframe\">\n",
       "  <thead>\n",
       "    <tr style=\"text-align: right;\">\n",
       "      <th></th>\n",
       "      <th>Features</th>\n",
       "      <th>VIF</th>\n",
       "    </tr>\n",
       "  </thead>\n",
       "  <tbody>\n",
       "    <tr>\n",
       "      <th>3</th>\n",
       "      <td>Lead Origin_Landing Page Submission</td>\n",
       "      <td>2.32</td>\n",
       "    </tr>\n",
       "    <tr>\n",
       "      <th>2</th>\n",
       "      <td>Total Time Spent on Website</td>\n",
       "      <td>1.91</td>\n",
       "    </tr>\n",
       "    <tr>\n",
       "      <th>13</th>\n",
       "      <td>Last Notable Activity_Modified</td>\n",
       "      <td>1.77</td>\n",
       "    </tr>\n",
       "    <tr>\n",
       "      <th>5</th>\n",
       "      <td>Lead Source_Olark Chat</td>\n",
       "      <td>1.58</td>\n",
       "    </tr>\n",
       "    <tr>\n",
       "      <th>4</th>\n",
       "      <td>Lead Origin_Lead Add Form</td>\n",
       "      <td>1.57</td>\n",
       "    </tr>\n",
       "    <tr>\n",
       "      <th>8</th>\n",
       "      <td>Last Activity_Olark Chat Conversation</td>\n",
       "      <td>1.57</td>\n",
       "    </tr>\n",
       "    <tr>\n",
       "      <th>1</th>\n",
       "      <td>TotalVisits</td>\n",
       "      <td>1.53</td>\n",
       "    </tr>\n",
       "    <tr>\n",
       "      <th>9</th>\n",
       "      <td>Last Activity_SMS Sent</td>\n",
       "      <td>1.52</td>\n",
       "    </tr>\n",
       "    <tr>\n",
       "      <th>10</th>\n",
       "      <td>Current Occupation_No Information</td>\n",
       "      <td>1.52</td>\n",
       "    </tr>\n",
       "    <tr>\n",
       "      <th>6</th>\n",
       "      <td>Lead Source_Welingak Website</td>\n",
       "      <td>1.24</td>\n",
       "    </tr>\n",
       "    <tr>\n",
       "      <th>7</th>\n",
       "      <td>Last Activity_No Information</td>\n",
       "      <td>1.19</td>\n",
       "    </tr>\n",
       "    <tr>\n",
       "      <th>11</th>\n",
       "      <td>Current Occupation_Working Professional</td>\n",
       "      <td>1.19</td>\n",
       "    </tr>\n",
       "    <tr>\n",
       "      <th>0</th>\n",
       "      <td>Do Not Email</td>\n",
       "      <td>1.13</td>\n",
       "    </tr>\n",
       "    <tr>\n",
       "      <th>14</th>\n",
       "      <td>Last Notable Activity_Unreachable</td>\n",
       "      <td>1.01</td>\n",
       "    </tr>\n",
       "    <tr>\n",
       "      <th>12</th>\n",
       "      <td>Last Notable Activity_Had a Phone Conversation</td>\n",
       "      <td>1.00</td>\n",
       "    </tr>\n",
       "  </tbody>\n",
       "</table>\n",
       "</div>"
      ],
      "text/plain": [
       "                                          Features   VIF\n",
       "3              Lead Origin_Landing Page Submission  2.32\n",
       "2                      Total Time Spent on Website  1.91\n",
       "13                  Last Notable Activity_Modified  1.77\n",
       "5                           Lead Source_Olark Chat  1.58\n",
       "4                        Lead Origin_Lead Add Form  1.57\n",
       "8            Last Activity_Olark Chat Conversation  1.57\n",
       "1                                      TotalVisits  1.53\n",
       "9                           Last Activity_SMS Sent  1.52\n",
       "10               Current Occupation_No Information  1.52\n",
       "6                     Lead Source_Welingak Website  1.24\n",
       "7                     Last Activity_No Information  1.19\n",
       "11         Current Occupation_Working Professional  1.19\n",
       "0                                     Do Not Email  1.13\n",
       "14               Last Notable Activity_Unreachable  1.01\n",
       "12  Last Notable Activity_Had a Phone Conversation  1.00"
      ]
     },
     "execution_count": 75,
     "metadata": {},
     "output_type": "execute_result"
    }
   ],
   "source": [
    "# Create a dataframe that will contain the names of all the feature variables and their respective VIFs\n",
    "vif = pd.DataFrame()\n",
    "vif['Features'] = X_train[col].columns\n",
    "vif['VIF'] = [variance_inflation_factor(X_train[col].values, i) for i in range(X_train[col].shape[1])]\n",
    "vif['VIF'] = round(vif['VIF'], 2)\n",
    "vif = vif.sort_values(by = \"VIF\", ascending = False)\n",
    "vif"
   ]
  },
  {
   "cell_type": "markdown",
   "id": "8add91f1",
   "metadata": {},
   "source": [
    "#### The VIFs are all within the range and so we can proceed with the next steps."
   ]
  },
  {
   "cell_type": "markdown",
   "id": "c2d87faf",
   "metadata": {},
   "source": [
    "### Metrics beyond accuracy"
   ]
  },
  {
   "cell_type": "code",
   "execution_count": 76,
   "id": "afca4c8e",
   "metadata": {},
   "outputs": [],
   "source": [
    "TP = confusion[1,1] # true positive \n",
    "TN = confusion[0,0] # true negatives\n",
    "FP = confusion[0,1] # false positives\n",
    "FN = confusion[1,0] # false negatives"
   ]
  },
  {
   "cell_type": "code",
   "execution_count": 77,
   "id": "c2453114",
   "metadata": {},
   "outputs": [
    {
     "data": {
      "text/plain": [
       "0.6958637469586375"
      ]
     },
     "execution_count": 77,
     "metadata": {},
     "output_type": "execute_result"
    }
   ],
   "source": [
    "# Sensitivity of our logistic regression model\n",
    "TP / float(TP+FN)"
   ]
  },
  {
   "cell_type": "code",
   "execution_count": 78,
   "id": "e2ecd700",
   "metadata": {},
   "outputs": [
    {
     "data": {
      "text/plain": [
       "0.8898050974512743"
      ]
     },
     "execution_count": 78,
     "metadata": {},
     "output_type": "execute_result"
    }
   ],
   "source": [
    "# Specificity of our logistic regression model\n",
    "TN / float(TN+FP)"
   ]
  },
  {
   "cell_type": "code",
   "execution_count": 79,
   "id": "aeea8c71",
   "metadata": {},
   "outputs": [
    {
     "name": "stdout",
     "output_type": "stream",
     "text": [
      "0.11019490254872563\n"
     ]
    }
   ],
   "source": [
    "# Calculate false postive rate - predicting converted when lead has not\n",
    "print(FP/ float(TN+FP))"
   ]
  },
  {
   "cell_type": "code",
   "execution_count": 80,
   "id": "966b3982",
   "metadata": {},
   "outputs": [
    {
     "name": "stdout",
     "output_type": "stream",
     "text": [
      "0.7955493741307371\n"
     ]
    }
   ],
   "source": [
    "# positive predictive value \n",
    "print (TP / float(TP+FP))"
   ]
  },
  {
   "cell_type": "code",
   "execution_count": 81,
   "id": "9c9d4b7a",
   "metadata": {},
   "outputs": [
    {
     "name": "stdout",
     "output_type": "stream",
     "text": [
      "0.826026443980515\n"
     ]
    }
   ],
   "source": [
    "# Negative predictive value\n",
    "print (TN / float(TN+ FN))"
   ]
  },
  {
   "cell_type": "markdown",
   "id": "e6e718c9",
   "metadata": {},
   "source": [
    "## Step 9: Plotting the ROC Curv"
   ]
  },
  {
   "cell_type": "markdown",
   "id": "13c24e8b",
   "metadata": {},
   "source": [
    "1) It shows the tradeoff between sensitivity and specificity (any increase in sensitivity will be accompanied by a decrease in specificity).\n",
    "2) The closer the curve follows the left-hand border and then the top border of the ROC space, the more accurate the test.\n",
    "3) The closer the curve comes to the 45-degree diagonal of the ROC space, the less accurate the test."
   ]
  },
  {
   "cell_type": "code",
   "execution_count": 82,
   "id": "655c429c",
   "metadata": {},
   "outputs": [],
   "source": [
    "## Define function to draw the ROC curve. \n",
    "def draw_roc( actual, probs ):\n",
    "    fpr, tpr, thresholds = metrics.roc_curve( actual, probs,\n",
    "                                              drop_intermediate = False )\n",
    "    auc_score = metrics.roc_auc_score( actual, probs )\n",
    "    plt.figure(figsize=(5, 5))\n",
    "    plt.plot( fpr, tpr, label='ROC curve (area = %0.2f)' % auc_score )\n",
    "    plt.plot([0, 1], [0, 1], 'k--')\n",
    "    plt.xlim([0.0, 1.0])\n",
    "    plt.ylim([0.0, 1.05])\n",
    "    plt.xlabel('False Positive Rate or [1 - True Negative Rate]')\n",
    "    plt.ylabel('True Positive Rate')\n",
    "    plt.title('Receiver operating characteristic example')\n",
    "    plt.legend(loc=\"lower right\")\n",
    "    plt.show()\n",
    "\n",
    "    return None"
   ]
  },
  {
   "cell_type": "code",
   "execution_count": 83,
   "id": "47944b83",
   "metadata": {},
   "outputs": [],
   "source": [
    "fpr, tpr, thresholds = metrics.roc_curve( y_train_pred_final.Converted, y_train_pred_final.Converted_Prob, drop_intermediate = False )"
   ]
  },
  {
   "cell_type": "code",
   "execution_count": 84,
   "id": "b3fac750",
   "metadata": {},
   "outputs": [
    {
     "data": {
      "image/png": "[encoded data removed]",
      "text/plain": [
       "<Figure size 360x360 with 1 Axes>"
      ]
     },
     "metadata": {
      "needs_background": "light"
     },
     "output_type": "display_data"
    }
   ],
   "source": [
    "draw_roc(y_train_pred_final.Converted, y_train_pred_final.Converted_Prob)"
   ]
  },
  {
   "cell_type": "markdown",
   "id": "3fa82a45",
   "metadata": {},
   "source": [
    "## Step 10: Finding Optimal Cutoff Point"
   ]
  },
  {
   "cell_type": "code",
   "execution_count": 85,
   "id": "d046604e",
   "metadata": {},
   "outputs": [
    {
     "data": {
      "text/html": [
       "<div>\n",
       "<style scoped>\n",
       "    .dataframe tbody tr th:only-of-type {\n",
       "        vertical-align: middle;\n",
       "    }\n",
       "\n",
       "    .dataframe tbody tr th {\n",
       "        vertical-align: top;\n",
       "    }\n",
       "\n",
       "    .dataframe thead th {\n",
       "        text-align: right;\n",
       "    }\n",
       "</style>\n",
       "<table border=\"1\" class=\"dataframe\">\n",
       "  <thead>\n",
       "    <tr style=\"text-align: right;\">\n",
       "      <th></th>\n",
       "      <th>Converted</th>\n",
       "      <th>Converted_Prob</th>\n",
       "      <th>Index</th>\n",
       "      <th>Pred_Score</th>\n",
       "      <th>predicted</th>\n",
       "      <th>0.0</th>\n",
       "      <th>0.1</th>\n",
       "      <th>0.2</th>\n",
       "      <th>0.3</th>\n",
       "      <th>0.4</th>\n",
       "      <th>0.5</th>\n",
       "      <th>0.6</th>\n",
       "      <th>0.7</th>\n",
       "      <th>0.8</th>\n",
       "      <th>0.9</th>\n",
       "    </tr>\n",
       "  </thead>\n",
       "  <tbody>\n",
       "    <tr>\n",
       "      <th>0</th>\n",
       "      <td>0</td>\n",
       "      <td>0.339475</td>\n",
       "      <td>1871</td>\n",
       "      <td>33.947468</td>\n",
       "      <td>0</td>\n",
       "      <td>1</td>\n",
       "      <td>1</td>\n",
       "      <td>1</td>\n",
       "      <td>1</td>\n",
       "      <td>0</td>\n",
       "      <td>0</td>\n",
       "      <td>0</td>\n",
       "      <td>0</td>\n",
       "      <td>0</td>\n",
       "      <td>0</td>\n",
       "    </tr>\n",
       "    <tr>\n",
       "      <th>1</th>\n",
       "      <td>0</td>\n",
       "      <td>0.247710</td>\n",
       "      <td>6795</td>\n",
       "      <td>24.770959</td>\n",
       "      <td>0</td>\n",
       "      <td>1</td>\n",
       "      <td>1</td>\n",
       "      <td>1</td>\n",
       "      <td>0</td>\n",
       "      <td>0</td>\n",
       "      <td>0</td>\n",
       "      <td>0</td>\n",
       "      <td>0</td>\n",
       "      <td>0</td>\n",
       "      <td>0</td>\n",
       "    </tr>\n",
       "    <tr>\n",
       "      <th>2</th>\n",
       "      <td>0</td>\n",
       "      <td>0.417221</td>\n",
       "      <td>3516</td>\n",
       "      <td>41.722093</td>\n",
       "      <td>0</td>\n",
       "      <td>1</td>\n",
       "      <td>1</td>\n",
       "      <td>1</td>\n",
       "      <td>1</td>\n",
       "      <td>1</td>\n",
       "      <td>0</td>\n",
       "      <td>0</td>\n",
       "      <td>0</td>\n",
       "      <td>0</td>\n",
       "      <td>0</td>\n",
       "    </tr>\n",
       "    <tr>\n",
       "      <th>3</th>\n",
       "      <td>0</td>\n",
       "      <td>0.835444</td>\n",
       "      <td>8105</td>\n",
       "      <td>83.544358</td>\n",
       "      <td>1</td>\n",
       "      <td>1</td>\n",
       "      <td>1</td>\n",
       "      <td>1</td>\n",
       "      <td>1</td>\n",
       "      <td>1</td>\n",
       "      <td>1</td>\n",
       "      <td>1</td>\n",
       "      <td>1</td>\n",
       "      <td>1</td>\n",
       "      <td>0</td>\n",
       "    </tr>\n",
       "    <tr>\n",
       "      <th>4</th>\n",
       "      <td>0</td>\n",
       "      <td>0.196662</td>\n",
       "      <td>3934</td>\n",
       "      <td>19.666173</td>\n",
       "      <td>0</td>\n",
       "      <td>1</td>\n",
       "      <td>1</td>\n",
       "      <td>0</td>\n",
       "      <td>0</td>\n",
       "      <td>0</td>\n",
       "      <td>0</td>\n",
       "      <td>0</td>\n",
       "      <td>0</td>\n",
       "      <td>0</td>\n",
       "      <td>0</td>\n",
       "    </tr>\n",
       "  </tbody>\n",
       "</table>\n",
       "</div>"
      ],
      "text/plain": [
       "   Converted  Converted_Prob  Index  Pred_Score  predicted  0.0  0.1  0.2  \\\n",
       "0          0        0.339475   1871   33.947468          0    1    1    1   \n",
       "1          0        0.247710   6795   24.770959          0    1    1    1   \n",
       "2          0        0.417221   3516   41.722093          0    1    1    1   \n",
       "3          0        0.835444   8105   83.544358          1    1    1    1   \n",
       "4          0        0.196662   3934   19.666173          0    1    1    0   \n",
       "\n",
       "   0.3  0.4  0.5  0.6  0.7  0.8  0.9  \n",
       "0    1    0    0    0    0    0    0  \n",
       "1    0    0    0    0    0    0    0  \n",
       "2    1    1    0    0    0    0    0  \n",
       "3    1    1    1    1    1    1    0  \n",
       "4    0    0    0    0    0    0    0  "
      ]
     },
     "execution_count": 85,
     "metadata": {},
     "output_type": "execute_result"
    }
   ],
   "source": [
    "# Let's create columns with different probability cutoffs \n",
    "numbers = [float(x)/10 for x in range(10)]\n",
    "for i in numbers:\n",
    "    y_train_pred_final[i]= y_train_pred_final.Converted_Prob.map(lambda x: 1 if x > i else 0)\n",
    "y_train_pred_final.head()"
   ]
  },
  {
   "cell_type": "code",
   "execution_count": 86,
   "id": "5b2fd08e",
   "metadata": {},
   "outputs": [
    {
     "name": "stdout",
     "output_type": "stream",
     "text": [
      "     prob  accuracy     sensi     speci\n",
      "0.0   0.0  0.381262  1.000000  0.000000\n",
      "0.1   0.1  0.636982  0.969181  0.432284\n",
      "0.2   0.2  0.768398  0.908759  0.681909\n",
      "0.3   0.3  0.801175  0.870641  0.758371\n",
      "0.4   0.4  0.813080  0.768451  0.840580\n",
      "0.5   0.5  0.815863  0.695864  0.889805\n",
      "0.6   0.6  0.808905  0.633414  0.917041\n",
      "0.7   0.7  0.787724  0.527981  0.947776\n",
      "0.8   0.8  0.767161  0.439173  0.969265\n",
      "0.9   0.9  0.719388  0.282644  0.988506\n"
     ]
    }
   ],
   "source": [
    "# Now let's calculate accuracy sensitivity and specificity for various probability cutoffs.\n",
    "cutoff_df = pd.DataFrame( columns = ['prob','accuracy','sensi','speci'])\n",
    "from sklearn.metrics import confusion_matrix\n",
    "\n",
    "# TP = confusion[1,1] # true positive \n",
    "# TN = confusion[0,0] # true negatives\n",
    "# FP = confusion[0,1] # false positives\n",
    "# FN = confusion[1,0] # false negatives\n",
    "\n",
    "num = [0.0,0.1,0.2,0.3,0.4,0.5,0.6,0.7,0.8,0.9]\n",
    "for i in num:\n",
    "    cm1 = metrics.confusion_matrix(y_train_pred_final.Converted, y_train_pred_final[i] )\n",
    "    total1=sum(sum(cm1))\n",
    "    accuracy = (cm1[0,0]+cm1[1,1])/total1\n",
    "    \n",
    "    speci = cm1[0,0]/(cm1[0,0]+cm1[0,1])\n",
    "    sensi = cm1[1,1]/(cm1[1,0]+cm1[1,1])\n",
    "    cutoff_df.loc[i] =[ i ,accuracy,sensi,speci]\n",
    "print(cutoff_df)"
   ]
  },
  {
   "cell_type": "code",
   "execution_count": 87,
   "id": "1f262551",
   "metadata": {},
   "outputs": [
    {
     "data": {
      "image/png": "[encoded data removed]",
      "text/plain": [
       "<Figure size 432x288 with 1 Axes>"
      ]
     },
     "metadata": {
      "needs_background": "light"
     },
     "output_type": "display_data"
    }
   ],
   "source": [
    "# Let's plot accuracy sensitivity and specificity for various probabilities.\n",
    "cutoff_df.plot.line(x='prob', y=['accuracy','sensi','speci'])\n",
    "plt.show()"
   ]
  },
  {
   "cell_type": "markdown",
   "id": "eadea7db",
   "metadata": {},
   "source": [
    "### From the curve , 0.37 is the optimum point to take it as a cutoff probability"
   ]
  },
  {
   "cell_type": "code",
   "execution_count": 88,
   "id": "a36bd035",
   "metadata": {},
   "outputs": [
    {
     "data": {
      "text/html": [
       "<div>\n",
       "<style scoped>\n",
       "    .dataframe tbody tr th:only-of-type {\n",
       "        vertical-align: middle;\n",
       "    }\n",
       "\n",
       "    .dataframe tbody tr th {\n",
       "        vertical-align: top;\n",
       "    }\n",
       "\n",
       "    .dataframe thead th {\n",
       "        text-align: right;\n",
       "    }\n",
       "</style>\n",
       "<table border=\"1\" class=\"dataframe\">\n",
       "  <thead>\n",
       "    <tr style=\"text-align: right;\">\n",
       "      <th></th>\n",
       "      <th>Converted</th>\n",
       "      <th>Converted_Prob</th>\n",
       "      <th>Index</th>\n",
       "      <th>Pred_Score</th>\n",
       "      <th>predicted</th>\n",
       "      <th>0.0</th>\n",
       "      <th>0.1</th>\n",
       "      <th>0.2</th>\n",
       "      <th>0.3</th>\n",
       "      <th>0.4</th>\n",
       "      <th>0.5</th>\n",
       "      <th>0.6</th>\n",
       "      <th>0.7</th>\n",
       "      <th>0.8</th>\n",
       "      <th>0.9</th>\n",
       "      <th>final_predicted</th>\n",
       "    </tr>\n",
       "  </thead>\n",
       "  <tbody>\n",
       "    <tr>\n",
       "      <th>0</th>\n",
       "      <td>0</td>\n",
       "      <td>0.339475</td>\n",
       "      <td>1871</td>\n",
       "      <td>33.947468</td>\n",
       "      <td>0</td>\n",
       "      <td>1</td>\n",
       "      <td>1</td>\n",
       "      <td>1</td>\n",
       "      <td>1</td>\n",
       "      <td>0</td>\n",
       "      <td>0</td>\n",
       "      <td>0</td>\n",
       "      <td>0</td>\n",
       "      <td>0</td>\n",
       "      <td>0</td>\n",
       "      <td>1</td>\n",
       "    </tr>\n",
       "    <tr>\n",
       "      <th>1</th>\n",
       "      <td>0</td>\n",
       "      <td>0.247710</td>\n",
       "      <td>6795</td>\n",
       "      <td>24.770959</td>\n",
       "      <td>0</td>\n",
       "      <td>1</td>\n",
       "      <td>1</td>\n",
       "      <td>1</td>\n",
       "      <td>0</td>\n",
       "      <td>0</td>\n",
       "      <td>0</td>\n",
       "      <td>0</td>\n",
       "      <td>0</td>\n",
       "      <td>0</td>\n",
       "      <td>0</td>\n",
       "      <td>0</td>\n",
       "    </tr>\n",
       "    <tr>\n",
       "      <th>2</th>\n",
       "      <td>0</td>\n",
       "      <td>0.417221</td>\n",
       "      <td>3516</td>\n",
       "      <td>41.722093</td>\n",
       "      <td>0</td>\n",
       "      <td>1</td>\n",
       "      <td>1</td>\n",
       "      <td>1</td>\n",
       "      <td>1</td>\n",
       "      <td>1</td>\n",
       "      <td>0</td>\n",
       "      <td>0</td>\n",
       "      <td>0</td>\n",
       "      <td>0</td>\n",
       "      <td>0</td>\n",
       "      <td>1</td>\n",
       "    </tr>\n",
       "    <tr>\n",
       "      <th>3</th>\n",
       "      <td>0</td>\n",
       "      <td>0.835444</td>\n",
       "      <td>8105</td>\n",
       "      <td>83.544358</td>\n",
       "      <td>1</td>\n",
       "      <td>1</td>\n",
       "      <td>1</td>\n",
       "      <td>1</td>\n",
       "      <td>1</td>\n",
       "      <td>1</td>\n",
       "      <td>1</td>\n",
       "      <td>1</td>\n",
       "      <td>1</td>\n",
       "      <td>1</td>\n",
       "      <td>0</td>\n",
       "      <td>1</td>\n",
       "    </tr>\n",
       "    <tr>\n",
       "      <th>4</th>\n",
       "      <td>0</td>\n",
       "      <td>0.196662</td>\n",
       "      <td>3934</td>\n",
       "      <td>19.666173</td>\n",
       "      <td>0</td>\n",
       "      <td>1</td>\n",
       "      <td>1</td>\n",
       "      <td>0</td>\n",
       "      <td>0</td>\n",
       "      <td>0</td>\n",
       "      <td>0</td>\n",
       "      <td>0</td>\n",
       "      <td>0</td>\n",
       "      <td>0</td>\n",
       "      <td>0</td>\n",
       "      <td>0</td>\n",
       "    </tr>\n",
       "  </tbody>\n",
       "</table>\n",
       "</div>"
      ],
      "text/plain": [
       "   Converted  Converted_Prob  Index  Pred_Score  predicted  0.0  0.1  0.2  \\\n",
       "0          0        0.339475   1871   33.947468          0    1    1    1   \n",
       "1          0        0.247710   6795   24.770959          0    1    1    1   \n",
       "2          0        0.417221   3516   41.722093          0    1    1    1   \n",
       "3          0        0.835444   8105   83.544358          1    1    1    1   \n",
       "4          0        0.196662   3934   19.666173          0    1    1    0   \n",
       "\n",
       "   0.3  0.4  0.5  0.6  0.7  0.8  0.9  final_predicted  \n",
       "0    1    0    0    0    0    0    0                1  \n",
       "1    0    0    0    0    0    0    0                0  \n",
       "2    1    1    0    0    0    0    0                1  \n",
       "3    1    1    1    1    1    1    0                1  \n",
       "4    0    0    0    0    0    0    0                0  "
      ]
     },
     "execution_count": 88,
     "metadata": {},
     "output_type": "execute_result"
    }
   ],
   "source": [
    "y_train_pred_final['final_predicted'] = y_train_pred_final.Converted_Prob.map( lambda x: 1 if x > 0.3 else 0)\n",
    "\n",
    "y_train_pred_final.head()"
   ]
  },
  {
   "cell_type": "code",
   "execution_count": 89,
   "id": "5bef1a2d",
   "metadata": {},
   "outputs": [
    {
     "data": {
      "text/plain": [
       "0.8011750154607298"
      ]
     },
     "execution_count": 89,
     "metadata": {},
     "output_type": "execute_result"
    }
   ],
   "source": [
    "# Let's check the overall accuracy.\n",
    "metrics.accuracy_score(y_train_pred_final.Converted, y_train_pred_final.final_predicted)"
   ]
  },
  {
   "cell_type": "code",
   "execution_count": 90,
   "id": "f043e191",
   "metadata": {},
   "outputs": [
    {
     "data": {
      "text/plain": [
       "array([[3035,  967],\n",
       "       [ 319, 2147]], dtype=int64)"
      ]
     },
     "execution_count": 90,
     "metadata": {},
     "output_type": "execute_result"
    }
   ],
   "source": [
    "confusion2 = metrics.confusion_matrix(y_train_pred_final.Converted, y_train_pred_final.final_predicted )\n",
    "confusion2"
   ]
  },
  {
   "cell_type": "code",
   "execution_count": 91,
   "id": "ea3914b2",
   "metadata": {},
   "outputs": [],
   "source": [
    "TP = confusion2[1,1] # true positive \n",
    "TN = confusion2[0,0] # true negatives\n",
    "FP = confusion2[0,1] # false positives\n",
    "FN = confusion2[1,0] # false negatives"
   ]
  },
  {
   "cell_type": "code",
   "execution_count": 92,
   "id": "da941526",
   "metadata": {},
   "outputs": [
    {
     "data": {
      "text/plain": [
       "0.7583708145927036"
      ]
     },
     "execution_count": 92,
     "metadata": {},
     "output_type": "execute_result"
    }
   ],
   "source": [
    "# Let us calculate specificity\n",
    "TN / float(TN+FP)"
   ]
  },
  {
   "cell_type": "code",
   "execution_count": 93,
   "id": "fc1ade3a",
   "metadata": {},
   "outputs": [
    {
     "name": "stdout",
     "output_type": "stream",
     "text": [
      "0.24162918540729636\n"
     ]
    }
   ],
   "source": [
    "# Calculate false postive rate \n",
    "print(FP/ float(TN+FP))"
   ]
  },
  {
   "cell_type": "code",
   "execution_count": 94,
   "id": "1b1738ba",
   "metadata": {},
   "outputs": [
    {
     "name": "stdout",
     "output_type": "stream",
     "text": [
      "0.6894669235709698\n"
     ]
    }
   ],
   "source": [
    "# Positive predictive value \n",
    "print (TP / float(TP+FP))"
   ]
  },
  {
   "cell_type": "code",
   "execution_count": 95,
   "id": "297e37b6",
   "metadata": {},
   "outputs": [
    {
     "name": "stdout",
     "output_type": "stream",
     "text": [
      "0.9048896839594514\n"
     ]
    }
   ],
   "source": [
    "# Negative predictive value\n",
    "print (TN / float(TN+ FN))"
   ]
  },
  {
   "cell_type": "markdown",
   "id": "da0ccbb6",
   "metadata": {},
   "source": [
    "## Precision and Recall"
   ]
  },
  {
   "cell_type": "code",
   "execution_count": 96,
   "id": "4e2dc9e0",
   "metadata": {},
   "outputs": [],
   "source": [
    "#### Look at the precision and recall for the prediction with threshold .5 (or score 50) and .37 (or score 37)"
   ]
  },
  {
   "cell_type": "code",
   "execution_count": 97,
   "id": "d1c1cb72",
   "metadata": {},
   "outputs": [],
   "source": [
    "from sklearn.metrics import precision_score, recall_score"
   ]
  },
  {
   "cell_type": "code",
   "execution_count": 98,
   "id": "e76a356b",
   "metadata": {},
   "outputs": [
    {
     "data": {
      "text/plain": [
       "0.7955493741307371"
      ]
     },
     "execution_count": 98,
     "metadata": {},
     "output_type": "execute_result"
    }
   ],
   "source": [
    "# precision\n",
    "\n",
    "precision_score(y_train_pred_final.Converted, y_train_pred_final.predicted)"
   ]
  },
  {
   "cell_type": "code",
   "execution_count": 99,
   "id": "36f2e0f6",
   "metadata": {},
   "outputs": [
    {
     "data": {
      "text/plain": [
       "0.6958637469586375"
      ]
     },
     "execution_count": 99,
     "metadata": {},
     "output_type": "execute_result"
    }
   ],
   "source": [
    "# recall\n",
    "\n",
    "recall_score(y_train_pred_final.Converted, y_train_pred_final.predicted)"
   ]
  },
  {
   "cell_type": "code",
   "execution_count": 100,
   "id": "4fbd425d",
   "metadata": {},
   "outputs": [
    {
     "data": {
      "text/plain": [
       "0.6894669235709698"
      ]
     },
     "execution_count": 100,
     "metadata": {},
     "output_type": "execute_result"
    }
   ],
   "source": [
    "precision_score(y_train_pred_final.Converted, y_train_pred_final.final_predicted)"
   ]
  },
  {
   "cell_type": "code",
   "execution_count": 101,
   "id": "d3d6cb9b",
   "metadata": {},
   "outputs": [
    {
     "data": {
      "text/plain": [
       "0.8706407137064072"
      ]
     },
     "execution_count": 101,
     "metadata": {},
     "output_type": "execute_result"
    }
   ],
   "source": [
    "recall_score(y_train_pred_final.Converted, y_train_pred_final.final_predicted)"
   ]
  },
  {
   "cell_type": "markdown",
   "id": "01d1337a",
   "metadata": {},
   "source": [
    "## Precision and recall tradeoff"
   ]
  },
  {
   "cell_type": "code",
   "execution_count": 102,
   "id": "b9f92514",
   "metadata": {},
   "outputs": [],
   "source": [
    "from sklearn.metrics import precision_recall_curve"
   ]
  },
  {
   "cell_type": "code",
   "execution_count": 103,
   "id": "15d9ee10",
   "metadata": {},
   "outputs": [],
   "source": [
    "p, r, thresholds = precision_recall_curve(y_train_pred_final.Converted, y_train_pred_final.Converted_Prob)"
   ]
  },
  {
   "cell_type": "code",
   "execution_count": 104,
   "id": "a00c2c71",
   "metadata": {},
   "outputs": [
    {
     "data": {
      "image/png": "[encoded data removed]",
      "text/plain": [
       "<Figure size 432x288 with 1 Axes>"
      ]
     },
     "metadata": {
      "needs_background": "light"
     },
     "output_type": "display_data"
    }
   ],
   "source": [
    "plt.plot(thresholds, p[:-1], \"g-\")\n",
    "plt.plot(thresholds, r[:-1], \"r-\")\n",
    "plt.show()"
   ]
  },
  {
   "cell_type": "markdown",
   "id": "98d23d88",
   "metadata": {},
   "source": [
    "## Step 11: Making predictions on the test set"
   ]
  },
  {
   "cell_type": "code",
   "execution_count": 105,
   "id": "bb0d07e7",
   "metadata": {},
   "outputs": [
    {
     "data": {
      "text/html": [
       "<div>\n",
       "<style scoped>\n",
       "    .dataframe tbody tr th:only-of-type {\n",
       "        vertical-align: middle;\n",
       "    }\n",
       "\n",
       "    .dataframe tbody tr th {\n",
       "        vertical-align: top;\n",
       "    }\n",
       "\n",
       "    .dataframe thead th {\n",
       "        text-align: right;\n",
       "    }\n",
       "</style>\n",
       "<table border=\"1\" class=\"dataframe\">\n",
       "  <thead>\n",
       "    <tr style=\"text-align: right;\">\n",
       "      <th></th>\n",
       "      <th>Do Not Email</th>\n",
       "      <th>TotalVisits</th>\n",
       "      <th>Total Time Spent on Website</th>\n",
       "      <th>Lead Origin_Landing Page Submission</th>\n",
       "      <th>Lead Origin_Lead Add Form</th>\n",
       "      <th>Lead Source_Olark Chat</th>\n",
       "      <th>Lead Source_Welingak Website</th>\n",
       "      <th>Last Activity_No Information</th>\n",
       "      <th>Last Activity_Olark Chat Conversation</th>\n",
       "      <th>Last Activity_SMS Sent</th>\n",
       "      <th>Current Occupation_No Information</th>\n",
       "      <th>Current Occupation_Working Professional</th>\n",
       "      <th>Last Notable Activity_Had a Phone Conversation</th>\n",
       "      <th>Last Notable Activity_Modified</th>\n",
       "      <th>Last Notable Activity_Unreachable</th>\n",
       "    </tr>\n",
       "  </thead>\n",
       "  <tbody>\n",
       "    <tr>\n",
       "      <th>4269</th>\n",
       "      <td>0</td>\n",
       "      <td>0.031873</td>\n",
       "      <td>0.444982</td>\n",
       "      <td>0</td>\n",
       "      <td>0</td>\n",
       "      <td>0</td>\n",
       "      <td>0</td>\n",
       "      <td>0</td>\n",
       "      <td>0</td>\n",
       "      <td>1</td>\n",
       "      <td>1</td>\n",
       "      <td>0</td>\n",
       "      <td>0</td>\n",
       "      <td>0</td>\n",
       "      <td>0</td>\n",
       "    </tr>\n",
       "    <tr>\n",
       "      <th>2376</th>\n",
       "      <td>0</td>\n",
       "      <td>0.000000</td>\n",
       "      <td>0.000000</td>\n",
       "      <td>0</td>\n",
       "      <td>1</td>\n",
       "      <td>0</td>\n",
       "      <td>0</td>\n",
       "      <td>0</td>\n",
       "      <td>0</td>\n",
       "      <td>1</td>\n",
       "      <td>0</td>\n",
       "      <td>0</td>\n",
       "      <td>0</td>\n",
       "      <td>0</td>\n",
       "      <td>0</td>\n",
       "    </tr>\n",
       "    <tr>\n",
       "      <th>7766</th>\n",
       "      <td>0</td>\n",
       "      <td>0.019920</td>\n",
       "      <td>0.025968</td>\n",
       "      <td>0</td>\n",
       "      <td>0</td>\n",
       "      <td>0</td>\n",
       "      <td>0</td>\n",
       "      <td>0</td>\n",
       "      <td>0</td>\n",
       "      <td>0</td>\n",
       "      <td>0</td>\n",
       "      <td>1</td>\n",
       "      <td>0</td>\n",
       "      <td>0</td>\n",
       "      <td>1</td>\n",
       "    </tr>\n",
       "    <tr>\n",
       "      <th>9199</th>\n",
       "      <td>0</td>\n",
       "      <td>0.000000</td>\n",
       "      <td>0.000000</td>\n",
       "      <td>0</td>\n",
       "      <td>0</td>\n",
       "      <td>1</td>\n",
       "      <td>0</td>\n",
       "      <td>0</td>\n",
       "      <td>1</td>\n",
       "      <td>0</td>\n",
       "      <td>0</td>\n",
       "      <td>0</td>\n",
       "      <td>0</td>\n",
       "      <td>1</td>\n",
       "      <td>0</td>\n",
       "    </tr>\n",
       "    <tr>\n",
       "      <th>4359</th>\n",
       "      <td>0</td>\n",
       "      <td>0.000000</td>\n",
       "      <td>0.000000</td>\n",
       "      <td>0</td>\n",
       "      <td>1</td>\n",
       "      <td>0</td>\n",
       "      <td>0</td>\n",
       "      <td>0</td>\n",
       "      <td>0</td>\n",
       "      <td>0</td>\n",
       "      <td>0</td>\n",
       "      <td>0</td>\n",
       "      <td>0</td>\n",
       "      <td>0</td>\n",
       "      <td>0</td>\n",
       "    </tr>\n",
       "  </tbody>\n",
       "</table>\n",
       "</div>"
      ],
      "text/plain": [
       "      Do Not Email  TotalVisits  Total Time Spent on Website  \\\n",
       "4269             0     0.031873                     0.444982   \n",
       "2376             0     0.000000                     0.000000   \n",
       "7766             0     0.019920                     0.025968   \n",
       "9199             0     0.000000                     0.000000   \n",
       "4359             0     0.000000                     0.000000   \n",
       "\n",
       "      Lead Origin_Landing Page Submission  Lead Origin_Lead Add Form  \\\n",
       "4269                                    0                          0   \n",
       "2376                                    0                          1   \n",
       "7766                                    0                          0   \n",
       "9199                                    0                          0   \n",
       "4359                                    0                          1   \n",
       "\n",
       "      Lead Source_Olark Chat  Lead Source_Welingak Website  \\\n",
       "4269                       0                             0   \n",
       "2376                       0                             0   \n",
       "7766                       0                             0   \n",
       "9199                       1                             0   \n",
       "4359                       0                             0   \n",
       "\n",
       "      Last Activity_No Information  Last Activity_Olark Chat Conversation  \\\n",
       "4269                             0                                      0   \n",
       "2376                             0                                      0   \n",
       "7766                             0                                      0   \n",
       "9199                             0                                      1   \n",
       "4359                             0                                      0   \n",
       "\n",
       "      Last Activity_SMS Sent  Current Occupation_No Information  \\\n",
       "4269                       1                                  1   \n",
       "2376                       1                                  0   \n",
       "7766                       0                                  0   \n",
       "9199                       0                                  0   \n",
       "4359                       0                                  0   \n",
       "\n",
       "      Current Occupation_Working Professional  \\\n",
       "4269                                        0   \n",
       "2376                                        0   \n",
       "7766                                        1   \n",
       "9199                                        0   \n",
       "4359                                        0   \n",
       "\n",
       "      Last Notable Activity_Had a Phone Conversation  \\\n",
       "4269                                               0   \n",
       "2376                                               0   \n",
       "7766                                               0   \n",
       "9199                                               0   \n",
       "4359                                               0   \n",
       "\n",
       "      Last Notable Activity_Modified  Last Notable Activity_Unreachable  \n",
       "4269                               0                                  0  \n",
       "2376                               0                                  0  \n",
       "7766                               0                                  1  \n",
       "9199                               1                                  0  \n",
       "4359                               0                                  0  "
      ]
     },
     "execution_count": 105,
     "metadata": {},
     "output_type": "execute_result"
    }
   ],
   "source": [
    "X_test[['TotalVisits','Total Time Spent on Website','Page Views Per Visit']] = scaler.transform(\n",
    "                                                                                X_test[['TotalVisits','Total Time Spent on Website','Page Views Per Visit']])\n",
    "\n",
    "X_test = X_test[col]\n",
    "X_test.head()"
   ]
  },
  {
   "cell_type": "code",
   "execution_count": 106,
   "id": "0fd87761",
   "metadata": {},
   "outputs": [],
   "source": [
    "X_test_sm = sm.add_constant(X_test)"
   ]
  },
  {
   "cell_type": "markdown",
   "id": "da6c6779",
   "metadata": {},
   "source": [
    "#### Making prediction on test data"
   ]
  },
  {
   "cell_type": "code",
   "execution_count": 107,
   "id": "e71e6a47",
   "metadata": {},
   "outputs": [],
   "source": [
    "y_test_pred = res.predict(X_test_sm)"
   ]
  },
  {
   "cell_type": "code",
   "execution_count": 108,
   "id": "fbf6eea4",
   "metadata": {},
   "outputs": [
    {
     "data": {
      "text/plain": [
       "4269    0.627423\n",
       "2376    0.945786\n",
       "7766    0.941932\n",
       "9199    0.093160\n",
       "4359    0.837177\n",
       "9186    0.600867\n",
       "1631    0.491951\n",
       "8963    0.231692\n",
       "8007    0.036482\n",
       "5324    0.361531\n",
       "dtype: float64"
      ]
     },
     "execution_count": 108,
     "metadata": {},
     "output_type": "execute_result"
    }
   ],
   "source": [
    "y_test_pred[:10]"
   ]
  },
  {
   "cell_type": "code",
   "execution_count": 109,
   "id": "85080f25",
   "metadata": {},
   "outputs": [
    {
     "data": {
      "text/html": [
       "<div>\n",
       "<style scoped>\n",
       "    .dataframe tbody tr th:only-of-type {\n",
       "        vertical-align: middle;\n",
       "    }\n",
       "\n",
       "    .dataframe tbody tr th {\n",
       "        vertical-align: top;\n",
       "    }\n",
       "\n",
       "    .dataframe thead th {\n",
       "        text-align: right;\n",
       "    }\n",
       "</style>\n",
       "<table border=\"1\" class=\"dataframe\">\n",
       "  <thead>\n",
       "    <tr style=\"text-align: right;\">\n",
       "      <th></th>\n",
       "      <th>0</th>\n",
       "    </tr>\n",
       "  </thead>\n",
       "  <tbody>\n",
       "    <tr>\n",
       "      <th>4269</th>\n",
       "      <td>0.627423</td>\n",
       "    </tr>\n",
       "    <tr>\n",
       "      <th>2376</th>\n",
       "      <td>0.945786</td>\n",
       "    </tr>\n",
       "    <tr>\n",
       "      <th>7766</th>\n",
       "      <td>0.941932</td>\n",
       "    </tr>\n",
       "    <tr>\n",
       "      <th>9199</th>\n",
       "      <td>0.093160</td>\n",
       "    </tr>\n",
       "    <tr>\n",
       "      <th>4359</th>\n",
       "      <td>0.837177</td>\n",
       "    </tr>\n",
       "  </tbody>\n",
       "</table>\n",
       "</div>"
      ],
      "text/plain": [
       "             0\n",
       "4269  0.627423\n",
       "2376  0.945786\n",
       "7766  0.941932\n",
       "9199  0.093160\n",
       "4359  0.837177"
      ]
     },
     "execution_count": 109,
     "metadata": {},
     "output_type": "execute_result"
    }
   ],
   "source": [
    "# Converting y_pred to a dataframe which is an array\n",
    "y_pred_1 = pd.DataFrame(y_test_pred)\n",
    "\n",
    "y_pred_1.head()"
   ]
  },
  {
   "cell_type": "code",
   "execution_count": 110,
   "id": "ed4713e0",
   "metadata": {},
   "outputs": [],
   "source": [
    "# Converting y_test to dataframe\n",
    "\n",
    "y_test_df = pd.DataFrame(y_test)"
   ]
  },
  {
   "cell_type": "code",
   "execution_count": 111,
   "id": "133ddb79",
   "metadata": {},
   "outputs": [],
   "source": [
    "# Appending y_test_df and y_pred_1\n",
    "\n",
    "y_test_pred_final = pd.concat([y_test_df, y_pred_1],axis=1)"
   ]
  },
  {
   "cell_type": "code",
   "execution_count": 112,
   "id": "c23f3f3f",
   "metadata": {},
   "outputs": [],
   "source": [
    "# Renaming the column \n",
    "\n",
    "y_test_pred_final= y_test_pred_final.rename(columns={ 0 : 'Converted_Prob'})"
   ]
  },
  {
   "cell_type": "code",
   "execution_count": 113,
   "id": "7944cc25",
   "metadata": {},
   "outputs": [],
   "source": [
    "# Based on cut off threshold using accuracy, sensitivity and specificity of 0.37%\n",
    "\n",
    "y_test_pred_final['final_predicted'] = y_test_pred_final.Converted_Prob.map(lambda x: 1 if x > 0.37 else 0)"
   ]
  },
  {
   "cell_type": "code",
   "execution_count": 114,
   "id": "496f8245",
   "metadata": {},
   "outputs": [],
   "source": [
    "y_test_pred_final['Lead_Score'] = round(y_test_pred_final['Converted_Prob']* 100,1)"
   ]
  },
  {
   "cell_type": "code",
   "execution_count": 115,
   "id": "a9580c94",
   "metadata": {},
   "outputs": [
    {
     "data": {
      "text/html": [
       "<div>\n",
       "<style scoped>\n",
       "    .dataframe tbody tr th:only-of-type {\n",
       "        vertical-align: middle;\n",
       "    }\n",
       "\n",
       "    .dataframe tbody tr th {\n",
       "        vertical-align: top;\n",
       "    }\n",
       "\n",
       "    .dataframe thead th {\n",
       "        text-align: right;\n",
       "    }\n",
       "</style>\n",
       "<table border=\"1\" class=\"dataframe\">\n",
       "  <thead>\n",
       "    <tr style=\"text-align: right;\">\n",
       "      <th></th>\n",
       "      <th>Converted</th>\n",
       "      <th>Converted_Prob</th>\n",
       "      <th>final_predicted</th>\n",
       "      <th>Lead_Score</th>\n",
       "    </tr>\n",
       "  </thead>\n",
       "  <tbody>\n",
       "    <tr>\n",
       "      <th>4269</th>\n",
       "      <td>1</td>\n",
       "      <td>0.627423</td>\n",
       "      <td>1</td>\n",
       "      <td>62.7</td>\n",
       "    </tr>\n",
       "    <tr>\n",
       "      <th>2376</th>\n",
       "      <td>1</td>\n",
       "      <td>0.945786</td>\n",
       "      <td>1</td>\n",
       "      <td>94.6</td>\n",
       "    </tr>\n",
       "    <tr>\n",
       "      <th>7766</th>\n",
       "      <td>1</td>\n",
       "      <td>0.941932</td>\n",
       "      <td>1</td>\n",
       "      <td>94.2</td>\n",
       "    </tr>\n",
       "    <tr>\n",
       "      <th>9199</th>\n",
       "      <td>0</td>\n",
       "      <td>0.093160</td>\n",
       "      <td>0</td>\n",
       "      <td>9.3</td>\n",
       "    </tr>\n",
       "    <tr>\n",
       "      <th>4359</th>\n",
       "      <td>1</td>\n",
       "      <td>0.837177</td>\n",
       "      <td>1</td>\n",
       "      <td>83.7</td>\n",
       "    </tr>\n",
       "  </tbody>\n",
       "</table>\n",
       "</div>"
      ],
      "text/plain": [
       "      Converted  Converted_Prob  final_predicted  Lead_Score\n",
       "4269          1        0.627423                1        62.7\n",
       "2376          1        0.945786                1        94.6\n",
       "7766          1        0.941932                1        94.2\n",
       "9199          0        0.093160                0         9.3\n",
       "4359          1        0.837177                1        83.7"
      ]
     },
     "execution_count": 115,
     "metadata": {},
     "output_type": "execute_result"
    }
   ],
   "source": [
    "\n",
    "y_test_pred_final.head()"
   ]
  },
  {
   "cell_type": "code",
   "execution_count": 116,
   "id": "f6b71694",
   "metadata": {},
   "outputs": [
    {
     "data": {
      "text/plain": [
       "0.8142135642135642"
      ]
     },
     "execution_count": 116,
     "metadata": {},
     "output_type": "execute_result"
    }
   ],
   "source": [
    "# Let's check the overall accuracy.\n",
    "metrics.accuracy_score(y_test_pred_final.Converted, y_test_pred_final.final_predicted)"
   ]
  },
  {
   "cell_type": "code",
   "execution_count": 117,
   "id": "3185f936",
   "metadata": {},
   "outputs": [
    {
     "data": {
      "text/plain": [
       "array([[1395,  282],\n",
       "       [ 233,  862]], dtype=int64)"
      ]
     },
     "execution_count": 117,
     "metadata": {},
     "output_type": "execute_result"
    }
   ],
   "source": [
    "confusion3 = metrics.confusion_matrix(y_test_pred_final.Converted, y_test_pred_final.final_predicted )\n",
    "confusion3"
   ]
  },
  {
   "cell_type": "code",
   "execution_count": 118,
   "id": "8564062d",
   "metadata": {},
   "outputs": [],
   "source": [
    "TP = confusion3[1,1] # true positive \n",
    "TN = confusion3[0,0] # true negatives\n",
    "FP = confusion3[0,1] # false positives\n",
    "FN = confusion3[1,0] # false negatives"
   ]
  },
  {
   "cell_type": "code",
   "execution_count": 119,
   "id": "5cd6338d",
   "metadata": {},
   "outputs": [
    {
     "data": {
      "text/plain": [
       "0.7872146118721461"
      ]
     },
     "execution_count": 119,
     "metadata": {},
     "output_type": "execute_result"
    }
   ],
   "source": [
    "# test data sensitivity of our logistic regression model\n",
    "TP / float(TP+FN)"
   ]
  },
  {
   "cell_type": "code",
   "execution_count": 120,
   "id": "6fd065db",
   "metadata": {},
   "outputs": [
    {
     "data": {
      "text/plain": [
       "0.8318425760286225"
      ]
     },
     "execution_count": 120,
     "metadata": {},
     "output_type": "execute_result"
    }
   ],
   "source": [
    "# Let us calculate specificity\n",
    "TN / float(TN+FP)"
   ]
  },
  {
   "cell_type": "code",
   "execution_count": 121,
   "id": "d6381bfe",
   "metadata": {},
   "outputs": [
    {
     "data": {
      "image/png": "[encoded data removed]",
      "text/plain": [
       "<Figure size 432x288 with 1 Axes>"
      ]
     },
     "metadata": {
      "needs_background": "light"
     },
     "output_type": "display_data"
    }
   ],
   "source": [
    "## Precision and Recall metrics for the test set\n",
    "p, r, thresholds = precision_recall_curve(y_test_pred_final.Converted, y_test_pred_final.Converted_Prob)\n",
    "\n",
    "plt.plot(thresholds, p[:-1], \"g-\")\n",
    "plt.plot(thresholds, r[:-1], \"r-\")\n",
    "plt.show()"
   ]
  },
  {
   "cell_type": "markdown",
   "id": "94c896cd",
   "metadata": {},
   "source": [
    "## Summary"
   ]
  },
  {
   "cell_type": "code",
   "execution_count": 122,
   "id": "927d9b5e",
   "metadata": {},
   "outputs": [],
   "source": [
    "# The overall accuracy of the model is 80 % with very similar specificity and sensitivity between Train and Test Dataset\n",
    "# The lead score calculation is provided in the model with a threshold of 37 for prediction.\n",
    "# The model provides for a conversion rate on the test dataset at around 80 %\n",
    "# So the overall model satisfies the user requirements stated in the problem statement."
   ]
  }
 ],
 "metadata": {
  "kernelspec": {
   "display_name": "Python 3 (ipykernel)",
   "language": "python",
   "name": "python3"
  },
  "language_info": {
   "codemirror_mode": {
    "name": "ipython",
    "version": 3
   },
   "file_extension": ".py",
   "mimetype": "text/x-python",
   "name": "python",
   "nbconvert_exporter": "python",
   "pygments_lexer": "ipython3",
   "version": "3.9.12"
  }
 },
 "nbformat": 4,
 "nbformat_minor": 5
}
